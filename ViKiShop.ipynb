{
 "cells": [
  {
   "cell_type": "markdown",
   "metadata": {
    "toc": true
   },
   "source": [
    "<h1>Содержание<span class=\"tocSkip\"></span></h1>\n",
    "<div class=\"toc\"><ul class=\"toc-item\"><li><span><a href=\"#Подготовка\" data-toc-modified-id=\"Подготовка-1\"><span class=\"toc-item-num\">1&nbsp;&nbsp;</span>Подготовка</a></span><ul class=\"toc-item\"><li><span><a href=\"#Очистка-и-лемматизация-текста\" data-toc-modified-id=\"Очистка-и-лемматизация-текста-1.1\"><span class=\"toc-item-num\">1.1&nbsp;&nbsp;</span>Очистка и лемматизация текста</a></span></li><li><span><a href=\"#Разбиение-на-выборки\" data-toc-modified-id=\"Разбиение-на-выборки-1.2\"><span class=\"toc-item-num\">1.2&nbsp;&nbsp;</span>Разбиение на выборки</a></span></li><li><span><a href=\"#Выравнивание-классов-(для-обучающей-выборки)\" data-toc-modified-id=\"Выравнивание-классов-(для-обучающей-выборки)-1.3\"><span class=\"toc-item-num\">1.3&nbsp;&nbsp;</span>Выравнивание классов (для обучающей выборки)</a></span></li><li><span><a href=\"#Вывод--(подготовка)\" data-toc-modified-id=\"Вывод--(подготовка)-1.4\"><span class=\"toc-item-num\">1.4&nbsp;&nbsp;</span>Вывод  (подготовка)</a></span></li></ul></li><li><span><a href=\"#Обучение\" data-toc-modified-id=\"Обучение-2\"><span class=\"toc-item-num\">2&nbsp;&nbsp;</span>Обучение</a></span><ul class=\"toc-item\"><li><span><a href=\"#Предварительная-оценка-метрики-на-различных-моделях\" data-toc-modified-id=\"Предварительная-оценка-метрики-на-различных-моделях-2.1\"><span class=\"toc-item-num\">2.1&nbsp;&nbsp;</span>Предварительная оценка метрики на различных моделях</a></span></li><li><span><a href=\"#Предварительная-оценка-метрики--f1-на-CatBoostClassifier\" data-toc-modified-id=\"Предварительная-оценка-метрики--f1-на-CatBoostClassifier-2.2\"><span class=\"toc-item-num\">2.2&nbsp;&nbsp;</span>Предварительная оценка метрики  f1 на CatBoostClassifier</a></span></li><li><span><a href=\"#Предварительная-оценка-метрики--f1-на-ансамбле-моделей\" data-toc-modified-id=\"Предварительная-оценка-метрики--f1-на-ансамбле-моделей-2.3\"><span class=\"toc-item-num\">2.3&nbsp;&nbsp;</span>Предварительная оценка метрики  f1 на ансамбле моделей</a></span></li><li><span><a href=\"#Обучение-модели-на-полном-DF\" data-toc-modified-id=\"Обучение-модели-на-полном-DF-2.4\"><span class=\"toc-item-num\">2.4&nbsp;&nbsp;</span>Обучение модели на полном DF</a></span><ul class=\"toc-item\"><li><span><a href=\"#Алгоритм-LinearSVC\" data-toc-modified-id=\"Алгоритм-LinearSVC-2.4.1\"><span class=\"toc-item-num\">2.4.1&nbsp;&nbsp;</span>Алгоритм LinearSVC</a></span></li><li><span><a href=\"#Алгоритм-LogisticRegression\" data-toc-modified-id=\"Алгоритм-LogisticRegression-2.4.2\"><span class=\"toc-item-num\">2.4.2&nbsp;&nbsp;</span>Алгоритм LogisticRegression</a></span></li></ul></li></ul></li><li><span><a href=\"#Выводы\" data-toc-modified-id=\"Выводы-3\"><span class=\"toc-item-num\">3&nbsp;&nbsp;</span>Выводы</a></span></li><li><span><a href=\"#P.S.-BERT\" data-toc-modified-id=\"P.S.-BERT-4\"><span class=\"toc-item-num\">4&nbsp;&nbsp;</span>P.S. BERT</a></span></li><li><span><a href=\"#Чек-лист-проверки\" data-toc-modified-id=\"Чек-лист-проверки-5\"><span class=\"toc-item-num\">5&nbsp;&nbsp;</span>Чек-лист проверки</a></span></li></ul></div>"
   ]
  },
  {
   "cell_type": "markdown",
   "metadata": {},
   "source": [
    "# Проект для «Викишоп»"
   ]
  },
  {
   "cell_type": "markdown",
   "metadata": {},
   "source": [
    "Интернет-магазин «Викишоп» запускает новый сервис. Теперь пользователи могут редактировать и дополнять описания товаров, как в вики-сообществах. То есть клиенты предлагают свои правки и комментируют изменения других. Магазину нужен инструмент, который будет искать токсичные комментарии и отправлять их на модерацию. \n",
    "\n",
    "Обучите модель классифицировать комментарии на позитивные и негативные. В вашем распоряжении набор данных с разметкой о токсичности правок.\n",
    "\n",
    "Постройте модель со значением метрики качества *F1* не меньше 0.75. \n",
    "\n",
    "**Инструкция по выполнению проекта**\n",
    "\n",
    "1. Загрузите и подготовьте данные.\n",
    "2. Обучите разные модели. \n",
    "3. Сделайте выводы.\n",
    "\n",
    "Для выполнения проекта применять *BERT* необязательно, но вы можете попробовать.\n",
    "\n",
    "**Описание данных**\n",
    "\n",
    "Данные находятся в файле `toxic_comments.csv`. Столбец *text* в нём содержит текст комментария, а *toxic* — целевой признак."
   ]
  },
  {
   "cell_type": "markdown",
   "metadata": {},
   "source": [
    "## Подготовка"
   ]
  },
  {
   "cell_type": "code",
   "execution_count": 1,
   "metadata": {},
   "outputs": [],
   "source": [
    "import re \n",
    "import time\n",
    "import lightgbm as lgb\n",
    "import numpy as np\n",
    "import pandas as pd\n",
    "import torch\n",
    "import transformers\n",
    "\n",
    "import matplotlib.pyplot as plt\n",
    "import seaborn as sns\n",
    "\n",
    "from tqdm import notebook\n",
    "\n",
    "import nltk\n",
    "from nltk.corpus import stopwords\n",
    "from nltk.stem import WordNetLemmatizer\n",
    "\n",
    "from sklearn.feature_extraction.text import TfidfVectorizer\n",
    "\n",
    "from sklearn.utils import shuffle\n",
    "\n",
    "from sklearn.svm import LinearSVC\n",
    "from sklearn.naive_bayes import GaussianNB\n",
    "from sklearn.neighbors import KNeighborsClassifier\n",
    "from sklearn.linear_model import LogisticRegression\n",
    "from sklearn.ensemble import RandomForestClassifier,AdaBoostClassifier\n",
    "from sklearn.metrics import accuracy_score,classification_report,confusion_matrix #,recall_score,precision_score\n",
    "from sklearn.metrics import roc_auc_score,f1_score,roc_curve\n",
    "from sklearn.model_selection import GridSearchCV,cross_val_score,train_test_split\n",
    "\n",
    "from catboost import CatBoostClassifier, Pool\n",
    "from numpy import hstack"
   ]
  },
  {
   "cell_type": "code",
   "execution_count": 2,
   "metadata": {},
   "outputs": [
    {
     "name": "stderr",
     "output_type": "stream",
     "text": [
      "[nltk_data] Downloading package stopwords to /home/jovyan/nltk_data...\n",
      "[nltk_data]   Package stopwords is already up-to-date!\n"
     ]
    }
   ],
   "source": [
    " \n",
    "nltk.download('stopwords') \n",
    "stop_words = set(stopwords.words('english'))"
   ]
  },
  {
   "cell_type": "code",
   "execution_count": 3,
   "metadata": {},
   "outputs": [],
   "source": [
    "df = pd.read_csv('/datasets/toxic_comments.csv')"
   ]
  },
  {
   "cell_type": "code",
   "execution_count": 4,
   "metadata": {},
   "outputs": [
    {
     "name": "stdout",
     "output_type": "stream",
     "text": [
      "Размерность датасета: (159571, 2)\n",
      "Пропуски: text     0\n",
      "toxic    0\n",
      "dtype: int64\n",
      "Дубликаты: 0\n"
     ]
    }
   ],
   "source": [
    "print ('Размерность датасета:', df.shape)\n",
    "print ('Пропуски:', df.isnull().sum())\n",
    "print ('Дубликаты:',df.duplicated().sum())"
   ]
  },
  {
   "cell_type": "markdown",
   "metadata": {},
   "source": [
    "**Проведем исследование сначало на небольшой выборке данных. Это ускорит расчеты для различных времяемких моделей, а заключительное тестирование проведем уже на полном датафрейме.**"
   ]
  },
  {
   "cell_type": "code",
   "execution_count": 5,
   "metadata": {},
   "outputs": [],
   "source": [
    "df_sample = df.sample(5000).reset_index(drop=True)"
   ]
  },
  {
   "cell_type": "code",
   "execution_count": 6,
   "metadata": {},
   "outputs": [
    {
     "data": {
      "text/plain": [
       "0         Explanation\\nWhy the edits made under my usern...\n",
       "1         D'aww! He matches this background colour I'm s...\n",
       "2         Hey man, I'm really not trying to edit war. It...\n",
       "3         \"\\nMore\\nI can't make any real suggestions on ...\n",
       "4         You, sir, are my hero. Any chance you remember...\n",
       "                                ...                        \n",
       "159566    \":::::And for the second time of asking, when ...\n",
       "159567    You should be ashamed of yourself \\n\\nThat is ...\n",
       "159568    Spitzer \\n\\nUmm, theres no actual article for ...\n",
       "159569    And it looks like it was actually you who put ...\n",
       "159570    \"\\nAnd ... I really don't think you understand...\n",
       "Name: text, Length: 159571, dtype: object"
      ]
     },
     "execution_count": 6,
     "metadata": {},
     "output_type": "execute_result"
    }
   ],
   "source": [
    "df['text']"
   ]
  },
  {
   "cell_type": "markdown",
   "metadata": {},
   "source": [
    "**Оценим дисбаланс классов**"
   ]
  },
  {
   "cell_type": "code",
   "execution_count": 7,
   "metadata": {},
   "outputs": [
    {
     "data": {
      "image/png": "[encoded data removed]",
      "text/plain": [
       "<Figure size 108x108 with 1 Axes>"
      ]
     },
     "metadata": {
      "needs_background": "light"
     },
     "output_type": "display_data"
    },
    {
     "name": "stdout",
     "output_type": "stream",
     "text": [
      "0    0.898321\n",
      "1    0.101679\n",
      "Name: toxic, dtype: float64\n"
     ]
    }
   ],
   "source": [
    "df['toxic'].value_counts(normalize = 1).plot(kind='bar', figsize=(1.5,1.5),title = 'Дисбаланс классов в датафрейме')\n",
    "plt.xticks(rotation=0)\n",
    "plt.show()\n",
    "print (df['toxic'].value_counts(normalize = 1))"
   ]
  },
  {
   "cell_type": "markdown",
   "metadata": {},
   "source": [
    "### Очистка и лемматизация текста"
   ]
  },
  {
   "cell_type": "markdown",
   "metadata": {},
   "source": [
    "**Подготовим функцию которая очисти и лемматизирует текст**"
   ]
  },
  {
   "cell_type": "code",
   "execution_count": 8,
   "metadata": {},
   "outputs": [],
   "source": [
    "def lemm_clear_corp(text):    \n",
    "     \n",
    "    corp = \" \".join([lemmatizer.lemmatize(w) for w in nltk.word_tokenize(text)])                \n",
    "    corp = re.sub(r'[^a-zA-Z ]', ' ', corp)\n",
    "    corp = corp.split() \n",
    "    corp = ' '.join(corp)\n",
    "    return corp   "
   ]
  },
  {
   "cell_type": "markdown",
   "metadata": {},
   "source": [
    "Wordnet — это большая, свободно распространяемая и общедоступная лексическая база данных для английского языка с целью установления структурированных семантических отношений между словами."
   ]
  },
  {
   "cell_type": "code",
   "execution_count": 9,
   "metadata": {},
   "outputs": [],
   "source": [
    "lemmatizer = WordNetLemmatizer()"
   ]
  },
  {
   "cell_type": "code",
   "execution_count": 10,
   "metadata": {},
   "outputs": [
    {
     "data": {
      "application/vnd.jupyter.widget-view+json": {
       "model_id": "48d969b86d5a4df081234e2825cd0a89",
       "version_major": 2,
       "version_minor": 0
      },
      "text/plain": [
       "  0%|          | 0/159571 [00:00<?, ?it/s]"
      ]
     },
     "metadata": {},
     "output_type": "display_data"
    },
    {
     "data": {
      "application/vnd.jupyter.widget-view+json": {
       "model_id": "3bce9d3644c94efd96fe40bf4c07947a",
       "version_major": 2,
       "version_minor": 0
      },
      "text/plain": [
       "  0%|          | 0/5000 [00:00<?, ?it/s]"
      ]
     },
     "metadata": {},
     "output_type": "display_data"
    },
    {
     "name": "stdout",
     "output_type": "stream",
     "text": [
      "CPU times: user 2min 33s, sys: 1.47 s, total: 2min 34s\n",
      "Wall time: 2min 40s\n"
     ]
    }
   ],
   "source": [
    "%%time\n",
    "notebook.tqdm.pandas()\n",
    "lemm_clear_corpus = df['text'].progress_apply(lemm_clear_corp)\n",
    "lemm_clear_corpus_sample = df_sample['text'].progress_apply(lemm_clear_corp)"
   ]
  },
  {
   "cell_type": "markdown",
   "metadata": {},
   "source": [
    "### Разбиение на выборки"
   ]
  },
  {
   "cell_type": "markdown",
   "metadata": {},
   "source": [
    "Разбиваем на выборки (как для всего DF  так и сокращенного)"
   ]
  },
  {
   "cell_type": "code",
   "execution_count": 11,
   "metadata": {},
   "outputs": [
    {
     "name": "stdout",
     "output_type": "stream",
     "text": [
      "(111699,) (23936,) (23936,)\n"
     ]
    }
   ],
   "source": [
    "X_train, X_valid_tmp, y_train, y_valid_tmp = train_test_split(lemm_clear_corpus, df['toxic'], test_size=0.3, random_state=12345)\n",
    "X_valid, X_test, y_valid, y_test = train_test_split(X_valid_tmp, y_valid_tmp, test_size=0.5, random_state=12345)\n",
    "print (X_train.shape,X_valid.shape,X_test.shape)"
   ]
  },
  {
   "cell_type": "code",
   "execution_count": 12,
   "metadata": {},
   "outputs": [
    {
     "name": "stdout",
     "output_type": "stream",
     "text": [
      "(3500,) (750,) (750,)\n"
     ]
    }
   ],
   "source": [
    "X_train_sample, X_valid_tmp_sample, y_train_sample, y_valid_tmp_sample = train_test_split(lemm_clear_corpus_sample, df_sample['toxic'], test_size=0.3, random_state=12345)\n",
    "X_valid_sample, X_test_sample, y_valid_sample, y_test_sample = train_test_split(X_valid_tmp_sample, y_valid_tmp_sample, test_size=0.5, random_state=12345)\n",
    "print (X_train_sample.shape,X_valid_sample.shape,X_test_sample.shape)"
   ]
  },
  {
   "cell_type": "markdown",
   "metadata": {},
   "source": [
    "**Еще раз проверил, что дисбалланс классов тот же**"
   ]
  },
  {
   "cell_type": "code",
   "execution_count": 13,
   "metadata": {},
   "outputs": [
    {
     "data": {
      "image/png": "[encoded data removed]",
      "text/plain": [
       "<Figure size 108x108 with 1 Axes>"
      ]
     },
     "metadata": {
      "needs_background": "light"
     },
     "output_type": "display_data"
    },
    {
     "name": "stdout",
     "output_type": "stream",
     "text": [
      "0    0.898406\n",
      "1    0.101594\n",
      "Name: toxic, dtype: float64\n"
     ]
    }
   ],
   "source": [
    "y_train.value_counts(normalize = 1).plot(kind='bar', figsize=(1.5,1.5),title = 'Дисбаланс классов в обучающей выборке')\n",
    "plt.xticks(rotation=0)\n",
    "plt.show()\n",
    "print (y_train.value_counts(normalize = 1))"
   ]
  },
  {
   "cell_type": "markdown",
   "metadata": {},
   "source": [
    "**Создаем функцию по выравниванию классов**"
   ]
  },
  {
   "cell_type": "code",
   "execution_count": 14,
   "metadata": {},
   "outputs": [],
   "source": [
    "def upsample(features,target,repeat):\n",
    "    \n",
    "    features_zeros = features[target == 0]\n",
    "    features_ones = features[target == 1]\n",
    "    target_zeros = target[target == 0]\n",
    "    target_ones = target[target == 1]\n",
    "    \n",
    "    features_upsampled = pd.concat([features_zeros] + [features_ones] * repeat)\n",
    "    target_upsampled = pd.concat([target_zeros] + [target_ones] * repeat)\n",
    "    features_upsampled, target_upsampled = shuffle(features_upsampled, target_upsampled,random_state=12345)\n",
    "\n",
    "    return features_upsampled, target_upsampled"
   ]
  },
  {
   "cell_type": "markdown",
   "metadata": {},
   "source": [
    "### Выравнивание классов (для обучающей выборки)"
   ]
  },
  {
   "cell_type": "code",
   "execution_count": 15,
   "metadata": {},
   "outputs": [
    {
     "name": "stdout",
     "output_type": "stream",
     "text": [
      "(202483,) (202483,)\n"
     ]
    }
   ],
   "source": [
    "X_train, y_train = upsample(X_train, y_train, 9)\n",
    "print(X_train.shape, y_train.shape)"
   ]
  },
  {
   "cell_type": "code",
   "execution_count": 16,
   "metadata": {},
   "outputs": [
    {
     "name": "stdout",
     "output_type": "stream",
     "text": [
      "(6532,) (6532,)\n"
     ]
    }
   ],
   "source": [
    "X_train_sample, y_train_sample = upsample(X_train_sample, y_train_sample, 9)\n",
    "print(X_train_sample.shape, y_train_sample.shape)"
   ]
  },
  {
   "cell_type": "code",
   "execution_count": 17,
   "metadata": {},
   "outputs": [
    {
     "data": {
      "image/png": "[encoded data removed]",
      "text/plain": [
       "<Figure size 108x108 with 1 Axes>"
      ]
     },
     "metadata": {
      "needs_background": "light"
     },
     "output_type": "display_data"
    },
    {
     "name": "stdout",
     "output_type": "stream",
     "text": [
      "1    0.504398\n",
      "0    0.495602\n",
      "Name: toxic, dtype: float64\n"
     ]
    }
   ],
   "source": [
    "y_train.value_counts(normalize = 1).plot(kind='bar', figsize=(1.5,1.5),title = '\"Дисбалланс\" классов после Апсемплинга')\n",
    "plt.xticks(rotation=0)\n",
    "plt.show()\n",
    "print (y_train.value_counts(normalize = 1))"
   ]
  },
  {
   "cell_type": "markdown",
   "metadata": {},
   "source": [
    "**Переводим текст в вектора**"
   ]
  },
  {
   "cell_type": "code",
   "execution_count": 18,
   "metadata": {},
   "outputs": [],
   "source": [
    "tfidf = TfidfVectorizer(stop_words=stop_words) "
   ]
  },
  {
   "cell_type": "code",
   "execution_count": 19,
   "metadata": {},
   "outputs": [],
   "source": [
    "X_train_vector = tfidf.fit_transform(X_train)\n",
    "X_valid_vector = tfidf.transform(X_valid)\n",
    "X_test_vector = tfidf.transform(X_test)"
   ]
  },
  {
   "cell_type": "code",
   "execution_count": 20,
   "metadata": {},
   "outputs": [],
   "source": [
    "X_train_vector_sample = tfidf.transform(X_train_sample)\n",
    "X_valid_vector_sample = tfidf.transform(X_valid_sample)\n",
    "X_test_vector_sample = tfidf.transform(X_test_sample)"
   ]
  },
  {
   "cell_type": "markdown",
   "metadata": {},
   "source": [
    "### Вывод  (подготовка)\n",
    "Подготовка завершена. Текст ощищен, лемматизирован и переведен в вектора. Так же созданы выборки: обучающая, валидационная и тестовая.  \n",
    "В обучающей выборке проведено выравнивание классов.Можно приступать к обучению."
   ]
  },
  {
   "cell_type": "markdown",
   "metadata": {},
   "source": [
    "## Обучение"
   ]
  },
  {
   "cell_type": "markdown",
   "metadata": {},
   "source": [
    "**Создадим список моделей для тестирования**"
   ]
  },
  {
   "cell_type": "code",
   "execution_count": 21,
   "metadata": {},
   "outputs": [],
   "source": [
    "models = []\n",
    "models.append(('LR', LogisticRegression(random_state=12345,class_weight='balanced', C=5))) #max_iter=1000, n_jobs=-1,solver='lbfgs',\n",
    "models.append(('LSVC', LinearSVC(random_state=12345)))\n",
    "models.append(('KNN', KNeighborsClassifier()))\n",
    "models.append(('RF', RandomForestClassifier( random_state=12345,class_weight='balanced'))) #max_depth = 300, n_estimators = 500,\n",
    "models.append(('AB', AdaBoostClassifier( n_estimators = 500, random_state=12345)))"
   ]
  },
  {
   "cell_type": "code",
   "execution_count": 22,
   "metadata": {},
   "outputs": [],
   "source": [
    "def model_best(features_train,target_train,features_valid,target_valid, models):\n",
    "    #valid_pred = []\n",
    "    for name, model in models:\n",
    "\n",
    "        ml = model\n",
    "        ml.fit(features_train, target_train)\n",
    "        #X_valid_ml = tfidf.transform(features_valid)\n",
    "        predict_valid = ml.predict(features_valid)\n",
    "        f1_valid = f1_score(target_valid, predict_valid)\n",
    "\n",
    "        print ('Модель:',name)\n",
    "        print ('f1_valid:',f1_valid)\n",
    "\n",
    "        #valid_pred.append(predict_valid) # здесь храним предсказания от моделей\n",
    "    \n",
    "        fig, ax = plt.subplots(figsize=(2.5,2.5))\n",
    "        confusion_matrix = pd.crosstab(target_valid, predict_valid, rownames=['Actual'], colnames=['Predicted'])\n",
    "        sns.heatmap(confusion_matrix, annot=True, fmt='3.0f', ax=ax)\n",
    "        plt.show()"
   ]
  },
  {
   "cell_type": "markdown",
   "metadata": {},
   "source": [
    "### Предварительная оценка метрики на различных моделях"
   ]
  },
  {
   "cell_type": "markdown",
   "metadata": {},
   "source": [
    "**Визуализируем F1-метрику**"
   ]
  },
  {
   "cell_type": "code",
   "execution_count": 23,
   "metadata": {},
   "outputs": [
    {
     "name": "stdout",
     "output_type": "stream",
     "text": [
      "Модель: LR\n",
      "f1_valid: 0.6721311475409836\n"
     ]
    },
    {
     "data": {
      "image/png": "[encoded data removed]",
      "text/plain": [
       "<Figure size 180x180 with 2 Axes>"
      ]
     },
     "metadata": {
      "needs_background": "light"
     },
     "output_type": "display_data"
    },
    {
     "name": "stdout",
     "output_type": "stream",
     "text": [
      "Модель: LSVC\n",
      "f1_valid: 0.65\n"
     ]
    },
    {
     "data": {
      "image/png": "[encoded data removed]",
      "text/plain": [
       "<Figure size 180x180 with 2 Axes>"
      ]
     },
     "metadata": {
      "needs_background": "light"
     },
     "output_type": "display_data"
    },
    {
     "name": "stdout",
     "output_type": "stream",
     "text": [
      "Модель: KNN\n",
      "f1_valid: 0.44927536231884063\n"
     ]
    },
    {
     "data": {
      "image/png": "[encoded data removed]",
      "text/plain": [
       "<Figure size 180x180 with 2 Axes>"
      ]
     },
     "metadata": {
      "needs_background": "light"
     },
     "output_type": "display_data"
    },
    {
     "name": "stdout",
     "output_type": "stream",
     "text": [
      "Модель: RF\n",
      "f1_valid: 0.4651162790697675\n"
     ]
    },
    {
     "data": {
      "image/png": "[encoded data removed]",
      "text/plain": [
       "<Figure size 180x180 with 2 Axes>"
      ]
     },
     "metadata": {
      "needs_background": "light"
     },
     "output_type": "display_data"
    },
    {
     "name": "stdout",
     "output_type": "stream",
     "text": [
      "Модель: AB\n",
      "f1_valid: 0.6713286713286714\n"
     ]
    },
    {
     "data": {
      "image/png": "[encoded data removed]",
      "text/plain": [
       "<Figure size 180x180 with 2 Axes>"
      ]
     },
     "metadata": {
      "needs_background": "light"
     },
     "output_type": "display_data"
    }
   ],
   "source": [
    "model_best (X_train_vector_sample, y_train_sample, X_valid_vector_sample, y_valid_sample, models)"
   ]
  },
  {
   "cell_type": "markdown",
   "metadata": {},
   "source": [
    "Итак, по дефолту и на ограниченной выборке (5 000 элементов), наиболее хорошо показала себя модель LinearSVC и LR, уже сейчас они показали значение метрики f1 = 0.67.   \n",
    "Дабы окончательно увердиться в выбором, проведем еще исследование на паре моделей, с подбором гиперпараметров, НО опять же в рамках этой выборки (5 000)."
   ]
  },
  {
   "cell_type": "code",
   "execution_count": 24,
   "metadata": {},
   "outputs": [],
   "source": [
    "# здесь подберем наилучшие параметры для модели\n",
    "def testing_f1(model,parametrs,features, target,tech,alg):\n",
    "    model= model \n",
    "    parametrs_model = parametrs\n",
    "    grid_rfc = GridSearchCV(model, parametrs_model, n_jobs=-1, scoring='f1', cv=5)\n",
    "    best_model = grid_rfc.fit(features, target)\n",
    "    predict_train = best_model.predict(features)\n",
    "    f1_scor = f1_score(target, predict_train)\n",
    "    print ('\\nАлгоритм:',alg)\n",
    "    print ('Метод выравнивания дисбаланса классов:',tech)\n",
    "    print('Лучшие параметры', grid_rfc.best_score_, '\\nс параметрами', grid_rfc.best_params_ )\n",
    "    print('F1-оценка (тренировочная выборка)', f1_scor )\n",
    "    return best_model"
   ]
  },
  {
   "cell_type": "code",
   "execution_count": 25,
   "metadata": {},
   "outputs": [],
   "source": [
    "parametrs = {'n_estimators': [50,100],'random_state':[12345], 'max_depth': [5,20]}"
   ]
  },
  {
   "cell_type": "code",
   "execution_count": 26,
   "metadata": {},
   "outputs": [
    {
     "name": "stdout",
     "output_type": "stream",
     "text": [
      "\n",
      "Алгоритм: RandomForest\n",
      "Метод выравнивания дисбаланса классов: UpSampled\n",
      "Лучшие параметры 0.8567390622487798 \n",
      "с параметрами {'max_depth': 20, 'n_estimators': 50, 'random_state': 12345}\n",
      "F1-оценка (тренировочная выборка) 0.8779354838709679\n",
      "CPU times: user 15 s, sys: 34.7 ms, total: 15 s\n",
      "Wall time: 15 s\n"
     ]
    }
   ],
   "source": [
    "%%time\n",
    "bm = testing_f1(RandomForestClassifier(),parametrs,X_train_vector_sample, y_train_sample,'UpSampled','RandomForest');"
   ]
  },
  {
   "cell_type": "code",
   "execution_count": 27,
   "metadata": {},
   "outputs": [
    {
     "data": {
      "text/plain": [
       "0.3496143958868895"
      ]
     },
     "execution_count": 27,
     "metadata": {},
     "output_type": "execute_result"
    }
   ],
   "source": [
    "#X_test_bm = tfidf.transform(X_test_)\n",
    "predict_test_bm = bm.predict(X_test_vector_sample)\n",
    "f1_score(y_test_sample, predict_test_bm)"
   ]
  },
  {
   "cell_type": "markdown",
   "metadata": {},
   "source": [
    "даже с подбором гиперпараметров алгоритм RandomForestClassifier не показал должного результата.  \n",
    "Попробуем с Кэтбустером."
   ]
  },
  {
   "cell_type": "markdown",
   "metadata": {},
   "source": [
    "### Предварительная оценка метрики  f1 на CatBoostClassifier"
   ]
  },
  {
   "cell_type": "code",
   "execution_count": 28,
   "metadata": {},
   "outputs": [],
   "source": [
    "def catboost_time (features_train, target_train,features_test, target_test):\n",
    "    start1 = time.time()\n",
    "    model = CatBoostClassifier( eval_metric='TotalF1', learning_rate=0.1, \n",
    "                          random_state=12345, verbose=20,\n",
    "                          iterations=100, depth=6,class_weight='balanced',text_features='lemm_text')#loss_function='RMSE',\n",
    "\n",
    "    model_cb = model.fit(features_train, target_train, text_features='lemm_text')\n",
    "    finish1 = time.time() - start1\n",
    "    start2  = time.time()\n",
    "    predict = model_cb.predict(features_test)\n",
    "    finish2 = time.time() - start2\n",
    "    result = [finish1,finish2,f1_score(y_test, predict)]\n",
    "    print ('\\nВремя обучения,сек.:',result[0])\n",
    "    print ('Время прогнозирования,сек.:',result[1])\n",
    "    print ('\\nРазмер метрики f1 на тестовой выборке:',result[2])\n",
    "    print ('\\nBest score:',model_cb.best_score_)\n",
    "    return result,model_cb;"
   ]
  },
  {
   "cell_type": "code",
   "execution_count": 29,
   "metadata": {},
   "outputs": [
    {
     "name": "stdout",
     "output_type": "stream",
     "text": [
      "0:\tlearn: 0.5629439\ttest: 0.5459347\tbest: 0.5459347 (0)\ttotal: 174ms\tremaining: 1.56s\n",
      "1:\tlearn: 0.6563706\ttest: 0.6389206\tbest: 0.6389206 (1)\ttotal: 268ms\tremaining: 1.07s\n",
      "2:\tlearn: 0.6727155\ttest: 0.6552807\tbest: 0.6552807 (2)\ttotal: 364ms\tremaining: 848ms\n",
      "3:\tlearn: 0.6912005\ttest: 0.6795100\tbest: 0.6795100 (3)\ttotal: 459ms\tremaining: 689ms\n",
      "4:\tlearn: 0.6968799\ttest: 0.6861805\tbest: 0.6861805 (4)\ttotal: 556ms\tremaining: 556ms\n",
      "5:\tlearn: 0.7135253\ttest: 0.7017863\tbest: 0.7017863 (5)\ttotal: 648ms\tremaining: 432ms\n",
      "6:\tlearn: 0.7114324\ttest: 0.6977370\tbest: 0.7017863 (5)\ttotal: 744ms\tremaining: 319ms\n",
      "7:\tlearn: 0.7235868\ttest: 0.7162775\tbest: 0.7162775 (7)\ttotal: 837ms\tremaining: 209ms\n",
      "8:\tlearn: 0.7397467\ttest: 0.7203160\tbest: 0.7203160 (8)\ttotal: 931ms\tremaining: 103ms\n",
      "9:\tlearn: 0.7663537\ttest: 0.7463678\tbest: 0.7463678 (9)\ttotal: 1.02s\tremaining: 0us\n",
      "\n",
      "bestTest = 0.7463677707\n",
      "bestIteration = 9\n",
      "\n",
      "0:\tloss: 0.7463678\tbest: 0.7463678 (0)\ttotal: 2.62s\tremaining: 10.5s\n",
      "0:\tlearn: 0.5629439\ttest: 0.5459347\tbest: 0.5459347 (0)\ttotal: 165ms\tremaining: 1.48s\n",
      "1:\tlearn: 0.6621350\ttest: 0.6451988\tbest: 0.6451988 (1)\ttotal: 266ms\tremaining: 1.06s\n",
      "2:\tlearn: 0.6874788\ttest: 0.6758835\tbest: 0.6758835 (2)\ttotal: 360ms\tremaining: 840ms\n",
      "3:\tlearn: 0.7031018\ttest: 0.6983932\tbest: 0.6983932 (3)\ttotal: 472ms\tremaining: 708ms\n",
      "4:\tlearn: 0.7315120\ttest: 0.7323496\tbest: 0.7323496 (4)\ttotal: 566ms\tremaining: 566ms\n",
      "5:\tlearn: 0.7474498\ttest: 0.7497237\tbest: 0.7497237 (5)\ttotal: 661ms\tremaining: 441ms\n",
      "6:\tlearn: 0.7583245\ttest: 0.7594946\tbest: 0.7594946 (6)\ttotal: 762ms\tremaining: 326ms\n",
      "7:\tlearn: 0.7718939\ttest: 0.7721387\tbest: 0.7721387 (7)\ttotal: 869ms\tremaining: 217ms\n",
      "8:\tlearn: 0.7831458\ttest: 0.7793436\tbest: 0.7793436 (8)\ttotal: 965ms\tremaining: 107ms\n",
      "9:\tlearn: 0.7966408\ttest: 0.7991905\tbest: 0.7991905 (9)\ttotal: 1.07s\tremaining: 0us\n",
      "\n",
      "bestTest = 0.7991905028\n",
      "bestIteration = 9\n",
      "\n",
      "1:\tloss: 0.7991905\tbest: 0.7991905 (1)\ttotal: 3.74s\tremaining: 5.61s\n",
      "0:\tlearn: 0.5629439\ttest: 0.5459347\tbest: 0.5459347 (0)\ttotal: 126ms\tremaining: 1.13s\n",
      "1:\tlearn: 0.6459707\ttest: 0.6439168\tbest: 0.6439168 (1)\ttotal: 240ms\tremaining: 958ms\n",
      "2:\tlearn: 0.6759466\ttest: 0.6622559\tbest: 0.6622559 (2)\ttotal: 336ms\tremaining: 784ms\n",
      "3:\tlearn: 0.7063262\ttest: 0.6829335\tbest: 0.6829335 (3)\ttotal: 445ms\tremaining: 667ms\n",
      "4:\tlearn: 0.7429303\ttest: 0.7171877\tbest: 0.7171877 (4)\ttotal: 545ms\tremaining: 545ms\n",
      "5:\tlearn: 0.7706072\ttest: 0.7385904\tbest: 0.7385904 (5)\ttotal: 648ms\tremaining: 432ms\n",
      "6:\tlearn: 0.7854892\ttest: 0.7538842\tbest: 0.7538842 (6)\ttotal: 756ms\tremaining: 324ms\n",
      "7:\tlearn: 0.7984893\ttest: 0.7753809\tbest: 0.7753809 (7)\ttotal: 853ms\tremaining: 213ms\n",
      "8:\tlearn: 0.8169953\ttest: 0.8026106\tbest: 0.8026106 (8)\ttotal: 951ms\tremaining: 106ms\n",
      "9:\tlearn: 0.8322271\ttest: 0.8220903\tbest: 0.8220903 (9)\ttotal: 1.05s\tremaining: 0us\n",
      "\n",
      "bestTest = 0.8220903376\n",
      "bestIteration = 9\n",
      "\n",
      "2:\tloss: 0.8220903\tbest: 0.8220903 (2)\ttotal: 4.83s\tremaining: 3.22s\n",
      "0:\tlearn: 0.5629439\ttest: 0.5459347\tbest: 0.5459347 (0)\ttotal: 121ms\tremaining: 1.09s\n",
      "1:\tlearn: 0.6596899\ttest: 0.6438748\tbest: 0.6438748 (1)\ttotal: 214ms\tremaining: 856ms\n",
      "2:\tlearn: 0.6868742\ttest: 0.6786890\tbest: 0.6786890 (2)\ttotal: 318ms\tremaining: 741ms\n",
      "3:\tlearn: 0.7111968\ttest: 0.6969486\tbest: 0.6969486 (3)\ttotal: 417ms\tremaining: 625ms\n",
      "4:\tlearn: 0.7469677\ttest: 0.7294549\tbest: 0.7294549 (4)\ttotal: 561ms\tremaining: 561ms\n",
      "5:\tlearn: 0.7681989\ttest: 0.7487291\tbest: 0.7487291 (5)\ttotal: 706ms\tremaining: 470ms\n",
      "6:\tlearn: 0.7839283\ttest: 0.7600631\tbest: 0.7600631 (6)\ttotal: 829ms\tremaining: 355ms\n",
      "7:\tlearn: 0.7968735\ttest: 0.7678545\tbest: 0.7678545 (7)\ttotal: 928ms\tremaining: 232ms\n",
      "8:\tlearn: 0.8164023\ttest: 0.7938076\tbest: 0.7938076 (8)\ttotal: 1.03s\tremaining: 115ms\n",
      "9:\tlearn: 0.8309673\ttest: 0.8127495\tbest: 0.8127495 (9)\ttotal: 1.14s\tremaining: 0us\n",
      "\n",
      "bestTest = 0.8127495426\n",
      "bestIteration = 9\n",
      "\n",
      "3:\tloss: 0.8127495\tbest: 0.8220903 (2)\ttotal: 6s\tremaining: 1.5s\n",
      "0:\tlearn: 0.5629439\ttest: 0.5459347\tbest: 0.5459347 (0)\ttotal: 124ms\tremaining: 1.11s\n",
      "1:\tlearn: 0.6589659\ttest: 0.6425632\tbest: 0.6425632 (1)\ttotal: 223ms\tremaining: 893ms\n",
      "2:\tlearn: 0.6933002\ttest: 0.6804133\tbest: 0.6804133 (2)\ttotal: 324ms\tremaining: 757ms\n",
      "3:\tlearn: 0.7422511\ttest: 0.7387939\tbest: 0.7387939 (3)\ttotal: 421ms\tremaining: 631ms\n",
      "4:\tlearn: 0.7301027\ttest: 0.7138289\tbest: 0.7387939 (3)\ttotal: 519ms\tremaining: 519ms\n",
      "5:\tlearn: 0.7519087\ttest: 0.7324767\tbest: 0.7387939 (3)\ttotal: 614ms\tremaining: 410ms\n",
      "6:\tlearn: 0.7698847\ttest: 0.7414505\tbest: 0.7414505 (6)\ttotal: 710ms\tremaining: 304ms\n",
      "7:\tlearn: 0.7849572\ttest: 0.7622328\tbest: 0.7622328 (7)\ttotal: 811ms\tremaining: 203ms\n",
      "8:\tlearn: 0.8143646\ttest: 0.7833071\tbest: 0.7833071 (8)\ttotal: 916ms\tremaining: 102ms\n",
      "9:\tlearn: 0.8362571\ttest: 0.8024430\tbest: 0.8024430 (9)\ttotal: 1.01s\tremaining: 0us\n",
      "\n",
      "bestTest = 0.8024429961\n",
      "bestIteration = 9\n",
      "\n",
      "4:\tloss: 0.8024430\tbest: 0.8220903 (2)\ttotal: 7.05s\tremaining: 0us\n",
      "Estimating final quality...\n",
      "Training on fold [0/3]\n",
      "0:\tlearn: 0.5794899\ttest: 0.5898587\tbest: 0.5898587 (0)\ttotal: 100ms\tremaining: 902ms\n",
      "1:\tlearn: 0.6548532\ttest: 0.6542111\tbest: 0.6542111 (1)\ttotal: 174ms\tremaining: 696ms\n",
      "2:\tlearn: 0.6764578\ttest: 0.6928378\tbest: 0.6928378 (2)\ttotal: 247ms\tremaining: 577ms\n",
      "3:\tlearn: 0.7052850\ttest: 0.7090655\tbest: 0.7090655 (3)\ttotal: 323ms\tremaining: 484ms\n",
      "4:\tlearn: 0.7509288\ttest: 0.7450263\tbest: 0.7450263 (4)\ttotal: 409ms\tremaining: 409ms\n",
      "5:\tlearn: 0.7667756\ttest: 0.7575168\tbest: 0.7575168 (5)\ttotal: 493ms\tremaining: 329ms\n",
      "6:\tlearn: 0.7574581\ttest: 0.7577917\tbest: 0.7577917 (6)\ttotal: 580ms\tremaining: 248ms\n",
      "7:\tlearn: 0.7704292\ttest: 0.7607327\tbest: 0.7607327 (7)\ttotal: 659ms\tremaining: 165ms\n",
      "8:\tlearn: 0.7989841\ttest: 0.7858230\tbest: 0.7858230 (8)\ttotal: 732ms\tremaining: 81.4ms\n",
      "9:\tlearn: 0.8007889\ttest: 0.7863243\tbest: 0.7863243 (9)\ttotal: 812ms\tremaining: 0us\n",
      "\n",
      "bestTest = 0.7863243476\n",
      "bestIteration = 9\n",
      "\n",
      "Training on fold [1/3]\n",
      "0:\tlearn: 0.6022076\ttest: 0.5744938\tbest: 0.5744938 (0)\ttotal: 88.5ms\tremaining: 796ms\n",
      "1:\tlearn: 0.6801368\ttest: 0.6584867\tbest: 0.6584867 (1)\ttotal: 163ms\tremaining: 654ms\n",
      "2:\tlearn: 0.6964550\ttest: 0.6724226\tbest: 0.6724226 (2)\ttotal: 262ms\tremaining: 612ms\n",
      "3:\tlearn: 0.6940510\ttest: 0.6692124\tbest: 0.6724226 (2)\ttotal: 363ms\tremaining: 544ms\n",
      "4:\tlearn: 0.7089957\ttest: 0.6819064\tbest: 0.6819064 (4)\ttotal: 464ms\tremaining: 464ms\n",
      "5:\tlearn: 0.7399598\ttest: 0.7126670\tbest: 0.7126670 (5)\ttotal: 541ms\tremaining: 361ms\n",
      "6:\tlearn: 0.7679357\ttest: 0.7333892\tbest: 0.7333892 (6)\ttotal: 619ms\tremaining: 265ms\n",
      "7:\tlearn: 0.7911770\ttest: 0.7551956\tbest: 0.7551956 (7)\ttotal: 690ms\tremaining: 173ms\n",
      "8:\tlearn: 0.8091064\ttest: 0.7695410\tbest: 0.7695410 (8)\ttotal: 761ms\tremaining: 84.6ms\n",
      "9:\tlearn: 0.8182285\ttest: 0.7768835\tbest: 0.7768835 (9)\ttotal: 846ms\tremaining: 0us\n",
      "\n",
      "bestTest = 0.7768835126\n",
      "bestIteration = 9\n",
      "\n",
      "Training on fold [2/3]\n",
      "0:\tlearn: 0.6090431\ttest: 0.6161545\tbest: 0.6161545 (0)\ttotal: 129ms\tremaining: 1.16s\n",
      "1:\tlearn: 0.6684857\ttest: 0.6805995\tbest: 0.6805995 (1)\ttotal: 213ms\tremaining: 854ms\n",
      "2:\tlearn: 0.6862501\ttest: 0.6958046\tbest: 0.6958046 (2)\ttotal: 315ms\tremaining: 734ms\n",
      "3:\tlearn: 0.7067506\ttest: 0.7027231\tbest: 0.7027231 (3)\ttotal: 413ms\tremaining: 620ms\n",
      "4:\tlearn: 0.7339874\ttest: 0.7209829\tbest: 0.7209829 (4)\ttotal: 521ms\tremaining: 521ms\n",
      "5:\tlearn: 0.7580483\ttest: 0.7402568\tbest: 0.7402568 (5)\ttotal: 609ms\tremaining: 406ms\n",
      "6:\tlearn: 0.7770729\ttest: 0.7604578\tbest: 0.7604578 (6)\ttotal: 684ms\tremaining: 293ms\n",
      "7:\tlearn: 0.7835544\ttest: 0.7611250\tbest: 0.7611250 (7)\ttotal: 756ms\tremaining: 189ms\n",
      "8:\tlearn: 0.7958162\ttest: 0.7718778\tbest: 0.7718778 (8)\ttotal: 828ms\tremaining: 92ms\n",
      "9:\tlearn: 0.8100822\ttest: 0.7852963\tbest: 0.7852963 (9)\ttotal: 904ms\tremaining: 0us\n",
      "\n",
      "bestTest = 0.7852963116\n",
      "bestIteration = 9\n",
      "\n",
      "CPU times: user 16.4 s, sys: 1.86 s, total: 18.2 s\n",
      "Wall time: 18.9 s\n"
     ]
    }
   ],
   "source": [
    "%%time\n",
    "model_cb = CatBoostClassifier(eval_metric='TotalF1',random_state = 12345)\n",
    "params = {'depth':[5], 'learning_rate':np.arange(0.1,1,0.2), 'iterations':[10]}\n",
    "grid_cb = model_cb.grid_search(params, Pool(X_train_vector_sample, y_train_sample),cv=3)"
   ]
  },
  {
   "cell_type": "code",
   "execution_count": 30,
   "metadata": {},
   "outputs": [
    {
     "name": "stdout",
     "output_type": "stream",
     "text": [
      "0:\tlearn: 0.6049921\ttotal: 125ms\tremaining: 2m 4s\n",
      "100:\tlearn: 1.0000000\ttotal: 10.2s\tremaining: 1m 31s\n",
      "200:\tlearn: 1.0000000\ttotal: 20.5s\tremaining: 1m 21s\n",
      "300:\tlearn: 1.0000000\ttotal: 30.9s\tremaining: 1m 11s\n",
      "400:\tlearn: 1.0000000\ttotal: 41s\tremaining: 1m 1s\n",
      "500:\tlearn: 1.0000000\ttotal: 50.8s\tremaining: 50.6s\n",
      "600:\tlearn: 1.0000000\ttotal: 1m\tremaining: 40.2s\n",
      "700:\tlearn: 1.0000000\ttotal: 1m 10s\tremaining: 30s\n",
      "800:\tlearn: 1.0000000\ttotal: 1m 20s\tremaining: 19.9s\n",
      "900:\tlearn: 1.0000000\ttotal: 1m 29s\tremaining: 9.85s\n",
      "999:\tlearn: 1.0000000\ttotal: 1m 39s\tremaining: 0us\n",
      "CPU times: user 1min 40s, sys: 310 ms, total: 1min 40s\n",
      "Wall time: 1min 42s\n"
     ]
    }
   ],
   "source": [
    "%%time\n",
    "model_cb = CatBoostClassifier(depth=grid_cb['params']['depth'], \n",
    "                              learning_rate=grid_cb['params']['learning_rate'],\n",
    "                              verbose=100,eval_metric='TotalF1')\n",
    "model_cb = model_cb.fit(Pool(X_train_vector_sample, y_train_sample))"
   ]
  },
  {
   "cell_type": "code",
   "execution_count": 31,
   "metadata": {},
   "outputs": [
    {
     "data": {
      "text/plain": [
       "0.6225165562913907"
      ]
     },
     "execution_count": 31,
     "metadata": {},
     "output_type": "execute_result"
    }
   ],
   "source": [
    "predict_test3 = model_cb.predict(X_test_vector_sample)\n",
    "f1_score(y_test_sample, predict_test3)"
   ]
  },
  {
   "cell_type": "markdown",
   "metadata": {},
   "source": [
    "Кэтбуст на небольшом объеме выборки так же не впечатлил, значение метрики 0.6. "
   ]
  },
  {
   "cell_type": "markdown",
   "metadata": {},
   "source": [
    "Интресно, а как отработает ансамбль из алгоритмов?!"
   ]
  },
  {
   "cell_type": "markdown",
   "metadata": {},
   "source": [
    "### Предварительная оценка метрики  f1 на ансамбле моделей"
   ]
  },
  {
   "cell_type": "code",
   "execution_count": 32,
   "metadata": {},
   "outputs": [],
   "source": [
    "# чуть изменим список с моделями\n",
    "def get_models():\n",
    "    models = []\n",
    "    models.append(('LR', LogisticRegression(random_state=12345,class_weight='balanced', C=5)))\n",
    "    models.append(('KNN', KNeighborsClassifier()))\n",
    "    models.append(('RG', RandomForestClassifier(random_state=12345,class_weight='balanced')))\n",
    "    return models"
   ]
  },
  {
   "cell_type": "code",
   "execution_count": 33,
   "metadata": {},
   "outputs": [],
   "source": [
    "def fit_ensemble(models, X_train, X_valid, y_train, y_valid):\n",
    "    meta_X = []\n",
    "    for name, model in models:\n",
    "# обучаем модель, берем от нее предсказания\n",
    "        model.fit(X_train, y_train)\n",
    "\n",
    "        #X_val = tfidf.transform(X_valid)\n",
    "        yhat = model.predict(X_valid)\n",
    "        yhat = yhat.reshape(len(yhat), 1)\n",
    "\n",
    "# сохраняем предсказания они будут в дальнейшем использованы как входные значения\n",
    "        meta_X.append(yhat)\n",
    "# создаем двумерный массив, это как раз и будут фьючи\n",
    "    meta_X = hstack(meta_X)\n",
    "#  на этом \"бульоне\" обучим модель\n",
    "    blender = LinearSVC(random_state=12345)\n",
    "    blender.fit(meta_X, y_valid)\n",
    "    return blender"
   ]
  },
  {
   "cell_type": "code",
   "execution_count": 34,
   "metadata": {},
   "outputs": [],
   "source": [
    "#  здесь получаем предсказания от ансамбля.\n",
    "def predict_ensemble(models, blender, X_test):\n",
    "    meta_X = []\n",
    "    for name, model in models:\n",
    "        yhat = model.predict(X_test)\n",
    "        yhat = yhat.reshape(len(yhat), 1)\n",
    "        meta_X.append(yhat)\n",
    "    meta_X = hstack(meta_X)\n",
    "    return blender.predict(meta_X)"
   ]
  },
  {
   "cell_type": "code",
   "execution_count": 35,
   "metadata": {},
   "outputs": [
    {
     "name": "stdout",
     "output_type": "stream",
     "text": [
      "CPU times: user 1min 31s, sys: 8.82 s, total: 1min 40s\n",
      "Wall time: 1min 40s\n"
     ]
    }
   ],
   "source": [
    "%%time\n",
    "models = get_models()\n",
    "blender = fit_ensemble(models, X_train_vector_sample, X_valid_vector_sample, y_train_sample, y_valid_sample)\n",
    "\n",
    "#X_test_tmp = tfidf.transform(X_test_)\n",
    "yhat = predict_ensemble(models, blender, X_test_vector_sample)\n",
    "\n",
    "score = accuracy_score(y_test_sample, yhat)\n",
    "f1_test = f1_score(y_test_sample, pd.Series(yhat))\n",
    "\n",
    "print('Blending Accuracy: %.3f' % (score*100))\n",
    "print('f1_test: ',f1_test)"
   ]
  },
  {
   "cell_type": "markdown",
   "metadata": {},
   "source": [
    "Ансамбль в данном исполнении в общем тоже как то не впечатлил  \n",
    "Резюмируя, останавливаемся на модели LogisticRegression или LinearSVC().  \n",
    "Прогоним модель по полному датафрейму, посмотрим размер метрики:"
   ]
  },
  {
   "cell_type": "markdown",
   "metadata": {},
   "source": [
    "###  Обучение модели на полном DF"
   ]
  },
  {
   "cell_type": "markdown",
   "metadata": {},
   "source": [
    "#### Алгоритм LinearSVC"
   ]
  },
  {
   "cell_type": "code",
   "execution_count": null,
   "metadata": {},
   "outputs": [],
   "source": [
    "%%time\n",
    "ml = LinearSVC(random_state=12345 ).fit(X_train_vector, y_train) #C=10, max_iter = 10000\n",
    "X_train_vector = tfidf.fit_transform(X_train)\n",
    "X_test_lsvc = tfidf.transform(X_test)\n",
    "predict_test = ml.predict(X_test_lsvc)\n",
    "f1_test = f1_score(y_test, predict_test)\n",
    "print ('f1_test:',f1_test)\n",
    "fig, ax = plt.subplots(figsize=(2.5,2.5))\n",
    "confusion_matrix = pd.crosstab(y_test, predict_test, rownames=['Actual'], colnames=['Predicted'])\n",
    "sns.heatmap(confusion_matrix, annot=True, fmt='3.0f', ax=ax)\n",
    "plt.show()"
   ]
  },
  {
   "cell_type": "markdown",
   "metadata": {},
   "source": [
    "#### Алгоритм LogisticRegression"
   ]
  },
  {
   "cell_type": "code",
   "execution_count": null,
   "metadata": {},
   "outputs": [],
   "source": [
    "%%time\n",
    "ml = LogisticRegression(random_state=12345,class_weight='balanced', C=5, max_iter = 5000).fit(X_train_vector, y_train)\n",
    "X_train_vector = tfidf.fit_transform(X_train)\n",
    "X_test_lsvc = tfidf.transform(X_test)\n",
    "predict_test = ml.predict(X_test_lsvc)\n",
    "f1_test = f1_score(y_test, predict_test)\n",
    "print ('f1_test:',f1_test)\n",
    "fig, ax = plt.subplots(figsize=(2.5,2.5))\n",
    "confusion_matrix = pd.crosstab(y_test, predict_test, rownames=['Actual'], colnames=['Predicted'])\n",
    "sns.heatmap(confusion_matrix, annot=True, fmt='3.0f', ax=ax)\n",
    "plt.show()"
   ]
  },
  {
   "cell_type": "markdown",
   "metadata": {},
   "source": [
    "Да, вот наш выбор, от 10 секунд (LinearSVC) до пары минут для LogisticRegression и метрика f1 достигнута!  \n",
    "С алгоритмом LogisticRegression метрика f1 достигла заначения равным 0.758"
   ]
  },
  {
   "cell_type": "markdown",
   "metadata": {},
   "source": [
    "Здесь я немного решил визуализировать рез-ты метрик. Библиотеки не стал на верх выносить, т.к. они только для этих графиков."
   ]
  },
  {
   "cell_type": "code",
   "execution_count": null,
   "metadata": {},
   "outputs": [],
   "source": [
    "from sklearn.metrics import precision_recall_curve\n",
    "from sklearn.metrics import PrecisionRecallDisplay\n",
    "from sklearn.metrics import roc_curve\n",
    "from sklearn.metrics import RocCurveDisplay"
   ]
  },
  {
   "cell_type": "code",
   "execution_count": null,
   "metadata": {},
   "outputs": [],
   "source": [
    "lsvc = LogisticRegression(random_state=12345, class_weight ='balanced', C=10, max_iter = 5000).fit(X_train_vector, y_train)\n",
    "predict_trn = lsvc.predict(X_train_vector)\n",
    "\n",
    "fig, ax1 = plt.subplots()\n",
    "\n",
    "precision1, recall1,_ = precision_recall_curve(y_train, predict_trn)\n",
    "disp1 = PrecisionRecallDisplay(precision=precision1, recall=recall1)\n",
    "\n",
    "precision2, recall2,_ = precision_recall_curve(y_test, predict_test)\n",
    "disp2 = PrecisionRecallDisplay(precision=precision2, recall=recall2)\n",
    "\n",
    "disp1.plot(ax=ax1, label='Метрика на выборке Train')\n",
    "disp2.plot(ax=ax1, label='Метрика на выборке Test')\n",
    "\n",
    "plt.show();"
   ]
  },
  {
   "cell_type": "code",
   "execution_count": null,
   "metadata": {},
   "outputs": [],
   "source": [
    "fig, ax1 = plt.subplots()\n",
    "\n",
    "y_score = lsvc.decision_function(X_test_lsvc)\n",
    "fpr, tpr, _ = roc_curve(y_test, y_score, pos_label=lsvc.classes_[1])\n",
    "roc_display = RocCurveDisplay(fpr=fpr, tpr=tpr)\n",
    "\n",
    "prec, recall, _ = precision_recall_curve(y_test, y_score, pos_label=lsvc.classes_[1])\n",
    "pr_display = PrecisionRecallDisplay(precision=prec, recall=recall)\n",
    "\n",
    "roc_display.plot(ax=ax1,label='ROC кривая')\n",
    "pr_display.plot(ax=ax1, label='F1-метрика')\n",
    "\n",
    "plt.show();"
   ]
  },
  {
   "cell_type": "markdown",
   "metadata": {},
   "source": [
    "## Выводы"
   ]
  },
  {
   "cell_type": "markdown",
   "metadata": {},
   "source": [
    "**В данном проекте удалось очистить от \"лишних\" символов, лемматизировать текст (комментрии пользователей) с последующим преобразованием  в \"цифровые вектора\", что позволило в дальнейшем обучить модель предсказывать эмоцианальную составляющую контента (комментария) - позитивный или негативный.  \n",
    "В виду того, что критерий оценки комментария представлял ответ в виде 0 или 1, то эффективной метрикой качестве предсказания была принята f1 - метрика, учитвающая как точность так и полноту предсказания.\n",
    "Для выравнивания классов (среди критерия оценки) был использован метод upsample. А наибольшый показатель метрики f1 удалось достич на алгоритме LogisticRegression с размерностью метрики 0.758.**\n"
   ]
  },
  {
   "cell_type": "markdown",
   "metadata": {},
   "source": [
    "## P.S. BERT"
   ]
  },
  {
   "cell_type": "code",
   "execution_count": null,
   "metadata": {},
   "outputs": [],
   "source": [
    "import transformers as ppb\n",
    "import warnings\n",
    "warnings.filterwarnings('ignore')"
   ]
  },
  {
   "cell_type": "code",
   "execution_count": null,
   "metadata": {},
   "outputs": [],
   "source": [
    "pip install transformers"
   ]
  },
  {
   "cell_type": "code",
   "execution_count": null,
   "metadata": {},
   "outputs": [],
   "source": [
    "#df = pd.read_csv(r'C:\\Users\\Dimm_inc\\Downloads\\toxic_comments.csv')"
   ]
  },
  {
   "cell_type": "code",
   "execution_count": null,
   "metadata": {},
   "outputs": [],
   "source": [
    "df = df.sample(1000).reset_index(drop=True)"
   ]
  },
  {
   "cell_type": "code",
   "execution_count": null,
   "metadata": {},
   "outputs": [],
   "source": [
    "lemm_clear_corpus = df['text'].progress_apply(lemm_clear_corp)"
   ]
  },
  {
   "cell_type": "code",
   "execution_count": null,
   "metadata": {},
   "outputs": [],
   "source": [
    "model_class, tokenizer_class, pretrained_weights = (ppb.BertModel, ppb.BertTokenizer, 'bert-base-uncased')\n",
    "\n",
    "\n",
    "tokenizer = tokenizer_class.from_pretrained(pretrained_weights)\n",
    "model = model_class.from_pretrained(pretrained_weights)"
   ]
  },
  {
   "cell_type": "code",
   "execution_count": null,
   "metadata": {},
   "outputs": [],
   "source": [
    "tokenized = lemm_clear_corpus.apply((lambda x: tokenizer.encode(x, add_special_tokens=True, truncation=True, max_length=50)))"
   ]
  },
  {
   "cell_type": "code",
   "execution_count": null,
   "metadata": {},
   "outputs": [],
   "source": [
    "max_len = 0\n",
    "for i in tokenized.values:\n",
    "    if len(i) > max_len:\n",
    "        max_len = len(i)\n",
    "\n",
    "padded = np.array([i + [0]*(max_len-len(i)) for i in tokenized.values])\n",
    "attention_mask = np.where(padded != 0, 1, 0)"
   ]
  },
  {
   "cell_type": "code",
   "execution_count": null,
   "metadata": {},
   "outputs": [],
   "source": [
    "# encoded_dict = tokenizer.encode_plus(\n",
    "#                         sentence,                      # Sentence to encode.\n",
    "#                         add_special_tokens = True,    # Add '[CLS]' and '[SEP]'\n",
    "#                         max_length = max_length,      # Pad & truncate all sentences.\n",
    "#                         pad_to_max_length = True,\n",
    "#                         return_attention_mask = return_attention_mask,   # Construct attn. masks.\n",
    "#                         return_tensors = 'pt',     # Return pytorch tensors.\n",
    "#                    )"
   ]
  },
  {
   "cell_type": "code",
   "execution_count": null,
   "metadata": {},
   "outputs": [],
   "source": [
    "batch_size = 100\n",
    "\n",
    "\n",
    "embeddings = []\n",
    "\n",
    "for i in notebook.tqdm(range(padded.shape[0] // batch_size)):\n",
    "\n",
    "#Преобразуем данные в формат тензоров (англ. tensor) — многомерных векторов в библиотеке torch. \n",
    "#Тип данных LongTensor (англ. «длинный тензор») хранит числа в «длинном формате», \n",
    "#то есть выделяет на каждое число 64 бита\n",
    "\n",
    "    batch = torch.tensor(padded[batch_size*i:batch_size*(i+1)]) \n",
    "    attention_mask_batch = torch.tensor(attention_mask[batch_size*i:batch_size*(i+1)])\n",
    "\n",
    "#Для ускорения вычисления функцией no_grad() (англ. no gradient, «нет градиента») \n",
    "#в библиотеке torch укажем, что градиенты не нужны: модель BERT обучать не будем. \n",
    "\n",
    "    with torch.no_grad():\n",
    "\n",
    "#Чтобы получить эмбеддинги для батча, передадим модели данные и маску:\n",
    "        batch_embeddings = model(batch, attention_mask=attention_mask_batch)\n",
    "\n",
    "#Из полученного тензора извлечём нужные элементы и добавим в список всех эмбеддингов:\n",
    "    embeddings.append(batch_embeddings[0][:,0,:].numpy())"
   ]
  },
  {
   "cell_type": "code",
   "execution_count": null,
   "metadata": {},
   "outputs": [],
   "source": [
    "features = np.concatenate(embeddings)"
   ]
  },
  {
   "cell_type": "code",
   "execution_count": null,
   "metadata": {},
   "outputs": [],
   "source": [
    "train_features, test_features, train_target, test_target = train_test_split(features, df['toxic'])"
   ]
  },
  {
   "cell_type": "code",
   "execution_count": null,
   "metadata": {},
   "outputs": [],
   "source": [
    "print (train_features.shape[0], test_features.shape[0])"
   ]
  },
  {
   "cell_type": "code",
   "execution_count": null,
   "metadata": {},
   "outputs": [],
   "source": [
    "#parameters = {'C': np.linspace(0.1, 100, 20),'class_weight':['balanced', 'None']}\n",
    "#grid_search = GridSearchCV(LogisticRegression(random_state=12345), parameters)\n",
    "#grid_search.fit(train_features, train_target)\n",
    "\n",
    "#print('best parameters: ', grid_search.best_params_)\n",
    "#print('best scrores: ', grid_search.best_score_)"
   ]
  },
  {
   "cell_type": "code",
   "execution_count": null,
   "metadata": {},
   "outputs": [],
   "source": [
    "lr_clf = LogisticRegression( C=5)\n",
    "lr_clf.fit(train_features, train_target)"
   ]
  },
  {
   "cell_type": "code",
   "execution_count": null,
   "metadata": {},
   "outputs": [],
   "source": [
    "predict_test = lr_clf.predict(test_features)\n",
    "f1_test = f1_score(test_target, predict_test)\n",
    "f1_test"
   ]
  }
 ],
 "metadata": {
  "ExecuteTimeLog": [
   {
    "duration": 9793,
    "start_time": "2022-05-12T15:38:39.112Z"
   },
   {
    "duration": 3993,
    "start_time": "2022-05-12T15:39:04.635Z"
   },
   {
    "duration": 18,
    "start_time": "2022-05-12T15:39:15.506Z"
   },
   {
    "duration": 187120,
    "start_time": "2022-05-12T15:39:39.909Z"
   },
   {
    "duration": 0,
    "start_time": "2022-05-12T15:42:47.031Z"
   },
   {
    "duration": 0,
    "start_time": "2022-05-12T15:42:47.033Z"
   },
   {
    "duration": 542,
    "start_time": "2022-05-12T15:51:49.215Z"
   },
   {
    "duration": 9447,
    "start_time": "2022-05-12T15:53:59.540Z"
   },
   {
    "duration": 4071,
    "start_time": "2022-05-12T15:54:08.990Z"
   },
   {
    "duration": 16,
    "start_time": "2022-05-12T15:54:13.063Z"
   },
   {
    "duration": 161111,
    "start_time": "2022-05-12T15:54:13.081Z"
   },
   {
    "duration": 24541,
    "start_time": "2022-05-12T15:56:54.194Z"
   },
   {
    "duration": 485,
    "start_time": "2022-05-12T15:57:18.737Z"
   },
   {
    "duration": 0,
    "start_time": "2022-05-12T15:57:19.224Z"
   },
   {
    "duration": 0,
    "start_time": "2022-05-12T15:57:19.225Z"
   },
   {
    "duration": 0,
    "start_time": "2022-05-12T15:57:19.226Z"
   },
   {
    "duration": 0,
    "start_time": "2022-05-12T15:57:19.227Z"
   },
   {
    "duration": 0,
    "start_time": "2022-05-12T15:57:19.227Z"
   },
   {
    "duration": 0,
    "start_time": "2022-05-12T15:57:19.228Z"
   },
   {
    "duration": 6,
    "start_time": "2022-05-12T16:27:55.390Z"
   },
   {
    "duration": 43,
    "start_time": "2022-05-12T16:27:59.456Z"
   },
   {
    "duration": 4,
    "start_time": "2022-05-12T16:28:06.688Z"
   },
   {
    "duration": 4,
    "start_time": "2022-05-12T16:28:19.827Z"
   },
   {
    "duration": 21,
    "start_time": "2022-05-12T16:28:30.387Z"
   },
   {
    "duration": 11,
    "start_time": "2022-05-12T16:28:35.699Z"
   },
   {
    "duration": 12,
    "start_time": "2022-05-12T16:28:54.801Z"
   },
   {
    "duration": 4,
    "start_time": "2022-05-12T16:29:03.811Z"
   },
   {
    "duration": 4,
    "start_time": "2022-05-12T16:29:11.181Z"
   },
   {
    "duration": 4,
    "start_time": "2022-05-12T16:29:25.971Z"
   },
   {
    "duration": 12,
    "start_time": "2022-05-12T16:29:34.478Z"
   },
   {
    "duration": 8,
    "start_time": "2022-05-12T16:29:45.440Z"
   },
   {
    "duration": 4,
    "start_time": "2022-05-12T16:30:28.815Z"
   },
   {
    "duration": 32,
    "start_time": "2022-05-12T16:31:30.424Z"
   },
   {
    "duration": 145,
    "start_time": "2022-05-12T16:31:53.136Z"
   },
   {
    "duration": 994,
    "start_time": "2022-05-12T16:31:57.806Z"
   },
   {
    "duration": 221,
    "start_time": "2022-05-12T16:32:20.376Z"
   },
   {
    "duration": 5,
    "start_time": "2022-05-12T16:32:27.431Z"
   },
   {
    "duration": 6,
    "start_time": "2022-05-12T16:34:07.356Z"
   },
   {
    "duration": 5,
    "start_time": "2022-05-12T16:34:08.001Z"
   },
   {
    "duration": 23,
    "start_time": "2022-05-12T16:34:09.663Z"
   },
   {
    "duration": 763,
    "start_time": "2022-05-12T16:36:13.643Z"
   },
   {
    "duration": 6,
    "start_time": "2022-05-12T16:38:08.240Z"
   },
   {
    "duration": 40,
    "start_time": "2022-05-12T16:40:38.388Z"
   },
   {
    "duration": 3,
    "start_time": "2022-05-12T16:40:53.507Z"
   },
   {
    "duration": 5,
    "start_time": "2022-05-12T16:40:54.157Z"
   },
   {
    "duration": 144,
    "start_time": "2022-05-12T16:41:10.953Z"
   },
   {
    "duration": 5,
    "start_time": "2022-05-12T16:41:15.562Z"
   },
   {
    "duration": 154,
    "start_time": "2022-05-12T16:43:02.319Z"
   },
   {
    "duration": 19,
    "start_time": "2022-05-12T16:44:13.586Z"
   },
   {
    "duration": 9337,
    "start_time": "2022-05-12T16:45:39.782Z"
   },
   {
    "duration": 4252,
    "start_time": "2022-05-12T16:45:49.121Z"
   },
   {
    "duration": 18,
    "start_time": "2022-05-12T16:45:53.375Z"
   },
   {
    "duration": 4,
    "start_time": "2022-05-12T16:45:53.396Z"
   },
   {
    "duration": 11,
    "start_time": "2022-05-12T16:45:53.402Z"
   },
   {
    "duration": 9,
    "start_time": "2022-05-12T16:45:53.414Z"
   },
   {
    "duration": 759,
    "start_time": "2022-05-12T16:45:53.448Z"
   },
   {
    "duration": 3,
    "start_time": "2022-05-12T16:45:54.210Z"
   },
   {
    "duration": 18,
    "start_time": "2022-05-12T16:45:54.215Z"
   },
   {
    "duration": 36,
    "start_time": "2022-05-12T16:45:54.236Z"
   },
   {
    "duration": 162,
    "start_time": "2022-05-12T16:45:54.274Z"
   },
   {
    "duration": 0,
    "start_time": "2022-05-12T16:45:54.438Z"
   },
   {
    "duration": 0,
    "start_time": "2022-05-12T16:45:54.447Z"
   },
   {
    "duration": 0,
    "start_time": "2022-05-12T16:45:54.449Z"
   },
   {
    "duration": 0,
    "start_time": "2022-05-12T16:45:54.450Z"
   },
   {
    "duration": 0,
    "start_time": "2022-05-12T16:45:54.452Z"
   },
   {
    "duration": 0,
    "start_time": "2022-05-12T16:45:54.455Z"
   },
   {
    "duration": 0,
    "start_time": "2022-05-12T16:45:54.456Z"
   },
   {
    "duration": 0,
    "start_time": "2022-05-12T16:45:54.458Z"
   },
   {
    "duration": 0,
    "start_time": "2022-05-12T16:45:54.459Z"
   },
   {
    "duration": 1,
    "start_time": "2022-05-12T16:45:54.460Z"
   },
   {
    "duration": 169,
    "start_time": "2022-05-12T19:10:29.847Z"
   },
   {
    "duration": 12,
    "start_time": "2022-05-12T19:10:41.335Z"
   },
   {
    "duration": 22,
    "start_time": "2022-05-12T19:14:58.558Z"
   },
   {
    "duration": 5,
    "start_time": "2022-05-12T19:15:18.757Z"
   },
   {
    "duration": 18,
    "start_time": "2022-05-12T19:15:32.187Z"
   },
   {
    "duration": 16,
    "start_time": "2022-05-12T19:16:27.214Z"
   },
   {
    "duration": 5,
    "start_time": "2022-05-12T19:16:40.139Z"
   },
   {
    "duration": 5,
    "start_time": "2022-05-12T19:16:45.555Z"
   },
   {
    "duration": 15,
    "start_time": "2022-05-12T19:17:39.243Z"
   },
   {
    "duration": 12,
    "start_time": "2022-05-12T19:23:08.307Z"
   },
   {
    "duration": 1154,
    "start_time": "2022-05-12T19:28:56.674Z"
   },
   {
    "duration": 3,
    "start_time": "2022-05-12T19:30:16.919Z"
   },
   {
    "duration": 31,
    "start_time": "2022-05-12T19:31:53.295Z"
   },
   {
    "duration": 3,
    "start_time": "2022-05-12T19:31:57.240Z"
   },
   {
    "duration": 4,
    "start_time": "2022-05-12T19:31:57.880Z"
   },
   {
    "duration": 3,
    "start_time": "2022-05-12T19:33:33.768Z"
   },
   {
    "duration": 3769,
    "start_time": "2022-05-12T19:33:34.223Z"
   },
   {
    "duration": 10,
    "start_time": "2022-05-12T19:33:37.994Z"
   },
   {
    "duration": 5,
    "start_time": "2022-05-12T19:33:39.392Z"
   },
   {
    "duration": 6,
    "start_time": "2022-05-12T19:33:42.072Z"
   },
   {
    "duration": 6,
    "start_time": "2022-05-12T19:33:46.887Z"
   },
   {
    "duration": 3,
    "start_time": "2022-05-12T19:33:48.708Z"
   },
   {
    "duration": 3,
    "start_time": "2022-05-12T19:33:51.032Z"
   },
   {
    "duration": 44,
    "start_time": "2022-05-12T19:33:52.173Z"
   },
   {
    "duration": 9,
    "start_time": "2022-05-12T19:34:08.968Z"
   },
   {
    "duration": 21,
    "start_time": "2022-05-12T19:35:35.466Z"
   },
   {
    "duration": 7,
    "start_time": "2022-05-12T19:35:47.962Z"
   },
   {
    "duration": 3,
    "start_time": "2022-05-12T19:36:36.586Z"
   },
   {
    "duration": 6,
    "start_time": "2022-05-12T19:36:37.463Z"
   },
   {
    "duration": 1394,
    "start_time": "2022-05-12T19:36:39.460Z"
   },
   {
    "duration": 12,
    "start_time": "2022-05-12T19:39:43.908Z"
   },
   {
    "duration": 4,
    "start_time": "2022-05-12T19:42:44.000Z"
   },
   {
    "duration": 8,
    "start_time": "2022-05-12T19:42:49.166Z"
   },
   {
    "duration": 4,
    "start_time": "2022-05-12T19:42:58.298Z"
   },
   {
    "duration": 5,
    "start_time": "2022-05-12T19:43:09.910Z"
   },
   {
    "duration": 3,
    "start_time": "2022-05-12T19:43:15.749Z"
   },
   {
    "duration": 4,
    "start_time": "2022-05-12T19:43:16.312Z"
   },
   {
    "duration": 3,
    "start_time": "2022-05-12T19:43:17.420Z"
   },
   {
    "duration": 4,
    "start_time": "2022-05-12T19:43:17.787Z"
   },
   {
    "duration": 5,
    "start_time": "2022-05-12T19:43:35.362Z"
   },
   {
    "duration": 3,
    "start_time": "2022-05-12T19:43:40.419Z"
   },
   {
    "duration": 13,
    "start_time": "2022-05-12T19:43:58.856Z"
   },
   {
    "duration": 154,
    "start_time": "2022-05-12T19:44:32.906Z"
   },
   {
    "duration": 5,
    "start_time": "2022-05-12T19:44:37.575Z"
   },
   {
    "duration": 5,
    "start_time": "2022-05-12T19:47:40.016Z"
   },
   {
    "duration": 6,
    "start_time": "2022-05-12T19:47:49.518Z"
   },
   {
    "duration": 14,
    "start_time": "2022-05-12T19:49:47.060Z"
   },
   {
    "duration": 2277,
    "start_time": "2022-05-12T19:50:16.877Z"
   },
   {
    "duration": 13,
    "start_time": "2022-05-12T19:51:27.335Z"
   },
   {
    "duration": 4,
    "start_time": "2022-05-12T19:52:52.826Z"
   },
   {
    "duration": 4,
    "start_time": "2022-05-12T19:52:57.101Z"
   },
   {
    "duration": 6,
    "start_time": "2022-05-12T19:53:02.928Z"
   },
   {
    "duration": 5,
    "start_time": "2022-05-12T19:54:15.567Z"
   },
   {
    "duration": 4,
    "start_time": "2022-05-12T19:54:59.837Z"
   },
   {
    "duration": 6,
    "start_time": "2022-05-12T19:55:06.255Z"
   },
   {
    "duration": 663,
    "start_time": "2022-05-12T20:07:32.582Z"
   },
   {
    "duration": 3,
    "start_time": "2022-05-12T20:07:34.956Z"
   },
   {
    "duration": 573,
    "start_time": "2022-05-12T20:07:36.308Z"
   },
   {
    "duration": 673,
    "start_time": "2022-05-12T20:07:45.393Z"
   },
   {
    "duration": 3,
    "start_time": "2022-05-12T20:08:09.799Z"
   },
   {
    "duration": 606,
    "start_time": "2022-05-12T20:08:10.473Z"
   },
   {
    "duration": 3,
    "start_time": "2022-05-12T20:09:31.780Z"
   },
   {
    "duration": 642,
    "start_time": "2022-05-12T20:09:32.738Z"
   },
   {
    "duration": 3093,
    "start_time": "2022-05-12T20:10:00.401Z"
   },
   {
    "duration": 6,
    "start_time": "2022-05-12T20:10:18.644Z"
   },
   {
    "duration": 13,
    "start_time": "2022-05-12T20:10:29.849Z"
   },
   {
    "duration": 6,
    "start_time": "2022-05-12T20:10:34.584Z"
   },
   {
    "duration": 6,
    "start_time": "2022-05-12T20:10:52.437Z"
   },
   {
    "duration": 3,
    "start_time": "2022-05-12T20:10:59.449Z"
   },
   {
    "duration": 2391,
    "start_time": "2022-05-12T20:11:04.409Z"
   },
   {
    "duration": 4,
    "start_time": "2022-05-12T20:11:09.050Z"
   },
   {
    "duration": 5,
    "start_time": "2022-05-12T20:11:16.316Z"
   },
   {
    "duration": 4,
    "start_time": "2022-05-12T20:12:15.495Z"
   },
   {
    "duration": 574,
    "start_time": "2022-05-12T20:12:15.989Z"
   },
   {
    "duration": 3,
    "start_time": "2022-05-12T20:14:52.031Z"
   },
   {
    "duration": 577,
    "start_time": "2022-05-12T20:14:54.082Z"
   },
   {
    "duration": 4,
    "start_time": "2022-05-12T20:15:36.547Z"
   },
   {
    "duration": 3,
    "start_time": "2022-05-12T20:15:42.026Z"
   },
   {
    "duration": 154,
    "start_time": "2022-05-12T20:15:42.785Z"
   },
   {
    "duration": 6,
    "start_time": "2022-05-12T20:15:49.027Z"
   },
   {
    "duration": 4,
    "start_time": "2022-05-12T20:16:00.023Z"
   },
   {
    "duration": 161,
    "start_time": "2022-05-12T20:16:04.124Z"
   },
   {
    "duration": 6,
    "start_time": "2022-05-12T20:16:11.007Z"
   },
   {
    "duration": 3,
    "start_time": "2022-05-12T20:17:16.558Z"
   },
   {
    "duration": 3,
    "start_time": "2022-05-12T20:17:29.817Z"
   },
   {
    "duration": 168,
    "start_time": "2022-05-12T20:18:46.141Z"
   },
   {
    "duration": 4,
    "start_time": "2022-05-12T20:19:39.640Z"
   },
   {
    "duration": 156,
    "start_time": "2022-05-12T20:19:48.342Z"
   },
   {
    "duration": 157,
    "start_time": "2022-05-12T20:20:46.380Z"
   },
   {
    "duration": 3,
    "start_time": "2022-05-12T20:23:07.147Z"
   },
   {
    "duration": 12,
    "start_time": "2022-05-12T20:23:17.427Z"
   },
   {
    "duration": 3,
    "start_time": "2022-05-12T20:23:49.908Z"
   },
   {
    "duration": 27,
    "start_time": "2022-05-12T20:23:51.508Z"
   },
   {
    "duration": 4,
    "start_time": "2022-05-12T20:23:57.382Z"
   },
   {
    "duration": 156,
    "start_time": "2022-05-12T20:26:33.202Z"
   },
   {
    "duration": 4,
    "start_time": "2022-05-12T20:26:36.090Z"
   },
   {
    "duration": 10,
    "start_time": "2022-05-12T20:26:56.107Z"
   },
   {
    "duration": 3,
    "start_time": "2022-05-12T20:28:01.287Z"
   },
   {
    "duration": 33,
    "start_time": "2022-05-12T20:28:02.831Z"
   },
   {
    "duration": 10,
    "start_time": "2022-05-12T20:28:03.601Z"
   },
   {
    "duration": 8,
    "start_time": "2022-05-12T20:28:08.125Z"
   },
   {
    "duration": 12,
    "start_time": "2022-05-12T20:32:01.308Z"
   },
   {
    "duration": 4,
    "start_time": "2022-05-12T20:32:08.960Z"
   },
   {
    "duration": 4,
    "start_time": "2022-05-12T20:32:14.280Z"
   },
   {
    "duration": 6,
    "start_time": "2022-05-12T20:32:20.281Z"
   },
   {
    "duration": 17,
    "start_time": "2022-05-12T20:33:14.187Z"
   },
   {
    "duration": 126,
    "start_time": "2022-05-12T20:35:06.717Z"
   },
   {
    "duration": 3,
    "start_time": "2022-05-12T20:35:27.106Z"
   },
   {
    "duration": 6,
    "start_time": "2022-05-12T20:35:35.475Z"
   },
   {
    "duration": 16,
    "start_time": "2022-05-12T20:37:11.659Z"
   },
   {
    "duration": 24,
    "start_time": "2022-05-12T20:38:57.332Z"
   },
   {
    "duration": 21,
    "start_time": "2022-05-12T20:41:15.941Z"
   },
   {
    "duration": 3,
    "start_time": "2022-05-12T20:42:01.886Z"
   },
   {
    "duration": 3,
    "start_time": "2022-05-12T20:42:05.788Z"
   },
   {
    "duration": 3,
    "start_time": "2022-05-12T20:42:12.843Z"
   },
   {
    "duration": 3,
    "start_time": "2022-05-12T20:42:14.095Z"
   },
   {
    "duration": 16,
    "start_time": "2022-05-12T20:42:15.346Z"
   },
   {
    "duration": 4,
    "start_time": "2022-05-12T20:42:21.577Z"
   },
   {
    "duration": 17,
    "start_time": "2022-05-12T20:42:30.067Z"
   },
   {
    "duration": 17,
    "start_time": "2022-05-12T20:42:58.526Z"
   },
   {
    "duration": 4,
    "start_time": "2022-05-12T20:43:10.735Z"
   },
   {
    "duration": 7,
    "start_time": "2022-05-12T20:45:55.541Z"
   },
   {
    "duration": 166,
    "start_time": "2022-05-12T20:46:08.318Z"
   },
   {
    "duration": 3,
    "start_time": "2022-05-12T20:46:12.382Z"
   },
   {
    "duration": 3,
    "start_time": "2022-05-12T20:46:13.221Z"
   },
   {
    "duration": 15,
    "start_time": "2022-05-12T20:46:21.867Z"
   },
   {
    "duration": 2,
    "start_time": "2022-05-12T20:46:26.416Z"
   },
   {
    "duration": 4,
    "start_time": "2022-05-12T20:46:27.359Z"
   },
   {
    "duration": 17,
    "start_time": "2022-05-12T20:46:29.528Z"
   },
   {
    "duration": 5,
    "start_time": "2022-05-12T20:46:31.861Z"
   },
   {
    "duration": 5,
    "start_time": "2022-05-12T20:46:33.600Z"
   },
   {
    "duration": 12,
    "start_time": "2022-05-12T20:47:34.222Z"
   },
   {
    "duration": 796,
    "start_time": "2022-05-12T20:49:47.192Z"
   },
   {
    "duration": 854,
    "start_time": "2022-05-12T21:07:51.955Z"
   },
   {
    "duration": 10,
    "start_time": "2022-05-12T21:08:08.175Z"
   },
   {
    "duration": 21,
    "start_time": "2022-05-12T21:08:54.056Z"
   },
   {
    "duration": 14,
    "start_time": "2022-05-12T21:09:30.126Z"
   },
   {
    "duration": 793,
    "start_time": "2022-05-12T21:09:45.084Z"
   },
   {
    "duration": 14,
    "start_time": "2022-05-12T21:09:47.663Z"
   },
   {
    "duration": 21,
    "start_time": "2022-05-12T21:09:49.618Z"
   },
   {
    "duration": 57,
    "start_time": "2022-05-12T21:09:50.099Z"
   },
   {
    "duration": 8,
    "start_time": "2022-05-12T21:10:12.931Z"
   },
   {
    "duration": 7,
    "start_time": "2022-05-12T21:10:14.136Z"
   },
   {
    "duration": 784,
    "start_time": "2022-05-12T21:10:32.532Z"
   },
   {
    "duration": 5,
    "start_time": "2022-05-12T21:10:39.100Z"
   },
   {
    "duration": 27,
    "start_time": "2022-05-12T21:10:58.211Z"
   },
   {
    "duration": 12,
    "start_time": "2022-05-12T21:11:10.741Z"
   },
   {
    "duration": 8,
    "start_time": "2022-05-12T21:11:12.958Z"
   },
   {
    "duration": 8,
    "start_time": "2022-05-12T21:11:13.796Z"
   },
   {
    "duration": 8,
    "start_time": "2022-05-12T21:11:56.230Z"
   },
   {
    "duration": 4,
    "start_time": "2022-05-12T21:11:57.333Z"
   },
   {
    "duration": 3,
    "start_time": "2022-05-12T21:12:08.820Z"
   },
   {
    "duration": 5,
    "start_time": "2022-05-12T21:12:09.358Z"
   },
   {
    "duration": 4,
    "start_time": "2022-05-12T21:12:11.653Z"
   },
   {
    "duration": 26,
    "start_time": "2022-05-12T21:12:14.190Z"
   },
   {
    "duration": 3,
    "start_time": "2022-05-12T21:12:15.667Z"
   },
   {
    "duration": 3,
    "start_time": "2022-05-12T21:12:16.092Z"
   },
   {
    "duration": 163,
    "start_time": "2022-05-12T21:12:18.047Z"
   },
   {
    "duration": 4,
    "start_time": "2022-05-12T21:12:22.083Z"
   },
   {
    "duration": 226,
    "start_time": "2022-05-12T21:12:22.759Z"
   },
   {
    "duration": 3,
    "start_time": "2022-05-12T21:12:37.196Z"
   },
   {
    "duration": 16,
    "start_time": "2022-05-12T21:12:38.483Z"
   },
   {
    "duration": 5,
    "start_time": "2022-05-12T21:12:41.574Z"
   },
   {
    "duration": 16,
    "start_time": "2022-05-12T21:12:42.790Z"
   },
   {
    "duration": 740,
    "start_time": "2022-05-12T21:13:17.126Z"
   },
   {
    "duration": 4,
    "start_time": "2022-05-12T21:13:19.520Z"
   },
   {
    "duration": 614,
    "start_time": "2022-05-12T21:13:21.588Z"
   },
   {
    "duration": 3,
    "start_time": "2022-05-12T21:13:26.969Z"
   },
   {
    "duration": 3,
    "start_time": "2022-05-12T21:13:27.517Z"
   },
   {
    "duration": 2,
    "start_time": "2022-05-12T21:13:28.052Z"
   },
   {
    "duration": 2,
    "start_time": "2022-05-12T21:13:28.340Z"
   },
   {
    "duration": 45,
    "start_time": "2022-05-12T21:13:28.637Z"
   },
   {
    "duration": 3,
    "start_time": "2022-05-12T21:13:31.301Z"
   },
   {
    "duration": 4,
    "start_time": "2022-05-12T21:13:31.645Z"
   },
   {
    "duration": 45,
    "start_time": "2022-05-12T21:13:32.619Z"
   },
   {
    "duration": 14,
    "start_time": "2022-05-12T21:13:48.053Z"
   },
   {
    "duration": 6,
    "start_time": "2022-05-12T21:14:03.948Z"
   },
   {
    "duration": 2354,
    "start_time": "2022-05-12T21:14:30.478Z"
   },
   {
    "duration": 5,
    "start_time": "2022-05-12T21:14:39.646Z"
   },
   {
    "duration": 776,
    "start_time": "2022-05-12T21:17:02.201Z"
   },
   {
    "duration": 4,
    "start_time": "2022-05-12T21:17:04.420Z"
   },
   {
    "duration": 26,
    "start_time": "2022-05-12T21:17:07.800Z"
   },
   {
    "duration": 9,
    "start_time": "2022-05-12T21:17:11.311Z"
   },
   {
    "duration": 10,
    "start_time": "2022-05-12T21:17:35.496Z"
   },
   {
    "duration": 10,
    "start_time": "2022-05-12T21:18:26.824Z"
   },
   {
    "duration": 4,
    "start_time": "2022-05-12T21:18:27.409Z"
   },
   {
    "duration": 7,
    "start_time": "2022-05-12T21:20:11.957Z"
   },
   {
    "duration": 2382,
    "start_time": "2022-05-12T21:20:26.009Z"
   },
   {
    "duration": 2484,
    "start_time": "2022-05-12T21:20:34.568Z"
   },
   {
    "duration": 2616,
    "start_time": "2022-05-12T21:20:57.769Z"
   },
   {
    "duration": 2314,
    "start_time": "2022-05-12T21:21:04.495Z"
   },
   {
    "duration": 3258,
    "start_time": "2022-05-12T21:21:58.509Z"
   },
   {
    "duration": 855,
    "start_time": "2022-05-12T21:22:01.770Z"
   },
   {
    "duration": 8,
    "start_time": "2022-05-12T21:22:02.627Z"
   },
   {
    "duration": 57,
    "start_time": "2022-05-12T21:22:02.642Z"
   },
   {
    "duration": 30,
    "start_time": "2022-05-12T21:22:02.700Z"
   },
   {
    "duration": 29,
    "start_time": "2022-05-12T21:22:02.732Z"
   },
   {
    "duration": 35,
    "start_time": "2022-05-12T21:22:02.763Z"
   },
   {
    "duration": 16,
    "start_time": "2022-05-12T21:22:02.800Z"
   },
   {
    "duration": 15,
    "start_time": "2022-05-12T21:22:02.818Z"
   },
   {
    "duration": 27,
    "start_time": "2022-05-12T21:22:02.837Z"
   },
   {
    "duration": 14,
    "start_time": "2022-05-12T21:22:02.865Z"
   },
   {
    "duration": 414,
    "start_time": "2022-05-12T21:22:02.881Z"
   },
   {
    "duration": 4,
    "start_time": "2022-05-12T21:22:03.297Z"
   },
   {
    "duration": 14,
    "start_time": "2022-05-12T21:22:03.303Z"
   },
   {
    "duration": 3050,
    "start_time": "2022-05-12T21:22:03.319Z"
   },
   {
    "duration": 5,
    "start_time": "2022-05-12T21:22:06.370Z"
   },
   {
    "duration": 736,
    "start_time": "2022-05-12T21:22:06.376Z"
   },
   {
    "duration": 2,
    "start_time": "2022-05-12T21:22:07.114Z"
   },
   {
    "duration": 7,
    "start_time": "2022-05-12T21:22:07.118Z"
   },
   {
    "duration": 7,
    "start_time": "2022-05-12T21:22:07.127Z"
   },
   {
    "duration": 4,
    "start_time": "2022-05-12T21:22:07.136Z"
   },
   {
    "duration": 16,
    "start_time": "2022-05-12T21:22:07.142Z"
   },
   {
    "duration": 0,
    "start_time": "2022-05-12T21:22:07.160Z"
   },
   {
    "duration": 0,
    "start_time": "2022-05-12T21:22:07.161Z"
   },
   {
    "duration": 0,
    "start_time": "2022-05-12T21:22:07.162Z"
   },
   {
    "duration": 0,
    "start_time": "2022-05-12T21:22:07.163Z"
   },
   {
    "duration": 0,
    "start_time": "2022-05-12T21:22:07.164Z"
   },
   {
    "duration": 0,
    "start_time": "2022-05-12T21:22:07.165Z"
   },
   {
    "duration": 0,
    "start_time": "2022-05-12T21:22:07.167Z"
   },
   {
    "duration": 0,
    "start_time": "2022-05-12T21:22:07.168Z"
   },
   {
    "duration": 0,
    "start_time": "2022-05-12T21:22:07.169Z"
   },
   {
    "duration": 0,
    "start_time": "2022-05-12T21:22:07.170Z"
   },
   {
    "duration": 0,
    "start_time": "2022-05-12T21:22:07.171Z"
   },
   {
    "duration": 0,
    "start_time": "2022-05-12T21:22:07.172Z"
   },
   {
    "duration": 0,
    "start_time": "2022-05-12T21:22:07.174Z"
   },
   {
    "duration": 0,
    "start_time": "2022-05-12T21:22:07.176Z"
   },
   {
    "duration": 0,
    "start_time": "2022-05-12T21:22:07.178Z"
   },
   {
    "duration": 0,
    "start_time": "2022-05-12T21:22:07.178Z"
   },
   {
    "duration": 3,
    "start_time": "2022-05-12T21:23:45.601Z"
   },
   {
    "duration": 3095,
    "start_time": "2022-05-12T21:23:52.259Z"
   },
   {
    "duration": 851,
    "start_time": "2022-05-12T21:23:55.356Z"
   },
   {
    "duration": 8,
    "start_time": "2022-05-12T21:23:56.208Z"
   },
   {
    "duration": 36,
    "start_time": "2022-05-12T21:23:56.219Z"
   },
   {
    "duration": 12,
    "start_time": "2022-05-12T21:23:56.256Z"
   },
   {
    "duration": 13,
    "start_time": "2022-05-12T21:23:56.269Z"
   },
   {
    "duration": 19,
    "start_time": "2022-05-12T21:23:56.284Z"
   },
   {
    "duration": 7,
    "start_time": "2022-05-12T21:23:56.304Z"
   },
   {
    "duration": 6,
    "start_time": "2022-05-12T21:23:56.313Z"
   },
   {
    "duration": 22,
    "start_time": "2022-05-12T21:23:56.322Z"
   },
   {
    "duration": 17,
    "start_time": "2022-05-12T21:23:56.345Z"
   },
   {
    "duration": 376,
    "start_time": "2022-05-12T21:23:56.364Z"
   },
   {
    "duration": 2,
    "start_time": "2022-05-12T21:23:56.742Z"
   },
   {
    "duration": 5,
    "start_time": "2022-05-12T21:23:56.746Z"
   },
   {
    "duration": 1982,
    "start_time": "2022-05-12T21:23:56.753Z"
   },
   {
    "duration": 4,
    "start_time": "2022-05-12T21:23:58.743Z"
   },
   {
    "duration": 578,
    "start_time": "2022-05-12T21:23:58.749Z"
   },
   {
    "duration": 3,
    "start_time": "2022-05-12T21:23:59.329Z"
   },
   {
    "duration": 2,
    "start_time": "2022-05-12T21:23:59.343Z"
   },
   {
    "duration": 6,
    "start_time": "2022-05-12T21:23:59.347Z"
   },
   {
    "duration": 5,
    "start_time": "2022-05-12T21:23:59.355Z"
   },
   {
    "duration": 44,
    "start_time": "2022-05-12T21:23:59.362Z"
   },
   {
    "duration": 3,
    "start_time": "2022-05-12T21:23:59.408Z"
   },
   {
    "duration": 8,
    "start_time": "2022-05-12T21:23:59.412Z"
   },
   {
    "duration": 40,
    "start_time": "2022-05-12T21:23:59.442Z"
   },
   {
    "duration": 7,
    "start_time": "2022-05-12T21:23:59.484Z"
   },
   {
    "duration": 14,
    "start_time": "2022-05-12T21:23:59.493Z"
   },
   {
    "duration": 7,
    "start_time": "2022-05-12T21:23:59.510Z"
   },
   {
    "duration": 168,
    "start_time": "2022-05-12T21:23:59.519Z"
   },
   {
    "duration": 0,
    "start_time": "2022-05-12T21:23:59.688Z"
   },
   {
    "duration": 0,
    "start_time": "2022-05-12T21:23:59.690Z"
   },
   {
    "duration": 0,
    "start_time": "2022-05-12T21:23:59.691Z"
   },
   {
    "duration": 0,
    "start_time": "2022-05-12T21:23:59.692Z"
   },
   {
    "duration": 0,
    "start_time": "2022-05-12T21:23:59.694Z"
   },
   {
    "duration": 1,
    "start_time": "2022-05-12T21:23:59.694Z"
   },
   {
    "duration": 0,
    "start_time": "2022-05-12T21:23:59.696Z"
   },
   {
    "duration": 0,
    "start_time": "2022-05-12T21:23:59.697Z"
   },
   {
    "duration": 0,
    "start_time": "2022-05-12T21:23:59.698Z"
   },
   {
    "duration": 5,
    "start_time": "2022-05-12T21:24:19.280Z"
   },
   {
    "duration": 25,
    "start_time": "2022-05-12T21:27:46.141Z"
   },
   {
    "duration": 3,
    "start_time": "2022-05-12T21:28:12.286Z"
   },
   {
    "duration": 3,
    "start_time": "2022-05-12T21:29:22.960Z"
   },
   {
    "duration": 17,
    "start_time": "2022-05-12T21:29:23.631Z"
   },
   {
    "duration": 17,
    "start_time": "2022-05-12T21:30:23.636Z"
   },
   {
    "duration": 16,
    "start_time": "2022-05-12T21:35:04.371Z"
   },
   {
    "duration": 32,
    "start_time": "2022-05-12T21:36:31.939Z"
   },
   {
    "duration": 32,
    "start_time": "2022-05-12T21:36:44.006Z"
   },
   {
    "duration": 4,
    "start_time": "2022-05-12T21:39:25.161Z"
   },
   {
    "duration": 16,
    "start_time": "2022-05-12T21:40:23.517Z"
   },
   {
    "duration": 13,
    "start_time": "2022-05-12T21:44:02.196Z"
   },
   {
    "duration": 54,
    "start_time": "2022-05-12T21:44:07.653Z"
   },
   {
    "duration": 18,
    "start_time": "2022-05-12T21:44:42.834Z"
   },
   {
    "duration": 3,
    "start_time": "2022-05-12T21:45:02.400Z"
   },
   {
    "duration": 6,
    "start_time": "2022-05-12T21:45:03.237Z"
   },
   {
    "duration": 3,
    "start_time": "2022-05-12T21:45:17.269Z"
   },
   {
    "duration": 16,
    "start_time": "2022-05-12T21:45:17.932Z"
   },
   {
    "duration": 18,
    "start_time": "2022-05-12T21:45:26.057Z"
   },
   {
    "duration": 3,
    "start_time": "2022-05-12T21:49:16.243Z"
   },
   {
    "duration": 10,
    "start_time": "2022-05-12T21:49:16.974Z"
   },
   {
    "duration": 16,
    "start_time": "2022-05-12T21:49:17.854Z"
   },
   {
    "duration": 16,
    "start_time": "2022-05-12T21:49:28.456Z"
   },
   {
    "duration": 16,
    "start_time": "2022-05-12T21:56:32.371Z"
   },
   {
    "duration": 62,
    "start_time": "2022-05-12T22:00:04.630Z"
   },
   {
    "duration": 6,
    "start_time": "2022-05-12T22:00:11.917Z"
   },
   {
    "duration": 4,
    "start_time": "2022-05-12T22:00:19.264Z"
   },
   {
    "duration": 5,
    "start_time": "2022-05-12T22:00:32.942Z"
   },
   {
    "duration": 30,
    "start_time": "2022-05-12T22:01:50.664Z"
   },
   {
    "duration": 41,
    "start_time": "2022-05-12T22:02:14.386Z"
   },
   {
    "duration": 31,
    "start_time": "2022-05-12T22:02:29.112Z"
   },
   {
    "duration": 14,
    "start_time": "2022-05-12T22:03:10.643Z"
   },
   {
    "duration": 3,
    "start_time": "2022-05-12T22:03:18.375Z"
   },
   {
    "duration": 17,
    "start_time": "2022-05-12T22:03:20.096Z"
   },
   {
    "duration": 16,
    "start_time": "2022-05-12T22:03:29.650Z"
   },
   {
    "duration": 3,
    "start_time": "2022-05-12T22:03:53.496Z"
   },
   {
    "duration": 42,
    "start_time": "2022-05-12T22:03:55.570Z"
   },
   {
    "duration": 38,
    "start_time": "2022-05-12T22:03:56.873Z"
   },
   {
    "duration": 4,
    "start_time": "2022-05-12T22:04:54.377Z"
   },
   {
    "duration": 42,
    "start_time": "2022-05-12T22:04:56.856Z"
   },
   {
    "duration": 34,
    "start_time": "2022-05-12T22:04:57.777Z"
   },
   {
    "duration": 2,
    "start_time": "2022-05-12T22:08:42.404Z"
   },
   {
    "duration": 16,
    "start_time": "2022-05-12T22:08:46.469Z"
   },
   {
    "duration": 13,
    "start_time": "2022-05-12T22:08:55.490Z"
   },
   {
    "duration": 13,
    "start_time": "2022-05-12T22:09:31.060Z"
   },
   {
    "duration": 3241,
    "start_time": "2022-05-12T22:10:04.824Z"
   },
   {
    "duration": 909,
    "start_time": "2022-05-12T22:10:08.067Z"
   },
   {
    "duration": 8,
    "start_time": "2022-05-12T22:10:08.978Z"
   },
   {
    "duration": 27,
    "start_time": "2022-05-12T22:10:08.988Z"
   },
   {
    "duration": 35,
    "start_time": "2022-05-12T22:10:09.017Z"
   },
   {
    "duration": 10,
    "start_time": "2022-05-12T22:10:09.054Z"
   },
   {
    "duration": 22,
    "start_time": "2022-05-12T22:10:09.066Z"
   },
   {
    "duration": 9,
    "start_time": "2022-05-12T22:10:09.090Z"
   },
   {
    "duration": 6,
    "start_time": "2022-05-12T22:10:09.101Z"
   },
   {
    "duration": 6,
    "start_time": "2022-05-12T22:10:09.109Z"
   },
   {
    "duration": 6,
    "start_time": "2022-05-12T22:10:09.117Z"
   },
   {
    "duration": 406,
    "start_time": "2022-05-12T22:10:09.125Z"
   },
   {
    "duration": 3,
    "start_time": "2022-05-12T22:10:09.534Z"
   },
   {
    "duration": 8,
    "start_time": "2022-05-12T22:10:09.544Z"
   },
   {
    "duration": 1985,
    "start_time": "2022-05-12T22:10:09.553Z"
   },
   {
    "duration": 5,
    "start_time": "2022-05-12T22:10:11.544Z"
   },
   {
    "duration": 581,
    "start_time": "2022-05-12T22:10:11.551Z"
   },
   {
    "duration": 10,
    "start_time": "2022-05-12T22:10:12.133Z"
   },
   {
    "duration": 15,
    "start_time": "2022-05-12T22:10:12.145Z"
   },
   {
    "duration": 5,
    "start_time": "2022-05-12T22:10:12.162Z"
   },
   {
    "duration": 5,
    "start_time": "2022-05-12T22:10:12.168Z"
   },
   {
    "duration": 47,
    "start_time": "2022-05-12T22:10:12.174Z"
   },
   {
    "duration": 3,
    "start_time": "2022-05-12T22:10:12.223Z"
   },
   {
    "duration": 8,
    "start_time": "2022-05-12T22:10:12.227Z"
   },
   {
    "duration": 45,
    "start_time": "2022-05-12T22:10:12.246Z"
   },
   {
    "duration": 5,
    "start_time": "2022-05-12T22:10:12.293Z"
   },
   {
    "duration": 9,
    "start_time": "2022-05-12T22:10:12.300Z"
   },
   {
    "duration": 12,
    "start_time": "2022-05-12T22:10:12.311Z"
   },
   {
    "duration": 19,
    "start_time": "2022-05-12T22:10:12.325Z"
   },
   {
    "duration": 22,
    "start_time": "2022-05-12T22:10:12.349Z"
   },
   {
    "duration": 12,
    "start_time": "2022-05-12T22:10:12.373Z"
   },
   {
    "duration": 8,
    "start_time": "2022-05-12T22:10:12.387Z"
   },
   {
    "duration": 45,
    "start_time": "2022-05-12T22:10:12.397Z"
   },
   {
    "duration": 53,
    "start_time": "2022-05-12T22:10:12.447Z"
   },
   {
    "duration": 52,
    "start_time": "2022-05-12T22:10:12.502Z"
   },
   {
    "duration": 163,
    "start_time": "2022-05-12T22:10:12.557Z"
   },
   {
    "duration": 0,
    "start_time": "2022-05-12T22:10:12.722Z"
   },
   {
    "duration": 0,
    "start_time": "2022-05-12T22:10:12.723Z"
   },
   {
    "duration": 0,
    "start_time": "2022-05-12T22:10:12.724Z"
   },
   {
    "duration": 0,
    "start_time": "2022-05-12T22:10:12.726Z"
   },
   {
    "duration": 0,
    "start_time": "2022-05-12T22:10:12.743Z"
   },
   {
    "duration": 0,
    "start_time": "2022-05-12T22:10:12.744Z"
   },
   {
    "duration": 0,
    "start_time": "2022-05-12T22:10:12.746Z"
   },
   {
    "duration": 1,
    "start_time": "2022-05-12T22:10:12.746Z"
   },
   {
    "duration": 0,
    "start_time": "2022-05-12T22:10:12.748Z"
   },
   {
    "duration": 0,
    "start_time": "2022-05-12T22:10:12.749Z"
   },
   {
    "duration": 0,
    "start_time": "2022-05-12T22:10:12.751Z"
   },
   {
    "duration": 3,
    "start_time": "2022-05-12T22:13:37.163Z"
   },
   {
    "duration": 4,
    "start_time": "2022-05-12T22:13:42.691Z"
   },
   {
    "duration": 12,
    "start_time": "2022-05-12T22:14:51.363Z"
   },
   {
    "duration": 17,
    "start_time": "2022-05-12T22:15:12.516Z"
   },
   {
    "duration": 4,
    "start_time": "2022-05-12T22:16:30.259Z"
   },
   {
    "duration": 153,
    "start_time": "2022-05-12T22:16:55.964Z"
   },
   {
    "duration": 17,
    "start_time": "2022-05-12T22:17:14.141Z"
   },
   {
    "duration": 41,
    "start_time": "2022-05-12T22:17:29.308Z"
   },
   {
    "duration": 59,
    "start_time": "2022-05-12T22:17:36.644Z"
   },
   {
    "duration": 5,
    "start_time": "2022-05-12T22:20:44.256Z"
   },
   {
    "duration": 5,
    "start_time": "2022-05-12T22:21:04.129Z"
   },
   {
    "duration": 12,
    "start_time": "2022-05-12T22:23:33.958Z"
   },
   {
    "duration": 173,
    "start_time": "2022-05-12T22:23:56.503Z"
   },
   {
    "duration": 3,
    "start_time": "2022-05-12T22:24:09.121Z"
   },
   {
    "duration": 3,
    "start_time": "2022-05-12T22:24:10.664Z"
   },
   {
    "duration": 18,
    "start_time": "2022-05-12T22:24:55.822Z"
   },
   {
    "duration": 3,
    "start_time": "2022-05-12T22:24:59.309Z"
   },
   {
    "duration": 1853,
    "start_time": "2022-05-12T22:24:59.893Z"
   },
   {
    "duration": 16,
    "start_time": "2022-05-12T22:27:18.020Z"
   },
   {
    "duration": 7,
    "start_time": "2022-05-12T22:27:33.880Z"
   },
   {
    "duration": 7,
    "start_time": "2022-05-12T22:27:49.814Z"
   },
   {
    "duration": 3154,
    "start_time": "2022-05-13T10:13:21.151Z"
   },
   {
    "duration": 909,
    "start_time": "2022-05-13T10:13:24.308Z"
   },
   {
    "duration": 9,
    "start_time": "2022-05-13T10:13:25.220Z"
   },
   {
    "duration": 41,
    "start_time": "2022-05-13T10:13:25.231Z"
   },
   {
    "duration": 15,
    "start_time": "2022-05-13T10:13:25.275Z"
   },
   {
    "duration": 24,
    "start_time": "2022-05-13T10:13:25.292Z"
   },
   {
    "duration": 15,
    "start_time": "2022-05-13T10:13:25.318Z"
   },
   {
    "duration": 8,
    "start_time": "2022-05-13T10:13:25.334Z"
   },
   {
    "duration": 4,
    "start_time": "2022-05-13T10:13:25.344Z"
   },
   {
    "duration": 4,
    "start_time": "2022-05-13T10:13:25.352Z"
   },
   {
    "duration": 3,
    "start_time": "2022-05-13T10:13:25.368Z"
   },
   {
    "duration": 731,
    "start_time": "2022-05-13T10:13:25.372Z"
   },
   {
    "duration": 2,
    "start_time": "2022-05-13T10:13:26.106Z"
   },
   {
    "duration": 9,
    "start_time": "2022-05-13T10:13:26.111Z"
   },
   {
    "duration": 2320,
    "start_time": "2022-05-13T10:13:26.122Z"
   },
   {
    "duration": 3,
    "start_time": "2022-05-13T10:13:28.444Z"
   },
   {
    "duration": 780,
    "start_time": "2022-05-13T10:13:28.449Z"
   },
   {
    "duration": 2,
    "start_time": "2022-05-13T10:13:29.231Z"
   },
   {
    "duration": 10,
    "start_time": "2022-05-13T10:13:29.235Z"
   },
   {
    "duration": 5,
    "start_time": "2022-05-13T10:13:29.247Z"
   },
   {
    "duration": 14,
    "start_time": "2022-05-13T10:13:29.253Z"
   },
   {
    "duration": 69,
    "start_time": "2022-05-13T10:13:29.269Z"
   },
   {
    "duration": 3,
    "start_time": "2022-05-13T10:13:29.340Z"
   },
   {
    "duration": 14,
    "start_time": "2022-05-13T10:13:29.345Z"
   },
   {
    "duration": 87,
    "start_time": "2022-05-13T10:13:29.361Z"
   },
   {
    "duration": 6,
    "start_time": "2022-05-13T10:13:29.450Z"
   },
   {
    "duration": 9,
    "start_time": "2022-05-13T10:13:29.458Z"
   },
   {
    "duration": 28,
    "start_time": "2022-05-13T10:13:29.473Z"
   },
   {
    "duration": 10,
    "start_time": "2022-05-13T10:13:29.503Z"
   },
   {
    "duration": 9,
    "start_time": "2022-05-13T10:13:29.515Z"
   },
   {
    "duration": 7,
    "start_time": "2022-05-13T10:13:29.526Z"
   },
   {
    "duration": 7,
    "start_time": "2022-05-13T10:13:29.535Z"
   },
   {
    "duration": 74,
    "start_time": "2022-05-13T10:13:29.544Z"
   },
   {
    "duration": 48,
    "start_time": "2022-05-13T10:13:29.620Z"
   },
   {
    "duration": 33,
    "start_time": "2022-05-13T10:13:29.670Z"
   },
   {
    "duration": 169,
    "start_time": "2022-05-13T10:13:29.706Z"
   },
   {
    "duration": 6,
    "start_time": "2022-05-13T10:13:29.879Z"
   },
   {
    "duration": 222579,
    "start_time": "2022-05-13T10:13:29.887Z"
   },
   {
    "duration": 28,
    "start_time": "2022-05-13T10:17:12.468Z"
   },
   {
    "duration": 25,
    "start_time": "2022-05-13T10:17:12.498Z"
   },
   {
    "duration": 240,
    "start_time": "2022-05-13T10:17:12.525Z"
   },
   {
    "duration": 0,
    "start_time": "2022-05-13T10:17:12.767Z"
   },
   {
    "duration": 0,
    "start_time": "2022-05-13T10:17:12.769Z"
   },
   {
    "duration": 0,
    "start_time": "2022-05-13T10:17:12.770Z"
   },
   {
    "duration": 0,
    "start_time": "2022-05-13T10:17:12.771Z"
   },
   {
    "duration": 0,
    "start_time": "2022-05-13T10:17:12.772Z"
   },
   {
    "duration": 0,
    "start_time": "2022-05-13T10:17:12.773Z"
   },
   {
    "duration": 0,
    "start_time": "2022-05-13T10:17:12.774Z"
   },
   {
    "duration": 0,
    "start_time": "2022-05-13T10:17:12.775Z"
   },
   {
    "duration": 0,
    "start_time": "2022-05-13T10:17:12.776Z"
   },
   {
    "duration": 0,
    "start_time": "2022-05-13T10:17:12.777Z"
   },
   {
    "duration": 342,
    "start_time": "2022-05-13T10:37:13.468Z"
   },
   {
    "duration": 39,
    "start_time": "2022-05-13T10:41:08.189Z"
   },
   {
    "duration": 863,
    "start_time": "2022-05-13T11:40:12.258Z"
   },
   {
    "duration": 208,
    "start_time": "2022-05-13T11:40:13.395Z"
   },
   {
    "duration": 195,
    "start_time": "2022-05-13T11:40:16.612Z"
   },
   {
    "duration": 4,
    "start_time": "2022-05-13T11:43:11.090Z"
   },
   {
    "duration": 5,
    "start_time": "2022-05-13T11:43:49.110Z"
   },
   {
    "duration": 84,
    "start_time": "2022-05-13T11:44:07.786Z"
   },
   {
    "duration": 103,
    "start_time": "2022-05-13T11:44:56.030Z"
   },
   {
    "duration": 13,
    "start_time": "2022-05-13T11:46:05.336Z"
   },
   {
    "duration": 15,
    "start_time": "2022-05-13T11:46:10.167Z"
   },
   {
    "duration": 10,
    "start_time": "2022-05-13T11:46:49.472Z"
   },
   {
    "duration": 5,
    "start_time": "2022-05-13T11:46:50.488Z"
   },
   {
    "duration": 3,
    "start_time": "2022-05-13T11:46:54.783Z"
   },
   {
    "duration": 45,
    "start_time": "2022-05-13T11:46:55.670Z"
   },
   {
    "duration": 2783,
    "start_time": "2022-05-13T11:47:15.375Z"
   },
   {
    "duration": 782,
    "start_time": "2022-05-13T11:47:18.161Z"
   },
   {
    "duration": 6,
    "start_time": "2022-05-13T11:47:18.945Z"
   },
   {
    "duration": 25,
    "start_time": "2022-05-13T11:47:18.961Z"
   },
   {
    "duration": 10,
    "start_time": "2022-05-13T11:47:18.987Z"
   },
   {
    "duration": 8,
    "start_time": "2022-05-13T11:47:18.998Z"
   },
   {
    "duration": 16,
    "start_time": "2022-05-13T11:47:19.007Z"
   },
   {
    "duration": 6,
    "start_time": "2022-05-13T11:47:19.025Z"
   },
   {
    "duration": 8,
    "start_time": "2022-05-13T11:47:19.032Z"
   },
   {
    "duration": 7,
    "start_time": "2022-05-13T11:47:19.063Z"
   },
   {
    "duration": 9,
    "start_time": "2022-05-13T11:47:19.072Z"
   },
   {
    "duration": 432,
    "start_time": "2022-05-13T11:47:19.083Z"
   },
   {
    "duration": 2,
    "start_time": "2022-05-13T11:47:19.517Z"
   },
   {
    "duration": 5,
    "start_time": "2022-05-13T11:47:19.521Z"
   },
   {
    "duration": 1755,
    "start_time": "2022-05-13T11:47:19.528Z"
   },
   {
    "duration": 3,
    "start_time": "2022-05-13T11:47:21.285Z"
   },
   {
    "duration": 616,
    "start_time": "2022-05-13T11:47:21.289Z"
   },
   {
    "duration": 124,
    "start_time": "2022-05-13T11:47:21.907Z"
   },
   {
    "duration": 156,
    "start_time": "2022-05-13T11:47:22.033Z"
   },
   {
    "duration": 3,
    "start_time": "2022-05-13T11:47:22.190Z"
   },
   {
    "duration": 7,
    "start_time": "2022-05-13T11:47:22.195Z"
   },
   {
    "duration": 5,
    "start_time": "2022-05-13T11:47:22.204Z"
   },
   {
    "duration": 10,
    "start_time": "2022-05-13T11:47:22.210Z"
   },
   {
    "duration": 52,
    "start_time": "2022-05-13T11:47:22.221Z"
   },
   {
    "duration": 7,
    "start_time": "2022-05-13T11:47:22.275Z"
   },
   {
    "duration": 10,
    "start_time": "2022-05-13T11:47:22.283Z"
   },
   {
    "duration": 44,
    "start_time": "2022-05-13T11:47:22.294Z"
   },
   {
    "duration": 5,
    "start_time": "2022-05-13T11:47:22.342Z"
   },
   {
    "duration": 14,
    "start_time": "2022-05-13T11:47:22.349Z"
   },
   {
    "duration": 18,
    "start_time": "2022-05-13T11:47:22.365Z"
   },
   {
    "duration": 7,
    "start_time": "2022-05-13T11:47:22.385Z"
   },
   {
    "duration": 101,
    "start_time": "2022-05-13T11:47:22.394Z"
   },
   {
    "duration": 29,
    "start_time": "2022-05-13T11:47:22.497Z"
   },
   {
    "duration": 158,
    "start_time": "2022-05-13T11:47:22.527Z"
   },
   {
    "duration": 3,
    "start_time": "2022-05-13T11:47:22.687Z"
   },
   {
    "duration": 163402,
    "start_time": "2022-05-13T11:47:22.692Z"
   },
   {
    "duration": 236,
    "start_time": "2022-05-13T11:50:06.095Z"
   },
   {
    "duration": 0,
    "start_time": "2022-05-13T11:50:06.334Z"
   },
   {
    "duration": 0,
    "start_time": "2022-05-13T11:50:06.335Z"
   },
   {
    "duration": 0,
    "start_time": "2022-05-13T11:50:06.336Z"
   },
   {
    "duration": 0,
    "start_time": "2022-05-13T11:50:06.337Z"
   },
   {
    "duration": 0,
    "start_time": "2022-05-13T11:50:06.338Z"
   },
   {
    "duration": 0,
    "start_time": "2022-05-13T11:50:06.339Z"
   },
   {
    "duration": 0,
    "start_time": "2022-05-13T11:50:06.340Z"
   },
   {
    "duration": 0,
    "start_time": "2022-05-13T11:50:06.341Z"
   },
   {
    "duration": 0,
    "start_time": "2022-05-13T11:50:06.342Z"
   },
   {
    "duration": 0,
    "start_time": "2022-05-13T11:50:06.343Z"
   },
   {
    "duration": 0,
    "start_time": "2022-05-13T11:50:06.344Z"
   },
   {
    "duration": 1,
    "start_time": "2022-05-13T11:50:06.361Z"
   },
   {
    "duration": 0,
    "start_time": "2022-05-13T11:50:06.364Z"
   },
   {
    "duration": 0,
    "start_time": "2022-05-13T11:50:06.368Z"
   },
   {
    "duration": 0,
    "start_time": "2022-05-13T11:50:06.369Z"
   },
   {
    "duration": 0,
    "start_time": "2022-05-13T11:50:06.370Z"
   },
   {
    "duration": 0,
    "start_time": "2022-05-13T11:50:06.371Z"
   },
   {
    "duration": 16,
    "start_time": "2022-05-13T11:53:23.478Z"
   },
   {
    "duration": 13,
    "start_time": "2022-05-13T11:53:24.403Z"
   },
   {
    "duration": 6,
    "start_time": "2022-05-13T11:53:38.673Z"
   },
   {
    "duration": 10,
    "start_time": "2022-05-13T11:53:41.012Z"
   },
   {
    "duration": 14,
    "start_time": "2022-05-13T11:54:04.057Z"
   },
   {
    "duration": 306,
    "start_time": "2022-05-13T11:54:08.678Z"
   },
   {
    "duration": 28,
    "start_time": "2022-05-13T11:54:29.089Z"
   },
   {
    "duration": 5,
    "start_time": "2022-05-13T11:54:30.679Z"
   },
   {
    "duration": 4,
    "start_time": "2022-05-13T11:54:32.880Z"
   },
   {
    "duration": 3,
    "start_time": "2022-05-13T11:54:33.355Z"
   },
   {
    "duration": 47,
    "start_time": "2022-05-13T11:54:33.744Z"
   },
   {
    "duration": 4,
    "start_time": "2022-05-13T11:55:18.912Z"
   },
   {
    "duration": 5,
    "start_time": "2022-05-13T11:55:25.161Z"
   },
   {
    "duration": 4,
    "start_time": "2022-05-13T11:56:10.410Z"
   },
   {
    "duration": 5,
    "start_time": "2022-05-13T12:05:39.095Z"
   },
   {
    "duration": 5,
    "start_time": "2022-05-13T12:10:17.644Z"
   },
   {
    "duration": 1164,
    "start_time": "2022-05-13T12:10:18.182Z"
   },
   {
    "duration": 4,
    "start_time": "2022-05-13T12:10:19.349Z"
   },
   {
    "duration": 26,
    "start_time": "2022-05-13T12:10:19.363Z"
   },
   {
    "duration": 12,
    "start_time": "2022-05-13T12:10:19.864Z"
   },
   {
    "duration": 20,
    "start_time": "2022-05-13T12:10:20.684Z"
   },
   {
    "duration": 5,
    "start_time": "2022-05-13T12:10:21.479Z"
   },
   {
    "duration": 4,
    "start_time": "2022-05-13T12:10:21.698Z"
   },
   {
    "duration": 4,
    "start_time": "2022-05-13T12:10:22.325Z"
   },
   {
    "duration": 4,
    "start_time": "2022-05-13T12:10:22.817Z"
   },
   {
    "duration": 6,
    "start_time": "2022-05-13T12:10:25.022Z"
   },
   {
    "duration": 3,
    "start_time": "2022-05-13T12:10:28.379Z"
   },
   {
    "duration": 4,
    "start_time": "2022-05-13T12:10:28.925Z"
   },
   {
    "duration": 1260,
    "start_time": "2022-05-13T12:10:29.814Z"
   },
   {
    "duration": 5,
    "start_time": "2022-05-13T12:10:32.269Z"
   },
   {
    "duration": 1331,
    "start_time": "2022-05-13T12:10:32.839Z"
   },
   {
    "duration": 3,
    "start_time": "2022-05-13T12:12:41.030Z"
   },
   {
    "duration": 6,
    "start_time": "2022-05-13T12:12:41.883Z"
   },
   {
    "duration": 5,
    "start_time": "2022-05-13T12:13:16.504Z"
   },
   {
    "duration": 138,
    "start_time": "2022-05-13T12:14:20.112Z"
   },
   {
    "duration": 4,
    "start_time": "2022-05-13T12:14:38.055Z"
   },
   {
    "duration": 4,
    "start_time": "2022-05-13T12:14:47.630Z"
   },
   {
    "duration": 3,
    "start_time": "2022-05-13T12:14:48.115Z"
   },
   {
    "duration": 4,
    "start_time": "2022-05-13T12:14:48.911Z"
   },
   {
    "duration": 6,
    "start_time": "2022-05-13T12:14:51.560Z"
   },
   {
    "duration": 5,
    "start_time": "2022-05-13T12:14:52.516Z"
   },
   {
    "duration": 4,
    "start_time": "2022-05-13T12:14:57.321Z"
   },
   {
    "duration": 38,
    "start_time": "2022-05-13T12:14:58.904Z"
   },
   {
    "duration": 52,
    "start_time": "2022-05-13T12:16:41.665Z"
   },
   {
    "duration": 6,
    "start_time": "2022-05-13T12:19:54.659Z"
   },
   {
    "duration": 61,
    "start_time": "2022-05-13T12:37:37.169Z"
   },
   {
    "duration": 5,
    "start_time": "2022-05-13T12:37:45.545Z"
   },
   {
    "duration": 3,
    "start_time": "2022-05-13T12:37:58.944Z"
   },
   {
    "duration": 40,
    "start_time": "2022-05-13T12:38:05.490Z"
   },
   {
    "duration": 60,
    "start_time": "2022-05-13T12:38:10.727Z"
   },
   {
    "duration": 13,
    "start_time": "2022-05-13T12:38:39.825Z"
   },
   {
    "duration": 9,
    "start_time": "2022-05-13T12:38:45.775Z"
   },
   {
    "duration": 38,
    "start_time": "2022-05-13T12:40:40.698Z"
   },
   {
    "duration": 48,
    "start_time": "2022-05-13T12:40:46.441Z"
   },
   {
    "duration": 54,
    "start_time": "2022-05-13T12:40:53.829Z"
   },
   {
    "duration": 3,
    "start_time": "2022-05-13T12:44:19.491Z"
   },
   {
    "duration": 69,
    "start_time": "2022-05-13T12:45:45.560Z"
   },
   {
    "duration": 347,
    "start_time": "2022-05-13T12:46:19.312Z"
   },
   {
    "duration": 3,
    "start_time": "2022-05-13T12:46:20.866Z"
   },
   {
    "duration": 188,
    "start_time": "2022-05-13T12:46:21.378Z"
   },
   {
    "duration": 33,
    "start_time": "2022-05-13T12:46:37.337Z"
   },
   {
    "duration": 5,
    "start_time": "2022-05-13T12:46:37.922Z"
   },
   {
    "duration": 593,
    "start_time": "2022-05-13T12:46:38.333Z"
   },
   {
    "duration": 576,
    "start_time": "2022-05-13T12:49:01.949Z"
   },
   {
    "duration": 4,
    "start_time": "2022-05-13T12:50:10.619Z"
   },
   {
    "duration": 12,
    "start_time": "2022-05-13T12:50:32.746Z"
   },
   {
    "duration": 3,
    "start_time": "2022-05-13T12:50:58.225Z"
   },
   {
    "duration": 31,
    "start_time": "2022-05-13T12:51:13.589Z"
   },
   {
    "duration": 4,
    "start_time": "2022-05-13T12:52:02.538Z"
   },
   {
    "duration": 72,
    "start_time": "2022-05-13T12:52:19.802Z"
   },
   {
    "duration": 4,
    "start_time": "2022-05-13T12:52:26.715Z"
   },
   {
    "duration": 1839,
    "start_time": "2022-05-13T12:53:40.985Z"
   },
   {
    "duration": 4261,
    "start_time": "2022-05-13T12:54:18.697Z"
   },
   {
    "duration": 14343,
    "start_time": "2022-05-13T12:54:34.596Z"
   },
   {
    "duration": 14962,
    "start_time": "2022-05-13T12:56:02.755Z"
   },
   {
    "duration": 7,
    "start_time": "2022-05-13T12:59:30.238Z"
   },
   {
    "duration": 5,
    "start_time": "2022-05-13T12:59:32.497Z"
   },
   {
    "duration": 5,
    "start_time": "2022-05-13T12:59:35.607Z"
   },
   {
    "duration": 7,
    "start_time": "2022-05-13T12:59:36.260Z"
   },
   {
    "duration": 3,
    "start_time": "2022-05-13T12:59:40.549Z"
   },
   {
    "duration": 3,
    "start_time": "2022-05-13T12:59:46.198Z"
   },
   {
    "duration": 2,
    "start_time": "2022-05-13T12:59:46.606Z"
   },
   {
    "duration": 207685,
    "start_time": "2022-05-13T12:59:47.039Z"
   },
   {
    "duration": 3,
    "start_time": "2022-05-13T13:03:44.177Z"
   },
   {
    "duration": 193379,
    "start_time": "2022-05-13T13:03:45.420Z"
   },
   {
    "duration": 72,
    "start_time": "2022-05-13T13:06:58.802Z"
   },
   {
    "duration": 8,
    "start_time": "2022-05-13T13:06:58.876Z"
   },
   {
    "duration": 29,
    "start_time": "2022-05-13T13:10:53.804Z"
   },
   {
    "duration": 21,
    "start_time": "2022-05-13T13:11:01.953Z"
   },
   {
    "duration": 5,
    "start_time": "2022-05-13T13:11:08.348Z"
   },
   {
    "duration": 4,
    "start_time": "2022-05-13T13:11:10.243Z"
   },
   {
    "duration": 6,
    "start_time": "2022-05-13T13:11:11.273Z"
   },
   {
    "duration": 5,
    "start_time": "2022-05-13T13:11:13.495Z"
   },
   {
    "duration": 15169,
    "start_time": "2022-05-13T13:11:13.977Z"
   },
   {
    "duration": 5,
    "start_time": "2022-05-13T13:14:58.604Z"
   },
   {
    "duration": 5026,
    "start_time": "2022-05-13T13:14:58.900Z"
   },
   {
    "duration": 5,
    "start_time": "2022-05-13T13:15:03.929Z"
   },
   {
    "duration": 8,
    "start_time": "2022-05-13T13:15:03.936Z"
   },
   {
    "duration": 15,
    "start_time": "2022-05-13T13:15:06.045Z"
   },
   {
    "duration": 2496,
    "start_time": "2022-05-13T13:15:09.204Z"
   },
   {
    "duration": 32,
    "start_time": "2022-05-13T13:15:11.702Z"
   },
   {
    "duration": 62,
    "start_time": "2022-05-13T13:15:11.736Z"
   },
   {
    "duration": 79,
    "start_time": "2022-05-13T13:15:11.801Z"
   },
   {
    "duration": 29,
    "start_time": "2022-05-13T13:15:11.882Z"
   },
   {
    "duration": 254,
    "start_time": "2022-05-13T13:15:12.025Z"
   },
   {
    "duration": 3,
    "start_time": "2022-05-13T13:15:16.498Z"
   },
   {
    "duration": 3,
    "start_time": "2022-05-13T13:15:16.816Z"
   },
   {
    "duration": 3466,
    "start_time": "2022-05-13T13:33:15.121Z"
   },
   {
    "duration": 5445,
    "start_time": "2022-05-13T13:33:18.594Z"
   },
   {
    "duration": 9,
    "start_time": "2022-05-13T13:33:24.041Z"
   },
   {
    "duration": 75,
    "start_time": "2022-05-13T13:33:24.052Z"
   },
   {
    "duration": 18,
    "start_time": "2022-05-13T13:33:24.129Z"
   },
   {
    "duration": 86,
    "start_time": "2022-05-13T13:33:24.149Z"
   },
   {
    "duration": 24,
    "start_time": "2022-05-13T13:33:24.237Z"
   },
   {
    "duration": 55,
    "start_time": "2022-05-13T13:33:24.267Z"
   },
   {
    "duration": 19,
    "start_time": "2022-05-13T13:33:24.324Z"
   },
   {
    "duration": 20,
    "start_time": "2022-05-13T13:33:24.346Z"
   },
   {
    "duration": 1762,
    "start_time": "2022-05-13T13:33:24.369Z"
   },
   {
    "duration": 3,
    "start_time": "2022-05-13T13:33:26.134Z"
   },
   {
    "duration": 17,
    "start_time": "2022-05-13T13:33:26.139Z"
   },
   {
    "duration": 7495,
    "start_time": "2022-05-13T13:33:26.158Z"
   },
   {
    "duration": 14,
    "start_time": "2022-05-13T13:33:33.655Z"
   },
   {
    "duration": 6782,
    "start_time": "2022-05-13T13:33:33.673Z"
   },
   {
    "duration": 17,
    "start_time": "2022-05-13T13:33:40.457Z"
   },
   {
    "duration": 250,
    "start_time": "2022-05-13T13:33:40.476Z"
   },
   {
    "duration": 0,
    "start_time": "2022-05-13T13:33:40.732Z"
   },
   {
    "duration": 0,
    "start_time": "2022-05-13T13:33:40.734Z"
   },
   {
    "duration": 0,
    "start_time": "2022-05-13T13:33:40.738Z"
   },
   {
    "duration": 0,
    "start_time": "2022-05-13T13:33:40.740Z"
   },
   {
    "duration": 0,
    "start_time": "2022-05-13T13:33:40.741Z"
   },
   {
    "duration": 0,
    "start_time": "2022-05-13T13:33:40.742Z"
   },
   {
    "duration": 0,
    "start_time": "2022-05-13T13:33:40.750Z"
   },
   {
    "duration": 0,
    "start_time": "2022-05-13T13:33:40.751Z"
   },
   {
    "duration": 0,
    "start_time": "2022-05-13T13:33:40.752Z"
   },
   {
    "duration": 0,
    "start_time": "2022-05-13T13:33:40.754Z"
   },
   {
    "duration": 0,
    "start_time": "2022-05-13T13:33:40.756Z"
   },
   {
    "duration": 0,
    "start_time": "2022-05-13T13:33:40.757Z"
   },
   {
    "duration": 0,
    "start_time": "2022-05-13T13:33:40.761Z"
   },
   {
    "duration": 0,
    "start_time": "2022-05-13T13:33:40.762Z"
   },
   {
    "duration": 0,
    "start_time": "2022-05-13T13:33:40.763Z"
   },
   {
    "duration": 0,
    "start_time": "2022-05-13T13:33:40.764Z"
   },
   {
    "duration": 0,
    "start_time": "2022-05-13T13:33:40.781Z"
   },
   {
    "duration": 0,
    "start_time": "2022-05-13T13:33:40.783Z"
   },
   {
    "duration": 0,
    "start_time": "2022-05-13T13:33:40.784Z"
   },
   {
    "duration": 0,
    "start_time": "2022-05-13T13:33:40.785Z"
   },
   {
    "duration": 0,
    "start_time": "2022-05-13T13:33:40.786Z"
   },
   {
    "duration": 0,
    "start_time": "2022-05-13T13:33:40.788Z"
   },
   {
    "duration": 0,
    "start_time": "2022-05-13T13:33:40.789Z"
   },
   {
    "duration": 0,
    "start_time": "2022-05-13T13:33:40.790Z"
   },
   {
    "duration": 0,
    "start_time": "2022-05-13T13:33:40.791Z"
   },
   {
    "duration": 0,
    "start_time": "2022-05-13T13:33:40.792Z"
   },
   {
    "duration": 1,
    "start_time": "2022-05-13T13:33:40.793Z"
   },
   {
    "duration": 0,
    "start_time": "2022-05-13T13:33:40.795Z"
   },
   {
    "duration": 0,
    "start_time": "2022-05-13T13:33:40.796Z"
   },
   {
    "duration": 0,
    "start_time": "2022-05-13T13:33:40.797Z"
   },
   {
    "duration": 0,
    "start_time": "2022-05-13T13:33:40.798Z"
   },
   {
    "duration": 0,
    "start_time": "2022-05-13T13:33:40.799Z"
   },
   {
    "duration": 0,
    "start_time": "2022-05-13T13:33:40.800Z"
   },
   {
    "duration": 0,
    "start_time": "2022-05-13T13:33:40.802Z"
   },
   {
    "duration": 0,
    "start_time": "2022-05-13T13:33:40.803Z"
   },
   {
    "duration": 0,
    "start_time": "2022-05-13T13:33:40.804Z"
   },
   {
    "duration": 0,
    "start_time": "2022-05-13T13:33:40.805Z"
   },
   {
    "duration": 3750,
    "start_time": "2022-05-13T13:34:52.195Z"
   },
   {
    "duration": 416,
    "start_time": "2022-05-13T13:34:55.947Z"
   },
   {
    "duration": 1033,
    "start_time": "2022-05-13T13:34:56.366Z"
   },
   {
    "duration": 15,
    "start_time": "2022-05-13T13:34:57.403Z"
   },
   {
    "duration": 21,
    "start_time": "2022-05-13T13:34:57.421Z"
   },
   {
    "duration": 16,
    "start_time": "2022-05-13T13:34:57.445Z"
   },
   {
    "duration": 79,
    "start_time": "2022-05-13T13:34:57.463Z"
   },
   {
    "duration": 3,
    "start_time": "2022-05-13T13:34:57.545Z"
   },
   {
    "duration": 12,
    "start_time": "2022-05-13T13:34:57.562Z"
   },
   {
    "duration": 47,
    "start_time": "2022-05-13T13:34:57.577Z"
   },
   {
    "duration": 5,
    "start_time": "2022-05-13T13:34:57.626Z"
   },
   {
    "duration": 36,
    "start_time": "2022-05-13T13:34:57.633Z"
   },
   {
    "duration": 4,
    "start_time": "2022-05-13T13:34:57.678Z"
   },
   {
    "duration": 39,
    "start_time": "2022-05-13T13:34:57.685Z"
   },
   {
    "duration": 7294,
    "start_time": "2022-05-13T13:34:57.725Z"
   },
   {
    "duration": 5,
    "start_time": "2022-05-13T13:35:05.021Z"
   },
   {
    "duration": 5691,
    "start_time": "2022-05-13T13:35:05.027Z"
   },
   {
    "duration": 3,
    "start_time": "2022-05-13T13:35:10.724Z"
   },
   {
    "duration": 403,
    "start_time": "2022-05-13T13:35:10.728Z"
   },
   {
    "duration": 4,
    "start_time": "2022-05-13T13:35:11.133Z"
   },
   {
    "duration": 13,
    "start_time": "2022-05-13T13:35:11.139Z"
   },
   {
    "duration": 55,
    "start_time": "2022-05-13T13:35:11.155Z"
   },
   {
    "duration": 9,
    "start_time": "2022-05-13T13:35:11.212Z"
   },
   {
    "duration": 4,
    "start_time": "2022-05-13T13:35:11.223Z"
   },
   {
    "duration": 6,
    "start_time": "2022-05-13T13:35:11.228Z"
   },
   {
    "duration": 202,
    "start_time": "2022-05-13T13:35:11.235Z"
   },
   {
    "duration": 0,
    "start_time": "2022-05-13T13:35:11.439Z"
   },
   {
    "duration": 1,
    "start_time": "2022-05-13T13:35:11.440Z"
   },
   {
    "duration": 0,
    "start_time": "2022-05-13T13:35:11.441Z"
   },
   {
    "duration": 0,
    "start_time": "2022-05-13T13:35:11.443Z"
   },
   {
    "duration": 0,
    "start_time": "2022-05-13T13:35:11.444Z"
   },
   {
    "duration": 0,
    "start_time": "2022-05-13T13:35:11.445Z"
   },
   {
    "duration": 0,
    "start_time": "2022-05-13T13:35:11.446Z"
   },
   {
    "duration": 0,
    "start_time": "2022-05-13T13:35:11.447Z"
   },
   {
    "duration": 0,
    "start_time": "2022-05-13T13:35:11.448Z"
   },
   {
    "duration": 0,
    "start_time": "2022-05-13T13:35:11.449Z"
   },
   {
    "duration": 0,
    "start_time": "2022-05-13T13:35:11.450Z"
   },
   {
    "duration": 0,
    "start_time": "2022-05-13T13:35:11.463Z"
   },
   {
    "duration": 0,
    "start_time": "2022-05-13T13:35:11.464Z"
   },
   {
    "duration": 0,
    "start_time": "2022-05-13T13:35:11.468Z"
   },
   {
    "duration": 0,
    "start_time": "2022-05-13T13:35:11.475Z"
   },
   {
    "duration": 0,
    "start_time": "2022-05-13T13:35:11.476Z"
   },
   {
    "duration": 0,
    "start_time": "2022-05-13T13:35:11.477Z"
   },
   {
    "duration": 0,
    "start_time": "2022-05-13T13:35:11.478Z"
   },
   {
    "duration": 0,
    "start_time": "2022-05-13T13:35:11.479Z"
   },
   {
    "duration": 0,
    "start_time": "2022-05-13T13:35:11.479Z"
   },
   {
    "duration": 0,
    "start_time": "2022-05-13T13:35:11.481Z"
   },
   {
    "duration": 0,
    "start_time": "2022-05-13T13:35:11.490Z"
   },
   {
    "duration": 0,
    "start_time": "2022-05-13T13:35:11.494Z"
   },
   {
    "duration": 0,
    "start_time": "2022-05-13T13:35:11.496Z"
   },
   {
    "duration": 0,
    "start_time": "2022-05-13T13:35:11.499Z"
   },
   {
    "duration": 0,
    "start_time": "2022-05-13T13:35:11.501Z"
   },
   {
    "duration": 0,
    "start_time": "2022-05-13T13:35:11.503Z"
   },
   {
    "duration": 0,
    "start_time": "2022-05-13T13:35:11.506Z"
   },
   {
    "duration": 0,
    "start_time": "2022-05-13T13:35:11.507Z"
   },
   {
    "duration": 2,
    "start_time": "2022-05-13T13:35:30.483Z"
   },
   {
    "duration": 2,
    "start_time": "2022-05-13T13:35:31.716Z"
   },
   {
    "duration": 24,
    "start_time": "2022-05-13T13:35:36.789Z"
   },
   {
    "duration": 2,
    "start_time": "2022-05-13T13:35:44.904Z"
   },
   {
    "duration": 2,
    "start_time": "2022-05-13T13:35:47.405Z"
   },
   {
    "duration": 5,
    "start_time": "2022-05-13T13:35:48.315Z"
   },
   {
    "duration": 23,
    "start_time": "2022-05-13T13:35:49.816Z"
   },
   {
    "duration": 3247,
    "start_time": "2022-05-13T13:37:34.671Z"
   },
   {
    "duration": 388,
    "start_time": "2022-05-13T13:37:37.920Z"
   },
   {
    "duration": 968,
    "start_time": "2022-05-13T13:37:38.310Z"
   },
   {
    "duration": 10,
    "start_time": "2022-05-13T13:37:39.280Z"
   },
   {
    "duration": 37,
    "start_time": "2022-05-13T13:37:39.292Z"
   },
   {
    "duration": 15,
    "start_time": "2022-05-13T13:37:39.332Z"
   },
   {
    "duration": 73,
    "start_time": "2022-05-13T13:37:39.349Z"
   },
   {
    "duration": 8,
    "start_time": "2022-05-13T13:37:39.424Z"
   },
   {
    "duration": 37,
    "start_time": "2022-05-13T13:37:39.433Z"
   },
   {
    "duration": 3,
    "start_time": "2022-05-13T13:37:39.472Z"
   },
   {
    "duration": 42,
    "start_time": "2022-05-13T13:37:39.476Z"
   },
   {
    "duration": 7015,
    "start_time": "2022-05-13T13:37:39.520Z"
   },
   {
    "duration": 4,
    "start_time": "2022-05-13T13:37:46.537Z"
   },
   {
    "duration": 4680,
    "start_time": "2022-05-13T13:37:46.545Z"
   },
   {
    "duration": 2,
    "start_time": "2022-05-13T13:37:51.227Z"
   },
   {
    "duration": 279,
    "start_time": "2022-05-13T13:37:51.230Z"
   },
   {
    "duration": 4,
    "start_time": "2022-05-13T13:37:51.511Z"
   },
   {
    "duration": 9,
    "start_time": "2022-05-13T13:37:51.517Z"
   },
   {
    "duration": 3,
    "start_time": "2022-05-13T13:37:51.528Z"
   },
   {
    "duration": 4,
    "start_time": "2022-05-13T13:37:51.533Z"
   },
   {
    "duration": 24,
    "start_time": "2022-05-13T13:37:51.538Z"
   },
   {
    "duration": 4,
    "start_time": "2022-05-13T13:37:51.566Z"
   },
   {
    "duration": 34,
    "start_time": "2022-05-13T13:37:51.572Z"
   },
   {
    "duration": 9,
    "start_time": "2022-05-13T13:37:51.608Z"
   },
   {
    "duration": 5,
    "start_time": "2022-05-13T13:37:51.619Z"
   },
   {
    "duration": 11,
    "start_time": "2022-05-13T13:37:51.626Z"
   },
   {
    "duration": 6,
    "start_time": "2022-05-13T13:37:51.639Z"
   },
   {
    "duration": 177,
    "start_time": "2022-05-13T13:37:51.647Z"
   },
   {
    "duration": 0,
    "start_time": "2022-05-13T13:37:51.825Z"
   },
   {
    "duration": 0,
    "start_time": "2022-05-13T13:37:51.826Z"
   },
   {
    "duration": 0,
    "start_time": "2022-05-13T13:37:51.827Z"
   },
   {
    "duration": 0,
    "start_time": "2022-05-13T13:37:51.828Z"
   },
   {
    "duration": 0,
    "start_time": "2022-05-13T13:37:51.829Z"
   },
   {
    "duration": 0,
    "start_time": "2022-05-13T13:37:51.830Z"
   },
   {
    "duration": 0,
    "start_time": "2022-05-13T13:37:51.831Z"
   },
   {
    "duration": 0,
    "start_time": "2022-05-13T13:37:51.832Z"
   },
   {
    "duration": 0,
    "start_time": "2022-05-13T13:37:51.832Z"
   },
   {
    "duration": 0,
    "start_time": "2022-05-13T13:37:51.833Z"
   },
   {
    "duration": 0,
    "start_time": "2022-05-13T13:37:51.834Z"
   },
   {
    "duration": 0,
    "start_time": "2022-05-13T13:37:51.835Z"
   },
   {
    "duration": 0,
    "start_time": "2022-05-13T13:37:51.836Z"
   },
   {
    "duration": 0,
    "start_time": "2022-05-13T13:37:51.837Z"
   },
   {
    "duration": 0,
    "start_time": "2022-05-13T13:37:51.864Z"
   },
   {
    "duration": 0,
    "start_time": "2022-05-13T13:37:51.865Z"
   },
   {
    "duration": 0,
    "start_time": "2022-05-13T13:37:51.865Z"
   },
   {
    "duration": 0,
    "start_time": "2022-05-13T13:37:51.866Z"
   },
   {
    "duration": 0,
    "start_time": "2022-05-13T13:37:51.868Z"
   },
   {
    "duration": 0,
    "start_time": "2022-05-13T13:37:51.870Z"
   },
   {
    "duration": 0,
    "start_time": "2022-05-13T13:37:51.871Z"
   },
   {
    "duration": 0,
    "start_time": "2022-05-13T13:37:51.872Z"
   },
   {
    "duration": 0,
    "start_time": "2022-05-13T13:37:51.873Z"
   },
   {
    "duration": 0,
    "start_time": "2022-05-13T13:37:51.875Z"
   },
   {
    "duration": 25,
    "start_time": "2022-05-13T13:40:02.896Z"
   },
   {
    "duration": 3,
    "start_time": "2022-05-13T13:44:23.007Z"
   },
   {
    "duration": 248,
    "start_time": "2022-05-13T13:44:23.996Z"
   },
   {
    "duration": 7,
    "start_time": "2022-05-13T13:44:34.725Z"
   },
   {
    "duration": 4,
    "start_time": "2022-05-13T13:44:35.730Z"
   },
   {
    "duration": 4,
    "start_time": "2022-05-13T13:44:37.604Z"
   },
   {
    "duration": 167,
    "start_time": "2022-05-13T13:44:38.191Z"
   },
   {
    "duration": 6,
    "start_time": "2022-05-13T13:44:38.795Z"
   },
   {
    "duration": 238595,
    "start_time": "2022-05-13T13:44:39.289Z"
   },
   {
    "duration": 9,
    "start_time": "2022-05-13T13:51:10.617Z"
   },
   {
    "duration": 6,
    "start_time": "2022-05-13T13:51:36.439Z"
   },
   {
    "duration": 25,
    "start_time": "2022-05-13T13:51:57.508Z"
   },
   {
    "duration": 5,
    "start_time": "2022-05-13T13:52:00.922Z"
   },
   {
    "duration": 11,
    "start_time": "2022-05-13T13:52:38.935Z"
   },
   {
    "duration": 3,
    "start_time": "2022-05-13T13:53:22.570Z"
   },
   {
    "duration": 260,
    "start_time": "2022-05-13T13:53:23.410Z"
   },
   {
    "duration": 5,
    "start_time": "2022-05-13T13:53:29.193Z"
   },
   {
    "duration": 482007,
    "start_time": "2022-05-13T13:55:35.095Z"
   },
   {
    "duration": 115,
    "start_time": "2022-05-13T14:03:37.104Z"
   },
   {
    "duration": 53,
    "start_time": "2022-05-13T14:03:37.221Z"
   },
   {
    "duration": 1471,
    "start_time": "2022-05-13T14:09:07.087Z"
   },
   {
    "duration": 15,
    "start_time": "2022-05-13T14:09:09.562Z"
   },
   {
    "duration": 6,
    "start_time": "2022-05-13T14:09:23.352Z"
   },
   {
    "duration": 155,
    "start_time": "2022-05-13T14:11:59.160Z"
   },
   {
    "duration": 5,
    "start_time": "2022-05-13T14:12:00.824Z"
   },
   {
    "duration": 6,
    "start_time": "2022-05-13T14:12:46.378Z"
   },
   {
    "duration": 147,
    "start_time": "2022-05-13T14:12:47.590Z"
   },
   {
    "duration": 5,
    "start_time": "2022-05-13T14:12:48.186Z"
   },
   {
    "duration": 1470,
    "start_time": "2022-05-13T14:13:20.425Z"
   },
   {
    "duration": 6,
    "start_time": "2022-05-13T14:13:23.204Z"
   },
   {
    "duration": 1474,
    "start_time": "2022-05-13T14:13:38.360Z"
   },
   {
    "duration": 7,
    "start_time": "2022-05-13T14:13:40.900Z"
   },
   {
    "duration": 1012,
    "start_time": "2022-05-13T14:13:47.576Z"
   },
   {
    "duration": 5,
    "start_time": "2022-05-13T14:13:49.511Z"
   },
   {
    "duration": 9399,
    "start_time": "2022-05-13T14:13:54.898Z"
   },
   {
    "duration": 6,
    "start_time": "2022-05-13T14:14:04.298Z"
   },
   {
    "duration": 2561,
    "start_time": "2022-05-13T14:14:42.794Z"
   },
   {
    "duration": 14,
    "start_time": "2022-05-13T14:14:45.357Z"
   },
   {
    "duration": 2235,
    "start_time": "2022-05-13T14:15:48.182Z"
   },
   {
    "duration": 6,
    "start_time": "2022-05-13T14:15:51.104Z"
   },
   {
    "duration": 2233,
    "start_time": "2022-05-13T14:15:59.905Z"
   },
   {
    "duration": 7,
    "start_time": "2022-05-13T14:16:02.140Z"
   },
   {
    "duration": 6322,
    "start_time": "2022-05-13T14:17:23.788Z"
   },
   {
    "duration": 6,
    "start_time": "2022-05-13T14:17:35.316Z"
   },
   {
    "duration": 8366,
    "start_time": "2022-05-13T14:17:42.299Z"
   },
   {
    "duration": 10,
    "start_time": "2022-05-13T14:17:50.672Z"
   },
   {
    "duration": 4478,
    "start_time": "2022-05-13T14:18:58.088Z"
   },
   {
    "duration": 326,
    "start_time": "2022-05-13T14:19:02.568Z"
   },
   {
    "duration": 4298,
    "start_time": "2022-05-13T14:19:02.896Z"
   },
   {
    "duration": 7,
    "start_time": "2022-05-13T14:19:07.197Z"
   },
   {
    "duration": 36,
    "start_time": "2022-05-13T14:19:07.206Z"
   },
   {
    "duration": 20,
    "start_time": "2022-05-13T14:19:07.246Z"
   },
   {
    "duration": 679,
    "start_time": "2022-05-13T14:19:07.268Z"
   },
   {
    "duration": 8,
    "start_time": "2022-05-13T14:19:07.949Z"
   },
   {
    "duration": 32,
    "start_time": "2022-05-13T14:19:07.959Z"
   },
   {
    "duration": 5,
    "start_time": "2022-05-13T14:19:07.993Z"
   },
   {
    "duration": 6,
    "start_time": "2022-05-13T14:19:08.000Z"
   },
   {
    "duration": 48067,
    "start_time": "2022-05-13T14:19:08.008Z"
   },
   {
    "duration": 4,
    "start_time": "2022-05-13T14:19:56.076Z"
   },
   {
    "duration": 45683,
    "start_time": "2022-05-13T14:19:56.083Z"
   },
   {
    "duration": 9,
    "start_time": "2022-05-13T14:20:41.768Z"
   },
   {
    "duration": 3015,
    "start_time": "2022-05-13T14:20:41.778Z"
   },
   {
    "duration": 5,
    "start_time": "2022-05-13T14:20:44.795Z"
   },
   {
    "duration": 22,
    "start_time": "2022-05-13T14:20:44.801Z"
   },
   {
    "duration": 15,
    "start_time": "2022-05-13T14:20:44.825Z"
   },
   {
    "duration": 27,
    "start_time": "2022-05-13T14:20:44.842Z"
   },
   {
    "duration": 7,
    "start_time": "2022-05-13T14:20:44.874Z"
   },
   {
    "duration": 18,
    "start_time": "2022-05-13T14:20:44.883Z"
   },
   {
    "duration": 1622,
    "start_time": "2022-05-13T14:20:44.902Z"
   },
   {
    "duration": 4,
    "start_time": "2022-05-13T14:20:46.526Z"
   },
   {
    "duration": 369,
    "start_time": "2022-05-13T14:20:46.532Z"
   },
   {
    "duration": 439,
    "start_time": "2022-05-13T14:20:46.903Z"
   },
   {
    "duration": 0,
    "start_time": "2022-05-13T14:20:47.345Z"
   },
   {
    "duration": 0,
    "start_time": "2022-05-13T14:20:47.346Z"
   },
   {
    "duration": 0,
    "start_time": "2022-05-13T14:20:47.347Z"
   },
   {
    "duration": 0,
    "start_time": "2022-05-13T14:20:47.348Z"
   },
   {
    "duration": 0,
    "start_time": "2022-05-13T14:20:47.367Z"
   },
   {
    "duration": 0,
    "start_time": "2022-05-13T14:20:47.368Z"
   },
   {
    "duration": 0,
    "start_time": "2022-05-13T14:20:47.370Z"
   },
   {
    "duration": 0,
    "start_time": "2022-05-13T14:20:47.371Z"
   },
   {
    "duration": 0,
    "start_time": "2022-05-13T14:20:47.372Z"
   },
   {
    "duration": 0,
    "start_time": "2022-05-13T14:20:47.375Z"
   },
   {
    "duration": 0,
    "start_time": "2022-05-13T14:20:47.375Z"
   },
   {
    "duration": 0,
    "start_time": "2022-05-13T14:20:47.376Z"
   },
   {
    "duration": 0,
    "start_time": "2022-05-13T14:20:47.379Z"
   },
   {
    "duration": 0,
    "start_time": "2022-05-13T14:20:47.380Z"
   },
   {
    "duration": 0,
    "start_time": "2022-05-13T14:20:47.381Z"
   },
   {
    "duration": 0,
    "start_time": "2022-05-13T14:20:47.385Z"
   },
   {
    "duration": 0,
    "start_time": "2022-05-13T14:20:47.387Z"
   },
   {
    "duration": 0,
    "start_time": "2022-05-13T14:20:47.388Z"
   },
   {
    "duration": 0,
    "start_time": "2022-05-13T14:20:47.389Z"
   },
   {
    "duration": 0,
    "start_time": "2022-05-13T14:20:47.390Z"
   },
   {
    "duration": 0,
    "start_time": "2022-05-13T14:20:47.391Z"
   },
   {
    "duration": 0,
    "start_time": "2022-05-13T14:20:47.392Z"
   },
   {
    "duration": 0,
    "start_time": "2022-05-13T14:20:47.392Z"
   },
   {
    "duration": 0,
    "start_time": "2022-05-13T14:20:47.396Z"
   },
   {
    "duration": 1,
    "start_time": "2022-05-13T14:20:47.397Z"
   },
   {
    "duration": 0,
    "start_time": "2022-05-13T14:20:47.399Z"
   },
   {
    "duration": 0,
    "start_time": "2022-05-13T14:20:47.400Z"
   },
   {
    "duration": 0,
    "start_time": "2022-05-13T14:20:47.402Z"
   },
   {
    "duration": 0,
    "start_time": "2022-05-13T14:20:47.403Z"
   },
   {
    "duration": 0,
    "start_time": "2022-05-13T14:20:47.404Z"
   },
   {
    "duration": 0,
    "start_time": "2022-05-13T14:20:47.406Z"
   },
   {
    "duration": 0,
    "start_time": "2022-05-13T14:20:47.407Z"
   },
   {
    "duration": 33,
    "start_time": "2022-05-13T14:21:34.338Z"
   },
   {
    "duration": 328,
    "start_time": "2022-05-13T14:21:40.544Z"
   },
   {
    "duration": 406003,
    "start_time": "2022-05-13T14:21:46.687Z"
   },
   {
    "duration": 392,
    "start_time": "2022-05-13T14:28:32.692Z"
   },
   {
    "duration": 0,
    "start_time": "2022-05-13T14:28:33.087Z"
   },
   {
    "duration": 0,
    "start_time": "2022-05-13T14:28:33.088Z"
   },
   {
    "duration": 0,
    "start_time": "2022-05-13T14:28:33.089Z"
   },
   {
    "duration": 0,
    "start_time": "2022-05-13T14:28:33.090Z"
   },
   {
    "duration": 0,
    "start_time": "2022-05-13T14:28:33.091Z"
   },
   {
    "duration": 0,
    "start_time": "2022-05-13T14:28:33.092Z"
   },
   {
    "duration": 0,
    "start_time": "2022-05-13T14:28:33.093Z"
   },
   {
    "duration": 0,
    "start_time": "2022-05-13T14:28:33.094Z"
   },
   {
    "duration": 0,
    "start_time": "2022-05-13T14:28:33.095Z"
   },
   {
    "duration": 0,
    "start_time": "2022-05-13T14:28:33.095Z"
   },
   {
    "duration": 0,
    "start_time": "2022-05-13T14:28:33.097Z"
   },
   {
    "duration": 0,
    "start_time": "2022-05-13T14:28:33.098Z"
   },
   {
    "duration": 0,
    "start_time": "2022-05-13T14:28:33.099Z"
   },
   {
    "duration": 3,
    "start_time": "2022-05-13T14:28:50.135Z"
   },
   {
    "duration": 33,
    "start_time": "2022-05-13T14:29:29.100Z"
   },
   {
    "duration": 3486,
    "start_time": "2022-05-13T14:29:36.282Z"
   },
   {
    "duration": 378,
    "start_time": "2022-05-13T14:29:39.774Z"
   },
   {
    "duration": 844,
    "start_time": "2022-05-13T14:29:40.154Z"
   },
   {
    "duration": 6,
    "start_time": "2022-05-13T14:29:41.009Z"
   },
   {
    "duration": 31,
    "start_time": "2022-05-13T14:29:41.017Z"
   },
   {
    "duration": 18,
    "start_time": "2022-05-13T14:29:41.052Z"
   },
   {
    "duration": 441,
    "start_time": "2022-05-13T14:29:41.073Z"
   },
   {
    "duration": 3,
    "start_time": "2022-05-13T14:29:41.516Z"
   },
   {
    "duration": 27,
    "start_time": "2022-05-13T14:29:41.521Z"
   },
   {
    "duration": 15,
    "start_time": "2022-05-13T14:29:41.549Z"
   },
   {
    "duration": 40,
    "start_time": "2022-05-13T14:29:41.568Z"
   },
   {
    "duration": 33814,
    "start_time": "2022-05-13T14:29:41.611Z"
   },
   {
    "duration": 4,
    "start_time": "2022-05-13T14:30:15.427Z"
   },
   {
    "duration": 29770,
    "start_time": "2022-05-13T14:30:15.435Z"
   },
   {
    "duration": 7,
    "start_time": "2022-05-13T14:30:45.208Z"
   },
   {
    "duration": 1536,
    "start_time": "2022-05-13T14:30:45.217Z"
   },
   {
    "duration": 4,
    "start_time": "2022-05-13T14:30:46.755Z"
   },
   {
    "duration": 52,
    "start_time": "2022-05-13T14:30:46.766Z"
   },
   {
    "duration": 16,
    "start_time": "2022-05-13T14:30:46.819Z"
   },
   {
    "duration": 6,
    "start_time": "2022-05-13T14:30:46.837Z"
   },
   {
    "duration": 8,
    "start_time": "2022-05-13T14:30:46.844Z"
   },
   {
    "duration": 5,
    "start_time": "2022-05-13T14:30:46.854Z"
   },
   {
    "duration": 1309,
    "start_time": "2022-05-13T14:30:46.861Z"
   },
   {
    "duration": 5,
    "start_time": "2022-05-13T14:30:48.174Z"
   },
   {
    "duration": 42,
    "start_time": "2022-05-13T14:30:48.181Z"
   },
   {
    "duration": 9,
    "start_time": "2022-05-13T14:30:48.224Z"
   },
   {
    "duration": 5,
    "start_time": "2022-05-13T14:30:48.235Z"
   },
   {
    "duration": 36983,
    "start_time": "2022-05-13T14:30:48.242Z"
   },
   {
    "duration": 6,
    "start_time": "2022-05-13T14:31:25.227Z"
   },
   {
    "duration": 11436,
    "start_time": "2022-05-13T14:31:25.235Z"
   },
   {
    "duration": 10,
    "start_time": "2022-05-13T14:31:36.674Z"
   },
   {
    "duration": 13,
    "start_time": "2022-05-13T14:31:36.686Z"
   },
   {
    "duration": 4,
    "start_time": "2022-05-13T14:31:36.702Z"
   },
   {
    "duration": 5,
    "start_time": "2022-05-13T14:31:36.708Z"
   },
   {
    "duration": 5,
    "start_time": "2022-05-13T14:31:36.714Z"
   },
   {
    "duration": 5,
    "start_time": "2022-05-13T14:31:36.721Z"
   },
   {
    "duration": 6,
    "start_time": "2022-05-13T14:31:36.727Z"
   },
   {
    "duration": 5,
    "start_time": "2022-05-13T14:31:36.734Z"
   },
   {
    "duration": 9,
    "start_time": "2022-05-13T14:31:36.741Z"
   },
   {
    "duration": 175,
    "start_time": "2022-05-13T14:31:36.751Z"
   },
   {
    "duration": 0,
    "start_time": "2022-05-13T14:31:36.929Z"
   },
   {
    "duration": 0,
    "start_time": "2022-05-13T14:31:36.930Z"
   },
   {
    "duration": 0,
    "start_time": "2022-05-13T14:31:36.931Z"
   },
   {
    "duration": 0,
    "start_time": "2022-05-13T14:31:36.932Z"
   },
   {
    "duration": 0,
    "start_time": "2022-05-13T14:31:36.933Z"
   },
   {
    "duration": 0,
    "start_time": "2022-05-13T14:31:36.935Z"
   },
   {
    "duration": 0,
    "start_time": "2022-05-13T14:31:36.935Z"
   },
   {
    "duration": 0,
    "start_time": "2022-05-13T14:31:36.936Z"
   },
   {
    "duration": 0,
    "start_time": "2022-05-13T14:31:36.937Z"
   },
   {
    "duration": 0,
    "start_time": "2022-05-13T14:31:36.938Z"
   },
   {
    "duration": 0,
    "start_time": "2022-05-13T14:31:36.939Z"
   },
   {
    "duration": 0,
    "start_time": "2022-05-13T14:31:36.940Z"
   },
   {
    "duration": 0,
    "start_time": "2022-05-13T14:31:36.961Z"
   },
   {
    "duration": 0,
    "start_time": "2022-05-13T14:31:36.962Z"
   },
   {
    "duration": 0,
    "start_time": "2022-05-13T14:31:36.964Z"
   },
   {
    "duration": 0,
    "start_time": "2022-05-13T14:31:36.969Z"
   },
   {
    "duration": 0,
    "start_time": "2022-05-13T14:31:36.970Z"
   },
   {
    "duration": 100612,
    "start_time": "2022-05-13T14:32:36.627Z"
   },
   {
    "duration": 544,
    "start_time": "2022-05-13T14:34:55.318Z"
   },
   {
    "duration": 518,
    "start_time": "2022-05-13T14:36:00.763Z"
   },
   {
    "duration": 129888,
    "start_time": "2022-05-13T14:36:32.573Z"
   },
   {
    "duration": 0,
    "start_time": "2022-05-13T14:38:42.464Z"
   },
   {
    "duration": 0,
    "start_time": "2022-05-13T14:38:42.466Z"
   },
   {
    "duration": 3613,
    "start_time": "2022-05-13T14:39:03.110Z"
   },
   {
    "duration": 343,
    "start_time": "2022-05-13T14:39:06.725Z"
   },
   {
    "duration": 845,
    "start_time": "2022-05-13T14:39:07.070Z"
   },
   {
    "duration": 5,
    "start_time": "2022-05-13T14:39:07.917Z"
   },
   {
    "duration": 22,
    "start_time": "2022-05-13T14:39:07.924Z"
   },
   {
    "duration": 33,
    "start_time": "2022-05-13T14:39:07.949Z"
   },
   {
    "duration": 433,
    "start_time": "2022-05-13T14:39:07.983Z"
   },
   {
    "duration": 8,
    "start_time": "2022-05-13T14:39:08.418Z"
   },
   {
    "duration": 24,
    "start_time": "2022-05-13T14:39:08.428Z"
   },
   {
    "duration": 8,
    "start_time": "2022-05-13T14:39:08.462Z"
   },
   {
    "duration": 41,
    "start_time": "2022-05-13T14:39:08.472Z"
   },
   {
    "duration": 34716,
    "start_time": "2022-05-13T14:39:08.515Z"
   },
   {
    "duration": 5,
    "start_time": "2022-05-13T14:39:43.233Z"
   },
   {
    "duration": 33697,
    "start_time": "2022-05-13T14:39:43.241Z"
   },
   {
    "duration": 3,
    "start_time": "2022-05-13T14:40:16.941Z"
   },
   {
    "duration": 1744,
    "start_time": "2022-05-13T14:40:16.946Z"
   },
   {
    "duration": 5,
    "start_time": "2022-05-13T14:40:18.692Z"
   },
   {
    "duration": 40,
    "start_time": "2022-05-13T14:40:18.699Z"
   },
   {
    "duration": 17,
    "start_time": "2022-05-13T14:40:18.741Z"
   },
   {
    "duration": 19,
    "start_time": "2022-05-13T14:40:18.760Z"
   },
   {
    "duration": 43,
    "start_time": "2022-05-13T14:40:18.780Z"
   },
   {
    "duration": 4,
    "start_time": "2022-05-13T14:40:18.825Z"
   },
   {
    "duration": 1348,
    "start_time": "2022-05-13T14:40:18.831Z"
   },
   {
    "duration": 5,
    "start_time": "2022-05-13T14:40:20.184Z"
   },
   {
    "duration": 32,
    "start_time": "2022-05-13T14:40:20.190Z"
   },
   {
    "duration": 6,
    "start_time": "2022-05-13T14:40:20.224Z"
   },
   {
    "duration": 5,
    "start_time": "2022-05-13T14:40:20.232Z"
   },
   {
    "duration": 29066,
    "start_time": "2022-05-13T14:40:20.239Z"
   },
   {
    "duration": 6,
    "start_time": "2022-05-13T14:40:49.309Z"
   },
   {
    "duration": 478,
    "start_time": "2022-05-13T14:40:49.317Z"
   },
   {
    "duration": 12,
    "start_time": "2022-05-13T14:40:49.796Z"
   },
   {
    "duration": 9,
    "start_time": "2022-05-13T14:40:49.809Z"
   },
   {
    "duration": 6,
    "start_time": "2022-05-13T14:40:49.819Z"
   },
   {
    "duration": 6,
    "start_time": "2022-05-13T14:40:49.827Z"
   },
   {
    "duration": 4,
    "start_time": "2022-05-13T14:40:49.835Z"
   },
   {
    "duration": 7,
    "start_time": "2022-05-13T14:40:49.841Z"
   },
   {
    "duration": 4,
    "start_time": "2022-05-13T14:40:49.850Z"
   },
   {
    "duration": 20,
    "start_time": "2022-05-13T14:40:49.856Z"
   },
   {
    "duration": 29,
    "start_time": "2022-05-13T14:40:49.878Z"
   },
   {
    "duration": 126342,
    "start_time": "2022-05-13T14:40:49.909Z"
   },
   {
    "duration": 618,
    "start_time": "2022-05-13T14:42:56.263Z"
   },
   {
    "duration": 560,
    "start_time": "2022-05-13T14:42:56.883Z"
   },
   {
    "duration": 184,
    "start_time": "2022-05-13T14:42:57.445Z"
   },
   {
    "duration": 0,
    "start_time": "2022-05-13T14:42:57.631Z"
   },
   {
    "duration": 0,
    "start_time": "2022-05-13T14:42:57.632Z"
   },
   {
    "duration": 0,
    "start_time": "2022-05-13T14:42:57.633Z"
   },
   {
    "duration": 0,
    "start_time": "2022-05-13T14:42:57.634Z"
   },
   {
    "duration": 0,
    "start_time": "2022-05-13T14:42:57.635Z"
   },
   {
    "duration": 0,
    "start_time": "2022-05-13T14:42:57.637Z"
   },
   {
    "duration": 0,
    "start_time": "2022-05-13T14:42:57.638Z"
   },
   {
    "duration": 0,
    "start_time": "2022-05-13T14:42:57.639Z"
   },
   {
    "duration": 0,
    "start_time": "2022-05-13T14:42:57.640Z"
   },
   {
    "duration": 0,
    "start_time": "2022-05-13T14:42:57.641Z"
   },
   {
    "duration": 0,
    "start_time": "2022-05-13T14:42:57.642Z"
   },
   {
    "duration": 0,
    "start_time": "2022-05-13T14:42:57.665Z"
   },
   {
    "duration": 0,
    "start_time": "2022-05-13T14:42:57.666Z"
   },
   {
    "duration": 0,
    "start_time": "2022-05-13T14:42:57.667Z"
   },
   {
    "duration": 0,
    "start_time": "2022-05-13T14:42:57.668Z"
   },
   {
    "duration": 0,
    "start_time": "2022-05-13T14:42:57.669Z"
   },
   {
    "duration": 3027,
    "start_time": "2022-05-13T19:01:11.358Z"
   },
   {
    "duration": 255,
    "start_time": "2022-05-13T19:01:14.387Z"
   },
   {
    "duration": 711,
    "start_time": "2022-05-13T19:01:14.644Z"
   },
   {
    "duration": 5,
    "start_time": "2022-05-13T19:01:15.357Z"
   },
   {
    "duration": 29,
    "start_time": "2022-05-13T19:01:15.364Z"
   },
   {
    "duration": 12,
    "start_time": "2022-05-13T19:01:15.396Z"
   },
   {
    "duration": 403,
    "start_time": "2022-05-13T19:01:15.410Z"
   },
   {
    "duration": 11,
    "start_time": "2022-05-13T19:01:15.814Z"
   },
   {
    "duration": 32,
    "start_time": "2022-05-13T19:01:15.826Z"
   },
   {
    "duration": 3,
    "start_time": "2022-05-13T19:01:15.860Z"
   },
   {
    "duration": 7,
    "start_time": "2022-05-13T19:01:15.864Z"
   },
   {
    "duration": 23522,
    "start_time": "2022-05-13T19:01:15.873Z"
   },
   {
    "duration": 3,
    "start_time": "2022-05-13T19:01:39.396Z"
   },
   {
    "duration": 21978,
    "start_time": "2022-05-13T19:01:39.401Z"
   },
   {
    "duration": 7,
    "start_time": "2022-05-13T19:02:01.381Z"
   },
   {
    "duration": 1254,
    "start_time": "2022-05-13T19:02:01.390Z"
   },
   {
    "duration": 4,
    "start_time": "2022-05-13T19:02:02.646Z"
   },
   {
    "duration": 38,
    "start_time": "2022-05-13T19:02:02.652Z"
   },
   {
    "duration": 21,
    "start_time": "2022-05-13T19:02:02.692Z"
   },
   {
    "duration": 11,
    "start_time": "2022-05-13T19:02:02.714Z"
   },
   {
    "duration": 13,
    "start_time": "2022-05-13T19:02:02.726Z"
   },
   {
    "duration": 10,
    "start_time": "2022-05-13T19:02:02.741Z"
   },
   {
    "duration": 884,
    "start_time": "2022-05-13T19:02:02.752Z"
   },
   {
    "duration": 4,
    "start_time": "2022-05-13T19:02:03.637Z"
   },
   {
    "duration": 9,
    "start_time": "2022-05-13T19:02:03.643Z"
   },
   {
    "duration": 5,
    "start_time": "2022-05-13T19:02:03.654Z"
   },
   {
    "duration": 5,
    "start_time": "2022-05-13T19:02:03.661Z"
   },
   {
    "duration": 23039,
    "start_time": "2022-05-13T19:02:03.670Z"
   },
   {
    "duration": 8,
    "start_time": "2022-05-13T19:02:26.711Z"
   },
   {
    "duration": 358,
    "start_time": "2022-05-13T19:02:26.721Z"
   },
   {
    "duration": 12,
    "start_time": "2022-05-13T19:02:27.081Z"
   },
   {
    "duration": 5,
    "start_time": "2022-05-13T19:02:27.094Z"
   },
   {
    "duration": 10,
    "start_time": "2022-05-13T19:02:27.100Z"
   },
   {
    "duration": 4,
    "start_time": "2022-05-13T19:02:27.112Z"
   },
   {
    "duration": 5,
    "start_time": "2022-05-13T19:02:27.118Z"
   },
   {
    "duration": 4,
    "start_time": "2022-05-13T19:02:27.124Z"
   },
   {
    "duration": 6,
    "start_time": "2022-05-13T19:02:27.130Z"
   },
   {
    "duration": 5,
    "start_time": "2022-05-13T19:02:27.137Z"
   },
   {
    "duration": 8,
    "start_time": "2022-05-13T19:02:27.143Z"
   },
   {
    "duration": 84360,
    "start_time": "2022-05-13T19:02:27.152Z"
   },
   {
    "duration": 520,
    "start_time": "2022-05-13T19:03:51.514Z"
   },
   {
    "duration": 513,
    "start_time": "2022-05-13T19:03:52.036Z"
   },
   {
    "duration": 165,
    "start_time": "2022-05-13T19:03:52.551Z"
   },
   {
    "duration": 0,
    "start_time": "2022-05-13T19:03:52.718Z"
   },
   {
    "duration": 0,
    "start_time": "2022-05-13T19:03:52.719Z"
   },
   {
    "duration": 0,
    "start_time": "2022-05-13T19:03:52.720Z"
   },
   {
    "duration": 0,
    "start_time": "2022-05-13T19:03:52.722Z"
   },
   {
    "duration": 0,
    "start_time": "2022-05-13T19:03:52.723Z"
   },
   {
    "duration": 0,
    "start_time": "2022-05-13T19:03:52.724Z"
   },
   {
    "duration": 0,
    "start_time": "2022-05-13T19:03:52.725Z"
   },
   {
    "duration": 0,
    "start_time": "2022-05-13T19:03:52.726Z"
   },
   {
    "duration": 0,
    "start_time": "2022-05-13T19:03:52.727Z"
   },
   {
    "duration": 0,
    "start_time": "2022-05-13T19:03:52.728Z"
   },
   {
    "duration": 0,
    "start_time": "2022-05-13T19:03:52.729Z"
   },
   {
    "duration": 0,
    "start_time": "2022-05-13T19:03:52.730Z"
   },
   {
    "duration": 0,
    "start_time": "2022-05-13T19:03:52.731Z"
   },
   {
    "duration": 0,
    "start_time": "2022-05-13T19:03:52.732Z"
   },
   {
    "duration": 0,
    "start_time": "2022-05-13T19:03:52.733Z"
   },
   {
    "duration": 0,
    "start_time": "2022-05-13T19:03:52.734Z"
   },
   {
    "duration": 16931,
    "start_time": "2022-05-13T19:05:12.798Z"
   },
   {
    "duration": 6,
    "start_time": "2022-05-13T19:05:29.731Z"
   },
   {
    "duration": 10395,
    "start_time": "2022-05-13T19:07:39.657Z"
   },
   {
    "duration": 10080,
    "start_time": "2022-05-13T19:08:13.513Z"
   },
   {
    "duration": 9,
    "start_time": "2022-05-13T19:08:33.897Z"
   },
   {
    "duration": 3,
    "start_time": "2022-05-13T19:08:35.192Z"
   },
   {
    "duration": 3,
    "start_time": "2022-05-13T19:08:36.031Z"
   },
   {
    "duration": 3,
    "start_time": "2022-05-13T19:08:38.830Z"
   },
   {
    "duration": 48,
    "start_time": "2022-05-13T19:22:42.506Z"
   },
   {
    "duration": 8,
    "start_time": "2022-05-13T19:22:55.802Z"
   },
   {
    "duration": 2712,
    "start_time": "2022-05-13T19:23:23.606Z"
   },
   {
    "duration": 327,
    "start_time": "2022-05-13T19:23:26.320Z"
   },
   {
    "duration": 761,
    "start_time": "2022-05-13T19:23:26.648Z"
   },
   {
    "duration": 6,
    "start_time": "2022-05-13T19:23:27.411Z"
   },
   {
    "duration": 25,
    "start_time": "2022-05-13T19:23:27.418Z"
   },
   {
    "duration": 11,
    "start_time": "2022-05-13T19:23:27.447Z"
   },
   {
    "duration": 433,
    "start_time": "2022-05-13T19:23:27.460Z"
   },
   {
    "duration": 6,
    "start_time": "2022-05-13T19:23:27.895Z"
   },
   {
    "duration": 26,
    "start_time": "2022-05-13T19:23:27.903Z"
   },
   {
    "duration": 3,
    "start_time": "2022-05-13T19:23:27.932Z"
   },
   {
    "duration": 9,
    "start_time": "2022-05-13T19:23:27.937Z"
   },
   {
    "duration": 23413,
    "start_time": "2022-05-13T19:23:27.948Z"
   },
   {
    "duration": 4,
    "start_time": "2022-05-13T19:23:51.362Z"
   },
   {
    "duration": 21348,
    "start_time": "2022-05-13T19:23:51.367Z"
   },
   {
    "duration": 3,
    "start_time": "2022-05-13T19:24:12.716Z"
   },
   {
    "duration": 1206,
    "start_time": "2022-05-13T19:24:12.721Z"
   },
   {
    "duration": 4,
    "start_time": "2022-05-13T19:24:13.929Z"
   },
   {
    "duration": 17,
    "start_time": "2022-05-13T19:24:13.935Z"
   },
   {
    "duration": 11,
    "start_time": "2022-05-13T19:24:13.954Z"
   },
   {
    "duration": 24,
    "start_time": "2022-05-13T19:24:13.966Z"
   },
   {
    "duration": 7,
    "start_time": "2022-05-13T19:24:13.991Z"
   },
   {
    "duration": 5,
    "start_time": "2022-05-13T19:24:13.999Z"
   },
   {
    "duration": 868,
    "start_time": "2022-05-13T19:24:14.006Z"
   },
   {
    "duration": 3,
    "start_time": "2022-05-13T19:24:14.876Z"
   },
   {
    "duration": 2,
    "start_time": "2022-05-13T19:24:14.888Z"
   },
   {
    "duration": 6,
    "start_time": "2022-05-13T19:24:14.892Z"
   },
   {
    "duration": 6,
    "start_time": "2022-05-13T19:24:14.899Z"
   },
   {
    "duration": 16480,
    "start_time": "2022-05-13T19:24:14.908Z"
   },
   {
    "duration": 6,
    "start_time": "2022-05-13T19:24:31.390Z"
   },
   {
    "duration": 326,
    "start_time": "2022-05-13T19:24:31.397Z"
   },
   {
    "duration": 6,
    "start_time": "2022-05-13T19:24:31.725Z"
   },
   {
    "duration": 6,
    "start_time": "2022-05-13T19:24:31.732Z"
   },
   {
    "duration": 9,
    "start_time": "2022-05-13T19:24:31.739Z"
   },
   {
    "duration": 10,
    "start_time": "2022-05-13T19:24:31.750Z"
   },
   {
    "duration": 12,
    "start_time": "2022-05-13T19:24:31.761Z"
   },
   {
    "duration": 7,
    "start_time": "2022-05-13T19:24:31.775Z"
   },
   {
    "duration": 6,
    "start_time": "2022-05-13T19:24:31.783Z"
   },
   {
    "duration": 13,
    "start_time": "2022-05-13T19:24:31.791Z"
   },
   {
    "duration": 10,
    "start_time": "2022-05-13T19:24:31.806Z"
   },
   {
    "duration": 85105,
    "start_time": "2022-05-13T19:24:31.818Z"
   },
   {
    "duration": 506,
    "start_time": "2022-05-13T19:25:56.924Z"
   },
   {
    "duration": 509,
    "start_time": "2022-05-13T19:25:57.431Z"
   },
   {
    "duration": 11247,
    "start_time": "2022-05-13T19:25:57.942Z"
   },
   {
    "duration": 9,
    "start_time": "2022-05-13T19:26:09.190Z"
   },
   {
    "duration": 5,
    "start_time": "2022-05-13T19:26:09.200Z"
   },
   {
    "duration": 8,
    "start_time": "2022-05-13T19:26:09.206Z"
   },
   {
    "duration": 6,
    "start_time": "2022-05-13T19:26:09.215Z"
   },
   {
    "duration": 183,
    "start_time": "2022-05-13T19:26:09.222Z"
   },
   {
    "duration": 0,
    "start_time": "2022-05-13T19:26:09.406Z"
   },
   {
    "duration": 1,
    "start_time": "2022-05-13T19:26:09.407Z"
   },
   {
    "duration": 0,
    "start_time": "2022-05-13T19:26:09.409Z"
   },
   {
    "duration": 0,
    "start_time": "2022-05-13T19:26:09.410Z"
   },
   {
    "duration": 0,
    "start_time": "2022-05-13T19:26:09.410Z"
   },
   {
    "duration": 0,
    "start_time": "2022-05-13T19:26:09.411Z"
   },
   {
    "duration": 0,
    "start_time": "2022-05-13T19:26:09.412Z"
   },
   {
    "duration": 0,
    "start_time": "2022-05-13T19:26:09.413Z"
   },
   {
    "duration": 0,
    "start_time": "2022-05-13T19:26:09.414Z"
   },
   {
    "duration": 0,
    "start_time": "2022-05-13T19:26:09.415Z"
   },
   {
    "duration": 0,
    "start_time": "2022-05-13T19:26:09.416Z"
   },
   {
    "duration": 23624,
    "start_time": "2022-05-13T19:28:19.518Z"
   },
   {
    "duration": 4,
    "start_time": "2022-05-13T19:52:55.887Z"
   },
   {
    "duration": 3,
    "start_time": "2022-05-13T19:52:56.676Z"
   },
   {
    "duration": 3,
    "start_time": "2022-05-13T19:52:57.868Z"
   },
   {
    "duration": 45232,
    "start_time": "2022-05-13T19:52:58.581Z"
   },
   {
    "duration": 45591,
    "start_time": "2022-05-13T20:01:57.849Z"
   },
   {
    "duration": 9,
    "start_time": "2022-05-13T20:07:51.081Z"
   },
   {
    "duration": 0,
    "start_time": "2022-05-13T20:11:03.974Z"
   },
   {
    "duration": 81,
    "start_time": "2022-05-13T20:11:14.314Z"
   },
   {
    "duration": 48,
    "start_time": "2022-05-13T20:15:38.235Z"
   },
   {
    "duration": 4,
    "start_time": "2022-05-13T20:15:41.241Z"
   },
   {
    "duration": 27,
    "start_time": "2022-05-13T20:15:42.050Z"
   },
   {
    "duration": 6,
    "start_time": "2022-05-13T20:16:09.292Z"
   },
   {
    "duration": 4,
    "start_time": "2022-05-13T20:16:15.876Z"
   },
   {
    "duration": 16,
    "start_time": "2022-05-13T20:16:27.980Z"
   },
   {
    "duration": 641,
    "start_time": "2022-05-13T20:16:40.903Z"
   },
   {
    "duration": 659,
    "start_time": "2022-05-13T20:16:51.794Z"
   },
   {
    "duration": 654,
    "start_time": "2022-05-13T20:17:21.044Z"
   },
   {
    "duration": 811,
    "start_time": "2022-05-13T20:17:54.300Z"
   },
   {
    "duration": 5,
    "start_time": "2022-05-13T20:19:02.434Z"
   },
   {
    "duration": 27,
    "start_time": "2022-05-13T20:19:16.768Z"
   },
   {
    "duration": 18,
    "start_time": "2022-05-13T20:20:51.366Z"
   },
   {
    "duration": 741,
    "start_time": "2022-05-13T20:21:43.469Z"
   },
   {
    "duration": 4,
    "start_time": "2022-05-13T20:21:44.784Z"
   },
   {
    "duration": 25,
    "start_time": "2022-05-13T20:21:45.456Z"
   },
   {
    "duration": 8,
    "start_time": "2022-05-13T20:21:46.526Z"
   },
   {
    "duration": 116,
    "start_time": "2022-05-13T20:21:51.792Z"
   },
   {
    "duration": 10,
    "start_time": "2022-05-13T20:21:52.648Z"
   },
   {
    "duration": 402,
    "start_time": "2022-05-13T20:21:55.713Z"
   },
   {
    "duration": 3,
    "start_time": "2022-05-13T20:21:57.926Z"
   },
   {
    "duration": 411,
    "start_time": "2022-05-13T20:22:03.751Z"
   },
   {
    "duration": 5,
    "start_time": "2022-05-13T20:22:23.797Z"
   },
   {
    "duration": 176,
    "start_time": "2022-05-13T20:22:43.767Z"
   },
   {
    "duration": 34,
    "start_time": "2022-05-13T20:22:51.886Z"
   },
   {
    "duration": 3,
    "start_time": "2022-05-13T20:23:09.484Z"
   },
   {
    "duration": 20,
    "start_time": "2022-05-13T20:23:10.702Z"
   },
   {
    "duration": 5,
    "start_time": "2022-05-13T20:37:02.673Z"
   },
   {
    "duration": 175,
    "start_time": "2022-05-13T20:37:08.758Z"
   },
   {
    "duration": 709,
    "start_time": "2022-05-13T20:37:09.550Z"
   },
   {
    "duration": 4,
    "start_time": "2022-05-13T20:37:10.261Z"
   },
   {
    "duration": 29,
    "start_time": "2022-05-13T20:37:10.779Z"
   },
   {
    "duration": 9,
    "start_time": "2022-05-13T20:37:11.302Z"
   },
   {
    "duration": 80,
    "start_time": "2022-05-13T20:37:13.276Z"
   },
   {
    "duration": 5,
    "start_time": "2022-05-13T20:37:16.038Z"
   },
   {
    "duration": 12,
    "start_time": "2022-05-13T20:37:18.421Z"
   },
   {
    "duration": 5,
    "start_time": "2022-05-13T20:37:36.760Z"
   },
   {
    "duration": 12,
    "start_time": "2022-05-13T20:37:57.415Z"
   },
   {
    "duration": 7,
    "start_time": "2022-05-13T20:38:02.815Z"
   },
   {
    "duration": 4,
    "start_time": "2022-05-13T20:40:09.701Z"
   },
   {
    "duration": 12,
    "start_time": "2022-05-13T20:40:13.226Z"
   },
   {
    "duration": 7,
    "start_time": "2022-05-13T20:40:22.127Z"
   },
   {
    "duration": 6,
    "start_time": "2022-05-13T20:40:37.777Z"
   },
   {
    "duration": 15,
    "start_time": "2022-05-13T20:40:41.579Z"
   },
   {
    "duration": 6,
    "start_time": "2022-05-13T20:40:42.322Z"
   },
   {
    "duration": 3,
    "start_time": "2022-05-13T20:40:43.472Z"
   },
   {
    "duration": 14,
    "start_time": "2022-05-13T20:40:44.523Z"
   },
   {
    "duration": 6,
    "start_time": "2022-05-13T20:40:46.448Z"
   },
   {
    "duration": 24696,
    "start_time": "2022-05-13T20:43:08.801Z"
   },
   {
    "duration": 1203,
    "start_time": "2022-05-13T20:44:58.312Z"
   },
   {
    "duration": 4,
    "start_time": "2022-05-13T20:45:05.966Z"
   },
   {
    "duration": 3,
    "start_time": "2022-05-13T20:45:14.901Z"
   },
   {
    "duration": 3,
    "start_time": "2022-05-13T20:45:20.236Z"
   },
   {
    "duration": 5,
    "start_time": "2022-05-13T20:45:25.306Z"
   },
   {
    "duration": 4,
    "start_time": "2022-05-13T20:45:37.833Z"
   },
   {
    "duration": 3104,
    "start_time": "2022-05-13T20:46:57.802Z"
   },
   {
    "duration": 141,
    "start_time": "2022-05-13T20:47:00.909Z"
   },
   {
    "duration": 823,
    "start_time": "2022-05-13T20:47:01.052Z"
   },
   {
    "duration": 6,
    "start_time": "2022-05-13T20:47:01.876Z"
   },
   {
    "duration": 43,
    "start_time": "2022-05-13T20:47:01.889Z"
   },
   {
    "duration": 28,
    "start_time": "2022-05-13T20:47:01.935Z"
   },
   {
    "duration": 135,
    "start_time": "2022-05-13T20:47:01.964Z"
   },
   {
    "duration": 4,
    "start_time": "2022-05-13T20:47:02.100Z"
   },
   {
    "duration": 19,
    "start_time": "2022-05-13T20:47:02.106Z"
   },
   {
    "duration": 5,
    "start_time": "2022-05-13T20:47:02.127Z"
   },
   {
    "duration": 10,
    "start_time": "2022-05-13T20:47:02.134Z"
   },
   {
    "duration": 24,
    "start_time": "2022-05-13T20:47:02.146Z"
   },
   {
    "duration": 26,
    "start_time": "2022-05-13T20:47:02.172Z"
   },
   {
    "duration": 78,
    "start_time": "2022-05-13T20:47:02.202Z"
   },
   {
    "duration": 23,
    "start_time": "2022-05-13T20:47:02.282Z"
   },
   {
    "duration": 30,
    "start_time": "2022-05-13T20:47:02.307Z"
   },
   {
    "duration": 2,
    "start_time": "2022-05-13T20:47:02.339Z"
   },
   {
    "duration": 26,
    "start_time": "2022-05-13T20:47:02.342Z"
   },
   {
    "duration": 5378,
    "start_time": "2022-05-13T20:47:02.370Z"
   },
   {
    "duration": 4,
    "start_time": "2022-05-13T20:47:07.749Z"
   },
   {
    "duration": 3984,
    "start_time": "2022-05-13T20:47:07.754Z"
   },
   {
    "duration": 228,
    "start_time": "2022-05-13T20:47:11.739Z"
   },
   {
    "duration": 180,
    "start_time": "2022-05-13T20:47:11.968Z"
   },
   {
    "duration": 0,
    "start_time": "2022-05-13T20:47:12.150Z"
   },
   {
    "duration": 0,
    "start_time": "2022-05-13T20:47:12.151Z"
   },
   {
    "duration": 0,
    "start_time": "2022-05-13T20:47:12.152Z"
   },
   {
    "duration": 0,
    "start_time": "2022-05-13T20:47:12.153Z"
   },
   {
    "duration": 0,
    "start_time": "2022-05-13T20:47:12.154Z"
   },
   {
    "duration": 0,
    "start_time": "2022-05-13T20:47:12.155Z"
   },
   {
    "duration": 0,
    "start_time": "2022-05-13T20:47:12.155Z"
   },
   {
    "duration": 0,
    "start_time": "2022-05-13T20:47:12.156Z"
   },
   {
    "duration": 0,
    "start_time": "2022-05-13T20:47:12.157Z"
   },
   {
    "duration": 0,
    "start_time": "2022-05-13T20:47:12.158Z"
   },
   {
    "duration": 0,
    "start_time": "2022-05-13T20:47:12.160Z"
   },
   {
    "duration": 0,
    "start_time": "2022-05-13T20:47:12.161Z"
   },
   {
    "duration": 0,
    "start_time": "2022-05-13T20:47:12.162Z"
   },
   {
    "duration": 0,
    "start_time": "2022-05-13T20:47:12.163Z"
   },
   {
    "duration": 0,
    "start_time": "2022-05-13T20:47:12.163Z"
   },
   {
    "duration": 0,
    "start_time": "2022-05-13T20:47:12.164Z"
   },
   {
    "duration": 0,
    "start_time": "2022-05-13T20:47:12.164Z"
   },
   {
    "duration": 0,
    "start_time": "2022-05-13T20:47:12.165Z"
   },
   {
    "duration": 0,
    "start_time": "2022-05-13T20:47:12.165Z"
   },
   {
    "duration": 0,
    "start_time": "2022-05-13T20:47:12.166Z"
   },
   {
    "duration": 0,
    "start_time": "2022-05-13T20:47:12.166Z"
   },
   {
    "duration": 0,
    "start_time": "2022-05-13T20:47:12.195Z"
   },
   {
    "duration": 0,
    "start_time": "2022-05-13T20:47:12.196Z"
   },
   {
    "duration": 0,
    "start_time": "2022-05-13T20:47:12.198Z"
   },
   {
    "duration": 0,
    "start_time": "2022-05-13T20:47:12.199Z"
   },
   {
    "duration": 0,
    "start_time": "2022-05-13T20:47:12.200Z"
   },
   {
    "duration": 0,
    "start_time": "2022-05-13T20:47:12.201Z"
   },
   {
    "duration": 0,
    "start_time": "2022-05-13T20:47:12.202Z"
   },
   {
    "duration": 0,
    "start_time": "2022-05-13T20:47:12.204Z"
   },
   {
    "duration": 0,
    "start_time": "2022-05-13T20:47:12.205Z"
   },
   {
    "duration": 0,
    "start_time": "2022-05-13T20:47:12.206Z"
   },
   {
    "duration": 0,
    "start_time": "2022-05-13T20:47:12.207Z"
   },
   {
    "duration": 0,
    "start_time": "2022-05-13T20:47:12.209Z"
   },
   {
    "duration": 0,
    "start_time": "2022-05-13T20:47:12.210Z"
   },
   {
    "duration": 0,
    "start_time": "2022-05-13T20:47:12.211Z"
   },
   {
    "duration": 0,
    "start_time": "2022-05-13T20:47:12.212Z"
   },
   {
    "duration": 0,
    "start_time": "2022-05-13T20:47:12.214Z"
   },
   {
    "duration": 0,
    "start_time": "2022-05-13T20:47:12.215Z"
   },
   {
    "duration": 0,
    "start_time": "2022-05-13T20:47:12.216Z"
   },
   {
    "duration": 0,
    "start_time": "2022-05-13T20:47:12.218Z"
   },
   {
    "duration": 7,
    "start_time": "2022-05-13T20:52:44.829Z"
   },
   {
    "duration": 3,
    "start_time": "2022-05-13T20:52:46.520Z"
   },
   {
    "duration": 2,
    "start_time": "2022-05-13T20:52:53.456Z"
   },
   {
    "duration": 2147,
    "start_time": "2022-05-13T20:54:35.959Z"
   },
   {
    "duration": 4,
    "start_time": "2022-05-13T20:54:57.173Z"
   },
   {
    "duration": 1848,
    "start_time": "2022-05-13T20:55:08.751Z"
   },
   {
    "duration": 603,
    "start_time": "2022-05-13T20:56:48.622Z"
   },
   {
    "duration": 609,
    "start_time": "2022-05-13T20:57:19.469Z"
   },
   {
    "duration": 300,
    "start_time": "2022-05-13T20:57:54.701Z"
   },
   {
    "duration": 308,
    "start_time": "2022-05-13T20:58:38.811Z"
   },
   {
    "duration": 59,
    "start_time": "2022-05-13T21:00:04.919Z"
   },
   {
    "duration": 57,
    "start_time": "2022-05-13T21:01:00.367Z"
   },
   {
    "duration": 110,
    "start_time": "2022-05-13T21:03:31.368Z"
   },
   {
    "duration": 115,
    "start_time": "2022-05-13T21:04:07.831Z"
   },
   {
    "duration": 1560,
    "start_time": "2022-05-13T21:05:51.461Z"
   },
   {
    "duration": 704,
    "start_time": "2022-05-13T21:09:33.924Z"
   },
   {
    "duration": 4,
    "start_time": "2022-05-13T21:09:35.292Z"
   },
   {
    "duration": 21,
    "start_time": "2022-05-13T21:09:35.976Z"
   },
   {
    "duration": 3658,
    "start_time": "2022-05-13T21:09:38.405Z"
   },
   {
    "duration": 6,
    "start_time": "2022-05-13T21:09:45.348Z"
   },
   {
    "duration": 10,
    "start_time": "2022-05-13T21:13:50.859Z"
   },
   {
    "duration": 3,
    "start_time": "2022-05-13T21:14:17.951Z"
   },
   {
    "duration": 5,
    "start_time": "2022-05-13T21:14:55.354Z"
   },
   {
    "duration": 4,
    "start_time": "2022-05-13T21:15:23.687Z"
   },
   {
    "duration": 9,
    "start_time": "2022-05-13T21:16:31.407Z"
   },
   {
    "duration": 3,
    "start_time": "2022-05-13T21:16:43.831Z"
   },
   {
    "duration": 2,
    "start_time": "2022-05-13T21:16:44.753Z"
   },
   {
    "duration": 202,
    "start_time": "2022-05-13T21:16:59.328Z"
   },
   {
    "duration": 4,
    "start_time": "2022-05-13T21:17:04.445Z"
   },
   {
    "duration": 1484,
    "start_time": "2022-05-13T21:18:40.921Z"
   },
   {
    "duration": 4,
    "start_time": "2022-05-13T21:21:39.122Z"
   },
   {
    "duration": 18,
    "start_time": "2022-05-13T21:21:39.725Z"
   },
   {
    "duration": 4,
    "start_time": "2022-05-13T21:21:54.236Z"
   },
   {
    "duration": 5,
    "start_time": "2022-05-13T21:21:54.242Z"
   },
   {
    "duration": 707,
    "start_time": "2022-05-13T21:21:54.854Z"
   },
   {
    "duration": 5,
    "start_time": "2022-05-13T21:21:55.971Z"
   },
   {
    "duration": 22,
    "start_time": "2022-05-13T21:21:56.612Z"
   },
   {
    "duration": 3621,
    "start_time": "2022-05-13T21:21:58.028Z"
   },
   {
    "duration": 8,
    "start_time": "2022-05-13T21:22:03.221Z"
   },
   {
    "duration": 4,
    "start_time": "2022-05-13T21:22:04.436Z"
   },
   {
    "duration": 8,
    "start_time": "2022-05-13T21:22:06.420Z"
   },
   {
    "duration": 4,
    "start_time": "2022-05-13T21:22:07.707Z"
   },
   {
    "duration": 2,
    "start_time": "2022-05-13T21:22:08.259Z"
   },
   {
    "duration": 192,
    "start_time": "2022-05-13T21:22:09.162Z"
   },
   {
    "duration": 1469,
    "start_time": "2022-05-13T21:22:11.256Z"
   },
   {
    "duration": 4,
    "start_time": "2022-05-13T21:24:10.933Z"
   },
   {
    "duration": 5,
    "start_time": "2022-05-13T21:25:04.171Z"
   },
   {
    "duration": 6,
    "start_time": "2022-05-13T21:25:51.402Z"
   },
   {
    "duration": 2904,
    "start_time": "2022-05-13T21:26:40.455Z"
   },
   {
    "duration": 145,
    "start_time": "2022-05-13T21:26:45.084Z"
   },
   {
    "duration": 760,
    "start_time": "2022-05-13T21:26:46.968Z"
   },
   {
    "duration": 5,
    "start_time": "2022-05-13T21:26:48.246Z"
   },
   {
    "duration": 23,
    "start_time": "2022-05-13T21:26:48.892Z"
   },
   {
    "duration": 4,
    "start_time": "2022-05-13T21:26:52.302Z"
   },
   {
    "duration": 4,
    "start_time": "2022-05-13T21:26:57.212Z"
   },
   {
    "duration": 3,
    "start_time": "2022-05-13T21:27:13.695Z"
   },
   {
    "duration": 269,
    "start_time": "2022-05-13T21:27:14.482Z"
   },
   {
    "duration": 8694,
    "start_time": "2022-05-13T21:27:47.587Z"
   },
   {
    "duration": 14,
    "start_time": "2022-05-13T21:28:08.485Z"
   },
   {
    "duration": 7645,
    "start_time": "2022-05-13T21:28:23.116Z"
   },
   {
    "duration": 10,
    "start_time": "2022-05-13T21:28:32.435Z"
   },
   {
    "duration": 4,
    "start_time": "2022-05-13T21:28:36.218Z"
   },
   {
    "duration": 269,
    "start_time": "2022-05-13T21:29:25.395Z"
   },
   {
    "duration": 79,
    "start_time": "2022-05-13T21:29:51.516Z"
   },
   {
    "duration": 100,
    "start_time": "2022-05-13T21:30:01.991Z"
   },
   {
    "duration": 83,
    "start_time": "2022-05-13T21:30:11.928Z"
   },
   {
    "duration": 83,
    "start_time": "2022-05-13T21:30:24.041Z"
   },
   {
    "duration": 83,
    "start_time": "2022-05-13T21:30:32.676Z"
   },
   {
    "duration": 79,
    "start_time": "2022-05-13T21:30:39.395Z"
   },
   {
    "duration": 79,
    "start_time": "2022-05-13T21:31:23.352Z"
   },
   {
    "duration": 87,
    "start_time": "2022-05-13T21:32:12.289Z"
   },
   {
    "duration": 5,
    "start_time": "2022-05-13T21:32:40.673Z"
   },
   {
    "duration": 4,
    "start_time": "2022-05-13T21:32:41.130Z"
   },
   {
    "duration": 716,
    "start_time": "2022-05-13T21:32:41.339Z"
   },
   {
    "duration": 4,
    "start_time": "2022-05-13T21:32:42.058Z"
   },
   {
    "duration": 30,
    "start_time": "2022-05-13T21:32:42.063Z"
   },
   {
    "duration": 80,
    "start_time": "2022-05-13T21:32:43.222Z"
   },
   {
    "duration": 4,
    "start_time": "2022-05-13T21:32:44.824Z"
   },
   {
    "duration": 3,
    "start_time": "2022-05-13T21:32:45.474Z"
   },
   {
    "duration": 7623,
    "start_time": "2022-05-13T21:32:45.678Z"
   },
   {
    "duration": 7407,
    "start_time": "2022-05-13T21:32:53.303Z"
   },
   {
    "duration": 9,
    "start_time": "2022-05-13T21:33:00.712Z"
   },
   {
    "duration": 98,
    "start_time": "2022-05-13T21:33:00.723Z"
   },
   {
    "duration": 4,
    "start_time": "2022-05-13T21:33:15.302Z"
   },
   {
    "duration": 3,
    "start_time": "2022-05-13T21:33:18.353Z"
   },
   {
    "duration": 5,
    "start_time": "2022-05-13T21:33:22.113Z"
   },
   {
    "duration": 5,
    "start_time": "2022-05-13T21:33:22.275Z"
   },
   {
    "duration": 713,
    "start_time": "2022-05-13T21:33:22.441Z"
   },
   {
    "duration": 4,
    "start_time": "2022-05-13T21:33:23.156Z"
   },
   {
    "duration": 34,
    "start_time": "2022-05-13T21:33:23.161Z"
   },
   {
    "duration": 89,
    "start_time": "2022-05-13T21:33:23.199Z"
   },
   {
    "duration": 3,
    "start_time": "2022-05-13T21:33:23.290Z"
   },
   {
    "duration": 8,
    "start_time": "2022-05-13T21:33:23.295Z"
   },
   {
    "duration": 7324,
    "start_time": "2022-05-13T21:33:23.394Z"
   },
   {
    "duration": 3,
    "start_time": "2022-05-13T21:33:30.720Z"
   },
   {
    "duration": 24,
    "start_time": "2022-05-13T21:33:30.724Z"
   },
   {
    "duration": 86,
    "start_time": "2022-05-13T21:33:30.750Z"
   },
   {
    "duration": 4,
    "start_time": "2022-05-13T21:33:32.991Z"
   },
   {
    "duration": 9,
    "start_time": "2022-05-13T21:33:33.933Z"
   },
   {
    "duration": 80,
    "start_time": "2022-05-13T21:34:37.278Z"
   },
   {
    "duration": 10,
    "start_time": "2022-05-13T21:34:45.567Z"
   },
   {
    "duration": 80,
    "start_time": "2022-05-13T21:34:46.949Z"
   },
   {
    "duration": 27,
    "start_time": "2022-05-13T21:34:52.299Z"
   },
   {
    "duration": 75,
    "start_time": "2022-05-13T21:34:54.848Z"
   },
   {
    "duration": 110,
    "start_time": "2022-05-13T21:35:00.703Z"
   },
   {
    "duration": 13,
    "start_time": "2022-05-13T21:35:07.501Z"
   },
   {
    "duration": 79,
    "start_time": "2022-05-13T21:35:08.246Z"
   },
   {
    "duration": 4,
    "start_time": "2022-05-13T21:35:09.335Z"
   },
   {
    "duration": 8,
    "start_time": "2022-05-13T21:35:16.944Z"
   },
   {
    "duration": 76,
    "start_time": "2022-05-13T21:35:18.201Z"
   },
   {
    "duration": 9,
    "start_time": "2022-05-13T21:35:23.957Z"
   },
   {
    "duration": 83,
    "start_time": "2022-05-13T21:35:24.438Z"
   },
   {
    "duration": 4,
    "start_time": "2022-05-13T21:35:24.926Z"
   },
   {
    "duration": 10,
    "start_time": "2022-05-13T21:35:25.357Z"
   },
   {
    "duration": 10,
    "start_time": "2022-05-13T21:35:28.661Z"
   },
   {
    "duration": 81,
    "start_time": "2022-05-13T21:35:28.802Z"
   },
   {
    "duration": 4,
    "start_time": "2022-05-13T21:35:28.942Z"
   },
   {
    "duration": 9,
    "start_time": "2022-05-13T21:35:33.695Z"
   },
   {
    "duration": 79,
    "start_time": "2022-05-13T21:35:34.494Z"
   },
   {
    "duration": 3,
    "start_time": "2022-05-13T21:35:40.350Z"
   },
   {
    "duration": 3,
    "start_time": "2022-05-13T21:35:41.845Z"
   },
   {
    "duration": 396,
    "start_time": "2022-05-13T21:35:43.197Z"
   },
   {
    "duration": 4438,
    "start_time": "2022-05-13T21:35:45.127Z"
   },
   {
    "duration": 7,
    "start_time": "2022-05-13T21:35:49.567Z"
   },
   {
    "duration": 9139,
    "start_time": "2022-05-13T21:36:22.493Z"
   },
   {
    "duration": 7,
    "start_time": "2022-05-13T21:36:31.634Z"
   },
   {
    "duration": 6429,
    "start_time": "2022-05-13T21:36:53.448Z"
   },
   {
    "duration": 10,
    "start_time": "2022-05-13T21:36:59.879Z"
   },
   {
    "duration": 15,
    "start_time": "2022-05-13T21:38:10.873Z"
   },
   {
    "duration": 4,
    "start_time": "2022-05-13T21:38:26.859Z"
   },
   {
    "duration": 180,
    "start_time": "2022-05-13T21:40:41.719Z"
   },
   {
    "duration": 258,
    "start_time": "2022-05-13T21:40:58.249Z"
   },
   {
    "duration": 16781,
    "start_time": "2022-05-13T21:41:13.744Z"
   },
   {
    "duration": 5,
    "start_time": "2022-05-13T21:43:53.481Z"
   },
   {
    "duration": 41301,
    "start_time": "2022-05-13T21:43:54.123Z"
   },
   {
    "duration": 4,
    "start_time": "2022-05-13T21:59:51.013Z"
   },
   {
    "duration": 104,
    "start_time": "2022-05-13T21:59:52.735Z"
   },
   {
    "duration": 4,
    "start_time": "2022-05-13T22:00:05.283Z"
   },
   {
    "duration": 4,
    "start_time": "2022-05-13T22:04:33.337Z"
   },
   {
    "duration": 4,
    "start_time": "2022-05-13T22:04:36.549Z"
   },
   {
    "duration": 44431,
    "start_time": "2022-05-13T22:04:42.828Z"
   },
   {
    "duration": 43718,
    "start_time": "2022-05-13T22:05:37.320Z"
   },
   {
    "duration": 182,
    "start_time": "2022-05-13T22:08:20.040Z"
   },
   {
    "duration": 613124,
    "start_time": "2022-05-13T22:08:44.854Z"
   },
   {
    "duration": 3,
    "start_time": "2022-05-13T22:20:33.610Z"
   },
   {
    "duration": 4,
    "start_time": "2022-05-13T22:20:34.446Z"
   },
   {
    "duration": 4,
    "start_time": "2022-05-13T22:20:35.501Z"
   },
   {
    "duration": 5564,
    "start_time": "2022-05-13T22:20:36.479Z"
   },
   {
    "duration": 4,
    "start_time": "2022-05-13T22:22:14.066Z"
   },
   {
    "duration": 6815,
    "start_time": "2022-05-13T22:22:15.313Z"
   },
   {
    "duration": 6747,
    "start_time": "2022-05-13T22:23:35.035Z"
   },
   {
    "duration": 5,
    "start_time": "2022-05-13T22:24:02.469Z"
   },
   {
    "duration": 6,
    "start_time": "2022-05-13T22:24:23.608Z"
   },
   {
    "duration": 6,
    "start_time": "2022-05-13T22:24:40.264Z"
   },
   {
    "duration": 6852,
    "start_time": "2022-05-13T22:24:53.428Z"
   },
   {
    "duration": 5,
    "start_time": "2022-05-13T22:25:09.984Z"
   },
   {
    "duration": 5,
    "start_time": "2022-05-13T22:27:31.508Z"
   },
   {
    "duration": 4,
    "start_time": "2022-05-13T22:27:32.901Z"
   },
   {
    "duration": 6772,
    "start_time": "2022-05-13T22:27:36.275Z"
   },
   {
    "duration": 5535,
    "start_time": "2022-05-13T22:29:11.396Z"
   },
   {
    "duration": 126,
    "start_time": "2022-05-13T22:32:14.972Z"
   },
   {
    "duration": 5,
    "start_time": "2022-05-13T22:32:24.880Z"
   },
   {
    "duration": 3,
    "start_time": "2022-05-13T22:32:26.105Z"
   },
   {
    "duration": 6972,
    "start_time": "2022-05-13T22:32:30.157Z"
   },
   {
    "duration": 4,
    "start_time": "2022-05-13T22:33:24.873Z"
   },
   {
    "duration": 4,
    "start_time": "2022-05-13T22:33:25.585Z"
   },
   {
    "duration": 5560,
    "start_time": "2022-05-13T22:33:26.455Z"
   },
   {
    "duration": 4,
    "start_time": "2022-05-13T22:34:09.200Z"
   },
   {
    "duration": 4,
    "start_time": "2022-05-13T22:34:09.849Z"
   },
   {
    "duration": 5406,
    "start_time": "2022-05-13T22:34:10.426Z"
   },
   {
    "duration": 5,
    "start_time": "2022-05-13T22:36:37.297Z"
   },
   {
    "duration": 3,
    "start_time": "2022-05-13T22:36:38.163Z"
   },
   {
    "duration": 6641,
    "start_time": "2022-05-13T22:36:38.882Z"
   },
   {
    "duration": 3,
    "start_time": "2022-05-13T22:38:05.540Z"
   },
   {
    "duration": 5512,
    "start_time": "2022-05-13T22:38:06.645Z"
   },
   {
    "duration": 10,
    "start_time": "2022-05-13T22:38:59.724Z"
   },
   {
    "duration": 84,
    "start_time": "2022-05-13T22:39:01.496Z"
   },
   {
    "duration": 4,
    "start_time": "2022-05-13T22:39:01.722Z"
   },
   {
    "duration": 9,
    "start_time": "2022-05-13T22:39:01.899Z"
   },
   {
    "duration": 83,
    "start_time": "2022-05-13T22:39:02.067Z"
   },
   {
    "duration": 3,
    "start_time": "2022-05-13T22:39:02.274Z"
   },
   {
    "duration": 3,
    "start_time": "2022-05-13T22:39:06.062Z"
   },
   {
    "duration": 386,
    "start_time": "2022-05-13T22:39:07.723Z"
   },
   {
    "duration": 4,
    "start_time": "2022-05-13T22:39:18.701Z"
   },
   {
    "duration": 3,
    "start_time": "2022-05-13T22:39:19.277Z"
   },
   {
    "duration": 4,
    "start_time": "2022-05-13T22:39:20.108Z"
   },
   {
    "duration": 4,
    "start_time": "2022-05-13T22:39:21.964Z"
   },
   {
    "duration": 5126,
    "start_time": "2022-05-13T22:39:22.751Z"
   },
   {
    "duration": 3,
    "start_time": "2022-05-13T22:40:56.269Z"
   },
   {
    "duration": 6773,
    "start_time": "2022-05-13T22:40:56.998Z"
   },
   {
    "duration": 5,
    "start_time": "2022-05-13T22:41:58.227Z"
   },
   {
    "duration": 5829,
    "start_time": "2022-05-13T22:41:59.076Z"
   },
   {
    "duration": 8,
    "start_time": "2022-05-13T22:42:22.488Z"
   },
   {
    "duration": 80,
    "start_time": "2022-05-13T22:42:23.302Z"
   },
   {
    "duration": 4,
    "start_time": "2022-05-13T22:42:23.792Z"
   },
   {
    "duration": 9,
    "start_time": "2022-05-13T22:42:24.776Z"
   },
   {
    "duration": 84,
    "start_time": "2022-05-13T22:42:27.527Z"
   },
   {
    "duration": 4,
    "start_time": "2022-05-13T22:42:28.243Z"
   },
   {
    "duration": 3,
    "start_time": "2022-05-13T22:42:28.827Z"
   },
   {
    "duration": 758,
    "start_time": "2022-05-13T22:42:29.340Z"
   },
   {
    "duration": 3,
    "start_time": "2022-05-13T22:42:35.516Z"
   },
   {
    "duration": 3,
    "start_time": "2022-05-13T22:42:36.021Z"
   },
   {
    "duration": 4,
    "start_time": "2022-05-13T22:42:36.532Z"
   },
   {
    "duration": 4,
    "start_time": "2022-05-13T22:42:39.821Z"
   },
   {
    "duration": 6782,
    "start_time": "2022-05-13T22:43:02.984Z"
   },
   {
    "duration": 6,
    "start_time": "2022-05-13T22:44:18.864Z"
   },
   {
    "duration": 4,
    "start_time": "2022-05-13T22:44:20.217Z"
   },
   {
    "duration": 4,
    "start_time": "2022-05-13T22:44:22.846Z"
   },
   {
    "duration": 21,
    "start_time": "2022-05-13T22:44:23.453Z"
   },
   {
    "duration": 3,
    "start_time": "2022-05-13T22:44:54.160Z"
   },
   {
    "duration": 4,
    "start_time": "2022-05-13T22:44:58.367Z"
   },
   {
    "duration": 3,
    "start_time": "2022-05-13T22:44:59.062Z"
   },
   {
    "duration": 27619,
    "start_time": "2022-05-13T22:45:01.984Z"
   },
   {
    "duration": 9,
    "start_time": "2022-05-13T22:45:43.647Z"
   },
   {
    "duration": 83,
    "start_time": "2022-05-13T22:45:44.085Z"
   },
   {
    "duration": 4,
    "start_time": "2022-05-13T22:45:44.307Z"
   },
   {
    "duration": 9,
    "start_time": "2022-05-13T22:45:44.493Z"
   },
   {
    "duration": 81,
    "start_time": "2022-05-13T22:45:44.686Z"
   },
   {
    "duration": 3,
    "start_time": "2022-05-13T22:45:44.870Z"
   },
   {
    "duration": 4,
    "start_time": "2022-05-13T22:45:45.806Z"
   },
   {
    "duration": 384,
    "start_time": "2022-05-13T22:45:46.701Z"
   },
   {
    "duration": 4,
    "start_time": "2022-05-13T22:45:54.166Z"
   },
   {
    "duration": 5,
    "start_time": "2022-05-13T22:45:54.823Z"
   },
   {
    "duration": 5,
    "start_time": "2022-05-13T22:45:55.404Z"
   },
   {
    "duration": 4,
    "start_time": "2022-05-13T22:45:56.215Z"
   },
   {
    "duration": 28609,
    "start_time": "2022-05-13T22:45:57.325Z"
   },
   {
    "duration": 116,
    "start_time": "2022-05-13T22:48:17.127Z"
   },
   {
    "duration": 4,
    "start_time": "2022-05-13T22:48:52.322Z"
   },
   {
    "duration": 4,
    "start_time": "2022-05-13T22:48:53.157Z"
   },
   {
    "duration": 4,
    "start_time": "2022-05-13T22:48:53.791Z"
   },
   {
    "duration": 129618,
    "start_time": "2022-05-13T22:48:54.346Z"
   },
   {
    "duration": 9,
    "start_time": "2022-05-13T22:51:36.524Z"
   },
   {
    "duration": 83,
    "start_time": "2022-05-13T22:51:36.695Z"
   },
   {
    "duration": 4,
    "start_time": "2022-05-13T22:51:36.863Z"
   },
   {
    "duration": 11,
    "start_time": "2022-05-13T22:51:37.000Z"
   },
   {
    "duration": 83,
    "start_time": "2022-05-13T22:51:37.170Z"
   },
   {
    "duration": 3,
    "start_time": "2022-05-13T22:51:37.328Z"
   },
   {
    "duration": 5,
    "start_time": "2022-05-13T22:51:38.529Z"
   },
   {
    "duration": 386,
    "start_time": "2022-05-13T22:51:39.472Z"
   },
   {
    "duration": 3,
    "start_time": "2022-05-13T22:51:57.756Z"
   },
   {
    "duration": 8,
    "start_time": "2022-05-13T22:51:57.761Z"
   },
   {
    "duration": 13,
    "start_time": "2022-05-13T22:51:57.771Z"
   },
   {
    "duration": 10,
    "start_time": "2022-05-13T22:51:57.785Z"
   },
   {
    "duration": 360405,
    "start_time": "2022-05-13T22:51:57.797Z"
   },
   {
    "duration": 3,
    "start_time": "2022-05-13T23:06:23.260Z"
   },
   {
    "duration": 5,
    "start_time": "2022-05-13T23:06:24.282Z"
   },
   {
    "duration": 4,
    "start_time": "2022-05-13T23:06:25.714Z"
   },
   {
    "duration": 109464,
    "start_time": "2022-05-13T23:06:26.601Z"
   },
   {
    "duration": 9,
    "start_time": "2022-05-13T23:13:09.551Z"
   },
   {
    "duration": 85,
    "start_time": "2022-05-13T23:13:09.812Z"
   },
   {
    "duration": 4,
    "start_time": "2022-05-13T23:13:10.001Z"
   },
   {
    "duration": 8,
    "start_time": "2022-05-13T23:13:10.155Z"
   },
   {
    "duration": 79,
    "start_time": "2022-05-13T23:13:10.321Z"
   },
   {
    "duration": 3,
    "start_time": "2022-05-13T23:13:10.486Z"
   },
   {
    "duration": 3,
    "start_time": "2022-05-13T23:13:10.636Z"
   },
   {
    "duration": 407,
    "start_time": "2022-05-13T23:13:11.681Z"
   },
   {
    "duration": 4,
    "start_time": "2022-05-13T23:13:18.882Z"
   },
   {
    "duration": 3,
    "start_time": "2022-05-13T23:13:19.405Z"
   },
   {
    "duration": 4,
    "start_time": "2022-05-13T23:13:19.834Z"
   },
   {
    "duration": 3,
    "start_time": "2022-05-13T23:13:20.362Z"
   },
   {
    "duration": 112330,
    "start_time": "2022-05-13T23:13:21.234Z"
   },
   {
    "duration": 2882,
    "start_time": "2022-05-13T23:16:36.698Z"
   },
   {
    "duration": 186,
    "start_time": "2022-05-13T23:16:39.583Z"
   },
   {
    "duration": 757,
    "start_time": "2022-05-13T23:16:39.771Z"
   },
   {
    "duration": 5,
    "start_time": "2022-05-13T23:16:40.530Z"
   },
   {
    "duration": 26,
    "start_time": "2022-05-13T23:16:40.538Z"
   },
   {
    "duration": 106,
    "start_time": "2022-05-13T23:16:40.567Z"
   },
   {
    "duration": 13,
    "start_time": "2022-05-13T23:16:40.675Z"
   },
   {
    "duration": 6,
    "start_time": "2022-05-13T23:16:40.690Z"
   },
   {
    "duration": 15694,
    "start_time": "2022-05-13T23:16:40.697Z"
   },
   {
    "duration": 6,
    "start_time": "2022-05-13T23:16:56.392Z"
   },
   {
    "duration": 14,
    "start_time": "2022-05-13T23:16:56.400Z"
   },
   {
    "duration": 99,
    "start_time": "2022-05-13T23:16:56.416Z"
   },
   {
    "duration": 5,
    "start_time": "2022-05-13T23:16:56.517Z"
   },
   {
    "duration": 11,
    "start_time": "2022-05-13T23:16:56.525Z"
   },
   {
    "duration": 101,
    "start_time": "2022-05-13T23:16:56.538Z"
   },
   {
    "duration": 4,
    "start_time": "2022-05-13T23:16:56.641Z"
   },
   {
    "duration": 5,
    "start_time": "2022-05-13T23:16:56.647Z"
   },
   {
    "duration": 781,
    "start_time": "2022-05-13T23:16:56.654Z"
   },
   {
    "duration": 17186,
    "start_time": "2022-05-13T23:16:57.437Z"
   },
   {
    "duration": 7,
    "start_time": "2022-05-13T23:17:14.625Z"
   },
   {
    "duration": 5,
    "start_time": "2022-05-13T23:17:14.634Z"
   },
   {
    "duration": 109365,
    "start_time": "2022-05-13T23:17:14.641Z"
   },
   {
    "duration": 3,
    "start_time": "2022-05-13T23:19:04.008Z"
   },
   {
    "duration": 11,
    "start_time": "2022-05-13T23:19:04.013Z"
   },
   {
    "duration": 16,
    "start_time": "2022-05-13T23:19:04.025Z"
   },
   {
    "duration": 11,
    "start_time": "2022-05-13T23:19:04.043Z"
   },
   {
    "duration": 413929,
    "start_time": "2022-05-13T23:19:04.055Z"
   },
   {
    "duration": 24,
    "start_time": "2022-05-13T23:25:57.987Z"
   },
   {
    "duration": 3,
    "start_time": "2022-05-13T23:25:58.012Z"
   },
   {
    "duration": 7,
    "start_time": "2022-05-13T23:25:58.017Z"
   },
   {
    "duration": 6,
    "start_time": "2022-05-13T23:25:58.026Z"
   },
   {
    "duration": 8,
    "start_time": "2022-05-13T23:25:58.033Z"
   },
   {
    "duration": 8,
    "start_time": "2022-05-13T23:25:58.042Z"
   },
   {
    "duration": 5,
    "start_time": "2022-05-13T23:25:58.051Z"
   },
   {
    "duration": 8,
    "start_time": "2022-05-13T23:25:58.058Z"
   },
   {
    "duration": 165,
    "start_time": "2022-05-13T23:25:58.068Z"
   },
   {
    "duration": 0,
    "start_time": "2022-05-13T23:25:58.235Z"
   },
   {
    "duration": 0,
    "start_time": "2022-05-13T23:25:58.236Z"
   },
   {
    "duration": 0,
    "start_time": "2022-05-13T23:25:58.237Z"
   },
   {
    "duration": 0,
    "start_time": "2022-05-13T23:25:58.239Z"
   },
   {
    "duration": 0,
    "start_time": "2022-05-13T23:25:58.240Z"
   },
   {
    "duration": 0,
    "start_time": "2022-05-13T23:25:58.241Z"
   },
   {
    "duration": 0,
    "start_time": "2022-05-13T23:25:58.242Z"
   },
   {
    "duration": 0,
    "start_time": "2022-05-13T23:25:58.243Z"
   },
   {
    "duration": 0,
    "start_time": "2022-05-13T23:25:58.244Z"
   },
   {
    "duration": 0,
    "start_time": "2022-05-13T23:25:58.245Z"
   },
   {
    "duration": 0,
    "start_time": "2022-05-13T23:25:58.246Z"
   },
   {
    "duration": 0,
    "start_time": "2022-05-13T23:25:58.247Z"
   },
   {
    "duration": 0,
    "start_time": "2022-05-13T23:25:58.248Z"
   },
   {
    "duration": 0,
    "start_time": "2022-05-13T23:25:58.249Z"
   },
   {
    "duration": 0,
    "start_time": "2022-05-13T23:25:58.250Z"
   },
   {
    "duration": 0,
    "start_time": "2022-05-13T23:25:58.251Z"
   },
   {
    "duration": 0,
    "start_time": "2022-05-13T23:25:58.252Z"
   },
   {
    "duration": 0,
    "start_time": "2022-05-13T23:25:58.253Z"
   },
   {
    "duration": 0,
    "start_time": "2022-05-13T23:25:58.254Z"
   },
   {
    "duration": 0,
    "start_time": "2022-05-13T23:25:58.288Z"
   },
   {
    "duration": 0,
    "start_time": "2022-05-13T23:25:58.289Z"
   },
   {
    "duration": 0,
    "start_time": "2022-05-13T23:25:58.290Z"
   },
   {
    "duration": 0,
    "start_time": "2022-05-13T23:25:58.292Z"
   },
   {
    "duration": 0,
    "start_time": "2022-05-13T23:25:58.293Z"
   },
   {
    "duration": 0,
    "start_time": "2022-05-13T23:25:58.294Z"
   },
   {
    "duration": 0,
    "start_time": "2022-05-13T23:25:58.295Z"
   },
   {
    "duration": 0,
    "start_time": "2022-05-13T23:25:58.296Z"
   },
   {
    "duration": 4,
    "start_time": "2022-05-13T23:28:01.951Z"
   },
   {
    "duration": 83452,
    "start_time": "2022-05-13T23:29:21.116Z"
   },
   {
    "duration": 19,
    "start_time": "2022-05-13T23:32:11.026Z"
   },
   {
    "duration": 206,
    "start_time": "2022-05-13T23:32:28.948Z"
   },
   {
    "duration": 4,
    "start_time": "2022-05-13T23:36:24.178Z"
   },
   {
    "duration": 85403,
    "start_time": "2022-05-13T23:36:25.203Z"
   },
   {
    "duration": 314,
    "start_time": "2022-05-13T23:39:35.140Z"
   },
   {
    "duration": 7,
    "start_time": "2022-05-13T23:40:04.707Z"
   },
   {
    "duration": 154043,
    "start_time": "2022-05-13T23:43:39.631Z"
   },
   {
    "duration": 2170118,
    "start_time": "2022-05-13T23:47:40.631Z"
   },
   {
    "duration": 798199,
    "start_time": "2022-05-14T00:24:11.534Z"
   },
   {
    "duration": 27353,
    "start_time": "2022-05-14T00:37:43.635Z"
   },
   {
    "duration": 5051,
    "start_time": "2022-05-16T11:02:06.343Z"
   },
   {
    "duration": 188,
    "start_time": "2022-05-16T11:02:11.396Z"
   },
   {
    "duration": 673,
    "start_time": "2022-05-16T11:02:11.585Z"
   },
   {
    "duration": 5,
    "start_time": "2022-05-16T11:02:12.262Z"
   },
   {
    "duration": 19,
    "start_time": "2022-05-16T11:02:12.269Z"
   },
   {
    "duration": 101,
    "start_time": "2022-05-16T11:02:12.290Z"
   },
   {
    "duration": 4,
    "start_time": "2022-05-16T11:02:12.392Z"
   },
   {
    "duration": 7,
    "start_time": "2022-05-16T11:02:12.397Z"
   },
   {
    "duration": 15623,
    "start_time": "2022-05-16T11:02:12.405Z"
   },
   {
    "duration": 6,
    "start_time": "2022-05-16T11:02:28.031Z"
   },
   {
    "duration": 24,
    "start_time": "2022-05-16T11:02:28.038Z"
   },
   {
    "duration": 77,
    "start_time": "2022-05-16T11:02:28.064Z"
   },
   {
    "duration": 19,
    "start_time": "2022-05-16T11:02:28.143Z"
   },
   {
    "duration": 11,
    "start_time": "2022-05-16T11:02:28.164Z"
   },
   {
    "duration": 93,
    "start_time": "2022-05-16T11:02:28.177Z"
   },
   {
    "duration": 4,
    "start_time": "2022-05-16T11:02:28.271Z"
   },
   {
    "duration": 6,
    "start_time": "2022-05-16T11:02:28.276Z"
   },
   {
    "duration": 787,
    "start_time": "2022-05-16T11:02:28.284Z"
   },
   {
    "duration": 4,
    "start_time": "2022-05-16T11:02:29.073Z"
   },
   {
    "duration": 329548,
    "start_time": "2022-05-16T11:02:29.079Z"
   },
   {
    "duration": 0,
    "start_time": "2022-05-16T11:07:58.630Z"
   },
   {
    "duration": 0,
    "start_time": "2022-05-16T11:07:58.631Z"
   },
   {
    "duration": 0,
    "start_time": "2022-05-16T11:07:58.633Z"
   },
   {
    "duration": 0,
    "start_time": "2022-05-16T11:07:58.634Z"
   },
   {
    "duration": 0,
    "start_time": "2022-05-16T11:07:58.635Z"
   },
   {
    "duration": 0,
    "start_time": "2022-05-16T11:07:58.637Z"
   },
   {
    "duration": 0,
    "start_time": "2022-05-16T11:07:58.638Z"
   },
   {
    "duration": 0,
    "start_time": "2022-05-16T11:07:58.639Z"
   },
   {
    "duration": 0,
    "start_time": "2022-05-16T11:07:58.640Z"
   },
   {
    "duration": 0,
    "start_time": "2022-05-16T11:07:58.641Z"
   },
   {
    "duration": 0,
    "start_time": "2022-05-16T11:07:58.663Z"
   },
   {
    "duration": 0,
    "start_time": "2022-05-16T11:07:58.664Z"
   },
   {
    "duration": 0,
    "start_time": "2022-05-16T11:07:58.665Z"
   },
   {
    "duration": 0,
    "start_time": "2022-05-16T11:07:58.666Z"
   },
   {
    "duration": 0,
    "start_time": "2022-05-16T11:07:58.668Z"
   },
   {
    "duration": 1,
    "start_time": "2022-05-16T11:07:58.668Z"
   },
   {
    "duration": 0,
    "start_time": "2022-05-16T11:07:58.669Z"
   },
   {
    "duration": 0,
    "start_time": "2022-05-16T11:07:58.670Z"
   },
   {
    "duration": 0,
    "start_time": "2022-05-16T11:07:58.672Z"
   },
   {
    "duration": 0,
    "start_time": "2022-05-16T11:07:58.673Z"
   },
   {
    "duration": 0,
    "start_time": "2022-05-16T11:07:58.674Z"
   },
   {
    "duration": 0,
    "start_time": "2022-05-16T11:07:58.675Z"
   },
   {
    "duration": 0,
    "start_time": "2022-05-16T11:07:58.676Z"
   },
   {
    "duration": 0,
    "start_time": "2022-05-16T11:07:58.677Z"
   },
   {
    "duration": 0,
    "start_time": "2022-05-16T11:07:58.678Z"
   },
   {
    "duration": 0,
    "start_time": "2022-05-16T11:07:58.679Z"
   },
   {
    "duration": 0,
    "start_time": "2022-05-16T11:07:58.680Z"
   },
   {
    "duration": 0,
    "start_time": "2022-05-16T11:07:58.682Z"
   },
   {
    "duration": 0,
    "start_time": "2022-05-16T11:07:58.683Z"
   },
   {
    "duration": 0,
    "start_time": "2022-05-16T11:07:58.684Z"
   },
   {
    "duration": 0,
    "start_time": "2022-05-16T11:07:58.686Z"
   },
   {
    "duration": 0,
    "start_time": "2022-05-16T11:07:58.687Z"
   },
   {
    "duration": 0,
    "start_time": "2022-05-16T11:07:58.688Z"
   },
   {
    "duration": 0,
    "start_time": "2022-05-16T11:07:58.689Z"
   },
   {
    "duration": 0,
    "start_time": "2022-05-16T11:07:58.690Z"
   },
   {
    "duration": 0,
    "start_time": "2022-05-16T11:07:58.691Z"
   },
   {
    "duration": 0,
    "start_time": "2022-05-16T11:07:58.692Z"
   },
   {
    "duration": 0,
    "start_time": "2022-05-16T11:07:58.693Z"
   },
   {
    "duration": 0,
    "start_time": "2022-05-16T11:07:58.694Z"
   },
   {
    "duration": 0,
    "start_time": "2022-05-16T11:07:58.695Z"
   },
   {
    "duration": 0,
    "start_time": "2022-05-16T11:07:58.696Z"
   },
   {
    "duration": 0,
    "start_time": "2022-05-16T11:07:58.697Z"
   },
   {
    "duration": 0,
    "start_time": "2022-05-16T11:07:58.698Z"
   },
   {
    "duration": 0,
    "start_time": "2022-05-16T11:07:58.762Z"
   },
   {
    "duration": 0,
    "start_time": "2022-05-16T11:07:58.764Z"
   },
   {
    "duration": 0,
    "start_time": "2022-05-16T11:07:58.764Z"
   },
   {
    "duration": 0,
    "start_time": "2022-05-16T11:07:58.766Z"
   },
   {
    "duration": 16736,
    "start_time": "2022-05-16T11:08:18.548Z"
   },
   {
    "duration": 3895,
    "start_time": "2022-05-16T11:08:42.595Z"
   },
   {
    "duration": 24491,
    "start_time": "2022-05-16T11:08:56.953Z"
   },
   {
    "duration": 25,
    "start_time": "2022-05-16T11:09:28.441Z"
   },
   {
    "duration": 5,
    "start_time": "2022-05-16T11:10:03.576Z"
   },
   {
    "duration": 136,
    "start_time": "2022-05-16T11:10:43.940Z"
   },
   {
    "duration": 17,
    "start_time": "2022-05-16T11:10:44.914Z"
   },
   {
    "duration": 4,
    "start_time": "2022-05-16T11:11:18.962Z"
   },
   {
    "duration": 230,
    "start_time": "2022-05-16T11:11:19.883Z"
   },
   {
    "duration": 3178,
    "start_time": "2022-05-16T11:11:52.572Z"
   },
   {
    "duration": 119,
    "start_time": "2022-05-16T11:11:55.752Z"
   },
   {
    "duration": 703,
    "start_time": "2022-05-16T11:11:55.873Z"
   },
   {
    "duration": 5,
    "start_time": "2022-05-16T11:11:56.578Z"
   },
   {
    "duration": 21,
    "start_time": "2022-05-16T11:11:56.585Z"
   },
   {
    "duration": 96,
    "start_time": "2022-05-16T11:11:56.609Z"
   },
   {
    "duration": 4,
    "start_time": "2022-05-16T11:11:56.706Z"
   },
   {
    "duration": 16,
    "start_time": "2022-05-16T11:11:56.711Z"
   },
   {
    "duration": 16938,
    "start_time": "2022-05-16T11:11:56.728Z"
   },
   {
    "duration": 6,
    "start_time": "2022-05-16T11:12:13.668Z"
   },
   {
    "duration": 14,
    "start_time": "2022-05-16T11:12:13.676Z"
   },
   {
    "duration": 87,
    "start_time": "2022-05-16T11:12:13.692Z"
   },
   {
    "duration": 4,
    "start_time": "2022-05-16T11:12:13.781Z"
   },
   {
    "duration": 12,
    "start_time": "2022-05-16T11:12:13.786Z"
   },
   {
    "duration": 93,
    "start_time": "2022-05-16T11:12:13.800Z"
   },
   {
    "duration": 3,
    "start_time": "2022-05-16T11:12:13.895Z"
   },
   {
    "duration": 7,
    "start_time": "2022-05-16T11:12:13.899Z"
   },
   {
    "duration": 794,
    "start_time": "2022-05-16T11:12:13.907Z"
   },
   {
    "duration": 4,
    "start_time": "2022-05-16T11:12:14.703Z"
   },
   {
    "duration": 24724,
    "start_time": "2022-05-16T11:12:14.708Z"
   },
   {
    "duration": 162,
    "start_time": "2022-05-16T11:12:39.433Z"
   },
   {
    "duration": 0,
    "start_time": "2022-05-16T11:12:39.597Z"
   },
   {
    "duration": 0,
    "start_time": "2022-05-16T11:12:39.598Z"
   },
   {
    "duration": 0,
    "start_time": "2022-05-16T11:12:39.600Z"
   },
   {
    "duration": 0,
    "start_time": "2022-05-16T11:12:39.601Z"
   },
   {
    "duration": 0,
    "start_time": "2022-05-16T11:12:39.601Z"
   },
   {
    "duration": 0,
    "start_time": "2022-05-16T11:12:39.602Z"
   },
   {
    "duration": 0,
    "start_time": "2022-05-16T11:12:39.603Z"
   },
   {
    "duration": 0,
    "start_time": "2022-05-16T11:12:39.604Z"
   },
   {
    "duration": 0,
    "start_time": "2022-05-16T11:12:39.605Z"
   },
   {
    "duration": 0,
    "start_time": "2022-05-16T11:12:39.606Z"
   },
   {
    "duration": 0,
    "start_time": "2022-05-16T11:12:39.607Z"
   },
   {
    "duration": 0,
    "start_time": "2022-05-16T11:12:39.608Z"
   },
   {
    "duration": 0,
    "start_time": "2022-05-16T11:12:39.609Z"
   },
   {
    "duration": 0,
    "start_time": "2022-05-16T11:12:39.610Z"
   },
   {
    "duration": 0,
    "start_time": "2022-05-16T11:12:39.611Z"
   },
   {
    "duration": 0,
    "start_time": "2022-05-16T11:12:39.612Z"
   },
   {
    "duration": 0,
    "start_time": "2022-05-16T11:12:39.613Z"
   },
   {
    "duration": 0,
    "start_time": "2022-05-16T11:12:39.614Z"
   },
   {
    "duration": 0,
    "start_time": "2022-05-16T11:12:39.615Z"
   },
   {
    "duration": 0,
    "start_time": "2022-05-16T11:12:39.616Z"
   },
   {
    "duration": 0,
    "start_time": "2022-05-16T11:12:39.617Z"
   },
   {
    "duration": 0,
    "start_time": "2022-05-16T11:12:39.617Z"
   },
   {
    "duration": 0,
    "start_time": "2022-05-16T11:12:39.618Z"
   },
   {
    "duration": 0,
    "start_time": "2022-05-16T11:12:39.619Z"
   },
   {
    "duration": 0,
    "start_time": "2022-05-16T11:12:39.621Z"
   },
   {
    "duration": 0,
    "start_time": "2022-05-16T11:12:39.622Z"
   },
   {
    "duration": 0,
    "start_time": "2022-05-16T11:12:39.662Z"
   },
   {
    "duration": 0,
    "start_time": "2022-05-16T11:12:39.663Z"
   },
   {
    "duration": 0,
    "start_time": "2022-05-16T11:12:39.664Z"
   },
   {
    "duration": 0,
    "start_time": "2022-05-16T11:12:39.665Z"
   },
   {
    "duration": 0,
    "start_time": "2022-05-16T11:12:39.666Z"
   },
   {
    "duration": 0,
    "start_time": "2022-05-16T11:12:39.667Z"
   },
   {
    "duration": 0,
    "start_time": "2022-05-16T11:12:39.668Z"
   },
   {
    "duration": 0,
    "start_time": "2022-05-16T11:12:39.669Z"
   },
   {
    "duration": 0,
    "start_time": "2022-05-16T11:12:39.670Z"
   },
   {
    "duration": 0,
    "start_time": "2022-05-16T11:12:39.671Z"
   },
   {
    "duration": 0,
    "start_time": "2022-05-16T11:12:39.672Z"
   },
   {
    "duration": 0,
    "start_time": "2022-05-16T11:12:39.673Z"
   },
   {
    "duration": 0,
    "start_time": "2022-05-16T11:12:39.674Z"
   },
   {
    "duration": 0,
    "start_time": "2022-05-16T11:12:39.675Z"
   },
   {
    "duration": 1,
    "start_time": "2022-05-16T11:12:39.675Z"
   },
   {
    "duration": 0,
    "start_time": "2022-05-16T11:12:39.677Z"
   },
   {
    "duration": 0,
    "start_time": "2022-05-16T11:12:39.677Z"
   },
   {
    "duration": 0,
    "start_time": "2022-05-16T11:12:39.678Z"
   },
   {
    "duration": 0,
    "start_time": "2022-05-16T11:12:39.679Z"
   },
   {
    "duration": 0,
    "start_time": "2022-05-16T11:12:39.680Z"
   },
   {
    "duration": 0,
    "start_time": "2022-05-16T11:12:39.681Z"
   },
   {
    "duration": 4,
    "start_time": "2022-05-16T11:12:58.127Z"
   },
   {
    "duration": 109549,
    "start_time": "2022-05-16T11:12:58.850Z"
   },
   {
    "duration": 33,
    "start_time": "2022-05-16T11:17:37.193Z"
   },
   {
    "duration": 29,
    "start_time": "2022-05-16T11:17:48.958Z"
   },
   {
    "duration": 424772,
    "start_time": "2022-05-16T11:18:43.201Z"
   },
   {
    "duration": 963,
    "start_time": "2022-05-16T11:29:06.615Z"
   },
   {
    "duration": 1037,
    "start_time": "2022-05-16T11:29:12.110Z"
   },
   {
    "duration": 3211,
    "start_time": "2022-05-16T11:31:29.580Z"
   },
   {
    "duration": 155,
    "start_time": "2022-05-16T11:31:32.793Z"
   },
   {
    "duration": 732,
    "start_time": "2022-05-16T11:31:32.950Z"
   },
   {
    "duration": 4,
    "start_time": "2022-05-16T11:31:33.685Z"
   },
   {
    "duration": 23,
    "start_time": "2022-05-16T11:31:33.690Z"
   },
   {
    "duration": 107,
    "start_time": "2022-05-16T11:31:33.715Z"
   },
   {
    "duration": 3,
    "start_time": "2022-05-16T11:31:33.823Z"
   },
   {
    "duration": 9,
    "start_time": "2022-05-16T11:31:33.828Z"
   },
   {
    "duration": 25090,
    "start_time": "2022-05-16T11:31:33.839Z"
   },
   {
    "duration": 6,
    "start_time": "2022-05-16T11:31:58.932Z"
   },
   {
    "duration": 26,
    "start_time": "2022-05-16T11:31:58.940Z"
   },
   {
    "duration": 79,
    "start_time": "2022-05-16T11:31:58.968Z"
   },
   {
    "duration": 15,
    "start_time": "2022-05-16T11:31:59.049Z"
   },
   {
    "duration": 23,
    "start_time": "2022-05-16T11:31:59.066Z"
   },
   {
    "duration": 80,
    "start_time": "2022-05-16T11:31:59.090Z"
   },
   {
    "duration": 3,
    "start_time": "2022-05-16T11:31:59.172Z"
   },
   {
    "duration": 5,
    "start_time": "2022-05-16T11:31:59.177Z"
   },
   {
    "duration": 1261,
    "start_time": "2022-05-16T11:31:59.184Z"
   },
   {
    "duration": 4,
    "start_time": "2022-05-16T11:32:00.447Z"
   },
   {
    "duration": 21828,
    "start_time": "2022-05-16T11:32:00.453Z"
   },
   {
    "duration": 0,
    "start_time": "2022-05-16T11:32:22.285Z"
   },
   {
    "duration": 0,
    "start_time": "2022-05-16T11:32:22.286Z"
   },
   {
    "duration": 0,
    "start_time": "2022-05-16T11:32:22.287Z"
   },
   {
    "duration": 0,
    "start_time": "2022-05-16T11:32:22.288Z"
   },
   {
    "duration": 0,
    "start_time": "2022-05-16T11:32:22.290Z"
   },
   {
    "duration": 0,
    "start_time": "2022-05-16T11:32:22.291Z"
   },
   {
    "duration": 0,
    "start_time": "2022-05-16T11:32:22.293Z"
   },
   {
    "duration": 0,
    "start_time": "2022-05-16T11:32:22.293Z"
   },
   {
    "duration": 0,
    "start_time": "2022-05-16T11:32:22.294Z"
   },
   {
    "duration": 0,
    "start_time": "2022-05-16T11:32:22.296Z"
   },
   {
    "duration": 0,
    "start_time": "2022-05-16T11:32:22.297Z"
   },
   {
    "duration": 0,
    "start_time": "2022-05-16T11:32:22.298Z"
   },
   {
    "duration": 0,
    "start_time": "2022-05-16T11:32:22.299Z"
   },
   {
    "duration": 0,
    "start_time": "2022-05-16T11:32:22.300Z"
   },
   {
    "duration": 1,
    "start_time": "2022-05-16T11:32:22.301Z"
   },
   {
    "duration": 0,
    "start_time": "2022-05-16T11:32:22.302Z"
   },
   {
    "duration": 0,
    "start_time": "2022-05-16T11:32:22.304Z"
   },
   {
    "duration": 0,
    "start_time": "2022-05-16T11:32:22.305Z"
   },
   {
    "duration": 0,
    "start_time": "2022-05-16T11:32:22.306Z"
   },
   {
    "duration": 0,
    "start_time": "2022-05-16T11:32:22.307Z"
   },
   {
    "duration": 0,
    "start_time": "2022-05-16T11:32:22.308Z"
   },
   {
    "duration": 0,
    "start_time": "2022-05-16T11:32:22.309Z"
   },
   {
    "duration": 0,
    "start_time": "2022-05-16T11:32:22.310Z"
   },
   {
    "duration": 0,
    "start_time": "2022-05-16T11:32:22.311Z"
   },
   {
    "duration": 0,
    "start_time": "2022-05-16T11:32:22.313Z"
   },
   {
    "duration": 0,
    "start_time": "2022-05-16T11:32:22.362Z"
   },
   {
    "duration": 0,
    "start_time": "2022-05-16T11:32:22.362Z"
   },
   {
    "duration": 0,
    "start_time": "2022-05-16T11:32:22.363Z"
   },
   {
    "duration": 0,
    "start_time": "2022-05-16T11:32:22.364Z"
   },
   {
    "duration": 0,
    "start_time": "2022-05-16T11:32:22.365Z"
   },
   {
    "duration": 0,
    "start_time": "2022-05-16T11:32:22.366Z"
   },
   {
    "duration": 0,
    "start_time": "2022-05-16T11:32:22.369Z"
   },
   {
    "duration": 0,
    "start_time": "2022-05-16T11:32:22.369Z"
   },
   {
    "duration": 0,
    "start_time": "2022-05-16T11:32:22.370Z"
   },
   {
    "duration": 0,
    "start_time": "2022-05-16T11:32:22.373Z"
   },
   {
    "duration": 0,
    "start_time": "2022-05-16T11:32:22.374Z"
   },
   {
    "duration": 0,
    "start_time": "2022-05-16T11:32:22.375Z"
   },
   {
    "duration": 0,
    "start_time": "2022-05-16T11:32:22.377Z"
   },
   {
    "duration": 0,
    "start_time": "2022-05-16T11:32:22.378Z"
   },
   {
    "duration": 0,
    "start_time": "2022-05-16T11:32:22.379Z"
   },
   {
    "duration": 0,
    "start_time": "2022-05-16T11:32:22.380Z"
   },
   {
    "duration": 0,
    "start_time": "2022-05-16T11:32:22.381Z"
   },
   {
    "duration": 0,
    "start_time": "2022-05-16T11:32:22.382Z"
   },
   {
    "duration": 0,
    "start_time": "2022-05-16T11:32:22.383Z"
   },
   {
    "duration": 0,
    "start_time": "2022-05-16T11:32:22.384Z"
   },
   {
    "duration": 0,
    "start_time": "2022-05-16T11:32:22.385Z"
   },
   {
    "duration": 0,
    "start_time": "2022-05-16T11:32:22.387Z"
   },
   {
    "duration": 0,
    "start_time": "2022-05-16T11:32:22.388Z"
   },
   {
    "duration": 0,
    "start_time": "2022-05-16T11:32:22.389Z"
   },
   {
    "duration": 0,
    "start_time": "2022-05-16T11:32:22.390Z"
   },
   {
    "duration": 4,
    "start_time": "2022-05-16T11:32:30.507Z"
   },
   {
    "duration": 234600,
    "start_time": "2022-05-16T11:32:31.190Z"
   },
   {
    "duration": 489814,
    "start_time": "2022-05-16T11:36:25.792Z"
   },
   {
    "duration": 0,
    "start_time": "2022-05-16T11:44:35.608Z"
   },
   {
    "duration": 3264,
    "start_time": "2022-05-16T11:45:08.919Z"
   },
   {
    "duration": 141,
    "start_time": "2022-05-16T11:45:12.185Z"
   },
   {
    "duration": 706,
    "start_time": "2022-05-16T11:45:12.328Z"
   },
   {
    "duration": 5,
    "start_time": "2022-05-16T11:45:13.037Z"
   },
   {
    "duration": 29,
    "start_time": "2022-05-16T11:45:13.043Z"
   },
   {
    "duration": 102,
    "start_time": "2022-05-16T11:45:13.076Z"
   },
   {
    "duration": 4,
    "start_time": "2022-05-16T11:45:13.180Z"
   },
   {
    "duration": 8,
    "start_time": "2022-05-16T11:45:13.186Z"
   },
   {
    "duration": 26169,
    "start_time": "2022-05-16T11:45:13.195Z"
   },
   {
    "duration": 4,
    "start_time": "2022-05-16T11:45:39.367Z"
   },
   {
    "duration": 19,
    "start_time": "2022-05-16T11:45:39.372Z"
   },
   {
    "duration": 94,
    "start_time": "2022-05-16T11:45:39.393Z"
   },
   {
    "duration": 5,
    "start_time": "2022-05-16T11:45:39.489Z"
   },
   {
    "duration": 16,
    "start_time": "2022-05-16T11:45:39.495Z"
   },
   {
    "duration": 98,
    "start_time": "2022-05-16T11:45:39.513Z"
   },
   {
    "duration": 3,
    "start_time": "2022-05-16T11:45:39.613Z"
   },
   {
    "duration": 7,
    "start_time": "2022-05-16T11:45:39.617Z"
   },
   {
    "duration": 1231,
    "start_time": "2022-05-16T11:45:39.626Z"
   },
   {
    "duration": 12,
    "start_time": "2022-05-16T11:45:40.861Z"
   },
   {
    "duration": 7417,
    "start_time": "2022-05-16T11:45:40.874Z"
   },
   {
    "duration": 0,
    "start_time": "2022-05-16T11:45:48.294Z"
   },
   {
    "duration": 0,
    "start_time": "2022-05-16T11:45:48.295Z"
   },
   {
    "duration": 0,
    "start_time": "2022-05-16T11:45:48.296Z"
   },
   {
    "duration": 0,
    "start_time": "2022-05-16T11:45:48.297Z"
   },
   {
    "duration": 0,
    "start_time": "2022-05-16T11:45:48.298Z"
   },
   {
    "duration": 0,
    "start_time": "2022-05-16T11:45:48.299Z"
   },
   {
    "duration": 0,
    "start_time": "2022-05-16T11:45:48.300Z"
   },
   {
    "duration": 0,
    "start_time": "2022-05-16T11:45:48.301Z"
   },
   {
    "duration": 0,
    "start_time": "2022-05-16T11:45:48.302Z"
   },
   {
    "duration": 0,
    "start_time": "2022-05-16T11:45:48.303Z"
   },
   {
    "duration": 0,
    "start_time": "2022-05-16T11:45:48.304Z"
   },
   {
    "duration": 0,
    "start_time": "2022-05-16T11:45:48.305Z"
   },
   {
    "duration": 0,
    "start_time": "2022-05-16T11:45:48.306Z"
   },
   {
    "duration": 0,
    "start_time": "2022-05-16T11:45:48.307Z"
   },
   {
    "duration": 0,
    "start_time": "2022-05-16T11:45:48.308Z"
   },
   {
    "duration": 0,
    "start_time": "2022-05-16T11:45:48.309Z"
   },
   {
    "duration": 0,
    "start_time": "2022-05-16T11:45:48.310Z"
   },
   {
    "duration": 0,
    "start_time": "2022-05-16T11:45:48.311Z"
   },
   {
    "duration": 0,
    "start_time": "2022-05-16T11:45:48.312Z"
   },
   {
    "duration": 0,
    "start_time": "2022-05-16T11:45:48.312Z"
   },
   {
    "duration": 0,
    "start_time": "2022-05-16T11:45:48.313Z"
   },
   {
    "duration": 0,
    "start_time": "2022-05-16T11:45:48.314Z"
   },
   {
    "duration": 0,
    "start_time": "2022-05-16T11:45:48.315Z"
   },
   {
    "duration": 0,
    "start_time": "2022-05-16T11:45:48.316Z"
   },
   {
    "duration": 0,
    "start_time": "2022-05-16T11:45:48.317Z"
   },
   {
    "duration": 0,
    "start_time": "2022-05-16T11:45:48.318Z"
   },
   {
    "duration": 0,
    "start_time": "2022-05-16T11:45:48.319Z"
   },
   {
    "duration": 0,
    "start_time": "2022-05-16T11:45:48.320Z"
   },
   {
    "duration": 0,
    "start_time": "2022-05-16T11:45:48.363Z"
   },
   {
    "duration": 0,
    "start_time": "2022-05-16T11:45:48.373Z"
   },
   {
    "duration": 0,
    "start_time": "2022-05-16T11:45:48.374Z"
   },
   {
    "duration": 0,
    "start_time": "2022-05-16T11:45:48.376Z"
   },
   {
    "duration": 0,
    "start_time": "2022-05-16T11:45:48.377Z"
   },
   {
    "duration": 0,
    "start_time": "2022-05-16T11:45:48.379Z"
   },
   {
    "duration": 0,
    "start_time": "2022-05-16T11:45:48.380Z"
   },
   {
    "duration": 0,
    "start_time": "2022-05-16T11:45:48.385Z"
   },
   {
    "duration": 0,
    "start_time": "2022-05-16T11:45:48.386Z"
   },
   {
    "duration": 0,
    "start_time": "2022-05-16T11:45:48.387Z"
   },
   {
    "duration": 0,
    "start_time": "2022-05-16T11:45:48.388Z"
   },
   {
    "duration": 0,
    "start_time": "2022-05-16T11:45:48.389Z"
   },
   {
    "duration": 0,
    "start_time": "2022-05-16T11:45:48.389Z"
   },
   {
    "duration": 0,
    "start_time": "2022-05-16T11:45:48.391Z"
   },
   {
    "duration": 0,
    "start_time": "2022-05-16T11:45:48.392Z"
   },
   {
    "duration": 0,
    "start_time": "2022-05-16T11:45:48.393Z"
   },
   {
    "duration": 0,
    "start_time": "2022-05-16T11:45:48.394Z"
   },
   {
    "duration": 0,
    "start_time": "2022-05-16T11:45:48.395Z"
   },
   {
    "duration": 0,
    "start_time": "2022-05-16T11:45:48.396Z"
   },
   {
    "duration": 0,
    "start_time": "2022-05-16T11:45:48.397Z"
   },
   {
    "duration": 0,
    "start_time": "2022-05-16T11:45:48.398Z"
   },
   {
    "duration": 0,
    "start_time": "2022-05-16T11:45:48.399Z"
   },
   {
    "duration": 3,
    "start_time": "2022-05-16T11:45:58.475Z"
   },
   {
    "duration": 228417,
    "start_time": "2022-05-16T11:46:01.386Z"
   },
   {
    "duration": 25,
    "start_time": "2022-05-16T11:51:03.484Z"
   },
   {
    "duration": 3393,
    "start_time": "2022-05-16T11:51:11.272Z"
   },
   {
    "duration": 202,
    "start_time": "2022-05-16T11:51:14.668Z"
   },
   {
    "duration": 763,
    "start_time": "2022-05-16T11:51:14.872Z"
   },
   {
    "duration": 5,
    "start_time": "2022-05-16T11:51:15.637Z"
   },
   {
    "duration": 41,
    "start_time": "2022-05-16T11:51:15.644Z"
   },
   {
    "duration": 103,
    "start_time": "2022-05-16T11:51:15.689Z"
   },
   {
    "duration": 4,
    "start_time": "2022-05-16T11:51:15.794Z"
   },
   {
    "duration": 8,
    "start_time": "2022-05-16T11:51:15.799Z"
   },
   {
    "duration": 26588,
    "start_time": "2022-05-16T11:51:15.809Z"
   },
   {
    "duration": 3,
    "start_time": "2022-05-16T11:51:42.399Z"
   },
   {
    "duration": 18,
    "start_time": "2022-05-16T11:51:42.404Z"
   },
   {
    "duration": 103,
    "start_time": "2022-05-16T11:51:42.424Z"
   },
   {
    "duration": 3,
    "start_time": "2022-05-16T11:51:42.529Z"
   },
   {
    "duration": 15,
    "start_time": "2022-05-16T11:51:42.535Z"
   },
   {
    "duration": 77,
    "start_time": "2022-05-16T11:51:42.566Z"
   },
   {
    "duration": 3,
    "start_time": "2022-05-16T11:51:42.645Z"
   },
   {
    "duration": 6,
    "start_time": "2022-05-16T11:51:42.662Z"
   },
   {
    "duration": 1186,
    "start_time": "2022-05-16T11:51:42.669Z"
   },
   {
    "duration": 5,
    "start_time": "2022-05-16T11:51:43.857Z"
   },
   {
    "duration": 6169,
    "start_time": "2022-05-16T11:51:43.863Z"
   },
   {
    "duration": 0,
    "start_time": "2022-05-16T11:51:50.035Z"
   },
   {
    "duration": 0,
    "start_time": "2022-05-16T11:51:50.036Z"
   },
   {
    "duration": 0,
    "start_time": "2022-05-16T11:51:50.037Z"
   },
   {
    "duration": 0,
    "start_time": "2022-05-16T11:51:50.038Z"
   },
   {
    "duration": 0,
    "start_time": "2022-05-16T11:51:50.040Z"
   },
   {
    "duration": 0,
    "start_time": "2022-05-16T11:51:50.040Z"
   },
   {
    "duration": 0,
    "start_time": "2022-05-16T11:51:50.041Z"
   },
   {
    "duration": 0,
    "start_time": "2022-05-16T11:51:50.042Z"
   },
   {
    "duration": 0,
    "start_time": "2022-05-16T11:51:50.043Z"
   },
   {
    "duration": 0,
    "start_time": "2022-05-16T11:51:50.044Z"
   },
   {
    "duration": 0,
    "start_time": "2022-05-16T11:51:50.045Z"
   },
   {
    "duration": 0,
    "start_time": "2022-05-16T11:51:50.045Z"
   },
   {
    "duration": 0,
    "start_time": "2022-05-16T11:51:50.046Z"
   },
   {
    "duration": 0,
    "start_time": "2022-05-16T11:51:50.046Z"
   },
   {
    "duration": 0,
    "start_time": "2022-05-16T11:51:50.047Z"
   },
   {
    "duration": 0,
    "start_time": "2022-05-16T11:51:50.047Z"
   },
   {
    "duration": 0,
    "start_time": "2022-05-16T11:51:50.048Z"
   },
   {
    "duration": 0,
    "start_time": "2022-05-16T11:51:50.048Z"
   },
   {
    "duration": 0,
    "start_time": "2022-05-16T11:51:50.049Z"
   },
   {
    "duration": 0,
    "start_time": "2022-05-16T11:51:50.064Z"
   },
   {
    "duration": 0,
    "start_time": "2022-05-16T11:51:50.067Z"
   },
   {
    "duration": 0,
    "start_time": "2022-05-16T11:51:50.067Z"
   },
   {
    "duration": 0,
    "start_time": "2022-05-16T11:51:50.068Z"
   },
   {
    "duration": 0,
    "start_time": "2022-05-16T11:51:50.068Z"
   },
   {
    "duration": 0,
    "start_time": "2022-05-16T11:51:50.069Z"
   },
   {
    "duration": 0,
    "start_time": "2022-05-16T11:51:50.070Z"
   },
   {
    "duration": 0,
    "start_time": "2022-05-16T11:51:50.071Z"
   },
   {
    "duration": 0,
    "start_time": "2022-05-16T11:51:50.072Z"
   },
   {
    "duration": 0,
    "start_time": "2022-05-16T11:51:50.073Z"
   },
   {
    "duration": 0,
    "start_time": "2022-05-16T11:51:50.074Z"
   },
   {
    "duration": 0,
    "start_time": "2022-05-16T11:51:50.074Z"
   },
   {
    "duration": 0,
    "start_time": "2022-05-16T11:51:50.075Z"
   },
   {
    "duration": 0,
    "start_time": "2022-05-16T11:51:50.078Z"
   },
   {
    "duration": 0,
    "start_time": "2022-05-16T11:51:50.079Z"
   },
   {
    "duration": 0,
    "start_time": "2022-05-16T11:51:50.080Z"
   },
   {
    "duration": 0,
    "start_time": "2022-05-16T11:51:50.081Z"
   },
   {
    "duration": 0,
    "start_time": "2022-05-16T11:51:50.082Z"
   },
   {
    "duration": 0,
    "start_time": "2022-05-16T11:51:50.084Z"
   },
   {
    "duration": 0,
    "start_time": "2022-05-16T11:51:50.086Z"
   },
   {
    "duration": 0,
    "start_time": "2022-05-16T11:51:50.087Z"
   },
   {
    "duration": 0,
    "start_time": "2022-05-16T11:51:50.088Z"
   },
   {
    "duration": 0,
    "start_time": "2022-05-16T11:51:50.089Z"
   },
   {
    "duration": 0,
    "start_time": "2022-05-16T11:51:50.090Z"
   },
   {
    "duration": 0,
    "start_time": "2022-05-16T11:51:50.091Z"
   },
   {
    "duration": 0,
    "start_time": "2022-05-16T11:51:50.092Z"
   },
   {
    "duration": 0,
    "start_time": "2022-05-16T11:51:50.093Z"
   },
   {
    "duration": 0,
    "start_time": "2022-05-16T11:51:50.094Z"
   },
   {
    "duration": 0,
    "start_time": "2022-05-16T11:51:50.095Z"
   },
   {
    "duration": 0,
    "start_time": "2022-05-16T11:51:50.096Z"
   },
   {
    "duration": 0,
    "start_time": "2022-05-16T11:51:50.097Z"
   },
   {
    "duration": 3838,
    "start_time": "2022-05-16T11:52:13.782Z"
   },
   {
    "duration": 204,
    "start_time": "2022-05-16T11:52:17.622Z"
   },
   {
    "duration": 770,
    "start_time": "2022-05-16T11:52:17.828Z"
   },
   {
    "duration": 5,
    "start_time": "2022-05-16T11:52:18.600Z"
   },
   {
    "duration": 33,
    "start_time": "2022-05-16T11:52:18.608Z"
   },
   {
    "duration": 170,
    "start_time": "2022-05-16T11:52:18.646Z"
   },
   {
    "duration": 5,
    "start_time": "2022-05-16T11:52:18.818Z"
   },
   {
    "duration": 9,
    "start_time": "2022-05-16T11:52:18.825Z"
   },
   {
    "duration": 28852,
    "start_time": "2022-05-16T11:52:18.836Z"
   },
   {
    "duration": 3,
    "start_time": "2022-05-16T11:52:47.690Z"
   },
   {
    "duration": 15,
    "start_time": "2022-05-16T11:52:47.694Z"
   },
   {
    "duration": 104,
    "start_time": "2022-05-16T11:52:47.711Z"
   },
   {
    "duration": 3,
    "start_time": "2022-05-16T11:52:47.817Z"
   },
   {
    "duration": 16,
    "start_time": "2022-05-16T11:52:47.822Z"
   },
   {
    "duration": 84,
    "start_time": "2022-05-16T11:52:47.840Z"
   },
   {
    "duration": 187,
    "start_time": "2022-05-16T11:52:47.926Z"
   },
   {
    "duration": 0,
    "start_time": "2022-05-16T11:52:48.116Z"
   },
   {
    "duration": 0,
    "start_time": "2022-05-16T11:52:48.117Z"
   },
   {
    "duration": 0,
    "start_time": "2022-05-16T11:52:48.119Z"
   },
   {
    "duration": 0,
    "start_time": "2022-05-16T11:52:48.120Z"
   },
   {
    "duration": 0,
    "start_time": "2022-05-16T11:52:48.121Z"
   },
   {
    "duration": 0,
    "start_time": "2022-05-16T11:52:48.122Z"
   },
   {
    "duration": 0,
    "start_time": "2022-05-16T11:52:48.123Z"
   },
   {
    "duration": 0,
    "start_time": "2022-05-16T11:52:48.124Z"
   },
   {
    "duration": 0,
    "start_time": "2022-05-16T11:52:48.125Z"
   },
   {
    "duration": 0,
    "start_time": "2022-05-16T11:52:48.126Z"
   },
   {
    "duration": 0,
    "start_time": "2022-05-16T11:52:48.127Z"
   },
   {
    "duration": 0,
    "start_time": "2022-05-16T11:52:48.128Z"
   },
   {
    "duration": 0,
    "start_time": "2022-05-16T11:52:48.129Z"
   },
   {
    "duration": 0,
    "start_time": "2022-05-16T11:52:48.130Z"
   },
   {
    "duration": 0,
    "start_time": "2022-05-16T11:52:48.132Z"
   },
   {
    "duration": 0,
    "start_time": "2022-05-16T11:52:48.133Z"
   },
   {
    "duration": 0,
    "start_time": "2022-05-16T11:52:48.164Z"
   },
   {
    "duration": 0,
    "start_time": "2022-05-16T11:52:48.166Z"
   },
   {
    "duration": 0,
    "start_time": "2022-05-16T11:52:48.167Z"
   },
   {
    "duration": 0,
    "start_time": "2022-05-16T11:52:48.168Z"
   },
   {
    "duration": 0,
    "start_time": "2022-05-16T11:52:48.171Z"
   },
   {
    "duration": 0,
    "start_time": "2022-05-16T11:52:48.172Z"
   },
   {
    "duration": 0,
    "start_time": "2022-05-16T11:52:48.176Z"
   },
   {
    "duration": 0,
    "start_time": "2022-05-16T11:52:48.177Z"
   },
   {
    "duration": 0,
    "start_time": "2022-05-16T11:52:48.180Z"
   },
   {
    "duration": 0,
    "start_time": "2022-05-16T11:52:48.181Z"
   },
   {
    "duration": 0,
    "start_time": "2022-05-16T11:52:48.183Z"
   },
   {
    "duration": 0,
    "start_time": "2022-05-16T11:52:48.184Z"
   },
   {
    "duration": 0,
    "start_time": "2022-05-16T11:52:48.185Z"
   },
   {
    "duration": 0,
    "start_time": "2022-05-16T11:52:48.186Z"
   },
   {
    "duration": 0,
    "start_time": "2022-05-16T11:52:48.187Z"
   },
   {
    "duration": 0,
    "start_time": "2022-05-16T11:52:48.188Z"
   },
   {
    "duration": 0,
    "start_time": "2022-05-16T11:52:48.190Z"
   },
   {
    "duration": 0,
    "start_time": "2022-05-16T11:52:48.191Z"
   },
   {
    "duration": 0,
    "start_time": "2022-05-16T11:52:48.193Z"
   },
   {
    "duration": 0,
    "start_time": "2022-05-16T11:52:48.194Z"
   },
   {
    "duration": 0,
    "start_time": "2022-05-16T11:52:48.195Z"
   },
   {
    "duration": 0,
    "start_time": "2022-05-16T11:52:48.197Z"
   },
   {
    "duration": 0,
    "start_time": "2022-05-16T11:52:48.198Z"
   },
   {
    "duration": 0,
    "start_time": "2022-05-16T11:52:48.199Z"
   },
   {
    "duration": 0,
    "start_time": "2022-05-16T11:52:48.201Z"
   },
   {
    "duration": 0,
    "start_time": "2022-05-16T11:52:48.202Z"
   },
   {
    "duration": 0,
    "start_time": "2022-05-16T11:52:48.203Z"
   },
   {
    "duration": 0,
    "start_time": "2022-05-16T11:52:48.204Z"
   },
   {
    "duration": 0,
    "start_time": "2022-05-16T11:52:48.205Z"
   },
   {
    "duration": 0,
    "start_time": "2022-05-16T11:52:48.262Z"
   },
   {
    "duration": 0,
    "start_time": "2022-05-16T11:52:48.264Z"
   },
   {
    "duration": 0,
    "start_time": "2022-05-16T11:52:48.266Z"
   },
   {
    "duration": 0,
    "start_time": "2022-05-16T11:52:48.267Z"
   },
   {
    "duration": 0,
    "start_time": "2022-05-16T11:52:48.269Z"
   },
   {
    "duration": 0,
    "start_time": "2022-05-16T11:52:48.270Z"
   },
   {
    "duration": 0,
    "start_time": "2022-05-16T11:52:48.270Z"
   },
   {
    "duration": 0,
    "start_time": "2022-05-16T11:52:48.271Z"
   },
   {
    "duration": 0,
    "start_time": "2022-05-16T11:52:48.271Z"
   },
   {
    "duration": 0,
    "start_time": "2022-05-16T11:52:48.272Z"
   },
   {
    "duration": 3584,
    "start_time": "2022-05-16T11:53:26.320Z"
   },
   {
    "duration": 191,
    "start_time": "2022-05-16T11:53:29.906Z"
   },
   {
    "duration": 805,
    "start_time": "2022-05-16T11:53:30.098Z"
   },
   {
    "duration": 5,
    "start_time": "2022-05-16T11:53:30.906Z"
   },
   {
    "duration": 36,
    "start_time": "2022-05-16T11:53:30.913Z"
   },
   {
    "duration": 117,
    "start_time": "2022-05-16T11:53:30.952Z"
   },
   {
    "duration": 6,
    "start_time": "2022-05-16T11:53:31.071Z"
   },
   {
    "duration": 23,
    "start_time": "2022-05-16T11:53:31.079Z"
   },
   {
    "duration": 27981,
    "start_time": "2022-05-16T11:53:31.103Z"
   },
   {
    "duration": 3,
    "start_time": "2022-05-16T11:53:59.087Z"
   },
   {
    "duration": 17,
    "start_time": "2022-05-16T11:53:59.092Z"
   },
   {
    "duration": 104,
    "start_time": "2022-05-16T11:53:59.111Z"
   },
   {
    "duration": 3,
    "start_time": "2022-05-16T11:53:59.217Z"
   },
   {
    "duration": 15,
    "start_time": "2022-05-16T11:53:59.222Z"
   },
   {
    "duration": 92,
    "start_time": "2022-05-16T11:53:59.238Z"
   },
   {
    "duration": 210,
    "start_time": "2022-05-16T11:53:59.331Z"
   },
   {
    "duration": 0,
    "start_time": "2022-05-16T11:53:59.544Z"
   },
   {
    "duration": 0,
    "start_time": "2022-05-16T11:53:59.545Z"
   },
   {
    "duration": 0,
    "start_time": "2022-05-16T11:53:59.546Z"
   },
   {
    "duration": 0,
    "start_time": "2022-05-16T11:53:59.547Z"
   },
   {
    "duration": 0,
    "start_time": "2022-05-16T11:53:59.548Z"
   },
   {
    "duration": 0,
    "start_time": "2022-05-16T11:53:59.550Z"
   },
   {
    "duration": 0,
    "start_time": "2022-05-16T11:53:59.562Z"
   },
   {
    "duration": 0,
    "start_time": "2022-05-16T11:53:59.565Z"
   },
   {
    "duration": 0,
    "start_time": "2022-05-16T11:53:59.566Z"
   },
   {
    "duration": 0,
    "start_time": "2022-05-16T11:53:59.569Z"
   },
   {
    "duration": 0,
    "start_time": "2022-05-16T11:53:59.570Z"
   },
   {
    "duration": 0,
    "start_time": "2022-05-16T11:53:59.572Z"
   },
   {
    "duration": 0,
    "start_time": "2022-05-16T11:53:59.573Z"
   },
   {
    "duration": 0,
    "start_time": "2022-05-16T11:53:59.574Z"
   },
   {
    "duration": 0,
    "start_time": "2022-05-16T11:53:59.578Z"
   },
   {
    "duration": 0,
    "start_time": "2022-05-16T11:53:59.579Z"
   },
   {
    "duration": 0,
    "start_time": "2022-05-16T11:53:59.581Z"
   },
   {
    "duration": 0,
    "start_time": "2022-05-16T11:53:59.582Z"
   },
   {
    "duration": 0,
    "start_time": "2022-05-16T11:53:59.584Z"
   },
   {
    "duration": 0,
    "start_time": "2022-05-16T11:53:59.585Z"
   },
   {
    "duration": 0,
    "start_time": "2022-05-16T11:53:59.587Z"
   },
   {
    "duration": 0,
    "start_time": "2022-05-16T11:53:59.588Z"
   },
   {
    "duration": 0,
    "start_time": "2022-05-16T11:53:59.589Z"
   },
   {
    "duration": 0,
    "start_time": "2022-05-16T11:53:59.591Z"
   },
   {
    "duration": 0,
    "start_time": "2022-05-16T11:53:59.592Z"
   },
   {
    "duration": 0,
    "start_time": "2022-05-16T11:53:59.593Z"
   },
   {
    "duration": 0,
    "start_time": "2022-05-16T11:53:59.595Z"
   },
   {
    "duration": 0,
    "start_time": "2022-05-16T11:53:59.596Z"
   },
   {
    "duration": 0,
    "start_time": "2022-05-16T11:53:59.597Z"
   },
   {
    "duration": 0,
    "start_time": "2022-05-16T11:53:59.598Z"
   },
   {
    "duration": 0,
    "start_time": "2022-05-16T11:53:59.599Z"
   },
   {
    "duration": 0,
    "start_time": "2022-05-16T11:53:59.600Z"
   },
   {
    "duration": 0,
    "start_time": "2022-05-16T11:53:59.601Z"
   },
   {
    "duration": 0,
    "start_time": "2022-05-16T11:53:59.602Z"
   },
   {
    "duration": 0,
    "start_time": "2022-05-16T11:53:59.603Z"
   },
   {
    "duration": 0,
    "start_time": "2022-05-16T11:53:59.604Z"
   },
   {
    "duration": 0,
    "start_time": "2022-05-16T11:53:59.605Z"
   },
   {
    "duration": 0,
    "start_time": "2022-05-16T11:53:59.606Z"
   },
   {
    "duration": 0,
    "start_time": "2022-05-16T11:53:59.607Z"
   },
   {
    "duration": 0,
    "start_time": "2022-05-16T11:53:59.662Z"
   },
   {
    "duration": 0,
    "start_time": "2022-05-16T11:53:59.662Z"
   },
   {
    "duration": 0,
    "start_time": "2022-05-16T11:53:59.663Z"
   },
   {
    "duration": 0,
    "start_time": "2022-05-16T11:53:59.665Z"
   },
   {
    "duration": 0,
    "start_time": "2022-05-16T11:53:59.665Z"
   },
   {
    "duration": 0,
    "start_time": "2022-05-16T11:53:59.666Z"
   },
   {
    "duration": 0,
    "start_time": "2022-05-16T11:53:59.667Z"
   },
   {
    "duration": 0,
    "start_time": "2022-05-16T11:53:59.668Z"
   },
   {
    "duration": 0,
    "start_time": "2022-05-16T11:53:59.669Z"
   },
   {
    "duration": 0,
    "start_time": "2022-05-16T11:53:59.670Z"
   },
   {
    "duration": 0,
    "start_time": "2022-05-16T11:53:59.671Z"
   },
   {
    "duration": 0,
    "start_time": "2022-05-16T11:53:59.672Z"
   },
   {
    "duration": 0,
    "start_time": "2022-05-16T11:53:59.673Z"
   },
   {
    "duration": 0,
    "start_time": "2022-05-16T11:53:59.673Z"
   },
   {
    "duration": 0,
    "start_time": "2022-05-16T11:53:59.675Z"
   },
   {
    "duration": 0,
    "start_time": "2022-05-16T11:53:59.676Z"
   },
   {
    "duration": 3502,
    "start_time": "2022-05-16T11:54:26.337Z"
   },
   {
    "duration": 118,
    "start_time": "2022-05-16T11:54:29.841Z"
   },
   {
    "duration": 834,
    "start_time": "2022-05-16T11:54:29.960Z"
   },
   {
    "duration": 5,
    "start_time": "2022-05-16T11:54:30.796Z"
   },
   {
    "duration": 38,
    "start_time": "2022-05-16T11:54:30.803Z"
   },
   {
    "duration": 101,
    "start_time": "2022-05-16T11:54:30.845Z"
   },
   {
    "duration": 3,
    "start_time": "2022-05-16T11:54:30.948Z"
   },
   {
    "duration": 23,
    "start_time": "2022-05-16T11:54:30.962Z"
   },
   {
    "duration": 28822,
    "start_time": "2022-05-16T11:54:30.988Z"
   },
   {
    "duration": 3,
    "start_time": "2022-05-16T11:54:59.812Z"
   },
   {
    "duration": 25,
    "start_time": "2022-05-16T11:54:59.817Z"
   },
   {
    "duration": 93,
    "start_time": "2022-05-16T11:54:59.844Z"
   },
   {
    "duration": 3,
    "start_time": "2022-05-16T11:54:59.939Z"
   },
   {
    "duration": 38,
    "start_time": "2022-05-16T11:54:59.944Z"
   },
   {
    "duration": 91,
    "start_time": "2022-05-16T11:54:59.984Z"
   },
   {
    "duration": 170,
    "start_time": "2022-05-16T11:55:00.077Z"
   },
   {
    "duration": 0,
    "start_time": "2022-05-16T11:55:00.250Z"
   },
   {
    "duration": 0,
    "start_time": "2022-05-16T11:55:00.252Z"
   },
   {
    "duration": 0,
    "start_time": "2022-05-16T11:55:00.264Z"
   },
   {
    "duration": 0,
    "start_time": "2022-05-16T11:55:00.265Z"
   },
   {
    "duration": 0,
    "start_time": "2022-05-16T11:55:00.266Z"
   },
   {
    "duration": 0,
    "start_time": "2022-05-16T11:55:00.268Z"
   },
   {
    "duration": 0,
    "start_time": "2022-05-16T11:55:00.269Z"
   },
   {
    "duration": 0,
    "start_time": "2022-05-16T11:55:00.270Z"
   },
   {
    "duration": 0,
    "start_time": "2022-05-16T11:55:00.271Z"
   },
   {
    "duration": 0,
    "start_time": "2022-05-16T11:55:00.273Z"
   },
   {
    "duration": 0,
    "start_time": "2022-05-16T11:55:00.274Z"
   },
   {
    "duration": 0,
    "start_time": "2022-05-16T11:55:00.275Z"
   },
   {
    "duration": 0,
    "start_time": "2022-05-16T11:55:00.276Z"
   },
   {
    "duration": 0,
    "start_time": "2022-05-16T11:55:00.278Z"
   },
   {
    "duration": 0,
    "start_time": "2022-05-16T11:55:00.279Z"
   },
   {
    "duration": 0,
    "start_time": "2022-05-16T11:55:00.280Z"
   },
   {
    "duration": 0,
    "start_time": "2022-05-16T11:55:00.281Z"
   },
   {
    "duration": 0,
    "start_time": "2022-05-16T11:55:00.283Z"
   },
   {
    "duration": 0,
    "start_time": "2022-05-16T11:55:00.283Z"
   },
   {
    "duration": 0,
    "start_time": "2022-05-16T11:55:00.285Z"
   },
   {
    "duration": 0,
    "start_time": "2022-05-16T11:55:00.286Z"
   },
   {
    "duration": 0,
    "start_time": "2022-05-16T11:55:00.287Z"
   },
   {
    "duration": 1,
    "start_time": "2022-05-16T11:55:00.288Z"
   },
   {
    "duration": 0,
    "start_time": "2022-05-16T11:55:00.290Z"
   },
   {
    "duration": 0,
    "start_time": "2022-05-16T11:55:00.291Z"
   },
   {
    "duration": 0,
    "start_time": "2022-05-16T11:55:00.292Z"
   },
   {
    "duration": 0,
    "start_time": "2022-05-16T11:55:00.297Z"
   },
   {
    "duration": 0,
    "start_time": "2022-05-16T11:55:00.299Z"
   },
   {
    "duration": 0,
    "start_time": "2022-05-16T11:55:00.300Z"
   },
   {
    "duration": 0,
    "start_time": "2022-05-16T11:55:00.301Z"
   },
   {
    "duration": 0,
    "start_time": "2022-05-16T11:55:00.302Z"
   },
   {
    "duration": 0,
    "start_time": "2022-05-16T11:55:00.303Z"
   },
   {
    "duration": 0,
    "start_time": "2022-05-16T11:55:00.305Z"
   },
   {
    "duration": 0,
    "start_time": "2022-05-16T11:55:00.306Z"
   },
   {
    "duration": 0,
    "start_time": "2022-05-16T11:55:00.307Z"
   },
   {
    "duration": 0,
    "start_time": "2022-05-16T11:55:00.308Z"
   },
   {
    "duration": 0,
    "start_time": "2022-05-16T11:55:00.309Z"
   },
   {
    "duration": 0,
    "start_time": "2022-05-16T11:55:00.310Z"
   },
   {
    "duration": 0,
    "start_time": "2022-05-16T11:55:00.311Z"
   },
   {
    "duration": 0,
    "start_time": "2022-05-16T11:55:00.312Z"
   },
   {
    "duration": 0,
    "start_time": "2022-05-16T11:55:00.364Z"
   },
   {
    "duration": 0,
    "start_time": "2022-05-16T11:55:00.364Z"
   },
   {
    "duration": 0,
    "start_time": "2022-05-16T11:55:00.365Z"
   },
   {
    "duration": 0,
    "start_time": "2022-05-16T11:55:00.367Z"
   },
   {
    "duration": 0,
    "start_time": "2022-05-16T11:55:00.368Z"
   },
   {
    "duration": 0,
    "start_time": "2022-05-16T11:55:00.369Z"
   },
   {
    "duration": 0,
    "start_time": "2022-05-16T11:55:00.370Z"
   },
   {
    "duration": 0,
    "start_time": "2022-05-16T11:55:00.371Z"
   },
   {
    "duration": 0,
    "start_time": "2022-05-16T11:55:00.372Z"
   },
   {
    "duration": 0,
    "start_time": "2022-05-16T11:55:00.373Z"
   },
   {
    "duration": 0,
    "start_time": "2022-05-16T11:55:00.374Z"
   },
   {
    "duration": 0,
    "start_time": "2022-05-16T11:55:00.375Z"
   },
   {
    "duration": 0,
    "start_time": "2022-05-16T11:55:00.376Z"
   },
   {
    "duration": 0,
    "start_time": "2022-05-16T11:55:00.377Z"
   },
   {
    "duration": 0,
    "start_time": "2022-05-16T11:55:00.378Z"
   },
   {
    "duration": 7,
    "start_time": "2022-05-16T11:55:15.459Z"
   },
   {
    "duration": 3,
    "start_time": "2022-05-16T11:55:19.603Z"
   },
   {
    "duration": 1458,
    "start_time": "2022-05-16T11:55:20.532Z"
   },
   {
    "duration": 4,
    "start_time": "2022-05-16T11:55:42.285Z"
   },
   {
    "duration": 158428,
    "start_time": "2022-05-16T11:55:43.086Z"
   },
   {
    "duration": 12,
    "start_time": "2022-05-16T11:58:35.348Z"
   },
   {
    "duration": 7,
    "start_time": "2022-05-16T11:58:45.475Z"
   },
   {
    "duration": 466115,
    "start_time": "2022-05-16T11:58:49.601Z"
   },
   {
    "duration": 188,
    "start_time": "2022-05-16T12:07:38.586Z"
   },
   {
    "duration": 1294,
    "start_time": "2022-05-16T12:07:43.248Z"
   },
   {
    "duration": 10,
    "start_time": "2022-05-16T12:07:57.403Z"
   },
   {
    "duration": 80,
    "start_time": "2022-05-16T12:07:58.743Z"
   },
   {
    "duration": 5,
    "start_time": "2022-05-16T12:08:01.881Z"
   },
   {
    "duration": 2,
    "start_time": "2022-05-16T12:08:03.737Z"
   },
   {
    "duration": 800,
    "start_time": "2022-05-16T12:08:06.590Z"
   },
   {
    "duration": 2510,
    "start_time": "2022-05-16T12:09:04.594Z"
   },
   {
    "duration": 9,
    "start_time": "2022-05-16T12:09:09.542Z"
   },
   {
    "duration": 5,
    "start_time": "2022-05-16T12:09:13.416Z"
   },
   {
    "duration": 354,
    "start_time": "2022-05-16T12:09:39.898Z"
   },
   {
    "duration": 4,
    "start_time": "2022-05-16T12:09:43.544Z"
   },
   {
    "duration": 4,
    "start_time": "2022-05-16T12:10:02.279Z"
   },
   {
    "duration": 3,
    "start_time": "2022-05-16T12:10:03.506Z"
   },
   {
    "duration": 29363,
    "start_time": "2022-05-16T12:10:04.944Z"
   },
   {
    "duration": 12,
    "start_time": "2022-05-16T12:10:34.309Z"
   },
   {
    "duration": 105,
    "start_time": "2022-05-16T12:10:34.323Z"
   },
   {
    "duration": 3,
    "start_time": "2022-05-16T12:10:40.289Z"
   },
   {
    "duration": 4,
    "start_time": "2022-05-16T12:10:53.570Z"
   },
   {
    "duration": 28,
    "start_time": "2022-05-16T12:10:54.146Z"
   },
   {
    "duration": 3,
    "start_time": "2022-05-16T12:11:19.625Z"
   },
   {
    "duration": 6,
    "start_time": "2022-05-16T12:11:22.375Z"
   },
   {
    "duration": 887,
    "start_time": "2022-05-16T12:11:23.528Z"
   },
   {
    "duration": 3,
    "start_time": "2022-05-16T12:11:29.944Z"
   },
   {
    "duration": 88624,
    "start_time": "2022-05-16T12:11:30.779Z"
   },
   {
    "duration": 152548,
    "start_time": "2022-05-16T12:12:59.405Z"
   },
   {
    "duration": 703,
    "start_time": "2022-05-16T12:15:31.955Z"
   },
   {
    "duration": 31599,
    "start_time": "2022-05-16T12:17:18.450Z"
   },
   {
    "duration": 700,
    "start_time": "2022-05-16T12:17:50.051Z"
   },
   {
    "duration": 189,
    "start_time": "2022-05-16T12:18:25.494Z"
   },
   {
    "duration": 109135,
    "start_time": "2022-05-16T12:18:49.447Z"
   },
   {
    "duration": 328,
    "start_time": "2022-05-16T12:20:38.584Z"
   },
   {
    "duration": 215092,
    "start_time": "2022-05-16T12:21:07.447Z"
   },
   {
    "duration": 799,
    "start_time": "2022-05-16T12:24:42.541Z"
   },
   {
    "duration": 25,
    "start_time": "2022-05-16T12:26:16.156Z"
   },
   {
    "duration": 537144,
    "start_time": "2022-05-16T12:26:17.439Z"
   },
   {
    "duration": 160,
    "start_time": "2022-05-16T12:36:44.077Z"
   },
   {
    "duration": 3,
    "start_time": "2022-05-16T12:36:56.481Z"
   },
   {
    "duration": 179,
    "start_time": "2022-05-16T12:36:57.175Z"
   },
   {
    "duration": 3,
    "start_time": "2022-05-16T12:37:07.013Z"
   },
   {
    "duration": 5266,
    "start_time": "2022-05-16T12:37:07.724Z"
   },
   {
    "duration": 54207,
    "start_time": "2022-05-16T12:37:49.382Z"
   },
   {
    "duration": 23,
    "start_time": "2022-05-16T12:38:51.414Z"
   },
   {
    "duration": 6225,
    "start_time": "2022-05-16T12:40:10.242Z"
   },
   {
    "duration": 55544,
    "start_time": "2022-05-16T12:40:25.163Z"
   },
   {
    "duration": 25,
    "start_time": "2022-05-16T12:41:20.709Z"
   },
   {
    "duration": 13615,
    "start_time": "2022-05-16T12:41:43.372Z"
   },
   {
    "duration": 213480,
    "start_time": "2022-05-16T12:41:58.963Z"
   },
   {
    "duration": 37,
    "start_time": "2022-05-16T12:45:32.445Z"
   },
   {
    "duration": 22104,
    "start_time": "2022-05-16T12:45:45.815Z"
   },
   {
    "duration": 213951,
    "start_time": "2022-05-16T12:46:07.922Z"
   },
   {
    "duration": 37,
    "start_time": "2022-05-16T12:49:41.874Z"
   },
   {
    "duration": 94808,
    "start_time": "2022-05-16T12:50:04.735Z"
   },
   {
    "duration": 220737,
    "start_time": "2022-05-16T12:51:39.545Z"
   },
   {
    "duration": 36,
    "start_time": "2022-05-16T12:55:20.283Z"
   },
   {
    "duration": 91678,
    "start_time": "2022-05-16T13:00:34.824Z"
   },
   {
    "duration": 210670,
    "start_time": "2022-05-16T13:02:06.505Z"
   },
   {
    "duration": 37,
    "start_time": "2022-05-16T13:05:37.177Z"
   },
   {
    "duration": 5,
    "start_time": "2022-05-16T13:05:37.216Z"
   },
   {
    "duration": 9,
    "start_time": "2022-05-16T13:05:37.222Z"
   },
   {
    "duration": 439,
    "start_time": "2022-05-16T13:05:58.727Z"
   },
   {
    "duration": 5,
    "start_time": "2022-05-16T13:06:23.520Z"
   },
   {
    "duration": 98,
    "start_time": "2022-05-16T13:06:30.104Z"
   },
   {
    "duration": 118,
    "start_time": "2022-05-16T13:06:37.287Z"
   },
   {
    "duration": 3393,
    "start_time": "2022-05-16T13:08:44.848Z"
   },
   {
    "duration": 186,
    "start_time": "2022-05-16T13:08:48.243Z"
   },
   {
    "duration": 767,
    "start_time": "2022-05-16T13:08:48.431Z"
   },
   {
    "duration": 5,
    "start_time": "2022-05-16T13:08:49.201Z"
   },
   {
    "duration": 25,
    "start_time": "2022-05-16T13:08:49.208Z"
   },
   {
    "duration": 8,
    "start_time": "2022-05-16T13:08:49.235Z"
   },
   {
    "duration": 23,
    "start_time": "2022-05-16T13:08:49.245Z"
   },
   {
    "duration": 92,
    "start_time": "2022-05-16T13:08:49.270Z"
   },
   {
    "duration": 6,
    "start_time": "2022-05-16T13:08:49.364Z"
   },
   {
    "duration": 13,
    "start_time": "2022-05-16T13:08:49.374Z"
   },
   {
    "duration": 41893,
    "start_time": "2022-05-16T13:08:49.388Z"
   },
   {
    "duration": 2,
    "start_time": "2022-05-16T13:09:31.283Z"
   },
   {
    "duration": 22,
    "start_time": "2022-05-16T13:09:31.287Z"
   },
   {
    "duration": 96,
    "start_time": "2022-05-16T13:09:31.310Z"
   },
   {
    "duration": 4,
    "start_time": "2022-05-16T13:09:31.407Z"
   },
   {
    "duration": 26,
    "start_time": "2022-05-16T13:09:31.412Z"
   },
   {
    "duration": 81,
    "start_time": "2022-05-16T13:09:31.439Z"
   },
   {
    "duration": 160,
    "start_time": "2022-05-16T13:09:31.522Z"
   },
   {
    "duration": 0,
    "start_time": "2022-05-16T13:09:31.684Z"
   },
   {
    "duration": 0,
    "start_time": "2022-05-16T13:09:31.686Z"
   },
   {
    "duration": 0,
    "start_time": "2022-05-16T13:09:31.687Z"
   },
   {
    "duration": 0,
    "start_time": "2022-05-16T13:09:31.688Z"
   },
   {
    "duration": 0,
    "start_time": "2022-05-16T13:09:31.690Z"
   },
   {
    "duration": 0,
    "start_time": "2022-05-16T13:09:31.691Z"
   },
   {
    "duration": 0,
    "start_time": "2022-05-16T13:09:31.692Z"
   },
   {
    "duration": 0,
    "start_time": "2022-05-16T13:09:31.693Z"
   },
   {
    "duration": 0,
    "start_time": "2022-05-16T13:09:31.694Z"
   },
   {
    "duration": 0,
    "start_time": "2022-05-16T13:09:31.695Z"
   },
   {
    "duration": 0,
    "start_time": "2022-05-16T13:09:31.696Z"
   },
   {
    "duration": 0,
    "start_time": "2022-05-16T13:09:31.697Z"
   },
   {
    "duration": 0,
    "start_time": "2022-05-16T13:09:31.698Z"
   },
   {
    "duration": 0,
    "start_time": "2022-05-16T13:09:31.699Z"
   },
   {
    "duration": 0,
    "start_time": "2022-05-16T13:09:31.700Z"
   },
   {
    "duration": 0,
    "start_time": "2022-05-16T13:09:31.701Z"
   },
   {
    "duration": 0,
    "start_time": "2022-05-16T13:09:31.701Z"
   },
   {
    "duration": 0,
    "start_time": "2022-05-16T13:09:31.702Z"
   },
   {
    "duration": 0,
    "start_time": "2022-05-16T13:09:31.703Z"
   },
   {
    "duration": 0,
    "start_time": "2022-05-16T13:09:31.704Z"
   },
   {
    "duration": 0,
    "start_time": "2022-05-16T13:09:31.706Z"
   },
   {
    "duration": 0,
    "start_time": "2022-05-16T13:09:31.707Z"
   },
   {
    "duration": 0,
    "start_time": "2022-05-16T13:09:31.708Z"
   },
   {
    "duration": 0,
    "start_time": "2022-05-16T13:09:31.708Z"
   },
   {
    "duration": 0,
    "start_time": "2022-05-16T13:09:31.709Z"
   },
   {
    "duration": 0,
    "start_time": "2022-05-16T13:09:31.711Z"
   },
   {
    "duration": 0,
    "start_time": "2022-05-16T13:09:31.711Z"
   },
   {
    "duration": 0,
    "start_time": "2022-05-16T13:09:31.712Z"
   },
   {
    "duration": 0,
    "start_time": "2022-05-16T13:09:31.762Z"
   },
   {
    "duration": 0,
    "start_time": "2022-05-16T13:09:31.763Z"
   },
   {
    "duration": 0,
    "start_time": "2022-05-16T13:09:31.764Z"
   },
   {
    "duration": 0,
    "start_time": "2022-05-16T13:09:31.765Z"
   },
   {
    "duration": 0,
    "start_time": "2022-05-16T13:09:31.767Z"
   },
   {
    "duration": 0,
    "start_time": "2022-05-16T13:09:31.767Z"
   },
   {
    "duration": 0,
    "start_time": "2022-05-16T13:09:31.769Z"
   },
   {
    "duration": 0,
    "start_time": "2022-05-16T13:09:31.770Z"
   },
   {
    "duration": 0,
    "start_time": "2022-05-16T13:09:31.771Z"
   },
   {
    "duration": 0,
    "start_time": "2022-05-16T13:09:31.772Z"
   },
   {
    "duration": 0,
    "start_time": "2022-05-16T13:09:31.773Z"
   },
   {
    "duration": 0,
    "start_time": "2022-05-16T13:09:31.774Z"
   },
   {
    "duration": 0,
    "start_time": "2022-05-16T13:09:31.775Z"
   },
   {
    "duration": 0,
    "start_time": "2022-05-16T13:09:31.776Z"
   },
   {
    "duration": 0,
    "start_time": "2022-05-16T13:09:31.777Z"
   },
   {
    "duration": 0,
    "start_time": "2022-05-16T13:09:31.778Z"
   },
   {
    "duration": 0,
    "start_time": "2022-05-16T13:09:31.779Z"
   },
   {
    "duration": 0,
    "start_time": "2022-05-16T13:09:31.780Z"
   },
   {
    "duration": 0,
    "start_time": "2022-05-16T13:09:31.781Z"
   },
   {
    "duration": 0,
    "start_time": "2022-05-16T13:09:31.782Z"
   },
   {
    "duration": 0,
    "start_time": "2022-05-16T13:09:31.783Z"
   },
   {
    "duration": 0,
    "start_time": "2022-05-16T13:09:31.784Z"
   },
   {
    "duration": 0,
    "start_time": "2022-05-16T13:09:31.785Z"
   },
   {
    "duration": 0,
    "start_time": "2022-05-16T13:09:31.786Z"
   },
   {
    "duration": 0,
    "start_time": "2022-05-16T13:09:31.787Z"
   },
   {
    "duration": 0,
    "start_time": "2022-05-16T13:09:31.788Z"
   },
   {
    "duration": 0,
    "start_time": "2022-05-16T13:09:31.789Z"
   },
   {
    "duration": 0,
    "start_time": "2022-05-16T13:09:31.790Z"
   },
   {
    "duration": 0,
    "start_time": "2022-05-16T13:09:31.791Z"
   },
   {
    "duration": 0,
    "start_time": "2022-05-16T13:09:31.792Z"
   },
   {
    "duration": 0,
    "start_time": "2022-05-16T13:09:31.792Z"
   },
   {
    "duration": 0,
    "start_time": "2022-05-16T13:09:31.794Z"
   },
   {
    "duration": 0,
    "start_time": "2022-05-16T13:09:31.795Z"
   },
   {
    "duration": 0,
    "start_time": "2022-05-16T13:09:31.796Z"
   },
   {
    "duration": 0,
    "start_time": "2022-05-16T13:09:31.797Z"
   },
   {
    "duration": 0,
    "start_time": "2022-05-16T13:09:31.798Z"
   },
   {
    "duration": 3,
    "start_time": "2022-05-16T13:13:00.836Z"
   },
   {
    "duration": 3,
    "start_time": "2022-05-16T13:13:21.413Z"
   },
   {
    "duration": 2173,
    "start_time": "2022-05-16T13:13:24.816Z"
   },
   {
    "duration": 4,
    "start_time": "2022-05-16T13:13:31.285Z"
   },
   {
    "duration": 4,
    "start_time": "2022-05-16T13:13:40.244Z"
   },
   {
    "duration": 336851,
    "start_time": "2022-05-16T13:13:41.855Z"
   },
   {
    "duration": 606489,
    "start_time": "2022-05-16T13:19:18.707Z"
   },
   {
    "duration": 0,
    "start_time": "2022-05-16T13:29:25.199Z"
   },
   {
    "duration": 1,
    "start_time": "2022-05-16T13:29:25.200Z"
   },
   {
    "duration": 0,
    "start_time": "2022-05-16T13:29:25.202Z"
   },
   {
    "duration": 0,
    "start_time": "2022-05-16T13:29:25.203Z"
   },
   {
    "duration": 0,
    "start_time": "2022-05-16T13:29:25.204Z"
   },
   {
    "duration": 0,
    "start_time": "2022-05-16T13:29:25.206Z"
   },
   {
    "duration": 3378,
    "start_time": "2022-05-16T13:29:40.832Z"
   },
   {
    "duration": 190,
    "start_time": "2022-05-16T13:29:44.213Z"
   },
   {
    "duration": 858,
    "start_time": "2022-05-16T13:29:44.405Z"
   },
   {
    "duration": 6,
    "start_time": "2022-05-16T13:29:45.266Z"
   },
   {
    "duration": 21,
    "start_time": "2022-05-16T13:29:45.274Z"
   },
   {
    "duration": 6,
    "start_time": "2022-05-16T13:29:45.297Z"
   },
   {
    "duration": 4,
    "start_time": "2022-05-16T13:29:45.305Z"
   },
   {
    "duration": 120,
    "start_time": "2022-05-16T13:29:45.310Z"
   },
   {
    "duration": 6,
    "start_time": "2022-05-16T13:29:45.432Z"
   },
   {
    "duration": 7,
    "start_time": "2022-05-16T13:29:45.441Z"
   },
   {
    "duration": 8792,
    "start_time": "2022-05-16T13:29:45.461Z"
   },
   {
    "duration": 4,
    "start_time": "2022-05-16T13:29:54.262Z"
   },
   {
    "duration": 16,
    "start_time": "2022-05-16T13:29:54.268Z"
   },
   {
    "duration": 146,
    "start_time": "2022-05-16T13:29:54.286Z"
   },
   {
    "duration": 5,
    "start_time": "2022-05-16T13:29:54.434Z"
   },
   {
    "duration": 33,
    "start_time": "2022-05-16T13:29:54.442Z"
   },
   {
    "duration": 126,
    "start_time": "2022-05-16T13:29:54.477Z"
   },
   {
    "duration": 277,
    "start_time": "2022-05-16T13:29:54.606Z"
   },
   {
    "duration": 0,
    "start_time": "2022-05-16T13:29:54.887Z"
   },
   {
    "duration": 0,
    "start_time": "2022-05-16T13:29:54.889Z"
   },
   {
    "duration": 0,
    "start_time": "2022-05-16T13:29:54.891Z"
   },
   {
    "duration": 0,
    "start_time": "2022-05-16T13:29:54.892Z"
   },
   {
    "duration": 0,
    "start_time": "2022-05-16T13:29:54.893Z"
   },
   {
    "duration": 0,
    "start_time": "2022-05-16T13:29:54.895Z"
   },
   {
    "duration": 0,
    "start_time": "2022-05-16T13:29:54.896Z"
   },
   {
    "duration": 0,
    "start_time": "2022-05-16T13:29:54.898Z"
   },
   {
    "duration": 0,
    "start_time": "2022-05-16T13:29:54.899Z"
   },
   {
    "duration": 0,
    "start_time": "2022-05-16T13:29:54.901Z"
   },
   {
    "duration": 0,
    "start_time": "2022-05-16T13:29:54.902Z"
   },
   {
    "duration": 0,
    "start_time": "2022-05-16T13:29:54.904Z"
   },
   {
    "duration": 0,
    "start_time": "2022-05-16T13:29:54.906Z"
   },
   {
    "duration": 0,
    "start_time": "2022-05-16T13:29:54.907Z"
   },
   {
    "duration": 1,
    "start_time": "2022-05-16T13:29:54.908Z"
   },
   {
    "duration": 0,
    "start_time": "2022-05-16T13:29:54.910Z"
   },
   {
    "duration": 0,
    "start_time": "2022-05-16T13:29:54.911Z"
   },
   {
    "duration": 0,
    "start_time": "2022-05-16T13:29:54.913Z"
   },
   {
    "duration": 0,
    "start_time": "2022-05-16T13:29:54.962Z"
   },
   {
    "duration": 0,
    "start_time": "2022-05-16T13:29:54.964Z"
   },
   {
    "duration": 0,
    "start_time": "2022-05-16T13:29:54.965Z"
   },
   {
    "duration": 0,
    "start_time": "2022-05-16T13:29:54.967Z"
   },
   {
    "duration": 0,
    "start_time": "2022-05-16T13:29:54.969Z"
   },
   {
    "duration": 0,
    "start_time": "2022-05-16T13:29:54.970Z"
   },
   {
    "duration": 0,
    "start_time": "2022-05-16T13:29:54.972Z"
   },
   {
    "duration": 0,
    "start_time": "2022-05-16T13:29:54.974Z"
   },
   {
    "duration": 0,
    "start_time": "2022-05-16T13:29:54.976Z"
   },
   {
    "duration": 0,
    "start_time": "2022-05-16T13:29:54.978Z"
   },
   {
    "duration": 0,
    "start_time": "2022-05-16T13:29:54.980Z"
   },
   {
    "duration": 0,
    "start_time": "2022-05-16T13:29:54.981Z"
   },
   {
    "duration": 0,
    "start_time": "2022-05-16T13:29:54.983Z"
   },
   {
    "duration": 0,
    "start_time": "2022-05-16T13:29:54.984Z"
   },
   {
    "duration": 0,
    "start_time": "2022-05-16T13:29:54.986Z"
   },
   {
    "duration": 0,
    "start_time": "2022-05-16T13:29:54.988Z"
   },
   {
    "duration": 0,
    "start_time": "2022-05-16T13:29:54.990Z"
   },
   {
    "duration": 0,
    "start_time": "2022-05-16T13:29:54.991Z"
   },
   {
    "duration": 0,
    "start_time": "2022-05-16T13:29:54.993Z"
   },
   {
    "duration": 0,
    "start_time": "2022-05-16T13:29:54.994Z"
   },
   {
    "duration": 0,
    "start_time": "2022-05-16T13:29:54.996Z"
   },
   {
    "duration": 0,
    "start_time": "2022-05-16T13:29:54.997Z"
   },
   {
    "duration": 0,
    "start_time": "2022-05-16T13:29:54.999Z"
   },
   {
    "duration": 0,
    "start_time": "2022-05-16T13:29:55.061Z"
   },
   {
    "duration": 0,
    "start_time": "2022-05-16T13:29:55.063Z"
   },
   {
    "duration": 0,
    "start_time": "2022-05-16T13:29:55.064Z"
   },
   {
    "duration": 0,
    "start_time": "2022-05-16T13:29:55.065Z"
   },
   {
    "duration": 0,
    "start_time": "2022-05-16T13:29:55.066Z"
   },
   {
    "duration": 0,
    "start_time": "2022-05-16T13:29:55.066Z"
   },
   {
    "duration": 0,
    "start_time": "2022-05-16T13:29:55.067Z"
   },
   {
    "duration": 0,
    "start_time": "2022-05-16T13:29:55.068Z"
   },
   {
    "duration": 0,
    "start_time": "2022-05-16T13:29:55.069Z"
   },
   {
    "duration": 0,
    "start_time": "2022-05-16T13:29:55.070Z"
   },
   {
    "duration": 0,
    "start_time": "2022-05-16T13:29:55.071Z"
   },
   {
    "duration": 0,
    "start_time": "2022-05-16T13:29:55.072Z"
   },
   {
    "duration": 0,
    "start_time": "2022-05-16T13:29:55.073Z"
   },
   {
    "duration": 0,
    "start_time": "2022-05-16T13:29:55.074Z"
   },
   {
    "duration": 0,
    "start_time": "2022-05-16T13:29:55.075Z"
   },
   {
    "duration": 0,
    "start_time": "2022-05-16T13:29:55.076Z"
   },
   {
    "duration": 0,
    "start_time": "2022-05-16T13:29:55.077Z"
   },
   {
    "duration": 0,
    "start_time": "2022-05-16T13:29:55.078Z"
   },
   {
    "duration": 0,
    "start_time": "2022-05-16T13:29:55.078Z"
   },
   {
    "duration": 0,
    "start_time": "2022-05-16T13:29:55.079Z"
   },
   {
    "duration": 0,
    "start_time": "2022-05-16T13:29:55.080Z"
   },
   {
    "duration": 0,
    "start_time": "2022-05-16T13:29:55.081Z"
   },
   {
    "duration": 0,
    "start_time": "2022-05-16T13:29:55.082Z"
   },
   {
    "duration": 0,
    "start_time": "2022-05-16T13:29:55.083Z"
   },
   {
    "duration": 4,
    "start_time": "2022-05-16T13:30:06.863Z"
   },
   {
    "duration": 3,
    "start_time": "2022-05-16T13:30:07.505Z"
   },
   {
    "duration": 370,
    "start_time": "2022-05-16T13:30:08.332Z"
   },
   {
    "duration": 6,
    "start_time": "2022-05-16T13:30:11.681Z"
   },
   {
    "duration": 22,
    "start_time": "2022-05-16T13:30:15.526Z"
   },
   {
    "duration": 4,
    "start_time": "2022-05-16T13:30:19.102Z"
   },
   {
    "duration": 15553,
    "start_time": "2022-05-16T13:30:19.663Z"
   },
   {
    "duration": 65860,
    "start_time": "2022-05-16T13:30:35.219Z"
   },
   {
    "duration": 373,
    "start_time": "2022-05-16T13:31:41.081Z"
   },
   {
    "duration": 48469,
    "start_time": "2022-05-16T13:31:41.456Z"
   },
   {
    "duration": 238,
    "start_time": "2022-05-16T13:32:29.927Z"
   },
   {
    "duration": 64,
    "start_time": "2022-05-16T13:32:30.168Z"
   },
   {
    "duration": 27171,
    "start_time": "2022-05-16T13:32:30.235Z"
   },
   {
    "duration": 59447,
    "start_time": "2022-05-16T13:32:57.407Z"
   },
   {
    "duration": 40,
    "start_time": "2022-05-16T13:33:56.857Z"
   },
   {
    "duration": 15,
    "start_time": "2022-05-16T13:33:56.899Z"
   },
   {
    "duration": 5,
    "start_time": "2022-05-16T13:33:56.916Z"
   },
   {
    "duration": 1970,
    "start_time": "2022-05-16T13:33:56.923Z"
   },
   {
    "duration": 2029,
    "start_time": "2022-05-16T13:33:58.895Z"
   },
   {
    "duration": 17,
    "start_time": "2022-05-16T13:34:00.926Z"
   },
   {
    "duration": 28160,
    "start_time": "2022-05-16T13:34:37.923Z"
   },
   {
    "duration": 57985,
    "start_time": "2022-05-16T13:35:06.085Z"
   },
   {
    "duration": 33,
    "start_time": "2022-05-16T13:36:04.072Z"
   },
   {
    "duration": 34,
    "start_time": "2022-05-16T13:38:29.050Z"
   },
   {
    "duration": 13,
    "start_time": "2022-05-16T13:39:15.669Z"
   },
   {
    "duration": 3563,
    "start_time": "2022-05-16T13:40:34.813Z"
   },
   {
    "duration": 188,
    "start_time": "2022-05-16T13:40:38.378Z"
   },
   {
    "duration": 759,
    "start_time": "2022-05-16T13:40:38.568Z"
   },
   {
    "duration": 5,
    "start_time": "2022-05-16T13:40:39.329Z"
   },
   {
    "duration": 30,
    "start_time": "2022-05-16T13:40:39.336Z"
   },
   {
    "duration": 5,
    "start_time": "2022-05-16T13:40:39.368Z"
   },
   {
    "duration": 4,
    "start_time": "2022-05-16T13:40:39.375Z"
   },
   {
    "duration": 103,
    "start_time": "2022-05-16T13:40:39.381Z"
   },
   {
    "duration": 4,
    "start_time": "2022-05-16T13:40:39.485Z"
   },
   {
    "duration": 5,
    "start_time": "2022-05-16T13:40:39.492Z"
   },
   {
    "duration": 5209,
    "start_time": "2022-05-16T13:40:39.499Z"
   },
   {
    "duration": 3,
    "start_time": "2022-05-16T13:40:44.710Z"
   },
   {
    "duration": 12,
    "start_time": "2022-05-16T13:40:44.714Z"
   },
   {
    "duration": 92,
    "start_time": "2022-05-16T13:40:44.728Z"
   },
   {
    "duration": 4,
    "start_time": "2022-05-16T13:40:44.822Z"
   },
   {
    "duration": 12,
    "start_time": "2022-05-16T13:40:44.828Z"
   },
   {
    "duration": 87,
    "start_time": "2022-05-16T13:40:44.842Z"
   },
   {
    "duration": 3,
    "start_time": "2022-05-16T13:40:44.931Z"
   },
   {
    "duration": 8,
    "start_time": "2022-05-16T13:40:44.936Z"
   },
   {
    "duration": 260,
    "start_time": "2022-05-16T13:40:44.946Z"
   },
   {
    "duration": 4,
    "start_time": "2022-05-16T13:40:45.208Z"
   },
   {
    "duration": 166,
    "start_time": "2022-05-16T13:40:45.214Z"
   },
   {
    "duration": 0,
    "start_time": "2022-05-16T13:40:45.383Z"
   },
   {
    "duration": 0,
    "start_time": "2022-05-16T13:40:45.383Z"
   },
   {
    "duration": 0,
    "start_time": "2022-05-16T13:40:45.384Z"
   },
   {
    "duration": 0,
    "start_time": "2022-05-16T13:40:45.386Z"
   },
   {
    "duration": 0,
    "start_time": "2022-05-16T13:40:45.387Z"
   },
   {
    "duration": 0,
    "start_time": "2022-05-16T13:40:45.389Z"
   },
   {
    "duration": 0,
    "start_time": "2022-05-16T13:40:45.390Z"
   },
   {
    "duration": 0,
    "start_time": "2022-05-16T13:40:45.391Z"
   },
   {
    "duration": 0,
    "start_time": "2022-05-16T13:40:45.392Z"
   },
   {
    "duration": 0,
    "start_time": "2022-05-16T13:40:45.394Z"
   },
   {
    "duration": 0,
    "start_time": "2022-05-16T13:40:45.395Z"
   },
   {
    "duration": 0,
    "start_time": "2022-05-16T13:40:45.397Z"
   },
   {
    "duration": 0,
    "start_time": "2022-05-16T13:40:45.398Z"
   },
   {
    "duration": 0,
    "start_time": "2022-05-16T13:40:45.399Z"
   },
   {
    "duration": 0,
    "start_time": "2022-05-16T13:40:45.401Z"
   },
   {
    "duration": 0,
    "start_time": "2022-05-16T13:40:45.402Z"
   },
   {
    "duration": 1,
    "start_time": "2022-05-16T13:40:45.403Z"
   },
   {
    "duration": 0,
    "start_time": "2022-05-16T13:40:45.405Z"
   },
   {
    "duration": 0,
    "start_time": "2022-05-16T13:40:45.406Z"
   },
   {
    "duration": 1,
    "start_time": "2022-05-16T13:40:45.407Z"
   },
   {
    "duration": 0,
    "start_time": "2022-05-16T13:40:45.409Z"
   },
   {
    "duration": 0,
    "start_time": "2022-05-16T13:40:45.411Z"
   },
   {
    "duration": 0,
    "start_time": "2022-05-16T13:40:45.412Z"
   },
   {
    "duration": 0,
    "start_time": "2022-05-16T13:40:45.413Z"
   },
   {
    "duration": 0,
    "start_time": "2022-05-16T13:40:45.462Z"
   },
   {
    "duration": 0,
    "start_time": "2022-05-16T13:40:45.464Z"
   },
   {
    "duration": 0,
    "start_time": "2022-05-16T13:40:45.465Z"
   },
   {
    "duration": 1,
    "start_time": "2022-05-16T13:40:45.466Z"
   },
   {
    "duration": 0,
    "start_time": "2022-05-16T13:40:45.468Z"
   },
   {
    "duration": 0,
    "start_time": "2022-05-16T13:40:45.470Z"
   },
   {
    "duration": 0,
    "start_time": "2022-05-16T13:40:45.471Z"
   },
   {
    "duration": 0,
    "start_time": "2022-05-16T13:40:45.472Z"
   },
   {
    "duration": 0,
    "start_time": "2022-05-16T13:40:45.474Z"
   },
   {
    "duration": 0,
    "start_time": "2022-05-16T13:40:45.475Z"
   },
   {
    "duration": 0,
    "start_time": "2022-05-16T13:40:45.477Z"
   },
   {
    "duration": 0,
    "start_time": "2022-05-16T13:40:45.478Z"
   },
   {
    "duration": 0,
    "start_time": "2022-05-16T13:40:45.479Z"
   },
   {
    "duration": 0,
    "start_time": "2022-05-16T13:40:45.480Z"
   },
   {
    "duration": 0,
    "start_time": "2022-05-16T13:40:45.481Z"
   },
   {
    "duration": 0,
    "start_time": "2022-05-16T13:40:45.483Z"
   },
   {
    "duration": 0,
    "start_time": "2022-05-16T13:40:45.484Z"
   },
   {
    "duration": 0,
    "start_time": "2022-05-16T13:40:45.485Z"
   },
   {
    "duration": 0,
    "start_time": "2022-05-16T13:40:45.486Z"
   },
   {
    "duration": 0,
    "start_time": "2022-05-16T13:40:45.488Z"
   },
   {
    "duration": 0,
    "start_time": "2022-05-16T13:40:45.490Z"
   },
   {
    "duration": 0,
    "start_time": "2022-05-16T13:40:45.491Z"
   },
   {
    "duration": 0,
    "start_time": "2022-05-16T13:40:45.492Z"
   },
   {
    "duration": 0,
    "start_time": "2022-05-16T13:40:45.494Z"
   },
   {
    "duration": 0,
    "start_time": "2022-05-16T13:40:45.495Z"
   },
   {
    "duration": 0,
    "start_time": "2022-05-16T13:40:45.496Z"
   },
   {
    "duration": 0,
    "start_time": "2022-05-16T13:40:45.497Z"
   },
   {
    "duration": 0,
    "start_time": "2022-05-16T13:40:45.498Z"
   },
   {
    "duration": 0,
    "start_time": "2022-05-16T13:40:45.499Z"
   },
   {
    "duration": 0,
    "start_time": "2022-05-16T13:40:45.562Z"
   },
   {
    "duration": 0,
    "start_time": "2022-05-16T13:40:45.564Z"
   },
   {
    "duration": 0,
    "start_time": "2022-05-16T13:40:45.565Z"
   },
   {
    "duration": 0,
    "start_time": "2022-05-16T13:40:45.566Z"
   },
   {
    "duration": 0,
    "start_time": "2022-05-16T13:40:45.567Z"
   },
   {
    "duration": 0,
    "start_time": "2022-05-16T13:40:45.568Z"
   },
   {
    "duration": 0,
    "start_time": "2022-05-16T13:40:45.569Z"
   },
   {
    "duration": 0,
    "start_time": "2022-05-16T13:40:45.570Z"
   },
   {
    "duration": 0,
    "start_time": "2022-05-16T13:40:45.571Z"
   },
   {
    "duration": 0,
    "start_time": "2022-05-16T13:40:45.572Z"
   },
   {
    "duration": 0,
    "start_time": "2022-05-16T13:40:45.573Z"
   },
   {
    "duration": 4,
    "start_time": "2022-05-16T13:42:26.081Z"
   },
   {
    "duration": 14807,
    "start_time": "2022-05-16T13:42:26.866Z"
   },
   {
    "duration": 91434,
    "start_time": "2022-05-16T13:42:41.675Z"
   },
   {
    "duration": 241,
    "start_time": "2022-05-16T13:44:13.111Z"
   },
   {
    "duration": 56157,
    "start_time": "2022-05-16T13:44:13.361Z"
   },
   {
    "duration": 174,
    "start_time": "2022-05-16T13:45:09.520Z"
   },
   {
    "duration": 31,
    "start_time": "2022-05-16T13:45:09.696Z"
   },
   {
    "duration": 35229,
    "start_time": "2022-05-16T13:45:09.729Z"
   },
   {
    "duration": 72681,
    "start_time": "2022-05-16T13:45:44.960Z"
   },
   {
    "duration": 36,
    "start_time": "2022-05-16T13:46:57.643Z"
   },
   {
    "duration": 20,
    "start_time": "2022-05-16T13:46:57.681Z"
   },
   {
    "duration": 6,
    "start_time": "2022-05-16T13:46:57.703Z"
   },
   {
    "duration": 3522,
    "start_time": "2022-05-16T13:47:22.837Z"
   },
   {
    "duration": 145,
    "start_time": "2022-05-16T13:47:26.366Z"
   },
   {
    "duration": 781,
    "start_time": "2022-05-16T13:47:26.513Z"
   },
   {
    "duration": 6,
    "start_time": "2022-05-16T13:47:27.296Z"
   },
   {
    "duration": 22,
    "start_time": "2022-05-16T13:47:27.303Z"
   },
   {
    "duration": 6,
    "start_time": "2022-05-16T13:47:27.327Z"
   },
   {
    "duration": 6,
    "start_time": "2022-05-16T13:47:27.334Z"
   },
   {
    "duration": 110,
    "start_time": "2022-05-16T13:47:27.342Z"
   },
   {
    "duration": 16,
    "start_time": "2022-05-16T13:47:27.454Z"
   },
   {
    "duration": 15,
    "start_time": "2022-05-16T13:47:27.474Z"
   },
   {
    "duration": 6450,
    "start_time": "2022-05-16T13:47:27.491Z"
   },
   {
    "duration": 3,
    "start_time": "2022-05-16T13:47:33.942Z"
   },
   {
    "duration": 23,
    "start_time": "2022-05-16T13:47:33.947Z"
   },
   {
    "duration": 83,
    "start_time": "2022-05-16T13:47:33.973Z"
   },
   {
    "duration": 5,
    "start_time": "2022-05-16T13:47:34.063Z"
   },
   {
    "duration": 22,
    "start_time": "2022-05-16T13:47:34.070Z"
   },
   {
    "duration": 82,
    "start_time": "2022-05-16T13:47:34.093Z"
   },
   {
    "duration": 4,
    "start_time": "2022-05-16T13:47:34.178Z"
   },
   {
    "duration": 6,
    "start_time": "2022-05-16T13:47:34.184Z"
   },
   {
    "duration": 304,
    "start_time": "2022-05-16T13:47:34.192Z"
   },
   {
    "duration": 4,
    "start_time": "2022-05-16T13:47:34.498Z"
   },
   {
    "duration": 8,
    "start_time": "2022-05-16T13:47:34.504Z"
   },
   {
    "duration": 15,
    "start_time": "2022-05-16T13:47:34.514Z"
   },
   {
    "duration": 6,
    "start_time": "2022-05-16T13:47:34.531Z"
   },
   {
    "duration": 6,
    "start_time": "2022-05-16T13:47:34.538Z"
   },
   {
    "duration": 4,
    "start_time": "2022-05-16T13:47:34.546Z"
   },
   {
    "duration": 6,
    "start_time": "2022-05-16T13:47:34.552Z"
   },
   {
    "duration": 19551,
    "start_time": "2022-05-16T13:47:34.563Z"
   },
   {
    "duration": 11717,
    "start_time": "2022-05-16T13:47:54.116Z"
   },
   {
    "duration": 0,
    "start_time": "2022-05-16T13:48:05.835Z"
   },
   {
    "duration": 0,
    "start_time": "2022-05-16T13:48:05.836Z"
   },
   {
    "duration": 0,
    "start_time": "2022-05-16T13:48:05.837Z"
   },
   {
    "duration": 0,
    "start_time": "2022-05-16T13:48:05.838Z"
   },
   {
    "duration": 0,
    "start_time": "2022-05-16T13:48:05.839Z"
   },
   {
    "duration": 0,
    "start_time": "2022-05-16T13:48:05.840Z"
   },
   {
    "duration": 0,
    "start_time": "2022-05-16T13:48:05.841Z"
   },
   {
    "duration": 0,
    "start_time": "2022-05-16T13:48:05.842Z"
   },
   {
    "duration": 0,
    "start_time": "2022-05-16T13:48:05.843Z"
   },
   {
    "duration": 0,
    "start_time": "2022-05-16T13:48:05.844Z"
   },
   {
    "duration": 0,
    "start_time": "2022-05-16T13:48:05.845Z"
   },
   {
    "duration": 0,
    "start_time": "2022-05-16T13:48:05.862Z"
   },
   {
    "duration": 0,
    "start_time": "2022-05-16T13:48:05.863Z"
   },
   {
    "duration": 0,
    "start_time": "2022-05-16T13:48:05.863Z"
   },
   {
    "duration": 0,
    "start_time": "2022-05-16T13:48:05.864Z"
   },
   {
    "duration": 0,
    "start_time": "2022-05-16T13:48:05.865Z"
   },
   {
    "duration": 0,
    "start_time": "2022-05-16T13:48:05.868Z"
   },
   {
    "duration": 0,
    "start_time": "2022-05-16T13:48:05.869Z"
   },
   {
    "duration": 0,
    "start_time": "2022-05-16T13:48:05.870Z"
   },
   {
    "duration": 0,
    "start_time": "2022-05-16T13:48:05.871Z"
   },
   {
    "duration": 0,
    "start_time": "2022-05-16T13:48:05.872Z"
   },
   {
    "duration": 0,
    "start_time": "2022-05-16T13:48:05.873Z"
   },
   {
    "duration": 0,
    "start_time": "2022-05-16T13:48:05.874Z"
   },
   {
    "duration": 0,
    "start_time": "2022-05-16T13:48:05.875Z"
   },
   {
    "duration": 0,
    "start_time": "2022-05-16T13:48:05.876Z"
   },
   {
    "duration": 0,
    "start_time": "2022-05-16T13:48:05.880Z"
   },
   {
    "duration": 0,
    "start_time": "2022-05-16T13:48:05.881Z"
   },
   {
    "duration": 0,
    "start_time": "2022-05-16T13:48:05.882Z"
   },
   {
    "duration": 0,
    "start_time": "2022-05-16T13:48:05.884Z"
   },
   {
    "duration": 0,
    "start_time": "2022-05-16T13:48:05.886Z"
   },
   {
    "duration": 0,
    "start_time": "2022-05-16T13:48:05.886Z"
   },
   {
    "duration": 0,
    "start_time": "2022-05-16T13:48:05.887Z"
   },
   {
    "duration": 0,
    "start_time": "2022-05-16T13:48:05.888Z"
   },
   {
    "duration": 0,
    "start_time": "2022-05-16T13:48:05.889Z"
   },
   {
    "duration": 0,
    "start_time": "2022-05-16T13:48:05.890Z"
   },
   {
    "duration": 0,
    "start_time": "2022-05-16T13:48:05.891Z"
   },
   {
    "duration": 0,
    "start_time": "2022-05-16T13:48:05.892Z"
   },
   {
    "duration": 0,
    "start_time": "2022-05-16T13:48:05.893Z"
   },
   {
    "duration": 0,
    "start_time": "2022-05-16T13:48:05.894Z"
   },
   {
    "duration": 0,
    "start_time": "2022-05-16T13:48:05.895Z"
   },
   {
    "duration": 0,
    "start_time": "2022-05-16T13:48:05.896Z"
   },
   {
    "duration": 0,
    "start_time": "2022-05-16T13:48:05.897Z"
   },
   {
    "duration": 0,
    "start_time": "2022-05-16T13:48:05.898Z"
   },
   {
    "duration": 0,
    "start_time": "2022-05-16T13:48:05.899Z"
   },
   {
    "duration": 0,
    "start_time": "2022-05-16T13:48:05.900Z"
   },
   {
    "duration": 0,
    "start_time": "2022-05-16T13:48:05.901Z"
   },
   {
    "duration": 0,
    "start_time": "2022-05-16T13:48:05.902Z"
   },
   {
    "duration": 0,
    "start_time": "2022-05-16T13:48:05.903Z"
   },
   {
    "duration": 0,
    "start_time": "2022-05-16T13:48:05.905Z"
   },
   {
    "duration": 1,
    "start_time": "2022-05-16T13:48:05.962Z"
   },
   {
    "duration": 0,
    "start_time": "2022-05-16T13:48:05.964Z"
   },
   {
    "duration": 0,
    "start_time": "2022-05-16T13:48:05.965Z"
   },
   {
    "duration": 0,
    "start_time": "2022-05-16T13:48:05.976Z"
   },
   {
    "duration": 0,
    "start_time": "2022-05-16T13:48:05.978Z"
   },
   {
    "duration": 0,
    "start_time": "2022-05-16T13:48:05.982Z"
   },
   {
    "duration": 0,
    "start_time": "2022-05-16T13:48:05.983Z"
   },
   {
    "duration": 0,
    "start_time": "2022-05-16T13:48:05.985Z"
   },
   {
    "duration": 3280,
    "start_time": "2022-05-16T13:48:25.738Z"
   },
   {
    "duration": 148,
    "start_time": "2022-05-16T13:48:29.020Z"
   },
   {
    "duration": 1021,
    "start_time": "2022-05-16T13:48:29.170Z"
   },
   {
    "duration": 7,
    "start_time": "2022-05-16T13:48:30.194Z"
   },
   {
    "duration": 27,
    "start_time": "2022-05-16T13:48:30.203Z"
   },
   {
    "duration": 5,
    "start_time": "2022-05-16T13:48:30.232Z"
   },
   {
    "duration": 15,
    "start_time": "2022-05-16T13:48:30.239Z"
   },
   {
    "duration": 118,
    "start_time": "2022-05-16T13:48:30.256Z"
   },
   {
    "duration": 4,
    "start_time": "2022-05-16T13:48:30.376Z"
   },
   {
    "duration": 6,
    "start_time": "2022-05-16T13:48:30.383Z"
   },
   {
    "duration": 6050,
    "start_time": "2022-05-16T13:48:30.391Z"
   },
   {
    "duration": 3,
    "start_time": "2022-05-16T13:48:36.443Z"
   },
   {
    "duration": 21,
    "start_time": "2022-05-16T13:48:36.447Z"
   },
   {
    "duration": 83,
    "start_time": "2022-05-16T13:48:36.470Z"
   },
   {
    "duration": 5,
    "start_time": "2022-05-16T13:48:36.561Z"
   },
   {
    "duration": 25,
    "start_time": "2022-05-16T13:48:36.567Z"
   },
   {
    "duration": 72,
    "start_time": "2022-05-16T13:48:36.594Z"
   },
   {
    "duration": 3,
    "start_time": "2022-05-16T13:48:36.670Z"
   },
   {
    "duration": 14,
    "start_time": "2022-05-16T13:48:36.675Z"
   },
   {
    "duration": 232,
    "start_time": "2022-05-16T13:48:36.691Z"
   },
   {
    "duration": 5,
    "start_time": "2022-05-16T13:48:36.924Z"
   },
   {
    "duration": 6,
    "start_time": "2022-05-16T13:48:36.930Z"
   },
   {
    "duration": 7,
    "start_time": "2022-05-16T13:48:36.937Z"
   },
   {
    "duration": 4,
    "start_time": "2022-05-16T13:48:36.946Z"
   },
   {
    "duration": 15,
    "start_time": "2022-05-16T13:48:36.952Z"
   },
   {
    "duration": 15,
    "start_time": "2022-05-16T13:48:36.969Z"
   },
   {
    "duration": 4,
    "start_time": "2022-05-16T13:48:36.987Z"
   },
   {
    "duration": 18700,
    "start_time": "2022-05-16T13:48:36.995Z"
   },
   {
    "duration": 6602,
    "start_time": "2022-05-16T13:48:55.697Z"
   },
   {
    "duration": 0,
    "start_time": "2022-05-16T13:49:02.301Z"
   },
   {
    "duration": 0,
    "start_time": "2022-05-16T13:49:02.302Z"
   },
   {
    "duration": 0,
    "start_time": "2022-05-16T13:49:02.303Z"
   },
   {
    "duration": 0,
    "start_time": "2022-05-16T13:49:02.304Z"
   },
   {
    "duration": 0,
    "start_time": "2022-05-16T13:49:02.305Z"
   },
   {
    "duration": 0,
    "start_time": "2022-05-16T13:49:02.306Z"
   },
   {
    "duration": 0,
    "start_time": "2022-05-16T13:49:02.307Z"
   },
   {
    "duration": 0,
    "start_time": "2022-05-16T13:49:02.308Z"
   },
   {
    "duration": 0,
    "start_time": "2022-05-16T13:49:02.310Z"
   },
   {
    "duration": 0,
    "start_time": "2022-05-16T13:49:02.311Z"
   },
   {
    "duration": 0,
    "start_time": "2022-05-16T13:49:02.312Z"
   },
   {
    "duration": 0,
    "start_time": "2022-05-16T13:49:02.313Z"
   },
   {
    "duration": 0,
    "start_time": "2022-05-16T13:49:02.314Z"
   },
   {
    "duration": 0,
    "start_time": "2022-05-16T13:49:02.315Z"
   },
   {
    "duration": 0,
    "start_time": "2022-05-16T13:49:02.316Z"
   },
   {
    "duration": 0,
    "start_time": "2022-05-16T13:49:02.317Z"
   },
   {
    "duration": 0,
    "start_time": "2022-05-16T13:49:02.318Z"
   },
   {
    "duration": 0,
    "start_time": "2022-05-16T13:49:02.319Z"
   },
   {
    "duration": 0,
    "start_time": "2022-05-16T13:49:02.320Z"
   },
   {
    "duration": 0,
    "start_time": "2022-05-16T13:49:02.321Z"
   },
   {
    "duration": 0,
    "start_time": "2022-05-16T13:49:02.322Z"
   },
   {
    "duration": 0,
    "start_time": "2022-05-16T13:49:02.323Z"
   },
   {
    "duration": 0,
    "start_time": "2022-05-16T13:49:02.324Z"
   },
   {
    "duration": 0,
    "start_time": "2022-05-16T13:49:02.371Z"
   },
   {
    "duration": 0,
    "start_time": "2022-05-16T13:49:02.372Z"
   },
   {
    "duration": 0,
    "start_time": "2022-05-16T13:49:02.373Z"
   },
   {
    "duration": 0,
    "start_time": "2022-05-16T13:49:02.375Z"
   },
   {
    "duration": 0,
    "start_time": "2022-05-16T13:49:02.375Z"
   },
   {
    "duration": 0,
    "start_time": "2022-05-16T13:49:02.376Z"
   },
   {
    "duration": 0,
    "start_time": "2022-05-16T13:49:02.378Z"
   },
   {
    "duration": 0,
    "start_time": "2022-05-16T13:49:02.379Z"
   },
   {
    "duration": 0,
    "start_time": "2022-05-16T13:49:02.381Z"
   },
   {
    "duration": 0,
    "start_time": "2022-05-16T13:49:02.383Z"
   },
   {
    "duration": 0,
    "start_time": "2022-05-16T13:49:02.384Z"
   },
   {
    "duration": 0,
    "start_time": "2022-05-16T13:49:02.387Z"
   },
   {
    "duration": 0,
    "start_time": "2022-05-16T13:49:02.388Z"
   },
   {
    "duration": 0,
    "start_time": "2022-05-16T13:49:02.390Z"
   },
   {
    "duration": 0,
    "start_time": "2022-05-16T13:49:02.391Z"
   },
   {
    "duration": 0,
    "start_time": "2022-05-16T13:49:02.393Z"
   },
   {
    "duration": 0,
    "start_time": "2022-05-16T13:49:02.394Z"
   },
   {
    "duration": 0,
    "start_time": "2022-05-16T13:49:02.395Z"
   },
   {
    "duration": 0,
    "start_time": "2022-05-16T13:49:02.396Z"
   },
   {
    "duration": 0,
    "start_time": "2022-05-16T13:49:02.397Z"
   },
   {
    "duration": 0,
    "start_time": "2022-05-16T13:49:02.398Z"
   },
   {
    "duration": 0,
    "start_time": "2022-05-16T13:49:02.400Z"
   },
   {
    "duration": 0,
    "start_time": "2022-05-16T13:49:02.401Z"
   },
   {
    "duration": 0,
    "start_time": "2022-05-16T13:49:02.403Z"
   },
   {
    "duration": 0,
    "start_time": "2022-05-16T13:49:02.404Z"
   },
   {
    "duration": 0,
    "start_time": "2022-05-16T13:49:02.406Z"
   },
   {
    "duration": 0,
    "start_time": "2022-05-16T13:49:02.407Z"
   },
   {
    "duration": 0,
    "start_time": "2022-05-16T13:49:02.408Z"
   },
   {
    "duration": 0,
    "start_time": "2022-05-16T13:49:02.410Z"
   },
   {
    "duration": 0,
    "start_time": "2022-05-16T13:49:02.464Z"
   },
   {
    "duration": 0,
    "start_time": "2022-05-16T13:49:02.466Z"
   },
   {
    "duration": 0,
    "start_time": "2022-05-16T13:49:02.467Z"
   },
   {
    "duration": 0,
    "start_time": "2022-05-16T13:49:02.469Z"
   },
   {
    "duration": 0,
    "start_time": "2022-05-16T13:49:02.471Z"
   },
   {
    "duration": 3357,
    "start_time": "2022-05-16T13:49:15.080Z"
   },
   {
    "duration": 142,
    "start_time": "2022-05-16T13:49:18.440Z"
   },
   {
    "duration": 803,
    "start_time": "2022-05-16T13:49:18.583Z"
   },
   {
    "duration": 5,
    "start_time": "2022-05-16T13:49:19.388Z"
   },
   {
    "duration": 20,
    "start_time": "2022-05-16T13:49:19.395Z"
   },
   {
    "duration": 6,
    "start_time": "2022-05-16T13:49:19.417Z"
   },
   {
    "duration": 4,
    "start_time": "2022-05-16T13:49:19.424Z"
   },
   {
    "duration": 114,
    "start_time": "2022-05-16T13:49:19.430Z"
   },
   {
    "duration": 4,
    "start_time": "2022-05-16T13:49:19.545Z"
   },
   {
    "duration": 12,
    "start_time": "2022-05-16T13:49:19.552Z"
   },
   {
    "duration": 5776,
    "start_time": "2022-05-16T13:49:19.567Z"
   },
   {
    "duration": 3,
    "start_time": "2022-05-16T13:49:25.345Z"
   },
   {
    "duration": 18,
    "start_time": "2022-05-16T13:49:25.349Z"
   },
   {
    "duration": 76,
    "start_time": "2022-05-16T13:49:25.370Z"
   },
   {
    "duration": 17,
    "start_time": "2022-05-16T13:49:25.448Z"
   },
   {
    "duration": 17,
    "start_time": "2022-05-16T13:49:25.469Z"
   },
   {
    "duration": 82,
    "start_time": "2022-05-16T13:49:25.488Z"
   },
   {
    "duration": 4,
    "start_time": "2022-05-16T13:49:25.571Z"
   },
   {
    "duration": 14,
    "start_time": "2022-05-16T13:49:25.576Z"
   },
   {
    "duration": 241,
    "start_time": "2022-05-16T13:49:25.591Z"
   },
   {
    "duration": 4,
    "start_time": "2022-05-16T13:49:25.834Z"
   },
   {
    "duration": 5,
    "start_time": "2022-05-16T13:49:25.840Z"
   },
   {
    "duration": 10,
    "start_time": "2022-05-16T13:49:25.847Z"
   },
   {
    "duration": 3,
    "start_time": "2022-05-16T13:49:25.862Z"
   },
   {
    "duration": 11,
    "start_time": "2022-05-16T13:49:25.868Z"
   },
   {
    "duration": 10,
    "start_time": "2022-05-16T13:49:25.881Z"
   },
   {
    "duration": 7,
    "start_time": "2022-05-16T13:49:25.893Z"
   },
   {
    "duration": 11801,
    "start_time": "2022-05-16T13:49:25.905Z"
   },
   {
    "duration": 3093,
    "start_time": "2022-05-16T13:49:37.708Z"
   },
   {
    "duration": 0,
    "start_time": "2022-05-16T13:49:40.803Z"
   },
   {
    "duration": 0,
    "start_time": "2022-05-16T13:49:40.805Z"
   },
   {
    "duration": 0,
    "start_time": "2022-05-16T13:49:40.806Z"
   },
   {
    "duration": 0,
    "start_time": "2022-05-16T13:49:40.807Z"
   },
   {
    "duration": 0,
    "start_time": "2022-05-16T13:49:40.808Z"
   },
   {
    "duration": 0,
    "start_time": "2022-05-16T13:49:40.809Z"
   },
   {
    "duration": 0,
    "start_time": "2022-05-16T13:49:40.810Z"
   },
   {
    "duration": 0,
    "start_time": "2022-05-16T13:49:40.811Z"
   },
   {
    "duration": 0,
    "start_time": "2022-05-16T13:49:40.812Z"
   },
   {
    "duration": 0,
    "start_time": "2022-05-16T13:49:40.813Z"
   },
   {
    "duration": 0,
    "start_time": "2022-05-16T13:49:40.813Z"
   },
   {
    "duration": 0,
    "start_time": "2022-05-16T13:49:40.814Z"
   },
   {
    "duration": 0,
    "start_time": "2022-05-16T13:49:40.815Z"
   },
   {
    "duration": 0,
    "start_time": "2022-05-16T13:49:40.816Z"
   },
   {
    "duration": 0,
    "start_time": "2022-05-16T13:49:40.817Z"
   },
   {
    "duration": 0,
    "start_time": "2022-05-16T13:49:40.818Z"
   },
   {
    "duration": 0,
    "start_time": "2022-05-16T13:49:40.818Z"
   },
   {
    "duration": 0,
    "start_time": "2022-05-16T13:49:40.819Z"
   },
   {
    "duration": 0,
    "start_time": "2022-05-16T13:49:40.820Z"
   },
   {
    "duration": 0,
    "start_time": "2022-05-16T13:49:40.821Z"
   },
   {
    "duration": 0,
    "start_time": "2022-05-16T13:49:40.822Z"
   },
   {
    "duration": 0,
    "start_time": "2022-05-16T13:49:40.822Z"
   },
   {
    "duration": 0,
    "start_time": "2022-05-16T13:49:40.823Z"
   },
   {
    "duration": 0,
    "start_time": "2022-05-16T13:49:40.824Z"
   },
   {
    "duration": 0,
    "start_time": "2022-05-16T13:49:40.825Z"
   },
   {
    "duration": 0,
    "start_time": "2022-05-16T13:49:40.826Z"
   },
   {
    "duration": 0,
    "start_time": "2022-05-16T13:49:40.862Z"
   },
   {
    "duration": 0,
    "start_time": "2022-05-16T13:49:40.863Z"
   },
   {
    "duration": 0,
    "start_time": "2022-05-16T13:49:40.864Z"
   },
   {
    "duration": 0,
    "start_time": "2022-05-16T13:49:40.868Z"
   },
   {
    "duration": 0,
    "start_time": "2022-05-16T13:49:40.870Z"
   },
   {
    "duration": 0,
    "start_time": "2022-05-16T13:49:40.871Z"
   },
   {
    "duration": 0,
    "start_time": "2022-05-16T13:49:40.872Z"
   },
   {
    "duration": 0,
    "start_time": "2022-05-16T13:49:40.876Z"
   },
   {
    "duration": 0,
    "start_time": "2022-05-16T13:49:40.877Z"
   },
   {
    "duration": 0,
    "start_time": "2022-05-16T13:49:40.878Z"
   },
   {
    "duration": 0,
    "start_time": "2022-05-16T13:49:40.879Z"
   },
   {
    "duration": 0,
    "start_time": "2022-05-16T13:49:40.880Z"
   },
   {
    "duration": 0,
    "start_time": "2022-05-16T13:49:40.881Z"
   },
   {
    "duration": 0,
    "start_time": "2022-05-16T13:49:40.881Z"
   },
   {
    "duration": 0,
    "start_time": "2022-05-16T13:49:40.882Z"
   },
   {
    "duration": 0,
    "start_time": "2022-05-16T13:49:40.882Z"
   },
   {
    "duration": 0,
    "start_time": "2022-05-16T13:49:40.883Z"
   },
   {
    "duration": 0,
    "start_time": "2022-05-16T13:49:40.884Z"
   },
   {
    "duration": 0,
    "start_time": "2022-05-16T13:49:40.884Z"
   },
   {
    "duration": 0,
    "start_time": "2022-05-16T13:49:40.885Z"
   },
   {
    "duration": 0,
    "start_time": "2022-05-16T13:49:40.885Z"
   },
   {
    "duration": 0,
    "start_time": "2022-05-16T13:49:40.886Z"
   },
   {
    "duration": 0,
    "start_time": "2022-05-16T13:49:40.888Z"
   },
   {
    "duration": 0,
    "start_time": "2022-05-16T13:49:40.889Z"
   },
   {
    "duration": 0,
    "start_time": "2022-05-16T13:49:40.891Z"
   },
   {
    "duration": 0,
    "start_time": "2022-05-16T13:49:40.892Z"
   },
   {
    "duration": 0,
    "start_time": "2022-05-16T13:49:40.893Z"
   },
   {
    "duration": 0,
    "start_time": "2022-05-16T13:49:40.894Z"
   },
   {
    "duration": 0,
    "start_time": "2022-05-16T13:49:40.895Z"
   },
   {
    "duration": 0,
    "start_time": "2022-05-16T13:49:40.896Z"
   },
   {
    "duration": 0,
    "start_time": "2022-05-16T13:49:40.896Z"
   },
   {
    "duration": 6,
    "start_time": "2022-05-16T13:50:05.971Z"
   },
   {
    "duration": 6,
    "start_time": "2022-05-16T13:50:06.421Z"
   },
   {
    "duration": 17,
    "start_time": "2022-05-16T13:50:07.388Z"
   },
   {
    "duration": 3455,
    "start_time": "2022-05-16T13:51:06.868Z"
   },
   {
    "duration": 185,
    "start_time": "2022-05-16T13:51:10.325Z"
   },
   {
    "duration": 742,
    "start_time": "2022-05-16T13:51:10.511Z"
   },
   {
    "duration": 10,
    "start_time": "2022-05-16T13:51:11.255Z"
   },
   {
    "duration": 30,
    "start_time": "2022-05-16T13:51:11.267Z"
   },
   {
    "duration": 7,
    "start_time": "2022-05-16T13:51:11.299Z"
   },
   {
    "duration": 6,
    "start_time": "2022-05-16T13:51:11.307Z"
   },
   {
    "duration": 98,
    "start_time": "2022-05-16T13:51:11.315Z"
   },
   {
    "duration": 4,
    "start_time": "2022-05-16T13:51:11.415Z"
   },
   {
    "duration": 6,
    "start_time": "2022-05-16T13:51:11.422Z"
   },
   {
    "duration": 5523,
    "start_time": "2022-05-16T13:51:11.430Z"
   },
   {
    "duration": 3,
    "start_time": "2022-05-16T13:51:16.963Z"
   },
   {
    "duration": 10,
    "start_time": "2022-05-16T13:51:16.967Z"
   },
   {
    "duration": 93,
    "start_time": "2022-05-16T13:51:16.980Z"
   },
   {
    "duration": 5,
    "start_time": "2022-05-16T13:51:17.075Z"
   },
   {
    "duration": 14,
    "start_time": "2022-05-16T13:51:17.083Z"
   },
   {
    "duration": 96,
    "start_time": "2022-05-16T13:51:17.099Z"
   },
   {
    "duration": 3,
    "start_time": "2022-05-16T13:51:17.197Z"
   },
   {
    "duration": 5,
    "start_time": "2022-05-16T13:51:17.202Z"
   },
   {
    "duration": 261,
    "start_time": "2022-05-16T13:51:17.209Z"
   },
   {
    "duration": 5,
    "start_time": "2022-05-16T13:51:17.474Z"
   },
   {
    "duration": 10,
    "start_time": "2022-05-16T13:51:17.480Z"
   },
   {
    "duration": 7,
    "start_time": "2022-05-16T13:51:17.491Z"
   },
   {
    "duration": 9,
    "start_time": "2022-05-16T13:51:17.499Z"
   },
   {
    "duration": 5,
    "start_time": "2022-05-16T13:51:17.509Z"
   },
   {
    "duration": 5,
    "start_time": "2022-05-16T13:51:17.516Z"
   },
   {
    "duration": 5,
    "start_time": "2022-05-16T13:51:17.522Z"
   },
   {
    "duration": 12660,
    "start_time": "2022-05-16T13:51:17.532Z"
   },
   {
    "duration": 8715,
    "start_time": "2022-05-16T13:51:30.194Z"
   },
   {
    "duration": 0,
    "start_time": "2022-05-16T13:51:38.911Z"
   },
   {
    "duration": 0,
    "start_time": "2022-05-16T13:51:38.912Z"
   },
   {
    "duration": 0,
    "start_time": "2022-05-16T13:51:38.913Z"
   },
   {
    "duration": 0,
    "start_time": "2022-05-16T13:51:38.914Z"
   },
   {
    "duration": 0,
    "start_time": "2022-05-16T13:51:38.915Z"
   },
   {
    "duration": 0,
    "start_time": "2022-05-16T13:51:38.916Z"
   },
   {
    "duration": 0,
    "start_time": "2022-05-16T13:51:38.917Z"
   },
   {
    "duration": 0,
    "start_time": "2022-05-16T13:51:38.918Z"
   },
   {
    "duration": 0,
    "start_time": "2022-05-16T13:51:38.919Z"
   },
   {
    "duration": 0,
    "start_time": "2022-05-16T13:51:38.920Z"
   },
   {
    "duration": 0,
    "start_time": "2022-05-16T13:51:38.921Z"
   },
   {
    "duration": 0,
    "start_time": "2022-05-16T13:51:38.922Z"
   },
   {
    "duration": 0,
    "start_time": "2022-05-16T13:51:38.923Z"
   },
   {
    "duration": 0,
    "start_time": "2022-05-16T13:51:38.924Z"
   },
   {
    "duration": 0,
    "start_time": "2022-05-16T13:51:38.925Z"
   },
   {
    "duration": 0,
    "start_time": "2022-05-16T13:51:38.926Z"
   },
   {
    "duration": 0,
    "start_time": "2022-05-16T13:51:38.927Z"
   },
   {
    "duration": 0,
    "start_time": "2022-05-16T13:51:38.928Z"
   },
   {
    "duration": 0,
    "start_time": "2022-05-16T13:51:38.929Z"
   },
   {
    "duration": 0,
    "start_time": "2022-05-16T13:51:38.930Z"
   },
   {
    "duration": 0,
    "start_time": "2022-05-16T13:51:38.931Z"
   },
   {
    "duration": 0,
    "start_time": "2022-05-16T13:51:38.932Z"
   },
   {
    "duration": 0,
    "start_time": "2022-05-16T13:51:38.933Z"
   },
   {
    "duration": 0,
    "start_time": "2022-05-16T13:51:38.934Z"
   },
   {
    "duration": 0,
    "start_time": "2022-05-16T13:51:38.935Z"
   },
   {
    "duration": 0,
    "start_time": "2022-05-16T13:51:38.936Z"
   },
   {
    "duration": 0,
    "start_time": "2022-05-16T13:51:38.937Z"
   },
   {
    "duration": 0,
    "start_time": "2022-05-16T13:51:38.938Z"
   },
   {
    "duration": 0,
    "start_time": "2022-05-16T13:51:38.939Z"
   },
   {
    "duration": 0,
    "start_time": "2022-05-16T13:51:38.940Z"
   },
   {
    "duration": 0,
    "start_time": "2022-05-16T13:51:38.941Z"
   },
   {
    "duration": 0,
    "start_time": "2022-05-16T13:51:38.942Z"
   },
   {
    "duration": 1,
    "start_time": "2022-05-16T13:51:38.942Z"
   },
   {
    "duration": 0,
    "start_time": "2022-05-16T13:51:38.943Z"
   },
   {
    "duration": 0,
    "start_time": "2022-05-16T13:51:38.944Z"
   },
   {
    "duration": 0,
    "start_time": "2022-05-16T13:51:38.945Z"
   },
   {
    "duration": 0,
    "start_time": "2022-05-16T13:51:38.946Z"
   },
   {
    "duration": 0,
    "start_time": "2022-05-16T13:51:38.947Z"
   },
   {
    "duration": 0,
    "start_time": "2022-05-16T13:51:38.965Z"
   },
   {
    "duration": 0,
    "start_time": "2022-05-16T13:51:38.966Z"
   },
   {
    "duration": 0,
    "start_time": "2022-05-16T13:51:38.967Z"
   },
   {
    "duration": 0,
    "start_time": "2022-05-16T13:51:38.967Z"
   },
   {
    "duration": 0,
    "start_time": "2022-05-16T13:51:38.968Z"
   },
   {
    "duration": 0,
    "start_time": "2022-05-16T13:51:38.973Z"
   },
   {
    "duration": 0,
    "start_time": "2022-05-16T13:51:38.974Z"
   },
   {
    "duration": 0,
    "start_time": "2022-05-16T13:51:38.975Z"
   },
   {
    "duration": 0,
    "start_time": "2022-05-16T13:51:38.975Z"
   },
   {
    "duration": 0,
    "start_time": "2022-05-16T13:51:38.976Z"
   },
   {
    "duration": 0,
    "start_time": "2022-05-16T13:51:38.978Z"
   },
   {
    "duration": 0,
    "start_time": "2022-05-16T13:51:38.980Z"
   },
   {
    "duration": 0,
    "start_time": "2022-05-16T13:51:38.982Z"
   },
   {
    "duration": 0,
    "start_time": "2022-05-16T13:51:38.983Z"
   },
   {
    "duration": 0,
    "start_time": "2022-05-16T13:51:38.985Z"
   },
   {
    "duration": 0,
    "start_time": "2022-05-16T13:51:38.987Z"
   },
   {
    "duration": 0,
    "start_time": "2022-05-16T13:51:38.988Z"
   },
   {
    "duration": 0,
    "start_time": "2022-05-16T13:51:38.990Z"
   },
   {
    "duration": 0,
    "start_time": "2022-05-16T13:51:38.991Z"
   },
   {
    "duration": 0,
    "start_time": "2022-05-16T13:51:38.993Z"
   },
   {
    "duration": 5,
    "start_time": "2022-05-16T13:51:47.679Z"
   },
   {
    "duration": 427,
    "start_time": "2022-05-16T13:51:49.282Z"
   },
   {
    "duration": 16618,
    "start_time": "2022-05-16T13:51:55.496Z"
   },
   {
    "duration": 562,
    "start_time": "2022-05-16T13:52:25.396Z"
   },
   {
    "duration": 5,
    "start_time": "2022-05-16T13:52:26.238Z"
   },
   {
    "duration": 3668,
    "start_time": "2022-05-16T13:52:38.591Z"
   },
   {
    "duration": 194,
    "start_time": "2022-05-16T13:52:42.263Z"
   },
   {
    "duration": 1151,
    "start_time": "2022-05-16T13:52:42.459Z"
   },
   {
    "duration": 6,
    "start_time": "2022-05-16T13:52:43.611Z"
   },
   {
    "duration": 20,
    "start_time": "2022-05-16T13:52:43.619Z"
   },
   {
    "duration": 27,
    "start_time": "2022-05-16T13:52:43.642Z"
   },
   {
    "duration": 3,
    "start_time": "2022-05-16T13:52:43.671Z"
   },
   {
    "duration": 144,
    "start_time": "2022-05-16T13:52:43.676Z"
   },
   {
    "duration": 5,
    "start_time": "2022-05-16T13:52:43.822Z"
   },
   {
    "duration": 10,
    "start_time": "2022-05-16T13:52:43.829Z"
   },
   {
    "duration": 10012,
    "start_time": "2022-05-16T13:52:43.841Z"
   },
   {
    "duration": 3,
    "start_time": "2022-05-16T13:52:53.855Z"
   },
   {
    "duration": 19,
    "start_time": "2022-05-16T13:52:53.862Z"
   },
   {
    "duration": 91,
    "start_time": "2022-05-16T13:52:53.884Z"
   },
   {
    "duration": 9,
    "start_time": "2022-05-16T13:52:53.978Z"
   },
   {
    "duration": 44,
    "start_time": "2022-05-16T13:52:53.989Z"
   },
   {
    "duration": 111,
    "start_time": "2022-05-16T13:52:54.035Z"
   },
   {
    "duration": 3,
    "start_time": "2022-05-16T13:52:54.148Z"
   },
   {
    "duration": 27,
    "start_time": "2022-05-16T13:52:54.153Z"
   },
   {
    "duration": 535,
    "start_time": "2022-05-16T13:52:54.181Z"
   },
   {
    "duration": 4,
    "start_time": "2022-05-16T13:52:54.718Z"
   },
   {
    "duration": 24,
    "start_time": "2022-05-16T13:52:54.724Z"
   },
   {
    "duration": 35,
    "start_time": "2022-05-16T13:52:54.750Z"
   },
   {
    "duration": 13,
    "start_time": "2022-05-16T13:52:54.787Z"
   },
   {
    "duration": 13,
    "start_time": "2022-05-16T13:52:54.802Z"
   },
   {
    "duration": 15,
    "start_time": "2022-05-16T13:52:54.817Z"
   },
   {
    "duration": 26,
    "start_time": "2022-05-16T13:52:54.833Z"
   },
   {
    "duration": 36483,
    "start_time": "2022-05-16T13:52:54.862Z"
   },
   {
    "duration": 118858,
    "start_time": "2022-05-16T13:53:31.348Z"
   },
   {
    "duration": 528,
    "start_time": "2022-05-16T13:55:30.207Z"
   },
   {
    "duration": 257,
    "start_time": "2022-05-16T13:55:30.738Z"
   },
   {
    "duration": 0,
    "start_time": "2022-05-16T13:55:30.999Z"
   },
   {
    "duration": 0,
    "start_time": "2022-05-16T13:55:31.000Z"
   },
   {
    "duration": 0,
    "start_time": "2022-05-16T13:55:31.002Z"
   },
   {
    "duration": 0,
    "start_time": "2022-05-16T13:55:31.004Z"
   },
   {
    "duration": 0,
    "start_time": "2022-05-16T13:55:31.005Z"
   },
   {
    "duration": 0,
    "start_time": "2022-05-16T13:55:31.006Z"
   },
   {
    "duration": 0,
    "start_time": "2022-05-16T13:55:31.007Z"
   },
   {
    "duration": 0,
    "start_time": "2022-05-16T13:55:31.008Z"
   },
   {
    "duration": 0,
    "start_time": "2022-05-16T13:55:31.010Z"
   },
   {
    "duration": 0,
    "start_time": "2022-05-16T13:55:31.011Z"
   },
   {
    "duration": 0,
    "start_time": "2022-05-16T13:55:31.012Z"
   },
   {
    "duration": 0,
    "start_time": "2022-05-16T13:55:31.013Z"
   },
   {
    "duration": 0,
    "start_time": "2022-05-16T13:55:31.015Z"
   },
   {
    "duration": 0,
    "start_time": "2022-05-16T13:55:31.016Z"
   },
   {
    "duration": 0,
    "start_time": "2022-05-16T13:55:31.018Z"
   },
   {
    "duration": 0,
    "start_time": "2022-05-16T13:55:31.019Z"
   },
   {
    "duration": 0,
    "start_time": "2022-05-16T13:55:31.020Z"
   },
   {
    "duration": 0,
    "start_time": "2022-05-16T13:55:31.021Z"
   },
   {
    "duration": 0,
    "start_time": "2022-05-16T13:55:31.023Z"
   },
   {
    "duration": 0,
    "start_time": "2022-05-16T13:55:31.024Z"
   },
   {
    "duration": 0,
    "start_time": "2022-05-16T13:55:31.025Z"
   },
   {
    "duration": 0,
    "start_time": "2022-05-16T13:55:31.062Z"
   },
   {
    "duration": 0,
    "start_time": "2022-05-16T13:55:31.063Z"
   },
   {
    "duration": 0,
    "start_time": "2022-05-16T13:55:31.064Z"
   },
   {
    "duration": 0,
    "start_time": "2022-05-16T13:55:31.065Z"
   },
   {
    "duration": 0,
    "start_time": "2022-05-16T13:55:31.066Z"
   },
   {
    "duration": 0,
    "start_time": "2022-05-16T13:55:31.067Z"
   },
   {
    "duration": 0,
    "start_time": "2022-05-16T13:55:31.068Z"
   },
   {
    "duration": 0,
    "start_time": "2022-05-16T13:55:31.070Z"
   },
   {
    "duration": 0,
    "start_time": "2022-05-16T13:55:31.071Z"
   },
   {
    "duration": 0,
    "start_time": "2022-05-16T13:55:31.075Z"
   },
   {
    "duration": 0,
    "start_time": "2022-05-16T13:55:31.081Z"
   },
   {
    "duration": 0,
    "start_time": "2022-05-16T13:55:31.084Z"
   },
   {
    "duration": 0,
    "start_time": "2022-05-16T13:55:31.086Z"
   },
   {
    "duration": 0,
    "start_time": "2022-05-16T13:55:31.087Z"
   },
   {
    "duration": 0,
    "start_time": "2022-05-16T13:55:31.088Z"
   },
   {
    "duration": 0,
    "start_time": "2022-05-16T13:55:31.089Z"
   },
   {
    "duration": 0,
    "start_time": "2022-05-16T13:55:31.090Z"
   },
   {
    "duration": 0,
    "start_time": "2022-05-16T13:55:31.091Z"
   },
   {
    "duration": 0,
    "start_time": "2022-05-16T13:55:31.092Z"
   },
   {
    "duration": 0,
    "start_time": "2022-05-16T13:55:31.094Z"
   },
   {
    "duration": 0,
    "start_time": "2022-05-16T13:55:31.095Z"
   },
   {
    "duration": 0,
    "start_time": "2022-05-16T13:55:31.096Z"
   },
   {
    "duration": 0,
    "start_time": "2022-05-16T13:55:31.097Z"
   },
   {
    "duration": 0,
    "start_time": "2022-05-16T13:55:31.098Z"
   },
   {
    "duration": 0,
    "start_time": "2022-05-16T13:55:31.099Z"
   },
   {
    "duration": 0,
    "start_time": "2022-05-16T13:55:31.100Z"
   },
   {
    "duration": 0,
    "start_time": "2022-05-16T13:55:31.100Z"
   },
   {
    "duration": 0,
    "start_time": "2022-05-16T13:55:31.102Z"
   },
   {
    "duration": 0,
    "start_time": "2022-05-16T13:55:31.103Z"
   },
   {
    "duration": 0,
    "start_time": "2022-05-16T13:55:31.104Z"
   },
   {
    "duration": 0,
    "start_time": "2022-05-16T13:55:31.105Z"
   },
   {
    "duration": 0,
    "start_time": "2022-05-16T13:55:31.170Z"
   },
   {
    "duration": 0,
    "start_time": "2022-05-16T13:55:31.171Z"
   },
   {
    "duration": 0,
    "start_time": "2022-05-16T13:55:31.175Z"
   },
   {
    "duration": 0,
    "start_time": "2022-05-16T13:55:31.176Z"
   },
   {
    "duration": 4067,
    "start_time": "2022-05-16T14:00:04.675Z"
   },
   {
    "duration": 250,
    "start_time": "2022-05-16T14:00:08.745Z"
   },
   {
    "duration": 995,
    "start_time": "2022-05-16T14:00:08.998Z"
   },
   {
    "duration": 6,
    "start_time": "2022-05-16T14:00:09.995Z"
   },
   {
    "duration": 24,
    "start_time": "2022-05-16T14:00:10.002Z"
   },
   {
    "duration": 11,
    "start_time": "2022-05-16T14:00:10.029Z"
   },
   {
    "duration": 23,
    "start_time": "2022-05-16T14:00:10.042Z"
   },
   {
    "duration": 115,
    "start_time": "2022-05-16T14:00:10.071Z"
   },
   {
    "duration": 6,
    "start_time": "2022-05-16T14:00:10.187Z"
   },
   {
    "duration": 8,
    "start_time": "2022-05-16T14:00:10.196Z"
   },
   {
    "duration": 876,
    "start_time": "2022-05-16T14:00:10.205Z"
   },
   {
    "duration": 0,
    "start_time": "2022-05-16T14:00:11.085Z"
   },
   {
    "duration": 0,
    "start_time": "2022-05-16T14:00:11.086Z"
   },
   {
    "duration": 0,
    "start_time": "2022-05-16T14:00:11.088Z"
   },
   {
    "duration": 0,
    "start_time": "2022-05-16T14:00:11.090Z"
   },
   {
    "duration": 0,
    "start_time": "2022-05-16T14:00:11.091Z"
   },
   {
    "duration": 0,
    "start_time": "2022-05-16T14:00:11.092Z"
   },
   {
    "duration": 0,
    "start_time": "2022-05-16T14:00:11.093Z"
   },
   {
    "duration": 0,
    "start_time": "2022-05-16T14:00:11.094Z"
   },
   {
    "duration": 0,
    "start_time": "2022-05-16T14:00:11.095Z"
   },
   {
    "duration": 0,
    "start_time": "2022-05-16T14:00:11.096Z"
   },
   {
    "duration": 0,
    "start_time": "2022-05-16T14:00:11.098Z"
   },
   {
    "duration": 0,
    "start_time": "2022-05-16T14:00:11.099Z"
   },
   {
    "duration": 0,
    "start_time": "2022-05-16T14:00:11.100Z"
   },
   {
    "duration": 0,
    "start_time": "2022-05-16T14:00:11.101Z"
   },
   {
    "duration": 0,
    "start_time": "2022-05-16T14:00:11.103Z"
   },
   {
    "duration": 0,
    "start_time": "2022-05-16T14:00:11.104Z"
   },
   {
    "duration": 0,
    "start_time": "2022-05-16T14:00:11.105Z"
   },
   {
    "duration": 0,
    "start_time": "2022-05-16T14:00:11.106Z"
   },
   {
    "duration": 0,
    "start_time": "2022-05-16T14:00:11.107Z"
   },
   {
    "duration": 0,
    "start_time": "2022-05-16T14:00:11.109Z"
   },
   {
    "duration": 0,
    "start_time": "2022-05-16T14:00:11.110Z"
   },
   {
    "duration": 0,
    "start_time": "2022-05-16T14:00:11.111Z"
   },
   {
    "duration": 0,
    "start_time": "2022-05-16T14:00:11.112Z"
   },
   {
    "duration": 0,
    "start_time": "2022-05-16T14:00:11.113Z"
   },
   {
    "duration": 0,
    "start_time": "2022-05-16T14:00:11.114Z"
   },
   {
    "duration": 0,
    "start_time": "2022-05-16T14:00:11.115Z"
   },
   {
    "duration": 0,
    "start_time": "2022-05-16T14:00:11.116Z"
   },
   {
    "duration": 0,
    "start_time": "2022-05-16T14:00:11.117Z"
   },
   {
    "duration": 0,
    "start_time": "2022-05-16T14:00:11.118Z"
   },
   {
    "duration": 0,
    "start_time": "2022-05-16T14:00:11.121Z"
   },
   {
    "duration": 0,
    "start_time": "2022-05-16T14:00:11.121Z"
   },
   {
    "duration": 0,
    "start_time": "2022-05-16T14:00:11.123Z"
   },
   {
    "duration": 0,
    "start_time": "2022-05-16T14:00:11.166Z"
   },
   {
    "duration": 0,
    "start_time": "2022-05-16T14:00:11.170Z"
   },
   {
    "duration": 0,
    "start_time": "2022-05-16T14:00:11.172Z"
   },
   {
    "duration": 0,
    "start_time": "2022-05-16T14:00:11.173Z"
   },
   {
    "duration": 0,
    "start_time": "2022-05-16T14:00:11.174Z"
   },
   {
    "duration": 0,
    "start_time": "2022-05-16T14:00:11.175Z"
   },
   {
    "duration": 0,
    "start_time": "2022-05-16T14:00:11.176Z"
   },
   {
    "duration": 0,
    "start_time": "2022-05-16T14:00:11.177Z"
   },
   {
    "duration": 0,
    "start_time": "2022-05-16T14:00:11.179Z"
   },
   {
    "duration": 0,
    "start_time": "2022-05-16T14:00:11.181Z"
   },
   {
    "duration": 0,
    "start_time": "2022-05-16T14:00:11.182Z"
   },
   {
    "duration": 0,
    "start_time": "2022-05-16T14:00:11.183Z"
   },
   {
    "duration": 0,
    "start_time": "2022-05-16T14:00:11.184Z"
   },
   {
    "duration": 0,
    "start_time": "2022-05-16T14:00:11.186Z"
   },
   {
    "duration": 0,
    "start_time": "2022-05-16T14:00:11.187Z"
   },
   {
    "duration": 0,
    "start_time": "2022-05-16T14:00:11.188Z"
   },
   {
    "duration": 0,
    "start_time": "2022-05-16T14:00:11.190Z"
   },
   {
    "duration": 0,
    "start_time": "2022-05-16T14:00:11.191Z"
   },
   {
    "duration": 0,
    "start_time": "2022-05-16T14:00:11.193Z"
   },
   {
    "duration": 0,
    "start_time": "2022-05-16T14:00:11.194Z"
   },
   {
    "duration": 0,
    "start_time": "2022-05-16T14:00:11.195Z"
   },
   {
    "duration": 0,
    "start_time": "2022-05-16T14:00:11.198Z"
   },
   {
    "duration": 0,
    "start_time": "2022-05-16T14:00:11.199Z"
   },
   {
    "duration": 0,
    "start_time": "2022-05-16T14:00:11.201Z"
   },
   {
    "duration": 0,
    "start_time": "2022-05-16T14:00:11.202Z"
   },
   {
    "duration": 0,
    "start_time": "2022-05-16T14:00:11.203Z"
   },
   {
    "duration": 0,
    "start_time": "2022-05-16T14:00:11.204Z"
   },
   {
    "duration": 0,
    "start_time": "2022-05-16T14:00:11.205Z"
   },
   {
    "duration": 0,
    "start_time": "2022-05-16T14:00:11.262Z"
   },
   {
    "duration": 0,
    "start_time": "2022-05-16T14:00:11.264Z"
   },
   {
    "duration": 0,
    "start_time": "2022-05-16T14:00:11.266Z"
   },
   {
    "duration": 0,
    "start_time": "2022-05-16T14:00:11.270Z"
   },
   {
    "duration": 0,
    "start_time": "2022-05-16T14:00:11.271Z"
   },
   {
    "duration": 0,
    "start_time": "2022-05-16T14:00:11.272Z"
   },
   {
    "duration": 0,
    "start_time": "2022-05-16T14:00:11.274Z"
   },
   {
    "duration": 0,
    "start_time": "2022-05-16T14:00:11.277Z"
   },
   {
    "duration": 0,
    "start_time": "2022-05-16T14:00:11.278Z"
   },
   {
    "duration": 0,
    "start_time": "2022-05-16T14:00:11.280Z"
   },
   {
    "duration": 0,
    "start_time": "2022-05-16T14:00:11.283Z"
   },
   {
    "duration": 0,
    "start_time": "2022-05-16T14:00:11.284Z"
   },
   {
    "duration": 0,
    "start_time": "2022-05-16T14:00:11.290Z"
   },
   {
    "duration": 0,
    "start_time": "2022-05-16T14:00:11.291Z"
   },
   {
    "duration": 0,
    "start_time": "2022-05-16T14:00:11.293Z"
   },
   {
    "duration": 0,
    "start_time": "2022-05-16T14:00:11.294Z"
   },
   {
    "duration": 0,
    "start_time": "2022-05-16T14:00:11.295Z"
   },
   {
    "duration": 0,
    "start_time": "2022-05-16T14:00:11.297Z"
   },
   {
    "duration": 6,
    "start_time": "2022-05-16T14:00:46.985Z"
   },
   {
    "duration": 65987,
    "start_time": "2022-05-16T14:00:47.905Z"
   },
   {
    "duration": 3492,
    "start_time": "2022-05-16T14:02:06.706Z"
   },
   {
    "duration": 117,
    "start_time": "2022-05-16T14:02:10.200Z"
   },
   {
    "duration": 731,
    "start_time": "2022-05-16T14:02:10.319Z"
   },
   {
    "duration": 5,
    "start_time": "2022-05-16T14:02:11.051Z"
   },
   {
    "duration": 22,
    "start_time": "2022-05-16T14:02:11.061Z"
   },
   {
    "duration": 9,
    "start_time": "2022-05-16T14:02:11.085Z"
   },
   {
    "duration": 7,
    "start_time": "2022-05-16T14:02:11.096Z"
   },
   {
    "duration": 105,
    "start_time": "2022-05-16T14:02:11.105Z"
   },
   {
    "duration": 4,
    "start_time": "2022-05-16T14:02:11.212Z"
   },
   {
    "duration": 7,
    "start_time": "2022-05-16T14:02:11.218Z"
   },
   {
    "duration": 6,
    "start_time": "2022-05-16T14:02:11.227Z"
   },
   {
    "duration": 11309,
    "start_time": "2022-05-16T14:02:11.235Z"
   },
   {
    "duration": 0,
    "start_time": "2022-05-16T14:02:22.547Z"
   },
   {
    "duration": 0,
    "start_time": "2022-05-16T14:02:22.548Z"
   },
   {
    "duration": 0,
    "start_time": "2022-05-16T14:02:22.550Z"
   },
   {
    "duration": 0,
    "start_time": "2022-05-16T14:02:22.551Z"
   },
   {
    "duration": 0,
    "start_time": "2022-05-16T14:02:22.552Z"
   },
   {
    "duration": 0,
    "start_time": "2022-05-16T14:02:22.553Z"
   },
   {
    "duration": 0,
    "start_time": "2022-05-16T14:02:22.554Z"
   },
   {
    "duration": 0,
    "start_time": "2022-05-16T14:02:22.555Z"
   },
   {
    "duration": 0,
    "start_time": "2022-05-16T14:02:22.555Z"
   },
   {
    "duration": 0,
    "start_time": "2022-05-16T14:02:22.556Z"
   },
   {
    "duration": 0,
    "start_time": "2022-05-16T14:02:22.557Z"
   },
   {
    "duration": 0,
    "start_time": "2022-05-16T14:02:22.558Z"
   },
   {
    "duration": 0,
    "start_time": "2022-05-16T14:02:22.559Z"
   },
   {
    "duration": 0,
    "start_time": "2022-05-16T14:02:22.560Z"
   },
   {
    "duration": 0,
    "start_time": "2022-05-16T14:02:22.561Z"
   },
   {
    "duration": 0,
    "start_time": "2022-05-16T14:02:22.564Z"
   },
   {
    "duration": 0,
    "start_time": "2022-05-16T14:02:22.565Z"
   },
   {
    "duration": 0,
    "start_time": "2022-05-16T14:02:22.566Z"
   },
   {
    "duration": 0,
    "start_time": "2022-05-16T14:02:22.568Z"
   },
   {
    "duration": 0,
    "start_time": "2022-05-16T14:02:22.569Z"
   },
   {
    "duration": 0,
    "start_time": "2022-05-16T14:02:22.570Z"
   },
   {
    "duration": 0,
    "start_time": "2022-05-16T14:02:22.572Z"
   },
   {
    "duration": 0,
    "start_time": "2022-05-16T14:02:22.574Z"
   },
   {
    "duration": 0,
    "start_time": "2022-05-16T14:02:22.575Z"
   },
   {
    "duration": 0,
    "start_time": "2022-05-16T14:02:22.578Z"
   },
   {
    "duration": 0,
    "start_time": "2022-05-16T14:02:22.578Z"
   },
   {
    "duration": 0,
    "start_time": "2022-05-16T14:02:22.580Z"
   },
   {
    "duration": 0,
    "start_time": "2022-05-16T14:02:22.581Z"
   },
   {
    "duration": 0,
    "start_time": "2022-05-16T14:02:22.582Z"
   },
   {
    "duration": 0,
    "start_time": "2022-05-16T14:02:22.583Z"
   },
   {
    "duration": 0,
    "start_time": "2022-05-16T14:02:22.584Z"
   },
   {
    "duration": 0,
    "start_time": "2022-05-16T14:02:22.585Z"
   },
   {
    "duration": 0,
    "start_time": "2022-05-16T14:02:22.586Z"
   },
   {
    "duration": 0,
    "start_time": "2022-05-16T14:02:22.587Z"
   },
   {
    "duration": 0,
    "start_time": "2022-05-16T14:02:22.588Z"
   },
   {
    "duration": 0,
    "start_time": "2022-05-16T14:02:22.588Z"
   },
   {
    "duration": 0,
    "start_time": "2022-05-16T14:02:22.589Z"
   },
   {
    "duration": 0,
    "start_time": "2022-05-16T14:02:22.590Z"
   },
   {
    "duration": 0,
    "start_time": "2022-05-16T14:02:22.591Z"
   },
   {
    "duration": 0,
    "start_time": "2022-05-16T14:02:22.592Z"
   },
   {
    "duration": 0,
    "start_time": "2022-05-16T14:02:22.593Z"
   },
   {
    "duration": 0,
    "start_time": "2022-05-16T14:02:22.594Z"
   },
   {
    "duration": 0,
    "start_time": "2022-05-16T14:02:22.595Z"
   },
   {
    "duration": 0,
    "start_time": "2022-05-16T14:02:22.596Z"
   },
   {
    "duration": 0,
    "start_time": "2022-05-16T14:02:22.597Z"
   },
   {
    "duration": 0,
    "start_time": "2022-05-16T14:02:22.598Z"
   },
   {
    "duration": 0,
    "start_time": "2022-05-16T14:02:22.599Z"
   },
   {
    "duration": 0,
    "start_time": "2022-05-16T14:02:22.600Z"
   },
   {
    "duration": 0,
    "start_time": "2022-05-16T14:02:22.601Z"
   },
   {
    "duration": 0,
    "start_time": "2022-05-16T14:02:22.667Z"
   },
   {
    "duration": 0,
    "start_time": "2022-05-16T14:02:22.668Z"
   },
   {
    "duration": 0,
    "start_time": "2022-05-16T14:02:22.668Z"
   },
   {
    "duration": 0,
    "start_time": "2022-05-16T14:02:22.669Z"
   },
   {
    "duration": 0,
    "start_time": "2022-05-16T14:02:22.672Z"
   },
   {
    "duration": 0,
    "start_time": "2022-05-16T14:02:22.673Z"
   },
   {
    "duration": 0,
    "start_time": "2022-05-16T14:02:22.674Z"
   },
   {
    "duration": 0,
    "start_time": "2022-05-16T14:02:22.675Z"
   },
   {
    "duration": 0,
    "start_time": "2022-05-16T14:02:22.676Z"
   },
   {
    "duration": 0,
    "start_time": "2022-05-16T14:02:22.677Z"
   },
   {
    "duration": 0,
    "start_time": "2022-05-16T14:02:22.678Z"
   },
   {
    "duration": 0,
    "start_time": "2022-05-16T14:02:22.679Z"
   },
   {
    "duration": 0,
    "start_time": "2022-05-16T14:02:22.680Z"
   },
   {
    "duration": 0,
    "start_time": "2022-05-16T14:02:22.681Z"
   },
   {
    "duration": 0,
    "start_time": "2022-05-16T14:02:22.683Z"
   },
   {
    "duration": 0,
    "start_time": "2022-05-16T14:02:22.684Z"
   },
   {
    "duration": 0,
    "start_time": "2022-05-16T14:02:22.684Z"
   },
   {
    "duration": 0,
    "start_time": "2022-05-16T14:02:22.686Z"
   },
   {
    "duration": 0,
    "start_time": "2022-05-16T14:02:22.686Z"
   },
   {
    "duration": 0,
    "start_time": "2022-05-16T14:02:22.687Z"
   },
   {
    "duration": 0,
    "start_time": "2022-05-16T14:02:22.688Z"
   },
   {
    "duration": 0,
    "start_time": "2022-05-16T14:02:22.689Z"
   },
   {
    "duration": 0,
    "start_time": "2022-05-16T14:02:22.690Z"
   },
   {
    "duration": 0,
    "start_time": "2022-05-16T14:02:22.691Z"
   },
   {
    "duration": 0,
    "start_time": "2022-05-16T14:02:22.692Z"
   },
   {
    "duration": 0,
    "start_time": "2022-05-16T14:02:22.693Z"
   },
   {
    "duration": 0,
    "start_time": "2022-05-16T14:02:22.694Z"
   },
   {
    "duration": 0,
    "start_time": "2022-05-16T14:02:22.695Z"
   },
   {
    "duration": 0,
    "start_time": "2022-05-16T14:02:22.696Z"
   },
   {
    "duration": 5,
    "start_time": "2022-05-16T14:02:26.555Z"
   },
   {
    "duration": 6,
    "start_time": "2022-05-16T14:02:27.081Z"
   },
   {
    "duration": 3,
    "start_time": "2022-05-16T14:02:27.697Z"
   },
   {
    "duration": 80,
    "start_time": "2022-05-16T14:02:28.345Z"
   },
   {
    "duration": 4,
    "start_time": "2022-05-16T14:02:29.199Z"
   },
   {
    "duration": 3,
    "start_time": "2022-05-16T14:02:29.649Z"
   },
   {
    "duration": 3,
    "start_time": "2022-05-16T14:02:30.235Z"
   },
   {
    "duration": 67102,
    "start_time": "2022-05-16T14:02:35.215Z"
   },
   {
    "duration": 7,
    "start_time": "2022-05-16T14:03:42.319Z"
   },
   {
    "duration": 1495,
    "start_time": "2022-05-16T14:03:42.327Z"
   },
   {
    "duration": 5,
    "start_time": "2022-05-16T14:08:35.792Z"
   },
   {
    "duration": 4,
    "start_time": "2022-05-16T14:08:36.259Z"
   },
   {
    "duration": 682,
    "start_time": "2022-05-16T14:08:36.634Z"
   },
   {
    "duration": 4,
    "start_time": "2022-05-16T14:08:37.317Z"
   },
   {
    "duration": 18,
    "start_time": "2022-05-16T14:08:37.707Z"
   },
   {
    "duration": 6,
    "start_time": "2022-05-16T14:08:37.929Z"
   },
   {
    "duration": 3,
    "start_time": "2022-05-16T14:08:38.122Z"
   },
   {
    "duration": 76,
    "start_time": "2022-05-16T14:08:38.898Z"
   },
   {
    "duration": 4,
    "start_time": "2022-05-16T14:08:39.491Z"
   },
   {
    "duration": 2,
    "start_time": "2022-05-16T14:08:40.347Z"
   },
   {
    "duration": 3,
    "start_time": "2022-05-16T14:08:41.367Z"
   },
   {
    "duration": 3,
    "start_time": "2022-05-16T14:08:42.455Z"
   },
   {
    "duration": 2289,
    "start_time": "2022-05-16T14:08:43.332Z"
   },
   {
    "duration": 15769,
    "start_time": "2022-05-16T14:08:48.071Z"
   },
   {
    "duration": 18198,
    "start_time": "2022-05-16T14:09:37.876Z"
   },
   {
    "duration": 9,
    "start_time": "2022-05-16T14:10:02.591Z"
   },
   {
    "duration": 75,
    "start_time": "2022-05-16T14:10:03.340Z"
   },
   {
    "duration": 4,
    "start_time": "2022-05-16T14:10:05.868Z"
   },
   {
    "duration": 10,
    "start_time": "2022-05-16T14:10:06.915Z"
   },
   {
    "duration": 73,
    "start_time": "2022-05-16T14:10:14.712Z"
   },
   {
    "duration": 3,
    "start_time": "2022-05-16T14:10:15.875Z"
   },
   {
    "duration": 3,
    "start_time": "2022-05-16T14:10:16.739Z"
   },
   {
    "duration": 894,
    "start_time": "2022-05-16T14:10:18.011Z"
   },
   {
    "duration": 4,
    "start_time": "2022-05-16T14:10:21.195Z"
   },
   {
    "duration": 2,
    "start_time": "2022-05-16T14:10:21.827Z"
   },
   {
    "duration": 2,
    "start_time": "2022-05-16T14:10:22.301Z"
   },
   {
    "duration": 2,
    "start_time": "2022-05-16T14:10:22.493Z"
   },
   {
    "duration": 2,
    "start_time": "2022-05-16T14:10:22.855Z"
   },
   {
    "duration": 3,
    "start_time": "2022-05-16T14:10:23.017Z"
   },
   {
    "duration": 4,
    "start_time": "2022-05-16T14:10:23.656Z"
   },
   {
    "duration": 76997,
    "start_time": "2022-05-16T14:10:25.710Z"
   },
   {
    "duration": 158885,
    "start_time": "2022-05-16T14:12:31.477Z"
   },
   {
    "duration": 549,
    "start_time": "2022-05-16T14:15:10.364Z"
   },
   {
    "duration": 4804,
    "start_time": "2022-05-16T14:15:10.914Z"
   },
   {
    "duration": 151,
    "start_time": "2022-05-16T14:15:15.720Z"
   },
   {
    "duration": 81960,
    "start_time": "2022-05-16T14:17:01.543Z"
   },
   {
    "duration": 466,
    "start_time": "2022-05-16T14:18:23.506Z"
   },
   {
    "duration": 7663,
    "start_time": "2022-05-16T14:26:30.239Z"
   },
   {
    "duration": 198,
    "start_time": "2022-05-16T14:26:37.905Z"
   },
   {
    "duration": 43105,
    "start_time": "2022-05-16T14:26:45.605Z"
   },
   {
    "duration": 209,
    "start_time": "2022-05-16T14:27:28.712Z"
   },
   {
    "duration": 45167,
    "start_time": "2022-05-16T14:27:37.168Z"
   },
   {
    "duration": 213,
    "start_time": "2022-05-16T14:28:22.337Z"
   },
   {
    "duration": 71030,
    "start_time": "2022-05-16T14:37:55.883Z"
   },
   {
    "duration": 277,
    "start_time": "2022-05-16T14:39:06.916Z"
   },
   {
    "duration": 356656,
    "start_time": "2022-05-16T14:40:55.555Z"
   },
   {
    "duration": 861,
    "start_time": "2022-05-16T14:46:52.213Z"
   },
   {
    "duration": 3424,
    "start_time": "2022-05-16T15:38:16.840Z"
   },
   {
    "duration": 206,
    "start_time": "2022-05-16T15:38:20.274Z"
   },
   {
    "duration": 735,
    "start_time": "2022-05-16T15:38:20.482Z"
   },
   {
    "duration": 5,
    "start_time": "2022-05-16T15:38:21.220Z"
   },
   {
    "duration": 22,
    "start_time": "2022-05-16T15:38:21.226Z"
   },
   {
    "duration": 15,
    "start_time": "2022-05-16T15:38:21.250Z"
   },
   {
    "duration": 5,
    "start_time": "2022-05-16T15:38:21.267Z"
   },
   {
    "duration": 108,
    "start_time": "2022-05-16T15:38:21.273Z"
   },
   {
    "duration": 4,
    "start_time": "2022-05-16T15:38:21.383Z"
   },
   {
    "duration": 8,
    "start_time": "2022-05-16T15:38:21.389Z"
   },
   {
    "duration": 6,
    "start_time": "2022-05-16T15:38:21.399Z"
   },
   {
    "duration": 3,
    "start_time": "2022-05-16T15:38:21.407Z"
   },
   {
    "duration": 9901,
    "start_time": "2022-05-16T15:38:21.412Z"
   },
   {
    "duration": 3,
    "start_time": "2022-05-16T15:38:31.315Z"
   },
   {
    "duration": 18,
    "start_time": "2022-05-16T15:38:31.320Z"
   },
   {
    "duration": 110,
    "start_time": "2022-05-16T15:38:31.340Z"
   },
   {
    "duration": 4,
    "start_time": "2022-05-16T15:38:31.461Z"
   },
   {
    "duration": 14,
    "start_time": "2022-05-16T15:38:31.467Z"
   },
   {
    "duration": 85,
    "start_time": "2022-05-16T15:38:31.482Z"
   },
   {
    "duration": 4,
    "start_time": "2022-05-16T15:38:31.568Z"
   },
   {
    "duration": 26,
    "start_time": "2022-05-16T15:38:31.573Z"
   },
   {
    "duration": 461,
    "start_time": "2022-05-16T15:38:31.601Z"
   },
   {
    "duration": 4,
    "start_time": "2022-05-16T15:38:32.064Z"
   },
   {
    "duration": 6,
    "start_time": "2022-05-16T15:38:32.070Z"
   },
   {
    "duration": 10,
    "start_time": "2022-05-16T15:38:32.078Z"
   },
   {
    "duration": 6,
    "start_time": "2022-05-16T15:38:32.089Z"
   },
   {
    "duration": 7,
    "start_time": "2022-05-16T15:38:32.097Z"
   },
   {
    "duration": 5,
    "start_time": "2022-05-16T15:38:32.108Z"
   },
   {
    "duration": 7,
    "start_time": "2022-05-16T15:38:32.114Z"
   },
   {
    "duration": 28549,
    "start_time": "2022-05-16T15:38:32.123Z"
   },
   {
    "duration": 102332,
    "start_time": "2022-05-16T15:39:00.674Z"
   },
   {
    "duration": 492,
    "start_time": "2022-05-16T15:40:43.008Z"
   },
   {
    "duration": 236,
    "start_time": "2022-05-16T15:40:43.502Z"
   },
   {
    "duration": 0,
    "start_time": "2022-05-16T15:40:43.740Z"
   },
   {
    "duration": 0,
    "start_time": "2022-05-16T15:40:43.742Z"
   },
   {
    "duration": 0,
    "start_time": "2022-05-16T15:40:43.743Z"
   },
   {
    "duration": 0,
    "start_time": "2022-05-16T15:40:43.743Z"
   },
   {
    "duration": 0,
    "start_time": "2022-05-16T15:40:43.744Z"
   },
   {
    "duration": 0,
    "start_time": "2022-05-16T15:40:43.745Z"
   },
   {
    "duration": 0,
    "start_time": "2022-05-16T15:40:43.746Z"
   },
   {
    "duration": 0,
    "start_time": "2022-05-16T15:40:43.762Z"
   },
   {
    "duration": 0,
    "start_time": "2022-05-16T15:40:43.763Z"
   },
   {
    "duration": 0,
    "start_time": "2022-05-16T15:40:43.765Z"
   },
   {
    "duration": 0,
    "start_time": "2022-05-16T15:40:43.766Z"
   },
   {
    "duration": 0,
    "start_time": "2022-05-16T15:40:43.767Z"
   },
   {
    "duration": 0,
    "start_time": "2022-05-16T15:40:43.768Z"
   },
   {
    "duration": 0,
    "start_time": "2022-05-16T15:40:43.769Z"
   },
   {
    "duration": 0,
    "start_time": "2022-05-16T15:40:43.769Z"
   },
   {
    "duration": 0,
    "start_time": "2022-05-16T15:40:43.770Z"
   },
   {
    "duration": 0,
    "start_time": "2022-05-16T15:40:43.771Z"
   },
   {
    "duration": 0,
    "start_time": "2022-05-16T15:40:43.773Z"
   },
   {
    "duration": 0,
    "start_time": "2022-05-16T15:40:43.774Z"
   },
   {
    "duration": 0,
    "start_time": "2022-05-16T15:40:43.774Z"
   },
   {
    "duration": 0,
    "start_time": "2022-05-16T15:40:43.775Z"
   },
   {
    "duration": 0,
    "start_time": "2022-05-16T15:40:43.776Z"
   },
   {
    "duration": 0,
    "start_time": "2022-05-16T15:40:43.777Z"
   },
   {
    "duration": 0,
    "start_time": "2022-05-16T15:40:43.778Z"
   },
   {
    "duration": 0,
    "start_time": "2022-05-16T15:40:43.779Z"
   },
   {
    "duration": 0,
    "start_time": "2022-05-16T15:40:43.780Z"
   },
   {
    "duration": 0,
    "start_time": "2022-05-16T15:40:43.781Z"
   },
   {
    "duration": 0,
    "start_time": "2022-05-16T15:40:43.782Z"
   },
   {
    "duration": 0,
    "start_time": "2022-05-16T15:40:43.783Z"
   },
   {
    "duration": 0,
    "start_time": "2022-05-16T15:40:43.784Z"
   },
   {
    "duration": 0,
    "start_time": "2022-05-16T15:40:43.785Z"
   },
   {
    "duration": 0,
    "start_time": "2022-05-16T15:40:43.786Z"
   },
   {
    "duration": 0,
    "start_time": "2022-05-16T15:40:43.787Z"
   },
   {
    "duration": 0,
    "start_time": "2022-05-16T15:40:43.788Z"
   },
   {
    "duration": 0,
    "start_time": "2022-05-16T15:40:43.789Z"
   },
   {
    "duration": 0,
    "start_time": "2022-05-16T15:40:43.790Z"
   },
   {
    "duration": 0,
    "start_time": "2022-05-16T15:40:43.791Z"
   },
   {
    "duration": 0,
    "start_time": "2022-05-16T15:40:43.792Z"
   },
   {
    "duration": 0,
    "start_time": "2022-05-16T15:40:43.793Z"
   },
   {
    "duration": 0,
    "start_time": "2022-05-16T15:40:43.794Z"
   },
   {
    "duration": 0,
    "start_time": "2022-05-16T15:40:43.795Z"
   },
   {
    "duration": 0,
    "start_time": "2022-05-16T15:40:43.796Z"
   },
   {
    "duration": 0,
    "start_time": "2022-05-16T15:40:43.797Z"
   },
   {
    "duration": 0,
    "start_time": "2022-05-16T15:40:43.799Z"
   },
   {
    "duration": 0,
    "start_time": "2022-05-16T15:40:43.800Z"
   },
   {
    "duration": 0,
    "start_time": "2022-05-16T15:40:43.800Z"
   },
   {
    "duration": 0,
    "start_time": "2022-05-16T15:40:43.801Z"
   },
   {
    "duration": 0,
    "start_time": "2022-05-16T15:40:43.862Z"
   },
   {
    "duration": 0,
    "start_time": "2022-05-16T15:40:43.864Z"
   },
   {
    "duration": 0,
    "start_time": "2022-05-16T15:40:43.865Z"
   },
   {
    "duration": 0,
    "start_time": "2022-05-16T15:40:43.866Z"
   },
   {
    "duration": 0,
    "start_time": "2022-05-16T15:40:43.867Z"
   },
   {
    "duration": 0,
    "start_time": "2022-05-16T15:40:43.868Z"
   },
   {
    "duration": 0,
    "start_time": "2022-05-16T15:40:43.869Z"
   },
   {
    "duration": 0,
    "start_time": "2022-05-16T15:40:43.870Z"
   },
   {
    "duration": 0,
    "start_time": "2022-05-16T15:40:43.871Z"
   },
   {
    "duration": 5,
    "start_time": "2022-05-16T15:49:13.398Z"
   },
   {
    "duration": 12,
    "start_time": "2022-05-16T15:49:15.065Z"
   },
   {
    "duration": 19,
    "start_time": "2022-05-16T15:49:28.483Z"
   },
   {
    "duration": 21,
    "start_time": "2022-05-16T15:49:34.735Z"
   },
   {
    "duration": 5530,
    "start_time": "2022-05-16T15:49:38.105Z"
   },
   {
    "duration": 5,
    "start_time": "2022-05-16T15:50:04.144Z"
   },
   {
    "duration": 69,
    "start_time": "2022-05-16T15:50:11.077Z"
   },
   {
    "duration": 5,
    "start_time": "2022-05-16T15:50:44.178Z"
   },
   {
    "duration": 321803,
    "start_time": "2022-05-16T15:51:11.818Z"
   },
   {
    "duration": 5,
    "start_time": "2022-05-16T15:59:09.577Z"
   },
   {
    "duration": 11,
    "start_time": "2022-05-16T15:59:10.358Z"
   },
   {
    "duration": 162790,
    "start_time": "2022-05-16T15:59:19.035Z"
   },
   {
    "duration": 5,
    "start_time": "2022-05-16T16:12:59.038Z"
   },
   {
    "duration": 18393,
    "start_time": "2022-05-16T16:12:59.833Z"
   },
   {
    "duration": 6,
    "start_time": "2022-05-16T16:13:49.631Z"
   },
   {
    "duration": 26810,
    "start_time": "2022-05-16T16:13:50.441Z"
   },
   {
    "duration": 5,
    "start_time": "2022-05-16T16:16:02.358Z"
   },
   {
    "duration": 80459,
    "start_time": "2022-05-16T16:16:03.992Z"
   },
   {
    "duration": 5,
    "start_time": "2022-05-16T16:17:50.414Z"
   },
   {
    "duration": 1144,
    "start_time": "2022-05-16T16:17:50.959Z"
   },
   {
    "duration": 4,
    "start_time": "2022-05-16T16:18:07.052Z"
   },
   {
    "duration": 349405,
    "start_time": "2022-05-16T16:18:07.743Z"
   },
   {
    "duration": 29,
    "start_time": "2022-05-16T16:24:00.786Z"
   },
   {
    "duration": 19472,
    "start_time": "2022-05-16T16:24:01.444Z"
   },
   {
    "duration": 7,
    "start_time": "2022-05-16T16:24:28.360Z"
   },
   {
    "duration": 29948,
    "start_time": "2022-05-16T16:24:32.419Z"
   },
   {
    "duration": 4,
    "start_time": "2022-05-16T16:33:41.235Z"
   },
   {
    "duration": 89103,
    "start_time": "2022-05-16T16:33:42.187Z"
   },
   {
    "duration": 5,
    "start_time": "2022-05-16T16:35:11.292Z"
   },
   {
    "duration": 20,
    "start_time": "2022-05-16T16:35:11.299Z"
   },
   {
    "duration": 4,
    "start_time": "2022-05-16T16:37:50.112Z"
   },
   {
    "duration": 436,
    "start_time": "2022-05-16T16:37:50.693Z"
   },
   {
    "duration": 5,
    "start_time": "2022-05-16T16:37:53.909Z"
   },
   {
    "duration": 4,
    "start_time": "2022-05-16T16:37:57.092Z"
   },
   {
    "duration": 35379,
    "start_time": "2022-05-16T16:37:57.642Z"
   },
   {
    "duration": 3,
    "start_time": "2022-05-16T16:40:24.585Z"
   },
   {
    "duration": 35558,
    "start_time": "2022-05-16T16:40:25.435Z"
   },
   {
    "duration": 12,
    "start_time": "2022-05-16T16:41:00.995Z"
   },
   {
    "duration": 0,
    "start_time": "2022-05-16T16:41:01.009Z"
   },
   {
    "duration": 551,
    "start_time": "2022-05-16T16:44:47.356Z"
   },
   {
    "duration": 5,
    "start_time": "2022-05-16T16:44:57.015Z"
   },
   {
    "duration": 136,
    "start_time": "2022-05-16T16:44:58.002Z"
   },
   {
    "duration": 687,
    "start_time": "2022-05-16T16:44:58.634Z"
   },
   {
    "duration": 4,
    "start_time": "2022-05-16T16:44:59.513Z"
   },
   {
    "duration": 26,
    "start_time": "2022-05-16T16:45:00.176Z"
   },
   {
    "duration": 7,
    "start_time": "2022-05-16T16:45:02.178Z"
   },
   {
    "duration": 3,
    "start_time": "2022-05-16T16:45:04.055Z"
   },
   {
    "duration": 78,
    "start_time": "2022-05-16T16:45:04.560Z"
   },
   {
    "duration": 4,
    "start_time": "2022-05-16T16:45:05.313Z"
   },
   {
    "duration": 3,
    "start_time": "2022-05-16T16:45:07.930Z"
   },
   {
    "duration": 50365,
    "start_time": "2022-05-16T16:45:11.032Z"
   },
   {
    "duration": 25,
    "start_time": "2022-05-16T16:46:01.399Z"
   },
   {
    "duration": 97,
    "start_time": "2022-05-16T16:46:01.425Z"
   },
   {
    "duration": 4,
    "start_time": "2022-05-16T16:46:01.524Z"
   },
   {
    "duration": 51,
    "start_time": "2022-05-16T16:46:01.530Z"
   },
   {
    "duration": 70,
    "start_time": "2022-05-16T16:46:50.482Z"
   },
   {
    "duration": 4,
    "start_time": "2022-05-16T16:46:54.227Z"
   },
   {
    "duration": 4,
    "start_time": "2022-05-16T16:46:55.995Z"
   },
   {
    "duration": 2633,
    "start_time": "2022-05-16T16:46:56.859Z"
   },
   {
    "duration": 4,
    "start_time": "2022-05-16T16:47:01.925Z"
   },
   {
    "duration": 4,
    "start_time": "2022-05-16T16:47:09.042Z"
   },
   {
    "duration": 721488,
    "start_time": "2022-05-16T16:47:12.410Z"
   },
   {
    "duration": 3153,
    "start_time": "2022-05-16T17:03:45.837Z"
   },
   {
    "duration": 109,
    "start_time": "2022-05-16T17:03:48.992Z"
   },
   {
    "duration": 730,
    "start_time": "2022-05-16T17:03:49.103Z"
   },
   {
    "duration": 6,
    "start_time": "2022-05-16T17:03:49.835Z"
   },
   {
    "duration": 5,
    "start_time": "2022-05-16T17:03:49.843Z"
   },
   {
    "duration": 6,
    "start_time": "2022-05-16T17:03:49.862Z"
   },
   {
    "duration": 5,
    "start_time": "2022-05-16T17:03:49.870Z"
   },
   {
    "duration": 97,
    "start_time": "2022-05-16T17:03:49.877Z"
   },
   {
    "duration": 3,
    "start_time": "2022-05-16T17:03:49.976Z"
   },
   {
    "duration": 6,
    "start_time": "2022-05-16T17:03:49.983Z"
   },
   {
    "duration": 10,
    "start_time": "2022-05-16T17:03:49.990Z"
   },
   {
    "duration": 6,
    "start_time": "2022-05-16T17:03:50.002Z"
   },
   {
    "duration": 141571,
    "start_time": "2022-05-16T17:03:50.009Z"
   },
   {
    "duration": 3,
    "start_time": "2022-05-16T17:06:11.582Z"
   },
   {
    "duration": 48,
    "start_time": "2022-05-16T17:06:11.586Z"
   },
   {
    "duration": 85,
    "start_time": "2022-05-16T17:06:11.636Z"
   },
   {
    "duration": 4,
    "start_time": "2022-05-16T17:06:11.722Z"
   },
   {
    "duration": 84,
    "start_time": "2022-05-16T17:06:11.727Z"
   },
   {
    "duration": 80,
    "start_time": "2022-05-16T17:06:11.813Z"
   },
   {
    "duration": 3,
    "start_time": "2022-05-16T17:06:11.894Z"
   },
   {
    "duration": 6909,
    "start_time": "2022-05-16T17:06:11.898Z"
   },
   {
    "duration": 5,
    "start_time": "2022-05-16T17:06:18.809Z"
   },
   {
    "duration": 7,
    "start_time": "2022-05-16T17:06:18.816Z"
   },
   {
    "duration": 7,
    "start_time": "2022-05-16T17:06:18.825Z"
   },
   {
    "duration": 5,
    "start_time": "2022-05-16T17:06:18.834Z"
   },
   {
    "duration": 5,
    "start_time": "2022-05-16T17:06:18.840Z"
   },
   {
    "duration": 5,
    "start_time": "2022-05-16T17:06:18.847Z"
   },
   {
    "duration": 4,
    "start_time": "2022-05-16T17:06:18.864Z"
   },
   {
    "duration": 411370,
    "start_time": "2022-05-16T17:06:18.870Z"
   },
   {
    "duration": 0,
    "start_time": "2022-05-16T17:13:10.241Z"
   },
   {
    "duration": 0,
    "start_time": "2022-05-16T17:13:10.242Z"
   },
   {
    "duration": 0,
    "start_time": "2022-05-16T17:13:10.243Z"
   },
   {
    "duration": 0,
    "start_time": "2022-05-16T17:13:10.244Z"
   },
   {
    "duration": 0,
    "start_time": "2022-05-16T17:13:10.245Z"
   },
   {
    "duration": 0,
    "start_time": "2022-05-16T17:13:10.245Z"
   },
   {
    "duration": 0,
    "start_time": "2022-05-16T17:13:10.246Z"
   },
   {
    "duration": 0,
    "start_time": "2022-05-16T17:13:10.247Z"
   },
   {
    "duration": 0,
    "start_time": "2022-05-16T17:13:10.248Z"
   },
   {
    "duration": 0,
    "start_time": "2022-05-16T17:13:10.261Z"
   },
   {
    "duration": 0,
    "start_time": "2022-05-16T17:13:10.262Z"
   },
   {
    "duration": 0,
    "start_time": "2022-05-16T17:13:10.263Z"
   },
   {
    "duration": 0,
    "start_time": "2022-05-16T17:13:10.264Z"
   },
   {
    "duration": 0,
    "start_time": "2022-05-16T17:13:10.265Z"
   },
   {
    "duration": 0,
    "start_time": "2022-05-16T17:13:10.266Z"
   },
   {
    "duration": 0,
    "start_time": "2022-05-16T17:13:10.267Z"
   },
   {
    "duration": 0,
    "start_time": "2022-05-16T17:13:10.267Z"
   },
   {
    "duration": 0,
    "start_time": "2022-05-16T17:13:10.268Z"
   },
   {
    "duration": 0,
    "start_time": "2022-05-16T17:13:10.270Z"
   },
   {
    "duration": 0,
    "start_time": "2022-05-16T17:13:10.271Z"
   },
   {
    "duration": 0,
    "start_time": "2022-05-16T17:13:10.271Z"
   },
   {
    "duration": 0,
    "start_time": "2022-05-16T17:13:10.273Z"
   },
   {
    "duration": 0,
    "start_time": "2022-05-16T17:13:10.273Z"
   },
   {
    "duration": 0,
    "start_time": "2022-05-16T17:13:10.274Z"
   },
   {
    "duration": 0,
    "start_time": "2022-05-16T17:13:10.275Z"
   },
   {
    "duration": 0,
    "start_time": "2022-05-16T17:13:10.276Z"
   },
   {
    "duration": 0,
    "start_time": "2022-05-16T17:13:10.277Z"
   },
   {
    "duration": 0,
    "start_time": "2022-05-16T17:13:10.278Z"
   },
   {
    "duration": 0,
    "start_time": "2022-05-16T17:13:10.279Z"
   },
   {
    "duration": 0,
    "start_time": "2022-05-16T17:13:10.280Z"
   },
   {
    "duration": 0,
    "start_time": "2022-05-16T17:13:10.281Z"
   },
   {
    "duration": 0,
    "start_time": "2022-05-16T17:13:10.282Z"
   },
   {
    "duration": 0,
    "start_time": "2022-05-16T17:13:10.283Z"
   },
   {
    "duration": 0,
    "start_time": "2022-05-16T17:13:10.283Z"
   },
   {
    "duration": 0,
    "start_time": "2022-05-16T17:13:10.284Z"
   },
   {
    "duration": 0,
    "start_time": "2022-05-16T17:13:10.285Z"
   },
   {
    "duration": 0,
    "start_time": "2022-05-16T17:13:10.286Z"
   },
   {
    "duration": 0,
    "start_time": "2022-05-16T17:13:10.287Z"
   },
   {
    "duration": 0,
    "start_time": "2022-05-16T17:13:10.288Z"
   },
   {
    "duration": 0,
    "start_time": "2022-05-16T17:13:10.288Z"
   },
   {
    "duration": 0,
    "start_time": "2022-05-16T17:13:10.289Z"
   },
   {
    "duration": 0,
    "start_time": "2022-05-16T17:13:10.290Z"
   },
   {
    "duration": 0,
    "start_time": "2022-05-16T17:13:10.291Z"
   },
   {
    "duration": 0,
    "start_time": "2022-05-16T17:13:10.292Z"
   },
   {
    "duration": 0,
    "start_time": "2022-05-16T17:13:10.293Z"
   },
   {
    "duration": 0,
    "start_time": "2022-05-16T17:13:10.294Z"
   },
   {
    "duration": 0,
    "start_time": "2022-05-16T17:13:10.295Z"
   },
   {
    "duration": 0,
    "start_time": "2022-05-16T17:13:10.296Z"
   },
   {
    "duration": 0,
    "start_time": "2022-05-16T17:13:10.297Z"
   },
   {
    "duration": 0,
    "start_time": "2022-05-16T17:13:10.297Z"
   },
   {
    "duration": 0,
    "start_time": "2022-05-16T17:13:10.298Z"
   },
   {
    "duration": 0,
    "start_time": "2022-05-16T17:13:10.299Z"
   },
   {
    "duration": 0,
    "start_time": "2022-05-16T17:13:10.362Z"
   },
   {
    "duration": 0,
    "start_time": "2022-05-16T17:13:10.363Z"
   },
   {
    "duration": 0,
    "start_time": "2022-05-16T17:13:10.364Z"
   },
   {
    "duration": 0,
    "start_time": "2022-05-16T17:13:10.365Z"
   },
   {
    "duration": 0,
    "start_time": "2022-05-16T17:13:10.366Z"
   },
   {
    "duration": 0,
    "start_time": "2022-05-16T17:13:10.367Z"
   },
   {
    "duration": 0,
    "start_time": "2022-05-16T17:13:10.368Z"
   },
   {
    "duration": 0,
    "start_time": "2022-05-16T17:13:10.369Z"
   },
   {
    "duration": 0,
    "start_time": "2022-05-16T17:13:10.370Z"
   },
   {
    "duration": 0,
    "start_time": "2022-05-16T17:13:10.371Z"
   },
   {
    "duration": 3,
    "start_time": "2022-05-16T17:13:19.539Z"
   },
   {
    "duration": 51991,
    "start_time": "2022-05-16T17:13:22.386Z"
   },
   {
    "duration": 3,
    "start_time": "2022-05-16T17:44:28.949Z"
   },
   {
    "duration": 3,
    "start_time": "2022-05-16T17:48:03.571Z"
   },
   {
    "duration": 56079,
    "start_time": "2022-05-16T17:48:04.503Z"
   },
   {
    "duration": 3,
    "start_time": "2022-05-16T17:50:40.447Z"
   },
   {
    "duration": 55420,
    "start_time": "2022-05-16T17:50:41.173Z"
   },
   {
    "duration": 3,
    "start_time": "2022-05-16T17:52:15.220Z"
   },
   {
    "duration": 54841,
    "start_time": "2022-05-16T17:52:16.143Z"
   },
   {
    "duration": 22,
    "start_time": "2022-05-16T17:54:17.779Z"
   },
   {
    "duration": 3130,
    "start_time": "2022-05-16T17:54:25.356Z"
   },
   {
    "duration": 188,
    "start_time": "2022-05-16T17:54:28.488Z"
   },
   {
    "duration": 705,
    "start_time": "2022-05-16T17:54:28.678Z"
   },
   {
    "duration": 5,
    "start_time": "2022-05-16T17:54:29.385Z"
   },
   {
    "duration": 32,
    "start_time": "2022-05-16T17:54:29.392Z"
   },
   {
    "duration": 7,
    "start_time": "2022-05-16T17:54:29.426Z"
   },
   {
    "duration": 5,
    "start_time": "2022-05-16T17:54:29.435Z"
   },
   {
    "duration": 106,
    "start_time": "2022-05-16T17:54:29.442Z"
   },
   {
    "duration": 4,
    "start_time": "2022-05-16T17:54:29.549Z"
   },
   {
    "duration": 4,
    "start_time": "2022-05-16T17:54:29.561Z"
   },
   {
    "duration": 7,
    "start_time": "2022-05-16T17:54:29.567Z"
   },
   {
    "duration": 3,
    "start_time": "2022-05-16T17:54:29.576Z"
   },
   {
    "duration": 80996,
    "start_time": "2022-05-16T17:54:29.581Z"
   },
   {
    "duration": 3,
    "start_time": "2022-05-16T17:55:50.580Z"
   },
   {
    "duration": 29,
    "start_time": "2022-05-16T17:55:50.585Z"
   },
   {
    "duration": 97,
    "start_time": "2022-05-16T17:55:50.616Z"
   },
   {
    "duration": 4,
    "start_time": "2022-05-16T17:55:50.715Z"
   },
   {
    "duration": 54,
    "start_time": "2022-05-16T17:55:50.721Z"
   },
   {
    "duration": 86,
    "start_time": "2022-05-16T17:55:50.777Z"
   },
   {
    "duration": 4,
    "start_time": "2022-05-16T17:55:50.866Z"
   },
   {
    "duration": 4433,
    "start_time": "2022-05-16T17:55:50.871Z"
   },
   {
    "duration": 4,
    "start_time": "2022-05-16T17:55:55.306Z"
   },
   {
    "duration": 7,
    "start_time": "2022-05-16T17:55:55.312Z"
   },
   {
    "duration": 7,
    "start_time": "2022-05-16T17:55:55.320Z"
   },
   {
    "duration": 5,
    "start_time": "2022-05-16T17:55:55.328Z"
   },
   {
    "duration": 4,
    "start_time": "2022-05-16T17:55:55.334Z"
   },
   {
    "duration": 6,
    "start_time": "2022-05-16T17:55:55.339Z"
   },
   {
    "duration": 14,
    "start_time": "2022-05-16T17:55:55.349Z"
   },
   {
    "duration": 42539,
    "start_time": "2022-05-16T17:55:55.364Z"
   },
   {
    "duration": 338065,
    "start_time": "2022-05-16T17:56:37.905Z"
   },
   {
    "duration": 0,
    "start_time": "2022-05-16T18:02:15.972Z"
   },
   {
    "duration": 0,
    "start_time": "2022-05-16T18:02:15.973Z"
   },
   {
    "duration": 0,
    "start_time": "2022-05-16T18:02:15.974Z"
   },
   {
    "duration": 0,
    "start_time": "2022-05-16T18:02:15.975Z"
   },
   {
    "duration": 0,
    "start_time": "2022-05-16T18:02:15.976Z"
   },
   {
    "duration": 0,
    "start_time": "2022-05-16T18:02:15.977Z"
   },
   {
    "duration": 0,
    "start_time": "2022-05-16T18:02:15.978Z"
   },
   {
    "duration": 0,
    "start_time": "2022-05-16T18:02:15.979Z"
   },
   {
    "duration": 0,
    "start_time": "2022-05-16T18:02:15.980Z"
   },
   {
    "duration": 0,
    "start_time": "2022-05-16T18:02:15.981Z"
   },
   {
    "duration": 0,
    "start_time": "2022-05-16T18:02:15.982Z"
   },
   {
    "duration": 0,
    "start_time": "2022-05-16T18:02:15.983Z"
   },
   {
    "duration": 0,
    "start_time": "2022-05-16T18:02:15.984Z"
   },
   {
    "duration": 0,
    "start_time": "2022-05-16T18:02:15.985Z"
   },
   {
    "duration": 0,
    "start_time": "2022-05-16T18:02:15.986Z"
   },
   {
    "duration": 0,
    "start_time": "2022-05-16T18:02:15.986Z"
   },
   {
    "duration": 0,
    "start_time": "2022-05-16T18:02:15.987Z"
   },
   {
    "duration": 0,
    "start_time": "2022-05-16T18:02:15.988Z"
   },
   {
    "duration": 0,
    "start_time": "2022-05-16T18:02:15.989Z"
   },
   {
    "duration": 0,
    "start_time": "2022-05-16T18:02:15.991Z"
   },
   {
    "duration": 0,
    "start_time": "2022-05-16T18:02:15.991Z"
   },
   {
    "duration": 0,
    "start_time": "2022-05-16T18:02:15.992Z"
   },
   {
    "duration": 0,
    "start_time": "2022-05-16T18:02:15.993Z"
   },
   {
    "duration": 0,
    "start_time": "2022-05-16T18:02:15.994Z"
   },
   {
    "duration": 0,
    "start_time": "2022-05-16T18:02:15.995Z"
   },
   {
    "duration": 0,
    "start_time": "2022-05-16T18:02:15.996Z"
   },
   {
    "duration": 0,
    "start_time": "2022-05-16T18:02:15.997Z"
   },
   {
    "duration": 0,
    "start_time": "2022-05-16T18:02:15.998Z"
   },
   {
    "duration": 0,
    "start_time": "2022-05-16T18:02:15.999Z"
   },
   {
    "duration": 0,
    "start_time": "2022-05-16T18:02:15.999Z"
   },
   {
    "duration": 0,
    "start_time": "2022-05-16T18:02:16.000Z"
   },
   {
    "duration": 0,
    "start_time": "2022-05-16T18:02:16.001Z"
   },
   {
    "duration": 0,
    "start_time": "2022-05-16T18:02:16.002Z"
   },
   {
    "duration": 0,
    "start_time": "2022-05-16T18:02:16.003Z"
   },
   {
    "duration": 0,
    "start_time": "2022-05-16T18:02:16.003Z"
   },
   {
    "duration": 0,
    "start_time": "2022-05-16T18:02:16.004Z"
   },
   {
    "duration": 0,
    "start_time": "2022-05-16T18:02:16.005Z"
   },
   {
    "duration": 0,
    "start_time": "2022-05-16T18:02:16.062Z"
   },
   {
    "duration": 0,
    "start_time": "2022-05-16T18:02:16.063Z"
   },
   {
    "duration": 0,
    "start_time": "2022-05-16T18:02:16.064Z"
   },
   {
    "duration": 0,
    "start_time": "2022-05-16T18:02:16.065Z"
   },
   {
    "duration": 0,
    "start_time": "2022-05-16T18:02:16.066Z"
   },
   {
    "duration": 0,
    "start_time": "2022-05-16T18:02:16.067Z"
   },
   {
    "duration": 0,
    "start_time": "2022-05-16T18:02:16.068Z"
   },
   {
    "duration": 0,
    "start_time": "2022-05-16T18:02:16.069Z"
   },
   {
    "duration": 0,
    "start_time": "2022-05-16T18:02:16.070Z"
   },
   {
    "duration": 0,
    "start_time": "2022-05-16T18:02:16.071Z"
   },
   {
    "duration": 0,
    "start_time": "2022-05-16T18:02:16.072Z"
   },
   {
    "duration": 0,
    "start_time": "2022-05-16T18:02:16.073Z"
   },
   {
    "duration": 0,
    "start_time": "2022-05-16T18:02:16.074Z"
   },
   {
    "duration": 0,
    "start_time": "2022-05-16T18:02:16.075Z"
   },
   {
    "duration": 0,
    "start_time": "2022-05-16T18:02:16.076Z"
   },
   {
    "duration": 0,
    "start_time": "2022-05-16T18:02:16.077Z"
   },
   {
    "duration": 1,
    "start_time": "2022-05-16T18:02:16.077Z"
   },
   {
    "duration": 0,
    "start_time": "2022-05-16T18:02:16.079Z"
   },
   {
    "duration": 0,
    "start_time": "2022-05-16T18:02:16.080Z"
   },
   {
    "duration": 0,
    "start_time": "2022-05-16T18:02:16.081Z"
   },
   {
    "duration": 0,
    "start_time": "2022-05-16T18:02:16.081Z"
   },
   {
    "duration": 0,
    "start_time": "2022-05-16T18:02:16.082Z"
   },
   {
    "duration": 0,
    "start_time": "2022-05-16T18:02:16.083Z"
   },
   {
    "duration": 183525,
    "start_time": "2022-05-16T18:02:18.612Z"
   },
   {
    "duration": 0,
    "start_time": "2022-05-16T18:05:22.139Z"
   },
   {
    "duration": 0,
    "start_time": "2022-05-16T18:05:22.140Z"
   },
   {
    "duration": 0,
    "start_time": "2022-05-16T18:05:22.141Z"
   },
   {
    "duration": 7,
    "start_time": "2022-05-16T18:27:20.515Z"
   },
   {
    "duration": 715,
    "start_time": "2022-05-16T18:27:24.151Z"
   },
   {
    "duration": 4,
    "start_time": "2022-05-16T18:27:26.482Z"
   },
   {
    "duration": 18,
    "start_time": "2022-05-16T18:27:29.041Z"
   },
   {
    "duration": 554,
    "start_time": "2022-05-16T18:27:53.469Z"
   },
   {
    "duration": 674,
    "start_time": "2022-05-16T18:28:01.097Z"
   },
   {
    "duration": 5,
    "start_time": "2022-05-16T18:28:02.355Z"
   },
   {
    "duration": 32,
    "start_time": "2022-05-16T18:28:03.603Z"
   },
   {
    "duration": 6,
    "start_time": "2022-05-16T18:28:10.390Z"
   },
   {
    "duration": 78,
    "start_time": "2022-05-16T18:28:14.661Z"
   },
   {
    "duration": 101668,
    "start_time": "2022-05-16T18:29:22.051Z"
   },
   {
    "duration": 3,
    "start_time": "2022-05-16T18:35:06.097Z"
   },
   {
    "duration": 4,
    "start_time": "2022-05-16T18:41:32.947Z"
   },
   {
    "duration": 5,
    "start_time": "2022-05-16T18:41:36.415Z"
   },
   {
    "duration": 3583,
    "start_time": "2022-05-16T18:42:46.244Z"
   },
   {
    "duration": 116,
    "start_time": "2022-05-16T18:42:49.830Z"
   },
   {
    "duration": 799,
    "start_time": "2022-05-16T18:42:49.948Z"
   },
   {
    "duration": 5,
    "start_time": "2022-05-16T18:42:50.750Z"
   },
   {
    "duration": 44,
    "start_time": "2022-05-16T18:42:50.761Z"
   },
   {
    "duration": 7,
    "start_time": "2022-05-16T18:42:50.807Z"
   },
   {
    "duration": 114,
    "start_time": "2022-05-16T18:42:50.816Z"
   },
   {
    "duration": 3,
    "start_time": "2022-05-16T18:42:50.932Z"
   },
   {
    "duration": 8,
    "start_time": "2022-05-16T18:42:50.937Z"
   },
   {
    "duration": 14,
    "start_time": "2022-05-16T18:42:50.948Z"
   },
   {
    "duration": 11,
    "start_time": "2022-05-16T18:42:50.965Z"
   },
   {
    "duration": 107911,
    "start_time": "2022-05-16T18:42:50.978Z"
   },
   {
    "duration": 3,
    "start_time": "2022-05-16T18:44:38.891Z"
   },
   {
    "duration": 29,
    "start_time": "2022-05-16T18:44:38.896Z"
   },
   {
    "duration": 8,
    "start_time": "2022-05-16T18:44:38.926Z"
   },
   {
    "duration": 96,
    "start_time": "2022-05-16T18:44:38.935Z"
   },
   {
    "duration": 4,
    "start_time": "2022-05-16T18:44:39.032Z"
   },
   {
    "duration": 69,
    "start_time": "2022-05-16T18:44:39.038Z"
   },
   {
    "duration": 8,
    "start_time": "2022-05-16T18:44:39.108Z"
   },
   {
    "duration": 105,
    "start_time": "2022-05-16T18:44:39.117Z"
   },
   {
    "duration": 3,
    "start_time": "2022-05-16T18:44:39.223Z"
   },
   {
    "duration": 5831,
    "start_time": "2022-05-16T18:44:39.228Z"
   },
   {
    "duration": 6,
    "start_time": "2022-05-16T18:44:45.064Z"
   },
   {
    "duration": 17,
    "start_time": "2022-05-16T18:44:45.071Z"
   },
   {
    "duration": 4,
    "start_time": "2022-05-16T18:44:45.090Z"
   },
   {
    "duration": 7,
    "start_time": "2022-05-16T18:44:45.096Z"
   },
   {
    "duration": 6,
    "start_time": "2022-05-16T18:44:45.105Z"
   },
   {
    "duration": 2,
    "start_time": "2022-05-16T18:44:45.116Z"
   },
   {
    "duration": 6,
    "start_time": "2022-05-16T18:44:45.120Z"
   },
   {
    "duration": 6,
    "start_time": "2022-05-16T18:44:45.128Z"
   },
   {
    "duration": 6,
    "start_time": "2022-05-16T18:44:45.135Z"
   },
   {
    "duration": 221,
    "start_time": "2022-05-16T18:44:45.142Z"
   },
   {
    "duration": 0,
    "start_time": "2022-05-16T18:44:45.367Z"
   },
   {
    "duration": 0,
    "start_time": "2022-05-16T18:44:45.368Z"
   },
   {
    "duration": 0,
    "start_time": "2022-05-16T18:44:45.370Z"
   },
   {
    "duration": 0,
    "start_time": "2022-05-16T18:44:45.370Z"
   },
   {
    "duration": 0,
    "start_time": "2022-05-16T18:44:45.372Z"
   },
   {
    "duration": 0,
    "start_time": "2022-05-16T18:44:45.373Z"
   },
   {
    "duration": 0,
    "start_time": "2022-05-16T18:44:45.374Z"
   },
   {
    "duration": 0,
    "start_time": "2022-05-16T18:44:45.377Z"
   },
   {
    "duration": 0,
    "start_time": "2022-05-16T18:44:45.378Z"
   },
   {
    "duration": 0,
    "start_time": "2022-05-16T18:44:45.379Z"
   },
   {
    "duration": 0,
    "start_time": "2022-05-16T18:44:45.381Z"
   },
   {
    "duration": 0,
    "start_time": "2022-05-16T18:44:45.382Z"
   },
   {
    "duration": 0,
    "start_time": "2022-05-16T18:44:45.383Z"
   },
   {
    "duration": 0,
    "start_time": "2022-05-16T18:44:45.384Z"
   },
   {
    "duration": 0,
    "start_time": "2022-05-16T18:44:45.385Z"
   },
   {
    "duration": 0,
    "start_time": "2022-05-16T18:44:45.386Z"
   },
   {
    "duration": 0,
    "start_time": "2022-05-16T18:44:45.387Z"
   },
   {
    "duration": 0,
    "start_time": "2022-05-16T18:44:45.387Z"
   },
   {
    "duration": 0,
    "start_time": "2022-05-16T18:44:45.388Z"
   },
   {
    "duration": 0,
    "start_time": "2022-05-16T18:44:45.389Z"
   },
   {
    "duration": 0,
    "start_time": "2022-05-16T18:44:45.390Z"
   },
   {
    "duration": 0,
    "start_time": "2022-05-16T18:44:45.391Z"
   },
   {
    "duration": 0,
    "start_time": "2022-05-16T18:44:45.392Z"
   },
   {
    "duration": 0,
    "start_time": "2022-05-16T18:44:45.392Z"
   },
   {
    "duration": 0,
    "start_time": "2022-05-16T18:44:45.393Z"
   },
   {
    "duration": 0,
    "start_time": "2022-05-16T18:44:45.394Z"
   },
   {
    "duration": 0,
    "start_time": "2022-05-16T18:44:45.395Z"
   },
   {
    "duration": 0,
    "start_time": "2022-05-16T18:44:45.397Z"
   },
   {
    "duration": 0,
    "start_time": "2022-05-16T18:44:45.398Z"
   },
   {
    "duration": 0,
    "start_time": "2022-05-16T18:44:45.399Z"
   },
   {
    "duration": 0,
    "start_time": "2022-05-16T18:44:45.400Z"
   },
   {
    "duration": 0,
    "start_time": "2022-05-16T18:44:45.401Z"
   },
   {
    "duration": 0,
    "start_time": "2022-05-16T18:44:45.402Z"
   },
   {
    "duration": 0,
    "start_time": "2022-05-16T18:44:45.403Z"
   },
   {
    "duration": 0,
    "start_time": "2022-05-16T18:44:45.404Z"
   },
   {
    "duration": 0,
    "start_time": "2022-05-16T18:44:45.405Z"
   },
   {
    "duration": 0,
    "start_time": "2022-05-16T18:44:45.406Z"
   },
   {
    "duration": 0,
    "start_time": "2022-05-16T18:44:45.462Z"
   },
   {
    "duration": 0,
    "start_time": "2022-05-16T18:44:45.464Z"
   },
   {
    "duration": 0,
    "start_time": "2022-05-16T18:44:45.466Z"
   },
   {
    "duration": 0,
    "start_time": "2022-05-16T18:44:45.467Z"
   },
   {
    "duration": 1,
    "start_time": "2022-05-16T18:44:45.468Z"
   },
   {
    "duration": 0,
    "start_time": "2022-05-16T18:44:45.473Z"
   },
   {
    "duration": 0,
    "start_time": "2022-05-16T18:44:45.473Z"
   },
   {
    "duration": 0,
    "start_time": "2022-05-16T18:44:45.475Z"
   },
   {
    "duration": 0,
    "start_time": "2022-05-16T18:44:45.476Z"
   },
   {
    "duration": 0,
    "start_time": "2022-05-16T18:44:45.477Z"
   },
   {
    "duration": 0,
    "start_time": "2022-05-16T18:44:45.478Z"
   },
   {
    "duration": 0,
    "start_time": "2022-05-16T18:44:45.479Z"
   },
   {
    "duration": 0,
    "start_time": "2022-05-16T18:44:45.480Z"
   },
   {
    "duration": 0,
    "start_time": "2022-05-16T18:44:45.482Z"
   },
   {
    "duration": 0,
    "start_time": "2022-05-16T18:44:45.483Z"
   },
   {
    "duration": 0,
    "start_time": "2022-05-16T18:44:45.485Z"
   },
   {
    "duration": 0,
    "start_time": "2022-05-16T18:44:45.486Z"
   },
   {
    "duration": 0,
    "start_time": "2022-05-16T18:44:45.487Z"
   },
   {
    "duration": 0,
    "start_time": "2022-05-16T18:44:45.488Z"
   },
   {
    "duration": 0,
    "start_time": "2022-05-16T18:44:45.489Z"
   },
   {
    "duration": 0,
    "start_time": "2022-05-16T18:44:45.490Z"
   },
   {
    "duration": 0,
    "start_time": "2022-05-16T18:44:45.491Z"
   },
   {
    "duration": 0,
    "start_time": "2022-05-16T18:44:45.492Z"
   },
   {
    "duration": 0,
    "start_time": "2022-05-16T18:44:45.493Z"
   },
   {
    "duration": 0,
    "start_time": "2022-05-16T18:44:45.494Z"
   },
   {
    "duration": 24,
    "start_time": "2022-05-16T18:46:25.777Z"
   },
   {
    "duration": 9,
    "start_time": "2022-05-16T18:46:42.871Z"
   },
   {
    "duration": 11,
    "start_time": "2022-05-16T18:47:15.532Z"
   },
   {
    "duration": 11,
    "start_time": "2022-05-16T18:47:21.349Z"
   },
   {
    "duration": 8275,
    "start_time": "2022-05-16T18:47:44.445Z"
   },
   {
    "duration": 5465,
    "start_time": "2022-05-16T18:48:11.854Z"
   },
   {
    "duration": 6,
    "start_time": "2022-05-16T18:48:20.060Z"
   },
   {
    "duration": 4,
    "start_time": "2022-05-16T18:48:26.902Z"
   },
   {
    "duration": 4,
    "start_time": "2022-05-16T18:48:35.222Z"
   },
   {
    "duration": 6,
    "start_time": "2022-05-16T18:49:20.484Z"
   },
   {
    "duration": 8,
    "start_time": "2022-05-16T18:50:05.867Z"
   },
   {
    "duration": 5,
    "start_time": "2022-05-16T18:50:12.283Z"
   },
   {
    "duration": 5,
    "start_time": "2022-05-16T18:50:52.202Z"
   },
   {
    "duration": 8296,
    "start_time": "2022-05-16T18:50:53.182Z"
   },
   {
    "duration": 4,
    "start_time": "2022-05-16T18:51:25.253Z"
   },
   {
    "duration": 129005,
    "start_time": "2022-05-16T18:51:25.259Z"
   },
   {
    "duration": 3272,
    "start_time": "2022-05-16T18:54:13.638Z"
   },
   {
    "duration": 186,
    "start_time": "2022-05-16T18:54:16.912Z"
   },
   {
    "duration": 750,
    "start_time": "2022-05-16T18:54:17.099Z"
   },
   {
    "duration": 5,
    "start_time": "2022-05-16T18:54:17.851Z"
   },
   {
    "duration": 40,
    "start_time": "2022-05-16T18:54:17.861Z"
   },
   {
    "duration": 6,
    "start_time": "2022-05-16T18:54:17.903Z"
   },
   {
    "duration": 111,
    "start_time": "2022-05-16T18:54:17.911Z"
   },
   {
    "duration": 4,
    "start_time": "2022-05-16T18:54:18.024Z"
   },
   {
    "duration": 14,
    "start_time": "2022-05-16T18:54:18.030Z"
   },
   {
    "duration": 5,
    "start_time": "2022-05-16T18:54:18.047Z"
   },
   {
    "duration": 21,
    "start_time": "2022-05-16T18:54:18.054Z"
   },
   {
    "duration": 93355,
    "start_time": "2022-05-16T18:54:18.077Z"
   },
   {
    "duration": 4,
    "start_time": "2022-05-16T18:55:51.434Z"
   },
   {
    "duration": 53,
    "start_time": "2022-05-16T18:55:51.440Z"
   },
   {
    "duration": 6,
    "start_time": "2022-05-16T18:55:51.495Z"
   },
   {
    "duration": 102,
    "start_time": "2022-05-16T18:55:51.503Z"
   },
   {
    "duration": 4,
    "start_time": "2022-05-16T18:55:51.607Z"
   },
   {
    "duration": 51,
    "start_time": "2022-05-16T18:55:51.613Z"
   },
   {
    "duration": 7,
    "start_time": "2022-05-16T18:55:51.666Z"
   },
   {
    "duration": 75,
    "start_time": "2022-05-16T18:55:51.674Z"
   },
   {
    "duration": 11,
    "start_time": "2022-05-16T18:55:51.751Z"
   },
   {
    "duration": 4744,
    "start_time": "2022-05-16T18:55:51.763Z"
   },
   {
    "duration": 4,
    "start_time": "2022-05-16T18:55:56.509Z"
   },
   {
    "duration": 11,
    "start_time": "2022-05-16T18:55:56.514Z"
   },
   {
    "duration": 7,
    "start_time": "2022-05-16T18:55:56.526Z"
   },
   {
    "duration": 8,
    "start_time": "2022-05-16T18:55:56.534Z"
   },
   {
    "duration": 4,
    "start_time": "2022-05-16T18:55:56.544Z"
   },
   {
    "duration": 4,
    "start_time": "2022-05-16T18:55:56.552Z"
   },
   {
    "duration": 9,
    "start_time": "2022-05-16T18:55:56.562Z"
   },
   {
    "duration": 11,
    "start_time": "2022-05-16T18:55:56.573Z"
   },
   {
    "duration": 4,
    "start_time": "2022-05-16T18:55:56.586Z"
   },
   {
    "duration": 5,
    "start_time": "2022-05-16T18:55:56.592Z"
   },
   {
    "duration": 6,
    "start_time": "2022-05-16T18:55:56.599Z"
   },
   {
    "duration": 162,
    "start_time": "2022-05-16T18:55:56.606Z"
   },
   {
    "duration": 0,
    "start_time": "2022-05-16T18:55:56.771Z"
   },
   {
    "duration": 0,
    "start_time": "2022-05-16T18:55:56.773Z"
   },
   {
    "duration": 0,
    "start_time": "2022-05-16T18:55:56.774Z"
   },
   {
    "duration": 0,
    "start_time": "2022-05-16T18:55:56.775Z"
   },
   {
    "duration": 1,
    "start_time": "2022-05-16T18:55:56.776Z"
   },
   {
    "duration": 0,
    "start_time": "2022-05-16T18:55:56.778Z"
   },
   {
    "duration": 0,
    "start_time": "2022-05-16T18:55:56.779Z"
   },
   {
    "duration": 0,
    "start_time": "2022-05-16T18:55:56.781Z"
   },
   {
    "duration": 0,
    "start_time": "2022-05-16T18:55:56.782Z"
   },
   {
    "duration": 0,
    "start_time": "2022-05-16T18:55:56.783Z"
   },
   {
    "duration": 0,
    "start_time": "2022-05-16T18:55:56.784Z"
   },
   {
    "duration": 0,
    "start_time": "2022-05-16T18:55:56.785Z"
   },
   {
    "duration": 0,
    "start_time": "2022-05-16T18:55:56.786Z"
   },
   {
    "duration": 0,
    "start_time": "2022-05-16T18:55:56.787Z"
   },
   {
    "duration": 0,
    "start_time": "2022-05-16T18:55:56.787Z"
   },
   {
    "duration": 0,
    "start_time": "2022-05-16T18:55:56.788Z"
   },
   {
    "duration": 0,
    "start_time": "2022-05-16T18:55:56.789Z"
   },
   {
    "duration": 0,
    "start_time": "2022-05-16T18:55:56.790Z"
   },
   {
    "duration": 0,
    "start_time": "2022-05-16T18:55:56.790Z"
   },
   {
    "duration": 0,
    "start_time": "2022-05-16T18:55:56.791Z"
   },
   {
    "duration": 0,
    "start_time": "2022-05-16T18:55:56.792Z"
   },
   {
    "duration": 0,
    "start_time": "2022-05-16T18:55:56.793Z"
   },
   {
    "duration": 0,
    "start_time": "2022-05-16T18:55:56.794Z"
   },
   {
    "duration": 0,
    "start_time": "2022-05-16T18:55:56.795Z"
   },
   {
    "duration": 0,
    "start_time": "2022-05-16T18:55:56.796Z"
   },
   {
    "duration": 0,
    "start_time": "2022-05-16T18:55:56.797Z"
   },
   {
    "duration": 0,
    "start_time": "2022-05-16T18:55:56.797Z"
   },
   {
    "duration": 0,
    "start_time": "2022-05-16T18:55:56.798Z"
   },
   {
    "duration": 0,
    "start_time": "2022-05-16T18:55:56.799Z"
   },
   {
    "duration": 0,
    "start_time": "2022-05-16T18:55:56.800Z"
   },
   {
    "duration": 0,
    "start_time": "2022-05-16T18:55:56.801Z"
   },
   {
    "duration": 0,
    "start_time": "2022-05-16T18:55:56.801Z"
   },
   {
    "duration": 0,
    "start_time": "2022-05-16T18:55:56.802Z"
   },
   {
    "duration": 0,
    "start_time": "2022-05-16T18:55:56.803Z"
   },
   {
    "duration": 0,
    "start_time": "2022-05-16T18:55:56.804Z"
   },
   {
    "duration": 0,
    "start_time": "2022-05-16T18:55:56.862Z"
   },
   {
    "duration": 1,
    "start_time": "2022-05-16T18:55:56.866Z"
   },
   {
    "duration": 0,
    "start_time": "2022-05-16T18:55:56.868Z"
   },
   {
    "duration": 0,
    "start_time": "2022-05-16T18:55:56.870Z"
   },
   {
    "duration": 0,
    "start_time": "2022-05-16T18:55:56.871Z"
   },
   {
    "duration": 0,
    "start_time": "2022-05-16T18:55:56.873Z"
   },
   {
    "duration": 0,
    "start_time": "2022-05-16T18:55:56.874Z"
   },
   {
    "duration": 0,
    "start_time": "2022-05-16T18:55:56.875Z"
   },
   {
    "duration": 0,
    "start_time": "2022-05-16T18:55:56.876Z"
   },
   {
    "duration": 0,
    "start_time": "2022-05-16T18:55:56.878Z"
   },
   {
    "duration": 0,
    "start_time": "2022-05-16T18:55:56.879Z"
   },
   {
    "duration": 0,
    "start_time": "2022-05-16T18:55:56.881Z"
   },
   {
    "duration": 0,
    "start_time": "2022-05-16T18:55:56.882Z"
   },
   {
    "duration": 0,
    "start_time": "2022-05-16T18:55:56.883Z"
   },
   {
    "duration": 0,
    "start_time": "2022-05-16T18:55:56.884Z"
   },
   {
    "duration": 0,
    "start_time": "2022-05-16T18:55:56.885Z"
   },
   {
    "duration": 0,
    "start_time": "2022-05-16T18:55:56.886Z"
   },
   {
    "duration": 0,
    "start_time": "2022-05-16T18:55:56.887Z"
   },
   {
    "duration": 0,
    "start_time": "2022-05-16T18:55:56.888Z"
   },
   {
    "duration": 0,
    "start_time": "2022-05-16T18:55:56.889Z"
   },
   {
    "duration": 0,
    "start_time": "2022-05-16T18:55:56.890Z"
   },
   {
    "duration": 0,
    "start_time": "2022-05-16T18:55:56.891Z"
   },
   {
    "duration": 0,
    "start_time": "2022-05-16T18:55:56.891Z"
   },
   {
    "duration": 0,
    "start_time": "2022-05-16T18:55:56.892Z"
   },
   {
    "duration": 0,
    "start_time": "2022-05-16T18:55:56.893Z"
   },
   {
    "duration": 0,
    "start_time": "2022-05-16T18:55:56.894Z"
   },
   {
    "duration": 0,
    "start_time": "2022-05-16T18:55:56.895Z"
   },
   {
    "duration": 186255,
    "start_time": "2022-05-16T19:16:13.316Z"
   },
   {
    "duration": 5,
    "start_time": "2022-05-16T19:19:37.603Z"
   },
   {
    "duration": 5,
    "start_time": "2022-05-16T19:19:39.081Z"
   },
   {
    "duration": 26256,
    "start_time": "2022-05-16T19:19:40.172Z"
   },
   {
    "duration": 4,
    "start_time": "2022-05-16T19:46:04.525Z"
   },
   {
    "duration": 3,
    "start_time": "2022-05-16T19:46:06.318Z"
   },
   {
    "duration": 11,
    "start_time": "2022-05-16T19:46:23.822Z"
   },
   {
    "duration": 30,
    "start_time": "2022-05-16T19:46:28.366Z"
   },
   {
    "duration": 4,
    "start_time": "2022-05-16T19:46:46.258Z"
   },
   {
    "duration": 26,
    "start_time": "2022-05-16T19:46:46.826Z"
   },
   {
    "duration": 28,
    "start_time": "2022-05-16T19:47:27.812Z"
   },
   {
    "duration": 11,
    "start_time": "2022-05-16T19:48:41.466Z"
   },
   {
    "duration": 833,
    "start_time": "2022-05-16T19:48:45.560Z"
   },
   {
    "duration": 18,
    "start_time": "2022-05-16T19:49:28.422Z"
   },
   {
    "duration": 35776,
    "start_time": "2022-05-16T19:49:36.287Z"
   },
   {
    "duration": 3,
    "start_time": "2022-05-16T19:50:23.280Z"
   },
   {
    "duration": 26203,
    "start_time": "2022-05-16T19:50:23.912Z"
   },
   {
    "duration": 4,
    "start_time": "2022-05-16T19:52:00.193Z"
   },
   {
    "duration": 3,
    "start_time": "2022-05-16T19:52:01.151Z"
   },
   {
    "duration": 25566,
    "start_time": "2022-05-16T19:52:01.937Z"
   },
   {
    "duration": 5,
    "start_time": "2022-05-16T19:53:24.290Z"
   },
   {
    "duration": 2,
    "start_time": "2022-05-16T19:53:25.183Z"
   },
   {
    "duration": 23450,
    "start_time": "2022-05-16T19:53:25.826Z"
   },
   {
    "duration": 61,
    "start_time": "2022-05-16T19:54:27.066Z"
   },
   {
    "duration": 3,
    "start_time": "2022-05-16T19:59:00.987Z"
   },
   {
    "duration": 112041,
    "start_time": "2022-05-16T19:59:02.307Z"
   },
   {
    "duration": 70,
    "start_time": "2022-05-16T20:00:54.350Z"
   },
   {
    "duration": 24,
    "start_time": "2022-05-16T20:02:45.303Z"
   },
   {
    "duration": 4,
    "start_time": "2022-05-16T20:02:48.614Z"
   },
   {
    "duration": 18,
    "start_time": "2022-05-16T20:03:24.296Z"
   },
   {
    "duration": 314,
    "start_time": "2022-05-16T20:04:44.167Z"
   },
   {
    "duration": 491245,
    "start_time": "2022-05-16T20:05:01.222Z"
   },
   {
    "duration": 150,
    "start_time": "2022-05-16T20:13:12.469Z"
   },
   {
    "duration": 12,
    "start_time": "2022-05-16T20:13:12.621Z"
   },
   {
    "duration": 1114009,
    "start_time": "2022-05-16T20:13:20.712Z"
   },
   {
    "duration": 47,
    "start_time": "2022-05-16T20:31:54.724Z"
   },
   {
    "duration": 5,
    "start_time": "2022-05-16T20:39:17.623Z"
   },
   {
    "duration": 3,
    "start_time": "2022-05-16T20:41:43.543Z"
   },
   {
    "duration": 17,
    "start_time": "2022-05-16T20:41:44.431Z"
   },
   {
    "duration": 4,
    "start_time": "2022-05-16T20:41:51.422Z"
   },
   {
    "duration": 3,
    "start_time": "2022-05-16T20:41:52.104Z"
   },
   {
    "duration": 3,
    "start_time": "2022-05-16T20:41:54.016Z"
   },
   {
    "duration": 80874,
    "start_time": "2022-05-16T20:41:54.566Z"
   },
   {
    "duration": 3,
    "start_time": "2022-05-16T20:43:25.694Z"
   },
   {
    "duration": 77675,
    "start_time": "2022-05-16T20:43:38.237Z"
   },
   {
    "duration": 77853,
    "start_time": "2022-05-16T20:47:34.446Z"
   },
   {
    "duration": 4,
    "start_time": "2022-05-16T20:52:46.040Z"
   },
   {
    "duration": 3,
    "start_time": "2022-05-16T20:52:47.034Z"
   },
   {
    "duration": 80271,
    "start_time": "2022-05-16T20:52:48.555Z"
   },
   {
    "duration": 1616,
    "start_time": "2022-05-16T21:00:03.767Z"
   },
   {
    "duration": 2170,
    "start_time": "2022-05-16T21:01:27.075Z"
   },
   {
    "duration": 3,
    "start_time": "2022-05-16T21:01:48.842Z"
   },
   {
    "duration": 4,
    "start_time": "2022-05-16T21:03:42.952Z"
   },
   {
    "duration": 4,
    "start_time": "2022-05-16T21:04:02.325Z"
   },
   {
    "duration": 4,
    "start_time": "2022-05-16T21:11:02.092Z"
   },
   {
    "duration": 141,
    "start_time": "2022-05-16T21:11:03.146Z"
   },
   {
    "duration": 2437,
    "start_time": "2022-05-16T21:11:05.481Z"
   },
   {
    "duration": 4,
    "start_time": "2022-05-16T21:11:08.904Z"
   },
   {
    "duration": 32,
    "start_time": "2022-05-16T21:11:10.993Z"
   },
   {
    "duration": 6,
    "start_time": "2022-05-16T21:11:13.186Z"
   },
   {
    "duration": 78,
    "start_time": "2022-05-16T21:11:16.227Z"
   },
   {
    "duration": 4,
    "start_time": "2022-05-16T21:11:19.339Z"
   },
   {
    "duration": 3,
    "start_time": "2022-05-16T21:11:20.183Z"
   },
   {
    "duration": 85172,
    "start_time": "2022-05-16T21:11:29.673Z"
   },
   {
    "duration": 52,
    "start_time": "2022-05-16T21:12:54.847Z"
   },
   {
    "duration": 8,
    "start_time": "2022-05-16T21:12:54.900Z"
   },
   {
    "duration": 93,
    "start_time": "2022-05-16T21:12:54.910Z"
   },
   {
    "duration": 3,
    "start_time": "2022-05-16T21:12:55.005Z"
   },
   {
    "duration": 52,
    "start_time": "2022-05-16T21:12:55.010Z"
   },
   {
    "duration": 7,
    "start_time": "2022-05-16T21:12:55.064Z"
   },
   {
    "duration": 353,
    "start_time": "2022-05-16T21:12:55.073Z"
   },
   {
    "duration": 4,
    "start_time": "2022-05-16T21:12:55.428Z"
   },
   {
    "duration": 4538,
    "start_time": "2022-05-16T21:12:55.434Z"
   },
   {
    "duration": 2,
    "start_time": "2022-05-16T21:12:59.974Z"
   },
   {
    "duration": 1813,
    "start_time": "2022-05-16T21:13:43.071Z"
   },
   {
    "duration": 1557,
    "start_time": "2022-05-16T21:14:14.340Z"
   },
   {
    "duration": 529,
    "start_time": "2022-05-16T21:14:27.198Z"
   },
   {
    "duration": 4,
    "start_time": "2022-05-16T21:14:34.829Z"
   },
   {
    "duration": 4,
    "start_time": "2022-05-16T21:16:32.516Z"
   },
   {
    "duration": 3,
    "start_time": "2022-05-16T21:16:46.526Z"
   },
   {
    "duration": 4,
    "start_time": "2022-05-16T21:17:49.771Z"
   },
   {
    "duration": 21,
    "start_time": "2022-05-16T21:19:12.899Z"
   },
   {
    "duration": 5,
    "start_time": "2022-05-16T21:19:14.024Z"
   },
   {
    "duration": 23629,
    "start_time": "2022-05-16T21:19:17.833Z"
   },
   {
    "duration": 14,
    "start_time": "2022-05-16T21:19:58.587Z"
   },
   {
    "duration": 4,
    "start_time": "2022-05-16T21:20:51.672Z"
   },
   {
    "duration": 4,
    "start_time": "2022-05-16T21:21:14.573Z"
   },
   {
    "duration": 3,
    "start_time": "2022-05-16T21:21:23.967Z"
   },
   {
    "duration": 5,
    "start_time": "2022-05-16T21:22:34.417Z"
   },
   {
    "duration": 7139,
    "start_time": "2022-05-16T21:22:35.153Z"
   },
   {
    "duration": 5,
    "start_time": "2022-05-16T21:22:50.766Z"
   },
   {
    "duration": 24354,
    "start_time": "2022-05-16T21:22:51.549Z"
   },
   {
    "duration": 6,
    "start_time": "2022-05-16T21:24:02.168Z"
   },
   {
    "duration": 4,
    "start_time": "2022-05-16T21:24:14.486Z"
   },
   {
    "duration": 4,
    "start_time": "2022-05-16T21:28:55.010Z"
   },
   {
    "duration": 4,
    "start_time": "2022-05-16T21:28:57.399Z"
   },
   {
    "duration": 1165,
    "start_time": "2022-05-16T21:29:07.188Z"
   },
   {
    "duration": 4,
    "start_time": "2022-05-16T21:29:10.510Z"
   },
   {
    "duration": 4,
    "start_time": "2022-05-16T21:29:14.472Z"
   },
   {
    "duration": 625,
    "start_time": "2022-05-16T21:29:31.064Z"
   },
   {
    "duration": 4,
    "start_time": "2022-05-16T21:29:35.600Z"
   },
   {
    "duration": 4,
    "start_time": "2022-05-16T21:30:05.017Z"
   },
   {
    "duration": 592,
    "start_time": "2022-05-16T21:36:08.227Z"
   },
   {
    "duration": 4,
    "start_time": "2022-05-16T21:36:17.481Z"
   },
   {
    "duration": 547,
    "start_time": "2022-05-16T21:36:38.657Z"
   },
   {
    "duration": 15,
    "start_time": "2022-05-16T21:36:40.914Z"
   },
   {
    "duration": 4318,
    "start_time": "2022-05-16T21:37:47.914Z"
   },
   {
    "duration": 1102,
    "start_time": "2022-05-16T21:37:53.395Z"
   },
   {
    "duration": 772,
    "start_time": "2022-05-16T21:37:55.332Z"
   },
   {
    "duration": 20,
    "start_time": "2022-05-16T21:37:57.312Z"
   },
   {
    "duration": 18,
    "start_time": "2022-05-16T21:38:09.025Z"
   },
   {
    "duration": 214,
    "start_time": "2022-05-16T21:38:21.176Z"
   },
   {
    "duration": 6085,
    "start_time": "2022-05-16T21:39:24.894Z"
   },
   {
    "duration": 6048,
    "start_time": "2022-05-16T21:39:35.540Z"
   },
   {
    "duration": 202,
    "start_time": "2022-05-16T21:42:08.992Z"
   },
   {
    "duration": 165,
    "start_time": "2022-05-16T21:43:15.662Z"
   },
   {
    "duration": 15382,
    "start_time": "2022-05-16T21:43:31.405Z"
   },
   {
    "duration": 143,
    "start_time": "2022-05-16T21:44:44.033Z"
   },
   {
    "duration": 6481,
    "start_time": "2022-05-16T21:47:03.239Z"
   },
   {
    "duration": 6277,
    "start_time": "2022-05-16T21:47:20.246Z"
   },
   {
    "duration": 6248,
    "start_time": "2022-05-16T21:47:32.028Z"
   },
   {
    "duration": 10022,
    "start_time": "2022-05-16T21:49:57.463Z"
   },
   {
    "duration": 9676,
    "start_time": "2022-05-16T21:50:22.733Z"
   },
   {
    "duration": 17057,
    "start_time": "2022-05-16T21:52:29.237Z"
   },
   {
    "duration": 20170,
    "start_time": "2022-05-16T21:52:54.302Z"
   },
   {
    "duration": 43979,
    "start_time": "2022-05-16T21:53:39.197Z"
   },
   {
    "duration": 9182,
    "start_time": "2022-05-16T21:54:33.796Z"
   },
   {
    "duration": 63276,
    "start_time": "2022-05-16T21:57:40.998Z"
   },
   {
    "duration": 12,
    "start_time": "2022-05-16T21:58:44.275Z"
   },
   {
    "duration": 11,
    "start_time": "2022-05-16T22:01:18.229Z"
   },
   {
    "duration": 3,
    "start_time": "2022-05-16T22:01:49.771Z"
   },
   {
    "duration": 92,
    "start_time": "2022-05-16T22:01:51.814Z"
   },
   {
    "duration": 61035,
    "start_time": "2022-05-16T22:08:48.839Z"
   },
   {
    "duration": 63041,
    "start_time": "2022-05-16T22:12:39.850Z"
   },
   {
    "duration": 8943,
    "start_time": "2022-05-16T22:13:54.490Z"
   },
   {
    "duration": 111,
    "start_time": "2022-05-16T22:14:36.848Z"
   },
   {
    "duration": 124,
    "start_time": "2022-05-16T22:14:53.535Z"
   },
   {
    "duration": 112,
    "start_time": "2022-05-16T22:15:18.499Z"
   },
   {
    "duration": 108,
    "start_time": "2022-05-16T22:16:18.666Z"
   },
   {
    "duration": 296,
    "start_time": "2022-05-16T22:16:26.978Z"
   },
   {
    "duration": 282,
    "start_time": "2022-05-16T22:16:39.191Z"
   },
   {
    "duration": 323,
    "start_time": "2022-05-16T22:16:49.271Z"
   },
   {
    "duration": 242,
    "start_time": "2022-05-16T22:17:10.112Z"
   },
   {
    "duration": 156,
    "start_time": "2022-05-16T22:17:22.364Z"
   },
   {
    "duration": 105,
    "start_time": "2022-05-16T22:17:28.873Z"
   },
   {
    "duration": 104,
    "start_time": "2022-05-16T22:17:58.635Z"
   },
   {
    "duration": 104,
    "start_time": "2022-05-16T22:18:18.204Z"
   },
   {
    "duration": 116,
    "start_time": "2022-05-16T22:18:36.464Z"
   },
   {
    "duration": 116,
    "start_time": "2022-05-16T22:19:01.999Z"
   },
   {
    "duration": 112,
    "start_time": "2022-05-16T22:19:17.951Z"
   },
   {
    "duration": 112,
    "start_time": "2022-05-16T22:19:23.215Z"
   },
   {
    "duration": 114,
    "start_time": "2022-05-16T22:19:26.184Z"
   },
   {
    "duration": 107,
    "start_time": "2022-05-16T22:19:30.736Z"
   },
   {
    "duration": 12,
    "start_time": "2022-05-16T22:23:36.730Z"
   },
   {
    "duration": 174,
    "start_time": "2022-05-16T22:23:41.336Z"
   },
   {
    "duration": 13,
    "start_time": "2022-05-16T22:25:03.709Z"
   },
   {
    "duration": 17,
    "start_time": "2022-05-16T22:25:31.061Z"
   },
   {
    "duration": 15,
    "start_time": "2022-05-16T22:25:56.869Z"
   },
   {
    "duration": 269,
    "start_time": "2022-05-16T22:26:19.821Z"
   },
   {
    "duration": 17,
    "start_time": "2022-05-16T22:26:45.829Z"
   },
   {
    "duration": 19,
    "start_time": "2022-05-16T22:26:59.748Z"
   },
   {
    "duration": 396,
    "start_time": "2022-05-16T22:27:14.964Z"
   },
   {
    "duration": 383,
    "start_time": "2022-05-16T22:27:30.111Z"
   },
   {
    "duration": 552,
    "start_time": "2022-05-16T22:27:45.238Z"
   },
   {
    "duration": 395,
    "start_time": "2022-05-16T22:28:00.272Z"
   },
   {
    "duration": 374,
    "start_time": "2022-05-16T22:28:37.734Z"
   },
   {
    "duration": 300,
    "start_time": "2022-05-16T22:29:04.247Z"
   },
   {
    "duration": 203,
    "start_time": "2022-05-16T22:30:48.837Z"
   },
   {
    "duration": 107,
    "start_time": "2022-05-16T22:30:57.594Z"
   },
   {
    "duration": 329,
    "start_time": "2022-05-16T22:31:08.818Z"
   },
   {
    "duration": 206,
    "start_time": "2022-05-16T22:31:59.730Z"
   },
   {
    "duration": 5,
    "start_time": "2022-05-16T22:34:41.712Z"
   },
   {
    "duration": 339565,
    "start_time": "2022-05-16T22:34:45.794Z"
   },
   {
    "duration": 184,
    "start_time": "2022-05-16T22:40:25.361Z"
   },
   {
    "duration": 4655,
    "start_time": "2022-05-16T22:42:48.578Z"
   },
   {
    "duration": 177,
    "start_time": "2022-05-16T22:42:53.235Z"
   },
   {
    "duration": 710,
    "start_time": "2022-05-16T22:42:53.414Z"
   },
   {
    "duration": 5,
    "start_time": "2022-05-16T22:42:54.125Z"
   },
   {
    "duration": 46,
    "start_time": "2022-05-16T22:42:54.132Z"
   },
   {
    "duration": 6,
    "start_time": "2022-05-16T22:42:54.180Z"
   },
   {
    "duration": 97,
    "start_time": "2022-05-16T22:42:54.188Z"
   },
   {
    "duration": 3,
    "start_time": "2022-05-16T22:42:54.287Z"
   },
   {
    "duration": 4,
    "start_time": "2022-05-16T22:42:54.292Z"
   },
   {
    "duration": 85983,
    "start_time": "2022-05-16T22:42:54.298Z"
   },
   {
    "duration": 7,
    "start_time": "2022-05-16T22:44:20.283Z"
   },
   {
    "duration": 30,
    "start_time": "2022-05-16T22:44:20.292Z"
   },
   {
    "duration": 9,
    "start_time": "2022-05-16T22:44:20.323Z"
   },
   {
    "duration": 74,
    "start_time": "2022-05-16T22:44:20.362Z"
   },
   {
    "duration": 4,
    "start_time": "2022-05-16T22:44:20.438Z"
   },
   {
    "duration": 57,
    "start_time": "2022-05-16T22:44:20.443Z"
   },
   {
    "duration": 6,
    "start_time": "2022-05-16T22:44:20.502Z"
   },
   {
    "duration": 83,
    "start_time": "2022-05-16T22:44:20.510Z"
   },
   {
    "duration": 2,
    "start_time": "2022-05-16T22:44:20.595Z"
   },
   {
    "duration": 4418,
    "start_time": "2022-05-16T22:44:20.599Z"
   },
   {
    "duration": 3,
    "start_time": "2022-05-16T22:44:25.019Z"
   },
   {
    "duration": 6,
    "start_time": "2022-05-16T22:44:25.024Z"
   },
   {
    "duration": 11,
    "start_time": "2022-05-16T22:44:25.031Z"
   },
   {
    "duration": 18,
    "start_time": "2022-05-16T22:44:25.044Z"
   },
   {
    "duration": 18839,
    "start_time": "2022-05-16T22:44:25.063Z"
   },
   {
    "duration": 3,
    "start_time": "2022-05-16T22:44:43.904Z"
   },
   {
    "duration": 9,
    "start_time": "2022-05-16T22:44:43.909Z"
   },
   {
    "duration": 108707,
    "start_time": "2022-05-16T22:44:43.919Z"
   },
   {
    "duration": 69,
    "start_time": "2022-05-16T22:46:32.627Z"
   },
   {
    "duration": 51,
    "start_time": "2022-05-16T22:46:32.698Z"
   },
   {
    "duration": 5,
    "start_time": "2022-05-16T22:46:32.750Z"
   },
   {
    "duration": 474473,
    "start_time": "2022-05-16T22:46:32.757Z"
   },
   {
    "duration": 1012607,
    "start_time": "2022-05-16T22:54:27.232Z"
   },
   {
    "duration": 26,
    "start_time": "2022-05-16T23:11:19.840Z"
   },
   {
    "duration": 4,
    "start_time": "2022-05-16T23:11:19.867Z"
   },
   {
    "duration": 8,
    "start_time": "2022-05-16T23:11:19.872Z"
   },
   {
    "duration": 6,
    "start_time": "2022-05-16T23:11:19.882Z"
   },
   {
    "duration": 66940,
    "start_time": "2022-05-16T23:11:19.890Z"
   },
   {
    "duration": 59990,
    "start_time": "2022-05-16T23:12:26.832Z"
   },
   {
    "duration": 3,
    "start_time": "2022-05-16T23:13:26.824Z"
   },
   {
    "duration": 6,
    "start_time": "2022-05-16T23:13:26.831Z"
   },
   {
    "duration": 6109,
    "start_time": "2022-05-16T23:13:26.838Z"
   },
   {
    "duration": 115,
    "start_time": "2022-05-16T23:13:32.948Z"
   },
   {
    "duration": 0,
    "start_time": "2022-05-16T23:13:33.065Z"
   },
   {
    "duration": 0,
    "start_time": "2022-05-16T23:13:33.066Z"
   },
   {
    "duration": 0,
    "start_time": "2022-05-16T23:13:33.068Z"
   },
   {
    "duration": 0,
    "start_time": "2022-05-16T23:13:33.069Z"
   },
   {
    "duration": 0,
    "start_time": "2022-05-16T23:13:33.071Z"
   },
   {
    "duration": 0,
    "start_time": "2022-05-16T23:13:33.073Z"
   },
   {
    "duration": 0,
    "start_time": "2022-05-16T23:13:33.074Z"
   },
   {
    "duration": 0,
    "start_time": "2022-05-16T23:13:33.075Z"
   },
   {
    "duration": 0,
    "start_time": "2022-05-16T23:13:33.076Z"
   },
   {
    "duration": 0,
    "start_time": "2022-05-16T23:13:33.078Z"
   },
   {
    "duration": 0,
    "start_time": "2022-05-16T23:13:33.079Z"
   },
   {
    "duration": 0,
    "start_time": "2022-05-16T23:13:33.080Z"
   },
   {
    "duration": 0,
    "start_time": "2022-05-16T23:13:33.082Z"
   },
   {
    "duration": 0,
    "start_time": "2022-05-16T23:13:33.083Z"
   },
   {
    "duration": 0,
    "start_time": "2022-05-16T23:13:33.085Z"
   },
   {
    "duration": 0,
    "start_time": "2022-05-16T23:13:33.086Z"
   },
   {
    "duration": 0,
    "start_time": "2022-05-16T23:13:33.088Z"
   },
   {
    "duration": 0,
    "start_time": "2022-05-16T23:13:33.089Z"
   },
   {
    "duration": 0,
    "start_time": "2022-05-16T23:13:33.090Z"
   },
   {
    "duration": 0,
    "start_time": "2022-05-16T23:13:33.092Z"
   },
   {
    "duration": 0,
    "start_time": "2022-05-16T23:13:33.093Z"
   },
   {
    "duration": 0,
    "start_time": "2022-05-16T23:13:33.094Z"
   },
   {
    "duration": 0,
    "start_time": "2022-05-16T23:13:33.096Z"
   },
   {
    "duration": 0,
    "start_time": "2022-05-16T23:13:33.097Z"
   },
   {
    "duration": 13,
    "start_time": "2022-05-16T23:23:20.772Z"
   },
   {
    "duration": 4,
    "start_time": "2022-05-16T23:28:06.793Z"
   },
   {
    "duration": 5,
    "start_time": "2022-05-16T23:28:12.582Z"
   },
   {
    "duration": 18387,
    "start_time": "2022-05-16T23:28:17.056Z"
   },
   {
    "duration": 3,
    "start_time": "2022-05-16T23:28:56.682Z"
   },
   {
    "duration": 4,
    "start_time": "2022-05-16T23:29:07.324Z"
   },
   {
    "duration": 4,
    "start_time": "2022-05-16T23:29:07.875Z"
   },
   {
    "duration": 2,
    "start_time": "2022-05-16T23:29:08.442Z"
   },
   {
    "duration": 17148,
    "start_time": "2022-05-16T23:29:13.553Z"
   },
   {
    "duration": 4243,
    "start_time": "2022-05-17T15:09:45.279Z"
   },
   {
    "duration": 155,
    "start_time": "2022-05-17T15:09:49.524Z"
   },
   {
    "duration": 740,
    "start_time": "2022-05-17T15:09:49.681Z"
   },
   {
    "duration": 5,
    "start_time": "2022-05-17T15:09:50.423Z"
   },
   {
    "duration": 45,
    "start_time": "2022-05-17T15:09:50.430Z"
   },
   {
    "duration": 5,
    "start_time": "2022-05-17T15:09:50.477Z"
   },
   {
    "duration": 102,
    "start_time": "2022-05-17T15:09:50.484Z"
   },
   {
    "duration": 4,
    "start_time": "2022-05-17T15:09:50.587Z"
   },
   {
    "duration": 7,
    "start_time": "2022-05-17T15:09:50.592Z"
   },
   {
    "duration": 90341,
    "start_time": "2022-05-17T15:09:50.602Z"
   },
   {
    "duration": 4,
    "start_time": "2022-05-17T15:11:20.945Z"
   },
   {
    "duration": 27,
    "start_time": "2022-05-17T15:11:20.963Z"
   },
   {
    "duration": 7,
    "start_time": "2022-05-17T15:11:20.992Z"
   },
   {
    "duration": 87,
    "start_time": "2022-05-17T15:11:21.000Z"
   },
   {
    "duration": 4,
    "start_time": "2022-05-17T15:11:21.088Z"
   },
   {
    "duration": 44,
    "start_time": "2022-05-17T15:11:21.093Z"
   },
   {
    "duration": 25,
    "start_time": "2022-05-17T15:11:21.139Z"
   },
   {
    "duration": 70,
    "start_time": "2022-05-17T15:11:21.166Z"
   },
   {
    "duration": 3,
    "start_time": "2022-05-17T15:11:21.237Z"
   },
   {
    "duration": 4491,
    "start_time": "2022-05-17T15:11:21.241Z"
   },
   {
    "duration": 4,
    "start_time": "2022-05-17T15:11:25.733Z"
   },
   {
    "duration": 11,
    "start_time": "2022-05-17T15:11:25.738Z"
   },
   {
    "duration": 16,
    "start_time": "2022-05-17T15:11:25.750Z"
   },
   {
    "duration": 6,
    "start_time": "2022-05-17T15:11:25.768Z"
   },
   {
    "duration": 28438,
    "start_time": "2022-05-17T15:11:25.775Z"
   },
   {
    "duration": 4,
    "start_time": "2022-05-17T15:11:54.214Z"
   },
   {
    "duration": 3,
    "start_time": "2022-05-17T15:11:54.263Z"
   },
   {
    "duration": 50496,
    "start_time": "2022-05-17T15:11:54.270Z"
   },
   {
    "duration": 70,
    "start_time": "2022-05-17T15:12:44.768Z"
   },
   {
    "duration": 33,
    "start_time": "2022-05-17T15:12:44.839Z"
   },
   {
    "duration": 4,
    "start_time": "2022-05-17T15:12:44.874Z"
   },
   {
    "duration": 13664,
    "start_time": "2022-05-17T15:12:44.880Z"
   },
   {
    "duration": 92587,
    "start_time": "2022-05-17T15:12:58.546Z"
   },
   {
    "duration": 34,
    "start_time": "2022-05-17T15:14:31.136Z"
   },
   {
    "duration": 10,
    "start_time": "2022-05-17T15:14:31.172Z"
   },
   {
    "duration": 18,
    "start_time": "2022-05-17T15:14:31.184Z"
   },
   {
    "duration": 35,
    "start_time": "2022-05-17T15:14:31.204Z"
   },
   {
    "duration": 17,
    "start_time": "2022-05-17T15:14:31.240Z"
   },
   {
    "duration": 83865,
    "start_time": "2022-05-17T15:14:31.259Z"
   },
   {
    "duration": 65245,
    "start_time": "2022-05-17T15:15:55.125Z"
   },
   {
    "duration": 4,
    "start_time": "2022-05-17T15:17:00.371Z"
   },
   {
    "duration": 6,
    "start_time": "2022-05-17T15:17:00.378Z"
   },
   {
    "duration": 8121,
    "start_time": "2022-05-17T15:17:00.385Z"
   },
   {
    "duration": 135,
    "start_time": "2022-05-17T15:17:08.508Z"
   },
   {
    "duration": 0,
    "start_time": "2022-05-17T15:17:08.644Z"
   },
   {
    "duration": 0,
    "start_time": "2022-05-17T15:17:08.646Z"
   },
   {
    "duration": 0,
    "start_time": "2022-05-17T15:17:08.647Z"
   },
   {
    "duration": 0,
    "start_time": "2022-05-17T15:17:08.648Z"
   },
   {
    "duration": 0,
    "start_time": "2022-05-17T15:17:08.649Z"
   },
   {
    "duration": 0,
    "start_time": "2022-05-17T15:17:08.664Z"
   },
   {
    "duration": 0,
    "start_time": "2022-05-17T15:17:08.665Z"
   },
   {
    "duration": 0,
    "start_time": "2022-05-17T15:17:08.666Z"
   },
   {
    "duration": 0,
    "start_time": "2022-05-17T15:17:08.667Z"
   },
   {
    "duration": 0,
    "start_time": "2022-05-17T15:17:08.668Z"
   },
   {
    "duration": 0,
    "start_time": "2022-05-17T15:17:08.670Z"
   },
   {
    "duration": 0,
    "start_time": "2022-05-17T15:17:08.671Z"
   },
   {
    "duration": 0,
    "start_time": "2022-05-17T15:17:08.672Z"
   },
   {
    "duration": 0,
    "start_time": "2022-05-17T15:17:08.674Z"
   },
   {
    "duration": 0,
    "start_time": "2022-05-17T15:17:08.675Z"
   },
   {
    "duration": 0,
    "start_time": "2022-05-17T15:17:08.676Z"
   },
   {
    "duration": 0,
    "start_time": "2022-05-17T15:17:08.678Z"
   },
   {
    "duration": 0,
    "start_time": "2022-05-17T15:17:08.679Z"
   },
   {
    "duration": 0,
    "start_time": "2022-05-17T15:17:08.681Z"
   },
   {
    "duration": 0,
    "start_time": "2022-05-17T15:17:08.682Z"
   },
   {
    "duration": 0,
    "start_time": "2022-05-17T15:17:08.683Z"
   },
   {
    "duration": 0,
    "start_time": "2022-05-17T15:17:08.685Z"
   },
   {
    "duration": 0,
    "start_time": "2022-05-17T15:17:08.686Z"
   },
   {
    "duration": 0,
    "start_time": "2022-05-17T15:17:08.687Z"
   },
   {
    "duration": 59427,
    "start_time": "2022-05-17T15:18:20.981Z"
   },
   {
    "duration": 74266,
    "start_time": "2022-05-17T15:23:36.658Z"
   },
   {
    "duration": 3,
    "start_time": "2022-05-17T15:24:50.926Z"
   },
   {
    "duration": 7170,
    "start_time": "2022-05-17T15:24:50.930Z"
   },
   {
    "duration": 151,
    "start_time": "2022-05-17T15:24:58.103Z"
   },
   {
    "duration": 247,
    "start_time": "2022-05-17T15:24:58.255Z"
   },
   {
    "duration": 14297,
    "start_time": "2022-05-17T15:26:10.968Z"
   },
   {
    "duration": 7333,
    "start_time": "2022-05-17T15:26:46.688Z"
   },
   {
    "duration": 5978,
    "start_time": "2022-05-17T15:27:41.409Z"
   },
   {
    "duration": 3550,
    "start_time": "2022-05-17T15:28:32.525Z"
   },
   {
    "duration": 155,
    "start_time": "2022-05-17T15:28:36.077Z"
   },
   {
    "duration": 695,
    "start_time": "2022-05-17T15:28:36.234Z"
   },
   {
    "duration": 5,
    "start_time": "2022-05-17T15:28:36.931Z"
   },
   {
    "duration": 9,
    "start_time": "2022-05-17T15:28:36.938Z"
   },
   {
    "duration": 5,
    "start_time": "2022-05-17T15:28:36.949Z"
   },
   {
    "duration": 85,
    "start_time": "2022-05-17T15:28:36.964Z"
   },
   {
    "duration": 4,
    "start_time": "2022-05-17T15:28:37.064Z"
   },
   {
    "duration": 6,
    "start_time": "2022-05-17T15:28:37.069Z"
   },
   {
    "duration": 131977,
    "start_time": "2022-05-17T15:28:37.077Z"
   },
   {
    "duration": 4,
    "start_time": "2022-05-17T15:30:49.064Z"
   },
   {
    "duration": 40,
    "start_time": "2022-05-17T15:30:49.070Z"
   },
   {
    "duration": 7,
    "start_time": "2022-05-17T15:30:49.112Z"
   },
   {
    "duration": 92,
    "start_time": "2022-05-17T15:30:49.121Z"
   },
   {
    "duration": 3,
    "start_time": "2022-05-17T15:30:49.215Z"
   },
   {
    "duration": 69,
    "start_time": "2022-05-17T15:30:49.219Z"
   },
   {
    "duration": 8,
    "start_time": "2022-05-17T15:30:49.290Z"
   },
   {
    "duration": 80,
    "start_time": "2022-05-17T15:30:49.299Z"
   },
   {
    "duration": 2,
    "start_time": "2022-05-17T15:30:49.381Z"
   },
   {
    "duration": 6914,
    "start_time": "2022-05-17T15:30:49.384Z"
   },
   {
    "duration": 4,
    "start_time": "2022-05-17T15:30:56.300Z"
   },
   {
    "duration": 7,
    "start_time": "2022-05-17T15:30:56.305Z"
   },
   {
    "duration": 6,
    "start_time": "2022-05-17T15:30:56.314Z"
   },
   {
    "duration": 7,
    "start_time": "2022-05-17T15:30:56.321Z"
   },
   {
    "duration": 20080,
    "start_time": "2022-05-17T15:30:56.329Z"
   },
   {
    "duration": 4,
    "start_time": "2022-05-17T15:31:16.410Z"
   },
   {
    "duration": 15,
    "start_time": "2022-05-17T15:31:16.416Z"
   },
   {
    "duration": 50380,
    "start_time": "2022-05-17T15:31:16.435Z"
   },
   {
    "duration": 90,
    "start_time": "2022-05-17T15:32:06.817Z"
   },
   {
    "duration": 20,
    "start_time": "2022-05-17T15:32:06.909Z"
   },
   {
    "duration": 5,
    "start_time": "2022-05-17T15:32:06.930Z"
   },
   {
    "duration": 12645,
    "start_time": "2022-05-17T15:32:06.936Z"
   },
   {
    "duration": 77814,
    "start_time": "2022-05-17T15:32:19.583Z"
   },
   {
    "duration": 20,
    "start_time": "2022-05-17T15:33:37.399Z"
   },
   {
    "duration": 3,
    "start_time": "2022-05-17T15:33:37.421Z"
   },
   {
    "duration": 7,
    "start_time": "2022-05-17T15:33:37.426Z"
   },
   {
    "duration": 6,
    "start_time": "2022-05-17T15:33:37.435Z"
   },
   {
    "duration": 5,
    "start_time": "2022-05-17T15:33:37.443Z"
   },
   {
    "duration": 73215,
    "start_time": "2022-05-17T15:33:37.450Z"
   },
   {
    "duration": 10017,
    "start_time": "2022-05-17T15:34:50.667Z"
   },
   {
    "duration": 3,
    "start_time": "2022-05-17T15:35:00.687Z"
   },
   {
    "duration": 14,
    "start_time": "2022-05-17T15:35:00.692Z"
   },
   {
    "duration": 10763,
    "start_time": "2022-05-17T15:35:00.707Z"
   },
   {
    "duration": 109,
    "start_time": "2022-05-17T15:35:11.472Z"
   },
   {
    "duration": 199,
    "start_time": "2022-05-17T15:35:11.582Z"
   },
   {
    "duration": 188,
    "start_time": "2022-05-17T15:35:11.783Z"
   },
   {
    "duration": 0,
    "start_time": "2022-05-17T15:35:11.973Z"
   },
   {
    "duration": 0,
    "start_time": "2022-05-17T15:35:11.974Z"
   },
   {
    "duration": 0,
    "start_time": "2022-05-17T15:35:11.975Z"
   },
   {
    "duration": 0,
    "start_time": "2022-05-17T15:35:11.976Z"
   },
   {
    "duration": 0,
    "start_time": "2022-05-17T15:35:11.976Z"
   },
   {
    "duration": 0,
    "start_time": "2022-05-17T15:35:11.977Z"
   },
   {
    "duration": 0,
    "start_time": "2022-05-17T15:35:11.978Z"
   },
   {
    "duration": 0,
    "start_time": "2022-05-17T15:35:11.979Z"
   },
   {
    "duration": 0,
    "start_time": "2022-05-17T15:35:11.980Z"
   },
   {
    "duration": 0,
    "start_time": "2022-05-17T15:35:11.981Z"
   },
   {
    "duration": 0,
    "start_time": "2022-05-17T15:35:11.982Z"
   },
   {
    "duration": 0,
    "start_time": "2022-05-17T15:35:11.983Z"
   },
   {
    "duration": 0,
    "start_time": "2022-05-17T15:35:11.984Z"
   },
   {
    "duration": 0,
    "start_time": "2022-05-17T15:35:11.985Z"
   },
   {
    "duration": 0,
    "start_time": "2022-05-17T15:35:11.985Z"
   },
   {
    "duration": 0,
    "start_time": "2022-05-17T15:35:11.986Z"
   },
   {
    "duration": 0,
    "start_time": "2022-05-17T15:35:11.988Z"
   },
   {
    "duration": 0,
    "start_time": "2022-05-17T15:35:11.989Z"
   },
   {
    "duration": 0,
    "start_time": "2022-05-17T15:35:11.990Z"
   },
   {
    "duration": 0,
    "start_time": "2022-05-17T15:35:11.991Z"
   },
   {
    "duration": 0,
    "start_time": "2022-05-17T15:35:11.992Z"
   },
   {
    "duration": 0,
    "start_time": "2022-05-17T15:35:11.993Z"
   },
   {
    "duration": 5,
    "start_time": "2022-05-17T15:40:06.544Z"
   },
   {
    "duration": 63470,
    "start_time": "2022-05-17T15:40:33.762Z"
   },
   {
    "duration": 170589,
    "start_time": "2022-05-17T16:02:02.608Z"
   },
   {
    "duration": 214,
    "start_time": "2022-05-17T16:04:53.199Z"
   },
   {
    "duration": 215,
    "start_time": "2022-05-17T16:11:33.529Z"
   },
   {
    "duration": 211,
    "start_time": "2022-05-17T16:11:43.813Z"
   },
   {
    "duration": 206,
    "start_time": "2022-05-17T16:12:07.453Z"
   },
   {
    "duration": 201,
    "start_time": "2022-05-17T16:12:17.330Z"
   },
   {
    "duration": 10621,
    "start_time": "2022-05-17T16:12:28.274Z"
   },
   {
    "duration": 13,
    "start_time": "2022-05-17T16:20:48.954Z"
   },
   {
    "duration": 237,
    "start_time": "2022-05-17T16:20:54.814Z"
   },
   {
    "duration": 212,
    "start_time": "2022-05-17T16:21:11.982Z"
   },
   {
    "duration": 3,
    "start_time": "2022-05-17T16:28:49.247Z"
   },
   {
    "duration": 228,
    "start_time": "2022-05-17T16:28:49.887Z"
   },
   {
    "duration": 3,
    "start_time": "2022-05-17T16:29:36.000Z"
   },
   {
    "duration": 4747,
    "start_time": "2022-05-22T15:27:03.971Z"
   },
   {
    "duration": 122,
    "start_time": "2022-05-22T15:27:08.721Z"
   },
   {
    "duration": 2184,
    "start_time": "2022-05-22T15:27:08.845Z"
   },
   {
    "duration": 235,
    "start_time": "2022-05-22T15:27:11.031Z"
   },
   {
    "duration": 10,
    "start_time": "2022-05-22T15:27:11.267Z"
   },
   {
    "duration": 8,
    "start_time": "2022-05-22T15:27:11.278Z"
   },
   {
    "duration": 138,
    "start_time": "2022-05-22T15:27:11.288Z"
   },
   {
    "duration": 5,
    "start_time": "2022-05-22T15:27:11.428Z"
   },
   {
    "duration": 8,
    "start_time": "2022-05-22T15:27:11.435Z"
   },
   {
    "duration": 146514,
    "start_time": "2022-05-22T15:27:11.453Z"
   },
   {
    "duration": 3,
    "start_time": "2022-05-22T15:29:37.969Z"
   },
   {
    "duration": 49,
    "start_time": "2022-05-22T15:29:37.974Z"
   },
   {
    "duration": 24,
    "start_time": "2022-05-22T15:29:38.028Z"
   },
   {
    "duration": 99,
    "start_time": "2022-05-22T15:29:38.054Z"
   },
   {
    "duration": 4,
    "start_time": "2022-05-22T15:29:38.155Z"
   },
   {
    "duration": 80,
    "start_time": "2022-05-22T15:29:38.161Z"
   },
   {
    "duration": 15,
    "start_time": "2022-05-22T15:29:38.243Z"
   },
   {
    "duration": 98,
    "start_time": "2022-05-22T15:29:38.259Z"
   },
   {
    "duration": 3,
    "start_time": "2022-05-22T15:29:38.358Z"
   },
   {
    "duration": 8022,
    "start_time": "2022-05-22T15:29:38.363Z"
   },
   {
    "duration": 4,
    "start_time": "2022-05-22T15:29:46.387Z"
   },
   {
    "duration": 16,
    "start_time": "2022-05-22T15:29:46.392Z"
   },
   {
    "duration": 8,
    "start_time": "2022-05-22T15:29:46.410Z"
   },
   {
    "duration": 9,
    "start_time": "2022-05-22T15:29:46.420Z"
   },
   {
    "duration": 24049,
    "start_time": "2022-05-22T15:29:46.431Z"
   },
   {
    "duration": 4,
    "start_time": "2022-05-22T15:30:10.482Z"
   },
   {
    "duration": 13,
    "start_time": "2022-05-22T15:30:10.488Z"
   },
   {
    "duration": 96139,
    "start_time": "2022-05-22T15:30:10.504Z"
   },
   {
    "duration": 132,
    "start_time": "2022-05-22T15:31:46.645Z"
   },
   {
    "duration": 31,
    "start_time": "2022-05-22T15:31:46.779Z"
   },
   {
    "duration": 5,
    "start_time": "2022-05-22T15:31:46.812Z"
   },
   {
    "duration": 10976,
    "start_time": "2022-05-22T15:31:46.819Z"
   },
   {
    "duration": 93480,
    "start_time": "2022-05-22T15:31:57.797Z"
   },
   {
    "duration": 26,
    "start_time": "2022-05-22T15:33:31.279Z"
   },
   {
    "duration": 4,
    "start_time": "2022-05-22T15:33:31.307Z"
   },
   {
    "duration": 7,
    "start_time": "2022-05-22T15:33:31.313Z"
   },
   {
    "duration": 32,
    "start_time": "2022-05-22T15:33:31.322Z"
   },
   {
    "duration": 11,
    "start_time": "2022-05-22T15:33:31.356Z"
   },
   {
    "duration": 76014,
    "start_time": "2022-05-22T15:33:31.369Z"
   },
   {
    "duration": 11870,
    "start_time": "2022-05-22T15:34:47.385Z"
   },
   {
    "duration": 164642,
    "start_time": "2022-05-22T15:34:59.257Z"
   },
   {
    "duration": 3,
    "start_time": "2022-05-22T15:37:43.900Z"
   },
   {
    "duration": 14927,
    "start_time": "2022-05-22T15:37:43.905Z"
   },
   {
    "duration": 27,
    "start_time": "2022-05-22T15:37:58.834Z"
   },
   {
    "duration": 0,
    "start_time": "2022-05-22T15:37:58.862Z"
   },
   {
    "duration": 0,
    "start_time": "2022-05-22T15:37:58.864Z"
   },
   {
    "duration": 0,
    "start_time": "2022-05-22T15:37:58.865Z"
   },
   {
    "duration": 0,
    "start_time": "2022-05-22T15:37:58.866Z"
   },
   {
    "duration": 0,
    "start_time": "2022-05-22T15:37:58.867Z"
   },
   {
    "duration": 0,
    "start_time": "2022-05-22T15:37:58.868Z"
   },
   {
    "duration": 0,
    "start_time": "2022-05-22T15:37:58.869Z"
   },
   {
    "duration": 0,
    "start_time": "2022-05-22T15:37:58.870Z"
   },
   {
    "duration": 0,
    "start_time": "2022-05-22T15:37:58.871Z"
   },
   {
    "duration": 0,
    "start_time": "2022-05-22T15:37:58.872Z"
   },
   {
    "duration": 0,
    "start_time": "2022-05-22T15:37:58.873Z"
   },
   {
    "duration": 0,
    "start_time": "2022-05-22T15:37:58.874Z"
   },
   {
    "duration": 0,
    "start_time": "2022-05-22T15:37:58.875Z"
   },
   {
    "duration": 0,
    "start_time": "2022-05-22T15:37:58.876Z"
   },
   {
    "duration": 0,
    "start_time": "2022-05-22T15:37:58.877Z"
   },
   {
    "duration": 0,
    "start_time": "2022-05-22T15:37:58.878Z"
   },
   {
    "duration": 0,
    "start_time": "2022-05-22T15:37:58.880Z"
   },
   {
    "duration": 0,
    "start_time": "2022-05-22T15:37:58.881Z"
   },
   {
    "duration": 0,
    "start_time": "2022-05-22T15:37:58.882Z"
   },
   {
    "duration": 28,
    "start_time": "2022-05-22T15:49:35.501Z"
   },
   {
    "duration": 162,
    "start_time": "2022-05-22T15:49:43.244Z"
   },
   {
    "duration": 2,
    "start_time": "2022-05-22T16:01:06.948Z"
   },
   {
    "duration": 3,
    "start_time": "2022-05-22T16:05:09.712Z"
   },
   {
    "duration": 4019,
    "start_time": "2022-05-22T16:32:42.519Z"
   },
   {
    "duration": 118,
    "start_time": "2022-05-22T16:32:46.540Z"
   },
   {
    "duration": 733,
    "start_time": "2022-05-22T16:32:46.660Z"
   },
   {
    "duration": 258,
    "start_time": "2022-05-22T16:32:47.395Z"
   },
   {
    "duration": 9,
    "start_time": "2022-05-22T16:32:47.655Z"
   },
   {
    "duration": 13,
    "start_time": "2022-05-22T16:32:47.667Z"
   },
   {
    "duration": 142,
    "start_time": "2022-05-22T16:32:47.682Z"
   },
   {
    "duration": 4,
    "start_time": "2022-05-22T16:32:47.826Z"
   },
   {
    "duration": 20,
    "start_time": "2022-05-22T16:32:47.832Z"
   },
   {
    "duration": 147462,
    "start_time": "2022-05-22T16:32:47.855Z"
   },
   {
    "duration": 79,
    "start_time": "2022-05-22T16:35:15.321Z"
   },
   {
    "duration": 9,
    "start_time": "2022-05-22T16:35:15.402Z"
   },
   {
    "duration": 145,
    "start_time": "2022-05-22T16:35:15.413Z"
   },
   {
    "duration": 5,
    "start_time": "2022-05-22T16:35:15.560Z"
   },
   {
    "duration": 96,
    "start_time": "2022-05-22T16:35:15.568Z"
   },
   {
    "duration": 9,
    "start_time": "2022-05-22T16:35:15.666Z"
   },
   {
    "duration": 99,
    "start_time": "2022-05-22T16:35:15.677Z"
   },
   {
    "duration": 3,
    "start_time": "2022-05-22T16:35:15.778Z"
   },
   {
    "duration": 8325,
    "start_time": "2022-05-22T16:35:15.783Z"
   },
   {
    "duration": 4,
    "start_time": "2022-05-22T16:35:24.110Z"
   },
   {
    "duration": 14,
    "start_time": "2022-05-22T16:35:24.116Z"
   },
   {
    "duration": 7,
    "start_time": "2022-05-22T16:35:24.132Z"
   },
   {
    "duration": 6,
    "start_time": "2022-05-22T16:35:24.152Z"
   },
   {
    "duration": 27430,
    "start_time": "2022-05-22T16:35:24.160Z"
   },
   {
    "duration": 3,
    "start_time": "2022-05-22T16:35:51.592Z"
   },
   {
    "duration": 10,
    "start_time": "2022-05-22T16:35:51.597Z"
   },
   {
    "duration": 12374,
    "start_time": "2022-05-22T16:35:51.609Z"
   },
   {
    "duration": 86,
    "start_time": "2022-05-22T16:36:03.988Z"
   },
   {
    "duration": 19,
    "start_time": "2022-05-22T16:36:04.076Z"
   },
   {
    "duration": 5,
    "start_time": "2022-05-22T16:36:04.097Z"
   },
   {
    "duration": 11104,
    "start_time": "2022-05-22T16:36:04.104Z"
   },
   {
    "duration": 93650,
    "start_time": "2022-05-22T16:36:15.210Z"
   },
   {
    "duration": 24,
    "start_time": "2022-05-22T16:37:48.862Z"
   },
   {
    "duration": 4,
    "start_time": "2022-05-22T16:37:48.887Z"
   },
   {
    "duration": 7,
    "start_time": "2022-05-22T16:37:48.893Z"
   },
   {
    "duration": 11,
    "start_time": "2022-05-22T16:37:48.901Z"
   },
   {
    "duration": 9,
    "start_time": "2022-05-22T16:37:48.914Z"
   },
   {
    "duration": 88177,
    "start_time": "2022-05-22T16:37:48.924Z"
   },
   {
    "duration": 0,
    "start_time": "2022-05-22T16:45:33.821Z"
   },
   {
    "duration": 0,
    "start_time": "2022-05-22T16:45:33.823Z"
   },
   {
    "duration": 0,
    "start_time": "2022-05-22T16:45:33.825Z"
   },
   {
    "duration": 0,
    "start_time": "2022-05-22T16:45:33.826Z"
   },
   {
    "duration": 0,
    "start_time": "2022-05-22T16:45:33.828Z"
   },
   {
    "duration": 0,
    "start_time": "2022-05-22T16:45:33.829Z"
   },
   {
    "duration": 0,
    "start_time": "2022-05-22T16:45:33.852Z"
   },
   {
    "duration": 0,
    "start_time": "2022-05-22T16:45:33.854Z"
   },
   {
    "duration": 0,
    "start_time": "2022-05-22T16:45:33.856Z"
   },
   {
    "duration": 0,
    "start_time": "2022-05-22T16:45:33.857Z"
   },
   {
    "duration": 0,
    "start_time": "2022-05-22T16:45:33.859Z"
   },
   {
    "duration": 0,
    "start_time": "2022-05-22T16:45:33.861Z"
   },
   {
    "duration": 0,
    "start_time": "2022-05-22T16:45:33.862Z"
   },
   {
    "duration": 0,
    "start_time": "2022-05-22T16:45:33.864Z"
   },
   {
    "duration": 0,
    "start_time": "2022-05-22T16:45:33.865Z"
   },
   {
    "duration": 0,
    "start_time": "2022-05-22T16:45:33.866Z"
   },
   {
    "duration": 0,
    "start_time": "2022-05-22T16:45:33.868Z"
   },
   {
    "duration": 0,
    "start_time": "2022-05-22T16:45:33.869Z"
   },
   {
    "duration": 0,
    "start_time": "2022-05-22T16:45:33.870Z"
   },
   {
    "duration": 0,
    "start_time": "2022-05-22T16:45:33.872Z"
   },
   {
    "duration": 0,
    "start_time": "2022-05-22T16:45:33.873Z"
   },
   {
    "duration": 0,
    "start_time": "2022-05-22T16:45:33.874Z"
   },
   {
    "duration": 0,
    "start_time": "2022-05-22T16:45:33.875Z"
   },
   {
    "duration": 0,
    "start_time": "2022-05-22T16:45:33.876Z"
   },
   {
    "duration": 1,
    "start_time": "2022-05-22T16:45:33.876Z"
   },
   {
    "duration": 45985,
    "start_time": "2022-05-22T16:46:40.650Z"
   },
   {
    "duration": 1831773,
    "start_time": "2022-05-22T16:47:28.357Z"
   },
   {
    "duration": 3894,
    "start_time": "2022-05-22T17:18:08.536Z"
   },
   {
    "duration": 120,
    "start_time": "2022-05-22T17:18:12.432Z"
   },
   {
    "duration": 750,
    "start_time": "2022-05-22T17:18:12.554Z"
   },
   {
    "duration": 250,
    "start_time": "2022-05-22T17:18:13.306Z"
   },
   {
    "duration": 9,
    "start_time": "2022-05-22T17:18:13.558Z"
   },
   {
    "duration": 9,
    "start_time": "2022-05-22T17:18:13.568Z"
   },
   {
    "duration": 121,
    "start_time": "2022-05-22T17:18:13.579Z"
   },
   {
    "duration": 4,
    "start_time": "2022-05-22T17:18:13.702Z"
   },
   {
    "duration": 5,
    "start_time": "2022-05-22T17:18:13.708Z"
   },
   {
    "duration": 144844,
    "start_time": "2022-05-22T17:18:13.716Z"
   },
   {
    "duration": 45,
    "start_time": "2022-05-22T17:20:38.561Z"
   },
   {
    "duration": 8,
    "start_time": "2022-05-22T17:20:38.608Z"
   },
   {
    "duration": 118,
    "start_time": "2022-05-22T17:20:38.619Z"
   },
   {
    "duration": 14,
    "start_time": "2022-05-22T17:20:38.738Z"
   },
   {
    "duration": 69,
    "start_time": "2022-05-22T17:20:38.753Z"
   },
   {
    "duration": 31,
    "start_time": "2022-05-22T17:20:38.824Z"
   },
   {
    "duration": 95,
    "start_time": "2022-05-22T17:20:38.857Z"
   },
   {
    "duration": 3,
    "start_time": "2022-05-22T17:20:38.954Z"
   },
   {
    "duration": 7781,
    "start_time": "2022-05-22T17:20:38.959Z"
   },
   {
    "duration": 4,
    "start_time": "2022-05-22T17:20:46.741Z"
   },
   {
    "duration": 4,
    "start_time": "2022-05-22T17:20:46.751Z"
   },
   {
    "duration": 8,
    "start_time": "2022-05-22T17:20:46.756Z"
   },
   {
    "duration": 7,
    "start_time": "2022-05-22T17:20:46.766Z"
   },
   {
    "duration": 18116,
    "start_time": "2022-05-22T17:20:46.775Z"
   },
   {
    "duration": 5,
    "start_time": "2022-05-22T17:21:04.892Z"
   },
   {
    "duration": 12,
    "start_time": "2022-05-22T17:21:04.898Z"
   },
   {
    "duration": 11715,
    "start_time": "2022-05-22T17:21:04.912Z"
   },
   {
    "duration": 67,
    "start_time": "2022-05-22T17:21:16.631Z"
   },
   {
    "duration": 19,
    "start_time": "2022-05-22T17:21:16.700Z"
   },
   {
    "duration": 6,
    "start_time": "2022-05-22T17:21:16.720Z"
   },
   {
    "duration": 10901,
    "start_time": "2022-05-22T17:21:16.751Z"
   },
   {
    "duration": 91032,
    "start_time": "2022-05-22T17:21:27.654Z"
   },
   {
    "duration": 24,
    "start_time": "2022-05-22T17:22:58.687Z"
   },
   {
    "duration": 2,
    "start_time": "2022-05-22T17:22:58.713Z"
   },
   {
    "duration": 6,
    "start_time": "2022-05-22T17:22:58.717Z"
   },
   {
    "duration": 5,
    "start_time": "2022-05-22T17:22:58.724Z"
   },
   {
    "duration": 8,
    "start_time": "2022-05-22T17:22:58.730Z"
   },
   {
    "duration": 71656,
    "start_time": "2022-05-22T17:22:58.740Z"
   },
   {
    "duration": 10681,
    "start_time": "2022-05-22T17:24:10.398Z"
   },
   {
    "duration": 157318,
    "start_time": "2022-05-22T17:24:21.080Z"
   },
   {
    "duration": 2,
    "start_time": "2022-05-22T17:26:58.400Z"
   },
   {
    "duration": 12675,
    "start_time": "2022-05-22T17:26:58.403Z"
   },
   {
    "duration": 181,
    "start_time": "2022-05-22T17:27:11.080Z"
   },
   {
    "duration": 2,
    "start_time": "2022-05-22T17:27:11.263Z"
   },
   {
    "duration": 14,
    "start_time": "2022-05-22T17:27:11.267Z"
   },
   {
    "duration": 8,
    "start_time": "2022-05-22T17:27:11.282Z"
   },
   {
    "duration": 6,
    "start_time": "2022-05-22T17:27:11.292Z"
   },
   {
    "duration": 8,
    "start_time": "2022-05-22T17:27:11.300Z"
   },
   {
    "duration": 6,
    "start_time": "2022-05-22T17:27:11.309Z"
   },
   {
    "duration": 10,
    "start_time": "2022-05-22T17:27:11.317Z"
   },
   {
    "duration": 10,
    "start_time": "2022-05-22T17:27:11.329Z"
   },
   {
    "duration": 9715,
    "start_time": "2022-05-22T17:27:11.340Z"
   },
   {
    "duration": 5,
    "start_time": "2022-05-22T17:27:21.056Z"
   },
   {
    "duration": 12,
    "start_time": "2022-05-22T17:27:21.063Z"
   },
   {
    "duration": 20750,
    "start_time": "2022-05-22T17:27:21.077Z"
   },
   {
    "duration": 899,
    "start_time": "2022-05-22T17:27:41.829Z"
   },
   {
    "duration": 0,
    "start_time": "2022-05-22T17:27:42.730Z"
   },
   {
    "duration": 1,
    "start_time": "2022-05-22T17:27:42.731Z"
   },
   {
    "duration": 0,
    "start_time": "2022-05-22T17:27:42.733Z"
   },
   {
    "duration": 0,
    "start_time": "2022-05-22T17:27:42.734Z"
   },
   {
    "duration": 0,
    "start_time": "2022-05-22T17:27:42.735Z"
   },
   {
    "duration": 0,
    "start_time": "2022-05-22T17:27:42.737Z"
   },
   {
    "duration": 5,
    "start_time": "2022-05-22T17:38:58.871Z"
   },
   {
    "duration": 2,
    "start_time": "2022-05-22T17:39:11.880Z"
   },
   {
    "duration": 7620,
    "start_time": "2022-05-22T17:49:22.381Z"
   },
   {
    "duration": 81161,
    "start_time": "2022-05-22T17:49:30.004Z"
   },
   {
    "duration": 2395,
    "start_time": "2022-05-22T17:50:51.167Z"
   },
   {
    "duration": 236,
    "start_time": "2022-05-22T17:50:53.564Z"
   },
   {
    "duration": 8,
    "start_time": "2022-05-22T17:50:53.801Z"
   },
   {
    "duration": 13,
    "start_time": "2022-05-22T17:50:53.810Z"
   },
   {
    "duration": 114,
    "start_time": "2022-05-22T17:50:53.824Z"
   },
   {
    "duration": 3,
    "start_time": "2022-05-22T17:50:53.940Z"
   },
   {
    "duration": 4,
    "start_time": "2022-05-22T17:50:53.951Z"
   },
   {
    "duration": 141243,
    "start_time": "2022-05-22T17:50:53.958Z"
   },
   {
    "duration": 76,
    "start_time": "2022-05-22T17:53:15.203Z"
   },
   {
    "duration": 9,
    "start_time": "2022-05-22T17:53:15.281Z"
   },
   {
    "duration": 122,
    "start_time": "2022-05-22T17:53:15.293Z"
   },
   {
    "duration": 5,
    "start_time": "2022-05-22T17:53:15.417Z"
   },
   {
    "duration": 91,
    "start_time": "2022-05-22T17:53:15.424Z"
   },
   {
    "duration": 7,
    "start_time": "2022-05-22T17:53:15.517Z"
   },
   {
    "duration": 87,
    "start_time": "2022-05-22T17:53:15.525Z"
   },
   {
    "duration": 2,
    "start_time": "2022-05-22T17:53:15.614Z"
   },
   {
    "duration": 7712,
    "start_time": "2022-05-22T17:53:15.618Z"
   },
   {
    "duration": 4,
    "start_time": "2022-05-22T17:53:23.331Z"
   },
   {
    "duration": 8,
    "start_time": "2022-05-22T17:53:23.337Z"
   },
   {
    "duration": 9,
    "start_time": "2022-05-22T17:53:23.346Z"
   },
   {
    "duration": 6,
    "start_time": "2022-05-22T17:53:23.357Z"
   },
   {
    "duration": 22422,
    "start_time": "2022-05-22T17:53:23.365Z"
   },
   {
    "duration": 5,
    "start_time": "2022-05-22T17:53:45.788Z"
   },
   {
    "duration": 8,
    "start_time": "2022-05-22T17:53:45.794Z"
   },
   {
    "duration": 11277,
    "start_time": "2022-05-22T17:53:45.804Z"
   },
   {
    "duration": 67,
    "start_time": "2022-05-22T17:53:57.085Z"
   },
   {
    "duration": 5,
    "start_time": "2022-05-22T17:53:57.154Z"
   },
   {
    "duration": 10135,
    "start_time": "2022-05-22T17:53:57.160Z"
   },
   {
    "duration": 83498,
    "start_time": "2022-05-22T17:54:07.297Z"
   },
   {
    "duration": 23,
    "start_time": "2022-05-22T17:55:30.797Z"
   },
   {
    "duration": 31,
    "start_time": "2022-05-22T17:55:30.822Z"
   },
   {
    "duration": 24,
    "start_time": "2022-05-22T17:55:30.855Z"
   },
   {
    "duration": 43,
    "start_time": "2022-05-22T17:55:30.881Z"
   },
   {
    "duration": 69333,
    "start_time": "2022-05-22T17:55:30.926Z"
   },
   {
    "duration": 11239,
    "start_time": "2022-05-22T17:56:40.261Z"
   },
   {
    "duration": 165964,
    "start_time": "2022-05-22T17:56:51.502Z"
   },
   {
    "duration": 3,
    "start_time": "2022-05-22T17:59:37.468Z"
   },
   {
    "duration": 183017,
    "start_time": "2022-05-22T17:59:37.472Z"
   },
   {
    "duration": 151,
    "start_time": "2022-05-22T18:02:40.490Z"
   },
   {
    "duration": 9,
    "start_time": "2022-05-22T19:08:34.126Z"
   },
   {
    "duration": 3,
    "start_time": "2022-05-22T19:09:03.039Z"
   },
   {
    "duration": 966,
    "start_time": "2022-05-22T19:09:03.902Z"
   },
   {
    "duration": 363,
    "start_time": "2022-05-22T19:09:27.334Z"
   },
   {
    "duration": 2,
    "start_time": "2022-05-22T19:09:47.871Z"
   },
   {
    "duration": 13609,
    "start_time": "2022-05-22T19:09:50.256Z"
   },
   {
    "duration": 1309,
    "start_time": "2022-05-22T19:10:22.359Z"
   },
   {
    "duration": 10,
    "start_time": "2022-05-22T19:10:32.538Z"
   },
   {
    "duration": 151406,
    "start_time": "2022-05-22T19:10:46.747Z"
   },
   {
    "duration": 4,
    "start_time": "2022-05-22T19:13:18.155Z"
   },
   {
    "duration": 11,
    "start_time": "2022-05-22T19:13:18.161Z"
   },
   {
    "duration": 200181,
    "start_time": "2022-05-22T19:13:18.174Z"
   },
   {
    "duration": 803,
    "start_time": "2022-05-22T19:16:38.357Z"
   },
   {
    "duration": 97,
    "start_time": "2022-05-22T19:16:39.162Z"
   },
   {
    "duration": 2,
    "start_time": "2022-05-22T19:17:31.164Z"
   },
   {
    "duration": 788,
    "start_time": "2022-05-22T19:17:35.866Z"
   },
   {
    "duration": 661,
    "start_time": "2022-05-22T19:17:45.900Z"
   },
   {
    "duration": 7,
    "start_time": "2022-05-22T19:17:47.434Z"
   },
   {
    "duration": 46843,
    "start_time": "2022-05-22T19:18:19.889Z"
   },
   {
    "duration": 352,
    "start_time": "2022-05-22T19:19:06.735Z"
   },
   {
    "duration": 8,
    "start_time": "2022-05-22T19:19:07.089Z"
   },
   {
    "duration": 7196,
    "start_time": "2022-05-22T19:21:33.002Z"
   },
   {
    "duration": 190,
    "start_time": "2022-05-22T19:21:40.200Z"
   },
   {
    "duration": 2117,
    "start_time": "2022-05-22T19:21:40.392Z"
   },
   {
    "duration": 257,
    "start_time": "2022-05-22T19:21:42.512Z"
   },
   {
    "duration": 8,
    "start_time": "2022-05-22T19:21:42.771Z"
   },
   {
    "duration": 19,
    "start_time": "2022-05-22T19:21:42.780Z"
   },
   {
    "duration": 111,
    "start_time": "2022-05-22T19:21:42.800Z"
   },
   {
    "duration": 3,
    "start_time": "2022-05-22T19:21:42.913Z"
   },
   {
    "duration": 7,
    "start_time": "2022-05-22T19:21:42.918Z"
   },
   {
    "duration": 141353,
    "start_time": "2022-05-22T19:21:42.927Z"
   },
   {
    "duration": 42,
    "start_time": "2022-05-22T19:24:04.281Z"
   },
   {
    "duration": 7,
    "start_time": "2022-05-22T19:24:04.325Z"
   },
   {
    "duration": 82,
    "start_time": "2022-05-22T19:24:04.352Z"
   },
   {
    "duration": 16,
    "start_time": "2022-05-22T19:24:04.437Z"
   },
   {
    "duration": 84,
    "start_time": "2022-05-22T19:24:04.455Z"
   },
   {
    "duration": 7,
    "start_time": "2022-05-22T19:24:04.540Z"
   },
   {
    "duration": 82,
    "start_time": "2022-05-22T19:24:04.549Z"
   },
   {
    "duration": 2,
    "start_time": "2022-05-22T19:24:04.633Z"
   },
   {
    "duration": 8068,
    "start_time": "2022-05-22T19:24:04.637Z"
   },
   {
    "duration": 4,
    "start_time": "2022-05-22T19:24:12.707Z"
   },
   {
    "duration": 8,
    "start_time": "2022-05-22T19:24:12.712Z"
   },
   {
    "duration": 8,
    "start_time": "2022-05-22T19:24:12.721Z"
   },
   {
    "duration": 5,
    "start_time": "2022-05-22T19:24:12.730Z"
   },
   {
    "duration": 28144,
    "start_time": "2022-05-22T19:24:12.737Z"
   },
   {
    "duration": 4,
    "start_time": "2022-05-22T19:24:40.883Z"
   },
   {
    "duration": 9,
    "start_time": "2022-05-22T19:24:40.889Z"
   },
   {
    "duration": 11870,
    "start_time": "2022-05-22T19:24:40.900Z"
   },
   {
    "duration": 63,
    "start_time": "2022-05-22T19:24:52.772Z"
   },
   {
    "duration": 16,
    "start_time": "2022-05-22T19:24:52.836Z"
   },
   {
    "duration": 10962,
    "start_time": "2022-05-22T19:24:52.854Z"
   },
   {
    "duration": 90660,
    "start_time": "2022-05-22T19:25:03.818Z"
   },
   {
    "duration": 23,
    "start_time": "2022-05-22T19:26:34.479Z"
   },
   {
    "duration": 4,
    "start_time": "2022-05-22T19:26:34.503Z"
   },
   {
    "duration": 14,
    "start_time": "2022-05-22T19:26:34.515Z"
   },
   {
    "duration": 10,
    "start_time": "2022-05-22T19:26:34.530Z"
   },
   {
    "duration": 82280,
    "start_time": "2022-05-22T19:26:34.541Z"
   },
   {
    "duration": 10571,
    "start_time": "2022-05-22T19:27:56.823Z"
   },
   {
    "duration": 156689,
    "start_time": "2022-05-22T19:28:07.396Z"
   },
   {
    "duration": 3,
    "start_time": "2022-05-22T19:30:44.087Z"
   },
   {
    "duration": 172760,
    "start_time": "2022-05-22T19:30:44.092Z"
   },
   {
    "duration": 165,
    "start_time": "2022-05-22T19:33:36.856Z"
   },
   {
    "duration": 3,
    "start_time": "2022-05-22T19:33:37.023Z"
   },
   {
    "duration": 2266,
    "start_time": "2022-05-22T19:33:37.027Z"
   },
   {
    "duration": 2,
    "start_time": "2022-05-22T19:33:39.296Z"
   },
   {
    "duration": 23,
    "start_time": "2022-05-22T19:33:39.300Z"
   },
   {
    "duration": 978,
    "start_time": "2022-05-22T19:33:39.325Z"
   },
   {
    "duration": 6368,
    "start_time": "2022-05-22T19:33:40.305Z"
   },
   {
    "duration": 1353,
    "start_time": "2022-05-22T19:33:46.675Z"
   },
   {
    "duration": 10,
    "start_time": "2022-05-22T19:33:48.030Z"
   },
   {
    "duration": 141227,
    "start_time": "2022-05-22T19:33:48.041Z"
   },
   {
    "duration": 3,
    "start_time": "2022-05-22T19:36:09.269Z"
   },
   {
    "duration": 11,
    "start_time": "2022-05-22T19:36:09.273Z"
   },
   {
    "duration": 177667,
    "start_time": "2022-05-22T19:36:09.285Z"
   },
   {
    "duration": 1707,
    "start_time": "2022-05-22T19:39:06.954Z"
   },
   {
    "duration": 100,
    "start_time": "2022-05-22T19:39:08.755Z"
   },
   {
    "duration": 1166,
    "start_time": "2022-05-22T19:47:20.073Z"
   },
   {
    "duration": 18,
    "start_time": "2022-05-22T19:47:38.373Z"
   },
   {
    "duration": 26,
    "start_time": "2022-05-22T19:47:46.286Z"
   },
   {
    "duration": 1149,
    "start_time": "2022-05-22T19:48:01.818Z"
   },
   {
    "duration": 7,
    "start_time": "2022-05-22T19:48:04.684Z"
   },
   {
    "duration": 799,
    "start_time": "2022-05-22T19:48:10.457Z"
   },
   {
    "duration": 8,
    "start_time": "2022-05-22T19:48:12.207Z"
   },
   {
    "duration": 3,
    "start_time": "2022-05-22T19:49:10.459Z"
   },
   {
    "duration": 3,
    "start_time": "2022-05-22T19:49:36.864Z"
   },
   {
    "duration": 3,
    "start_time": "2022-05-22T19:49:44.554Z"
   },
   {
    "duration": 149,
    "start_time": "2022-05-22T19:51:30.249Z"
   },
   {
    "duration": 8678,
    "start_time": "2022-05-22T19:54:04.521Z"
   },
   {
    "duration": 196,
    "start_time": "2022-05-22T19:54:13.201Z"
   },
   {
    "duration": 2276,
    "start_time": "2022-05-22T19:54:13.398Z"
   },
   {
    "duration": 262,
    "start_time": "2022-05-22T19:54:15.677Z"
   },
   {
    "duration": 18,
    "start_time": "2022-05-22T19:54:15.940Z"
   },
   {
    "duration": 8,
    "start_time": "2022-05-22T19:54:15.959Z"
   },
   {
    "duration": 116,
    "start_time": "2022-05-22T19:54:15.969Z"
   },
   {
    "duration": 4,
    "start_time": "2022-05-22T19:54:16.087Z"
   },
   {
    "duration": 6,
    "start_time": "2022-05-22T19:54:16.093Z"
   },
   {
    "duration": 142192,
    "start_time": "2022-05-22T19:54:16.101Z"
   },
   {
    "duration": 57,
    "start_time": "2022-05-22T19:56:38.295Z"
   },
   {
    "duration": 7,
    "start_time": "2022-05-22T19:56:38.354Z"
   },
   {
    "duration": 93,
    "start_time": "2022-05-22T19:56:38.363Z"
   },
   {
    "duration": 4,
    "start_time": "2022-05-22T19:56:38.457Z"
   },
   {
    "duration": 69,
    "start_time": "2022-05-22T19:56:38.462Z"
   },
   {
    "duration": 25,
    "start_time": "2022-05-22T19:56:38.533Z"
   },
   {
    "duration": 93,
    "start_time": "2022-05-22T19:56:38.559Z"
   },
   {
    "duration": 3,
    "start_time": "2022-05-22T19:56:38.653Z"
   },
   {
    "duration": 7456,
    "start_time": "2022-05-22T19:56:38.657Z"
   },
   {
    "duration": 3,
    "start_time": "2022-05-22T19:56:46.115Z"
   },
   {
    "duration": 7,
    "start_time": "2022-05-22T19:56:46.120Z"
   },
   {
    "duration": 8,
    "start_time": "2022-05-22T19:56:46.128Z"
   },
   {
    "duration": 18,
    "start_time": "2022-05-22T19:56:46.137Z"
   },
   {
    "duration": 23741,
    "start_time": "2022-05-22T19:56:46.157Z"
   },
   {
    "duration": 4,
    "start_time": "2022-05-22T19:57:09.900Z"
   },
   {
    "duration": 6,
    "start_time": "2022-05-22T19:57:09.951Z"
   },
   {
    "duration": 10635,
    "start_time": "2022-05-22T19:57:09.959Z"
   },
   {
    "duration": 70,
    "start_time": "2022-05-22T19:57:20.599Z"
   },
   {
    "duration": 5,
    "start_time": "2022-05-22T19:57:20.670Z"
   },
   {
    "duration": 10427,
    "start_time": "2022-05-22T19:57:20.677Z"
   },
   {
    "duration": 84621,
    "start_time": "2022-05-22T19:57:31.106Z"
   },
   {
    "duration": 23,
    "start_time": "2022-05-22T19:58:55.729Z"
   },
   {
    "duration": 3,
    "start_time": "2022-05-22T19:58:55.754Z"
   },
   {
    "duration": 9,
    "start_time": "2022-05-22T19:58:55.758Z"
   },
   {
    "duration": 10,
    "start_time": "2022-05-22T19:58:55.768Z"
   },
   {
    "duration": 64866,
    "start_time": "2022-05-22T19:58:55.779Z"
   },
   {
    "duration": 10542,
    "start_time": "2022-05-22T20:00:00.647Z"
   },
   {
    "duration": 155583,
    "start_time": "2022-05-22T20:00:11.191Z"
   },
   {
    "duration": 2,
    "start_time": "2022-05-22T20:02:46.776Z"
   },
   {
    "duration": 172862,
    "start_time": "2022-05-22T20:02:46.780Z"
   },
   {
    "duration": 159,
    "start_time": "2022-05-22T20:05:39.644Z"
   },
   {
    "duration": 3,
    "start_time": "2022-05-22T20:05:39.805Z"
   },
   {
    "duration": 2953,
    "start_time": "2022-05-22T20:05:39.809Z"
   },
   {
    "duration": 3,
    "start_time": "2022-05-22T20:05:42.764Z"
   },
   {
    "duration": 13,
    "start_time": "2022-05-22T20:05:42.768Z"
   },
   {
    "duration": 940,
    "start_time": "2022-05-22T20:05:42.782Z"
   },
   {
    "duration": 14503,
    "start_time": "2022-05-22T20:05:43.723Z"
   },
   {
    "duration": 1287,
    "start_time": "2022-05-22T20:05:58.227Z"
   },
   {
    "duration": 10,
    "start_time": "2022-05-22T20:05:59.516Z"
   },
   {
    "duration": 151736,
    "start_time": "2022-05-22T20:05:59.527Z"
   },
   {
    "duration": 3,
    "start_time": "2022-05-22T20:08:31.266Z"
   },
   {
    "duration": 24,
    "start_time": "2022-05-22T20:08:31.271Z"
   },
   {
    "duration": 23,
    "start_time": "2022-05-22T20:08:31.297Z"
   },
   {
    "duration": 183931,
    "start_time": "2022-05-22T20:08:31.322Z"
   },
   {
    "duration": 995,
    "start_time": "2022-05-22T20:11:35.258Z"
   },
   {
    "duration": 100,
    "start_time": "2022-05-22T20:11:36.259Z"
   },
   {
    "duration": 3,
    "start_time": "2022-05-22T20:12:19.663Z"
   },
   {
    "duration": 59,
    "start_time": "2022-05-25T11:56:27.823Z"
   },
   {
    "duration": 12306,
    "start_time": "2022-05-25T12:17:20.462Z"
   },
   {
    "duration": 256,
    "start_time": "2022-05-25T12:17:32.770Z"
   },
   {
    "duration": 3462,
    "start_time": "2022-05-25T12:17:33.028Z"
   },
   {
    "duration": 288,
    "start_time": "2022-05-25T12:17:36.493Z"
   },
   {
    "duration": 9,
    "start_time": "2022-05-25T12:17:36.783Z"
   },
   {
    "duration": 30,
    "start_time": "2022-05-25T12:17:36.793Z"
   },
   {
    "duration": 133,
    "start_time": "2022-05-25T12:17:36.826Z"
   },
   {
    "duration": 3,
    "start_time": "2022-05-25T12:17:36.961Z"
   },
   {
    "duration": 5,
    "start_time": "2022-05-25T12:17:36.966Z"
   },
   {
    "duration": 183666,
    "start_time": "2022-05-25T12:17:36.973Z"
   },
   {
    "duration": 63,
    "start_time": "2022-05-25T12:20:40.640Z"
   },
   {
    "duration": 447,
    "start_time": "2022-05-25T12:20:40.705Z"
   },
   {
    "duration": 0,
    "start_time": "2022-05-25T12:20:41.156Z"
   },
   {
    "duration": 0,
    "start_time": "2022-05-25T12:20:41.159Z"
   },
   {
    "duration": 0,
    "start_time": "2022-05-25T12:20:41.160Z"
   },
   {
    "duration": 0,
    "start_time": "2022-05-25T12:20:41.161Z"
   },
   {
    "duration": 0,
    "start_time": "2022-05-25T12:20:41.162Z"
   },
   {
    "duration": 0,
    "start_time": "2022-05-25T12:20:41.164Z"
   },
   {
    "duration": 0,
    "start_time": "2022-05-25T12:20:41.165Z"
   },
   {
    "duration": 0,
    "start_time": "2022-05-25T12:20:41.167Z"
   },
   {
    "duration": 0,
    "start_time": "2022-05-25T12:20:41.168Z"
   },
   {
    "duration": 0,
    "start_time": "2022-05-25T12:20:41.170Z"
   },
   {
    "duration": 0,
    "start_time": "2022-05-25T12:20:41.171Z"
   },
   {
    "duration": 0,
    "start_time": "2022-05-25T12:20:41.172Z"
   },
   {
    "duration": 0,
    "start_time": "2022-05-25T12:20:41.174Z"
   },
   {
    "duration": 0,
    "start_time": "2022-05-25T12:20:41.175Z"
   },
   {
    "duration": 0,
    "start_time": "2022-05-25T12:20:41.213Z"
   },
   {
    "duration": 0,
    "start_time": "2022-05-25T12:20:41.214Z"
   },
   {
    "duration": 0,
    "start_time": "2022-05-25T12:20:41.215Z"
   },
   {
    "duration": 0,
    "start_time": "2022-05-25T12:20:41.216Z"
   },
   {
    "duration": 0,
    "start_time": "2022-05-25T12:20:41.217Z"
   },
   {
    "duration": 0,
    "start_time": "2022-05-25T12:20:41.218Z"
   },
   {
    "duration": 0,
    "start_time": "2022-05-25T12:20:41.219Z"
   },
   {
    "duration": 0,
    "start_time": "2022-05-25T12:20:41.221Z"
   },
   {
    "duration": 0,
    "start_time": "2022-05-25T12:20:41.222Z"
   },
   {
    "duration": 0,
    "start_time": "2022-05-25T12:20:41.223Z"
   },
   {
    "duration": 0,
    "start_time": "2022-05-25T12:20:41.224Z"
   },
   {
    "duration": 0,
    "start_time": "2022-05-25T12:20:41.225Z"
   },
   {
    "duration": 0,
    "start_time": "2022-05-25T12:20:41.227Z"
   },
   {
    "duration": 0,
    "start_time": "2022-05-25T12:20:41.228Z"
   },
   {
    "duration": 0,
    "start_time": "2022-05-25T12:20:41.229Z"
   },
   {
    "duration": 0,
    "start_time": "2022-05-25T12:20:41.230Z"
   },
   {
    "duration": 0,
    "start_time": "2022-05-25T12:20:41.232Z"
   },
   {
    "duration": 0,
    "start_time": "2022-05-25T12:20:41.233Z"
   },
   {
    "duration": 0,
    "start_time": "2022-05-25T12:20:41.234Z"
   },
   {
    "duration": 0,
    "start_time": "2022-05-25T12:20:41.235Z"
   },
   {
    "duration": 0,
    "start_time": "2022-05-25T12:20:41.237Z"
   },
   {
    "duration": 0,
    "start_time": "2022-05-25T12:20:41.238Z"
   },
   {
    "duration": 0,
    "start_time": "2022-05-25T12:20:41.239Z"
   },
   {
    "duration": 0,
    "start_time": "2022-05-25T12:20:41.240Z"
   },
   {
    "duration": 0,
    "start_time": "2022-05-25T12:20:41.241Z"
   },
   {
    "duration": 0,
    "start_time": "2022-05-25T12:20:41.243Z"
   },
   {
    "duration": 0,
    "start_time": "2022-05-25T12:20:41.244Z"
   },
   {
    "duration": 0,
    "start_time": "2022-05-25T12:20:41.245Z"
   },
   {
    "duration": 0,
    "start_time": "2022-05-25T12:20:41.246Z"
   },
   {
    "duration": 0,
    "start_time": "2022-05-25T12:20:41.248Z"
   },
   {
    "duration": 0,
    "start_time": "2022-05-25T12:20:41.249Z"
   },
   {
    "duration": 1,
    "start_time": "2022-05-25T12:20:41.250Z"
   },
   {
    "duration": 11,
    "start_time": "2022-05-25T12:31:11.062Z"
   },
   {
    "duration": 123,
    "start_time": "2022-05-25T12:31:14.481Z"
   },
   {
    "duration": 4,
    "start_time": "2022-05-25T12:31:16.260Z"
   },
   {
    "duration": 86,
    "start_time": "2022-05-25T12:31:19.281Z"
   },
   {
    "duration": 8,
    "start_time": "2022-05-25T12:31:22.425Z"
   },
   {
    "duration": 88,
    "start_time": "2022-05-25T12:31:25.401Z"
   },
   {
    "duration": 8,
    "start_time": "2022-05-25T12:31:41.290Z"
   },
   {
    "duration": 20,
    "start_time": "2022-05-25T12:31:56.157Z"
   },
   {
    "duration": 24,
    "start_time": "2022-05-25T12:31:59.292Z"
   },
   {
    "duration": 3,
    "start_time": "2022-05-25T12:32:13.147Z"
   },
   {
    "duration": 6,
    "start_time": "2022-05-25T12:32:13.930Z"
   },
   {
    "duration": 16,
    "start_time": "2022-05-25T12:32:14.723Z"
   },
   {
    "duration": 8903,
    "start_time": "2022-05-25T12:32:18.260Z"
   },
   {
    "duration": 4,
    "start_time": "2022-05-25T12:32:27.165Z"
   },
   {
    "duration": 10464,
    "start_time": "2022-05-25T12:39:50.507Z"
   },
   {
    "duration": 463,
    "start_time": "2022-05-25T12:40:00.973Z"
   },
   {
    "duration": 4,
    "start_time": "2022-05-25T12:40:15.280Z"
   },
   {
    "duration": 4,
    "start_time": "2022-05-25T12:40:16.058Z"
   },
   {
    "duration": 5,
    "start_time": "2022-05-25T12:43:16.606Z"
   },
   {
    "duration": 4,
    "start_time": "2022-05-25T12:43:17.526Z"
   },
   {
    "duration": 7390,
    "start_time": "2022-05-25T12:43:22.439Z"
   },
   {
    "duration": 6,
    "start_time": "2022-05-25T12:44:03.484Z"
   },
   {
    "duration": 7197,
    "start_time": "2022-05-25T12:44:07.433Z"
   },
   {
    "duration": 32329,
    "start_time": "2022-05-25T12:45:07.705Z"
   },
   {
    "duration": 4,
    "start_time": "2022-05-25T13:06:57.310Z"
   },
   {
    "duration": 3,
    "start_time": "2022-05-25T13:06:58.091Z"
   },
   {
    "duration": 13302,
    "start_time": "2022-05-25T13:06:58.731Z"
   },
   {
    "duration": 41,
    "start_time": "2022-05-25T13:08:32.029Z"
   },
   {
    "duration": 47,
    "start_time": "2022-05-25T13:08:45.926Z"
   },
   {
    "duration": 35,
    "start_time": "2022-05-25T13:08:52.112Z"
   },
   {
    "duration": 5,
    "start_time": "2022-05-25T13:13:26.384Z"
   },
   {
    "duration": 7014,
    "start_time": "2022-05-25T13:16:54.933Z"
   },
   {
    "duration": 277,
    "start_time": "2022-05-25T13:17:01.949Z"
   },
   {
    "duration": 3595,
    "start_time": "2022-05-25T13:17:02.228Z"
   },
   {
    "duration": 260,
    "start_time": "2022-05-25T13:17:05.825Z"
   },
   {
    "duration": 15,
    "start_time": "2022-05-25T13:17:06.087Z"
   },
   {
    "duration": 13,
    "start_time": "2022-05-25T13:17:06.107Z"
   },
   {
    "duration": 125,
    "start_time": "2022-05-25T13:17:06.121Z"
   },
   {
    "duration": 3,
    "start_time": "2022-05-25T13:17:06.248Z"
   },
   {
    "duration": 5,
    "start_time": "2022-05-25T13:17:06.253Z"
   },
   {
    "duration": 171265,
    "start_time": "2022-05-25T13:17:06.260Z"
   },
   {
    "duration": 44,
    "start_time": "2022-05-25T13:19:57.526Z"
   },
   {
    "duration": 7,
    "start_time": "2022-05-25T13:19:57.572Z"
   },
   {
    "duration": 110,
    "start_time": "2022-05-25T13:19:57.604Z"
   },
   {
    "duration": 4,
    "start_time": "2022-05-25T13:19:57.716Z"
   },
   {
    "duration": 96,
    "start_time": "2022-05-25T13:19:57.722Z"
   },
   {
    "duration": 7,
    "start_time": "2022-05-25T13:19:57.820Z"
   },
   {
    "duration": 106,
    "start_time": "2022-05-25T13:19:57.829Z"
   },
   {
    "duration": 3,
    "start_time": "2022-05-25T13:19:57.937Z"
   },
   {
    "duration": 11237,
    "start_time": "2022-05-25T13:19:57.942Z"
   },
   {
    "duration": 372,
    "start_time": "2022-05-25T13:20:09.181Z"
   },
   {
    "duration": 5,
    "start_time": "2022-05-25T13:20:09.555Z"
   },
   {
    "duration": 7,
    "start_time": "2022-05-25T13:20:09.561Z"
   },
   {
    "duration": 134389,
    "start_time": "2022-05-25T13:20:09.569Z"
   },
   {
    "duration": 5,
    "start_time": "2022-05-25T13:22:23.959Z"
   },
   {
    "duration": 9,
    "start_time": "2022-05-25T13:22:23.966Z"
   },
   {
    "duration": 14696,
    "start_time": "2022-05-25T13:22:23.977Z"
   },
   {
    "duration": 57,
    "start_time": "2022-05-25T13:22:38.675Z"
   },
   {
    "duration": 8,
    "start_time": "2022-05-25T13:22:38.738Z"
   },
   {
    "duration": 18047,
    "start_time": "2022-05-25T13:22:38.748Z"
   },
   {
    "duration": 101517,
    "start_time": "2022-05-25T13:22:56.802Z"
   },
   {
    "duration": 134,
    "start_time": "2022-05-25T13:24:38.321Z"
   },
   {
    "duration": 370,
    "start_time": "2022-05-25T13:24:38.458Z"
   },
   {
    "duration": 0,
    "start_time": "2022-05-25T13:24:38.830Z"
   },
   {
    "duration": 0,
    "start_time": "2022-05-25T13:24:38.831Z"
   },
   {
    "duration": 0,
    "start_time": "2022-05-25T13:24:38.832Z"
   },
   {
    "duration": 0,
    "start_time": "2022-05-25T13:24:38.833Z"
   },
   {
    "duration": 0,
    "start_time": "2022-05-25T13:24:38.834Z"
   },
   {
    "duration": 0,
    "start_time": "2022-05-25T13:24:38.835Z"
   },
   {
    "duration": 0,
    "start_time": "2022-05-25T13:24:38.837Z"
   },
   {
    "duration": 0,
    "start_time": "2022-05-25T13:24:38.838Z"
   },
   {
    "duration": 1,
    "start_time": "2022-05-25T13:24:38.838Z"
   },
   {
    "duration": 0,
    "start_time": "2022-05-25T13:24:38.840Z"
   },
   {
    "duration": 0,
    "start_time": "2022-05-25T13:24:38.841Z"
   },
   {
    "duration": 0,
    "start_time": "2022-05-25T13:24:38.842Z"
   },
   {
    "duration": 0,
    "start_time": "2022-05-25T13:24:38.843Z"
   },
   {
    "duration": 0,
    "start_time": "2022-05-25T13:24:38.844Z"
   },
   {
    "duration": 0,
    "start_time": "2022-05-25T13:24:38.845Z"
   },
   {
    "duration": 0,
    "start_time": "2022-05-25T13:24:38.846Z"
   },
   {
    "duration": 0,
    "start_time": "2022-05-25T13:24:38.847Z"
   },
   {
    "duration": 0,
    "start_time": "2022-05-25T13:24:38.848Z"
   },
   {
    "duration": 0,
    "start_time": "2022-05-25T13:24:38.850Z"
   },
   {
    "duration": 0,
    "start_time": "2022-05-25T13:24:38.851Z"
   },
   {
    "duration": 0,
    "start_time": "2022-05-25T13:24:38.852Z"
   },
   {
    "duration": 0,
    "start_time": "2022-05-25T13:24:38.853Z"
   },
   {
    "duration": 0,
    "start_time": "2022-05-25T13:24:38.902Z"
   },
   {
    "duration": 0,
    "start_time": "2022-05-25T13:24:38.903Z"
   },
   {
    "duration": 0,
    "start_time": "2022-05-25T13:24:38.904Z"
   },
   {
    "duration": 3,
    "start_time": "2022-05-25T13:28:14.338Z"
   },
   {
    "duration": 5,
    "start_time": "2022-05-25T13:30:00.120Z"
   },
   {
    "duration": 7,
    "start_time": "2022-05-25T13:30:00.585Z"
   },
   {
    "duration": 4,
    "start_time": "2022-05-25T13:30:01.296Z"
   },
   {
    "duration": 45632,
    "start_time": "2022-05-25T13:30:01.966Z"
   },
   {
    "duration": 4,
    "start_time": "2022-05-25T13:33:02.673Z"
   },
   {
    "duration": 3,
    "start_time": "2022-05-25T13:33:03.366Z"
   },
   {
    "duration": 12581,
    "start_time": "2022-05-25T13:34:17.417Z"
   },
   {
    "duration": 235,
    "start_time": "2022-05-25T13:34:30.000Z"
   },
   {
    "duration": 3913,
    "start_time": "2022-05-25T13:34:30.237Z"
   },
   {
    "duration": 299,
    "start_time": "2022-05-25T13:34:34.152Z"
   },
   {
    "duration": 9,
    "start_time": "2022-05-25T13:34:34.453Z"
   },
   {
    "duration": 13,
    "start_time": "2022-05-25T13:34:34.464Z"
   },
   {
    "duration": 143,
    "start_time": "2022-05-25T13:34:34.478Z"
   },
   {
    "duration": 4,
    "start_time": "2022-05-25T13:34:34.623Z"
   },
   {
    "duration": 7,
    "start_time": "2022-05-25T13:34:34.629Z"
   },
   {
    "duration": 169763,
    "start_time": "2022-05-25T13:34:34.639Z"
   },
   {
    "duration": 49,
    "start_time": "2022-05-25T13:37:24.404Z"
   },
   {
    "duration": 9,
    "start_time": "2022-05-25T13:37:24.455Z"
   },
   {
    "duration": 124,
    "start_time": "2022-05-25T13:37:24.466Z"
   },
   {
    "duration": 12,
    "start_time": "2022-05-25T13:37:24.592Z"
   },
   {
    "duration": 97,
    "start_time": "2022-05-25T13:37:24.606Z"
   },
   {
    "duration": 9,
    "start_time": "2022-05-25T13:37:24.704Z"
   },
   {
    "duration": 107,
    "start_time": "2022-05-25T13:37:24.714Z"
   },
   {
    "duration": 3,
    "start_time": "2022-05-25T13:37:24.823Z"
   },
   {
    "duration": 10315,
    "start_time": "2022-05-25T13:37:24.827Z"
   },
   {
    "duration": 326,
    "start_time": "2022-05-25T13:37:35.144Z"
   },
   {
    "duration": 4,
    "start_time": "2022-05-25T13:37:35.472Z"
   },
   {
    "duration": 6,
    "start_time": "2022-05-25T13:37:35.478Z"
   },
   {
    "duration": 130765,
    "start_time": "2022-05-25T13:37:35.486Z"
   },
   {
    "duration": 4,
    "start_time": "2022-05-25T13:39:46.253Z"
   },
   {
    "duration": 9,
    "start_time": "2022-05-25T13:39:46.258Z"
   },
   {
    "duration": 14009,
    "start_time": "2022-05-25T13:39:46.268Z"
   },
   {
    "duration": 53,
    "start_time": "2022-05-25T13:40:00.279Z"
   },
   {
    "duration": 6,
    "start_time": "2022-05-25T13:40:00.336Z"
   },
   {
    "duration": 18549,
    "start_time": "2022-05-25T13:40:00.344Z"
   },
   {
    "duration": 99278,
    "start_time": "2022-05-25T13:40:18.895Z"
   },
   {
    "duration": 131,
    "start_time": "2022-05-25T13:41:58.175Z"
   },
   {
    "duration": 4,
    "start_time": "2022-05-25T13:41:58.308Z"
   },
   {
    "duration": 9,
    "start_time": "2022-05-25T13:41:58.314Z"
   },
   {
    "duration": 7,
    "start_time": "2022-05-25T13:41:58.325Z"
   },
   {
    "duration": 9937,
    "start_time": "2022-05-25T13:46:03.026Z"
   },
   {
    "duration": 197,
    "start_time": "2022-05-25T13:46:12.965Z"
   },
   {
    "duration": 3383,
    "start_time": "2022-05-25T13:46:13.164Z"
   },
   {
    "duration": 266,
    "start_time": "2022-05-25T13:46:16.549Z"
   },
   {
    "duration": 13,
    "start_time": "2022-05-25T13:46:16.819Z"
   },
   {
    "duration": 19,
    "start_time": "2022-05-25T13:46:16.836Z"
   },
   {
    "duration": 162,
    "start_time": "2022-05-25T13:46:16.857Z"
   },
   {
    "duration": 4,
    "start_time": "2022-05-25T13:46:17.021Z"
   },
   {
    "duration": 8,
    "start_time": "2022-05-25T13:46:17.026Z"
   },
   {
    "duration": 162833,
    "start_time": "2022-05-25T13:46:17.036Z"
   },
   {
    "duration": 60,
    "start_time": "2022-05-25T13:48:59.871Z"
   },
   {
    "duration": 8,
    "start_time": "2022-05-25T13:48:59.933Z"
   },
   {
    "duration": 107,
    "start_time": "2022-05-25T13:48:59.943Z"
   },
   {
    "duration": 4,
    "start_time": "2022-05-25T13:49:00.053Z"
   },
   {
    "duration": 92,
    "start_time": "2022-05-25T13:49:00.059Z"
   },
   {
    "duration": 7,
    "start_time": "2022-05-25T13:49:00.153Z"
   },
   {
    "duration": 101,
    "start_time": "2022-05-25T13:49:00.162Z"
   },
   {
    "duration": 3,
    "start_time": "2022-05-25T13:49:00.264Z"
   },
   {
    "duration": 10929,
    "start_time": "2022-05-25T13:49:00.268Z"
   },
   {
    "duration": 412,
    "start_time": "2022-05-25T13:49:11.199Z"
   },
   {
    "duration": 5,
    "start_time": "2022-05-25T13:49:11.612Z"
   },
   {
    "duration": 6,
    "start_time": "2022-05-25T13:49:11.619Z"
   },
   {
    "duration": 124519,
    "start_time": "2022-05-25T13:49:11.627Z"
   },
   {
    "duration": 4,
    "start_time": "2022-05-25T13:51:16.148Z"
   },
   {
    "duration": 8,
    "start_time": "2022-05-25T13:51:16.153Z"
   },
   {
    "duration": 13397,
    "start_time": "2022-05-25T13:51:16.163Z"
   },
   {
    "duration": 28,
    "start_time": "2022-05-25T13:51:29.562Z"
   },
   {
    "duration": 22,
    "start_time": "2022-05-25T13:51:29.592Z"
   },
   {
    "duration": 17774,
    "start_time": "2022-05-25T13:51:29.616Z"
   },
   {
    "duration": 99879,
    "start_time": "2022-05-25T13:51:47.392Z"
   },
   {
    "duration": 142,
    "start_time": "2022-05-25T13:53:27.273Z"
   },
   {
    "duration": 3,
    "start_time": "2022-05-25T13:53:27.417Z"
   },
   {
    "duration": 7,
    "start_time": "2022-05-25T13:53:27.422Z"
   },
   {
    "duration": 8,
    "start_time": "2022-05-25T13:53:27.430Z"
   },
   {
    "duration": 10894,
    "start_time": "2022-05-25T13:56:36.057Z"
   },
   {
    "duration": 156,
    "start_time": "2022-05-25T13:56:46.953Z"
   },
   {
    "duration": 3381,
    "start_time": "2022-05-25T13:56:47.111Z"
   },
   {
    "duration": 247,
    "start_time": "2022-05-25T13:56:50.494Z"
   },
   {
    "duration": 9,
    "start_time": "2022-05-25T13:56:50.743Z"
   },
   {
    "duration": 11,
    "start_time": "2022-05-25T13:56:50.754Z"
   },
   {
    "duration": 127,
    "start_time": "2022-05-25T13:56:50.767Z"
   },
   {
    "duration": 11,
    "start_time": "2022-05-25T13:56:50.902Z"
   },
   {
    "duration": 8,
    "start_time": "2022-05-25T13:56:50.916Z"
   },
   {
    "duration": 160062,
    "start_time": "2022-05-25T13:56:50.928Z"
   },
   {
    "duration": 52,
    "start_time": "2022-05-25T13:59:31.001Z"
   },
   {
    "duration": 9,
    "start_time": "2022-05-25T13:59:31.054Z"
   },
   {
    "duration": 152,
    "start_time": "2022-05-25T13:59:31.066Z"
   },
   {
    "duration": 5,
    "start_time": "2022-05-25T13:59:31.220Z"
   },
   {
    "duration": 124,
    "start_time": "2022-05-25T13:59:31.227Z"
   },
   {
    "duration": 12,
    "start_time": "2022-05-25T13:59:31.353Z"
   },
   {
    "duration": 118,
    "start_time": "2022-05-25T13:59:31.367Z"
   },
   {
    "duration": 3,
    "start_time": "2022-05-25T13:59:31.487Z"
   },
   {
    "duration": 10868,
    "start_time": "2022-05-25T13:59:31.503Z"
   },
   {
    "duration": 338,
    "start_time": "2022-05-25T13:59:42.373Z"
   },
   {
    "duration": 4,
    "start_time": "2022-05-25T13:59:42.713Z"
   },
   {
    "duration": 6,
    "start_time": "2022-05-25T13:59:42.720Z"
   },
   {
    "duration": 157425,
    "start_time": "2022-05-25T13:59:42.727Z"
   },
   {
    "duration": 7,
    "start_time": "2022-05-25T14:02:20.155Z"
   },
   {
    "duration": 13,
    "start_time": "2022-05-25T14:02:20.164Z"
   },
   {
    "duration": 15019,
    "start_time": "2022-05-25T14:02:20.179Z"
   },
   {
    "duration": 36,
    "start_time": "2022-05-25T14:02:35.203Z"
   },
   {
    "duration": 8,
    "start_time": "2022-05-25T14:02:35.245Z"
   },
   {
    "duration": 18947,
    "start_time": "2022-05-25T14:02:35.255Z"
   },
   {
    "duration": 102468,
    "start_time": "2022-05-25T14:02:54.203Z"
   },
   {
    "duration": 144,
    "start_time": "2022-05-25T14:04:36.673Z"
   },
   {
    "duration": 4,
    "start_time": "2022-05-25T14:04:36.819Z"
   },
   {
    "duration": 8,
    "start_time": "2022-05-25T14:04:36.825Z"
   },
   {
    "duration": 7,
    "start_time": "2022-05-25T14:04:36.835Z"
   },
   {
    "duration": 100272,
    "start_time": "2022-05-25T14:04:36.844Z"
   },
   {
    "duration": 350,
    "start_time": "2022-05-25T14:06:17.118Z"
   },
   {
    "duration": 0,
    "start_time": "2022-05-25T14:06:17.470Z"
   },
   {
    "duration": 0,
    "start_time": "2022-05-25T14:06:17.471Z"
   },
   {
    "duration": 0,
    "start_time": "2022-05-25T14:06:17.472Z"
   },
   {
    "duration": 0,
    "start_time": "2022-05-25T14:06:17.474Z"
   },
   {
    "duration": 0,
    "start_time": "2022-05-25T14:06:17.474Z"
   },
   {
    "duration": 0,
    "start_time": "2022-05-25T14:06:17.476Z"
   },
   {
    "duration": 0,
    "start_time": "2022-05-25T14:06:17.477Z"
   },
   {
    "duration": 0,
    "start_time": "2022-05-25T14:06:17.478Z"
   },
   {
    "duration": 0,
    "start_time": "2022-05-25T14:06:17.479Z"
   },
   {
    "duration": 0,
    "start_time": "2022-05-25T14:06:17.480Z"
   },
   {
    "duration": 0,
    "start_time": "2022-05-25T14:06:17.481Z"
   },
   {
    "duration": 0,
    "start_time": "2022-05-25T14:06:17.502Z"
   },
   {
    "duration": 0,
    "start_time": "2022-05-25T14:06:17.503Z"
   },
   {
    "duration": 0,
    "start_time": "2022-05-25T14:06:17.504Z"
   },
   {
    "duration": 0,
    "start_time": "2022-05-25T14:06:17.504Z"
   },
   {
    "duration": 0,
    "start_time": "2022-05-25T14:06:17.505Z"
   },
   {
    "duration": 0,
    "start_time": "2022-05-25T14:06:17.506Z"
   },
   {
    "duration": 0,
    "start_time": "2022-05-25T14:06:17.507Z"
   },
   {
    "duration": 0,
    "start_time": "2022-05-25T14:06:17.508Z"
   },
   {
    "duration": 0,
    "start_time": "2022-05-25T14:06:17.509Z"
   },
   {
    "duration": 0,
    "start_time": "2022-05-25T14:06:17.510Z"
   },
   {
    "duration": 0,
    "start_time": "2022-05-25T14:06:17.510Z"
   },
   {
    "duration": 0,
    "start_time": "2022-05-25T14:06:17.514Z"
   },
   {
    "duration": 296,
    "start_time": "2022-05-25T14:07:28.422Z"
   }
  ],
  "kernelspec": {
   "display_name": "Python 3 (ipykernel)",
   "language": "python",
   "name": "python3"
  },
  "language_info": {
   "codemirror_mode": {
    "name": "ipython",
    "version": 3
   },
   "file_extension": ".py",
   "mimetype": "text/x-python",
   "name": "python",
   "nbconvert_exporter": "python",
   "pygments_lexer": "ipython3",
   "version": "3.8.10"
  },
  "toc": {
   "base_numbering": 1,
   "nav_menu": {},
   "number_sections": true,
   "sideBar": true,
   "skip_h1_title": true,
   "title_cell": "Содержание",
   "title_sidebar": "Содержание",
   "toc_cell": true,
   "toc_position": {
    "height": "calc(100% - 180px)",
    "left": "10px",
    "top": "150px",
    "width": "302.391px"
   },
   "toc_section_display": true,
   "toc_window_display": true
  }
 },
 "nbformat": 4,
 "nbformat_minor": 2
}
